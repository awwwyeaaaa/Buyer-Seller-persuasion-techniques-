{
 "cells": [
  {
   "cell_type": "markdown",
   "id": "3cdc577d",
   "metadata": {},
   "source": [
    "# Contents of Notebook "
   ]
  },
  {
   "cell_type": "markdown",
   "id": "7ee6572b",
   "metadata": {},
   "source": [
    "1. Import dataset from r/ROAP \n",
    "2. Import datset from r/Borrow \n",
    "3. Merge both datasets to form training_set_df \n",
    "\n",
    "- use training_set_df for training the ML model \n",
    "\n",
    "4. Apply ML model Random Forests\n",
    "5. Apply ML model Logit \n",
    "6. Apply ML model Decision Tree\n",
    "7. Apply ML model Gradient Boosting \n",
    "8. Apply ML model Neural Networks \n",
    "-> best model with the highest accuracy is Random Forest\n",
    "\n",
    "9. import craigstlist dataset \n",
    "10. clean craigslist dataset"
   ]
  },
  {
   "cell_type": "code",
   "execution_count": 1,
   "id": "bb13dad0",
   "metadata": {},
   "outputs": [],
   "source": [
    "# Data handling, math, and plotting\n",
    "\n",
    "import os \n",
    "import pickle\n",
    "import pandas as pd \n",
    "\n",
    "\n",
    "import numpy as np\n",
    "import matplotlib.pyplot as plt\n",
    "import matplotlib as notebook\n",
    "import seaborn as sns\n",
    "import re\n",
    "\n",
    "# Classical statistical modeling\n",
    "import statsmodels.formula.api as smf\n",
    "\n",
    "# ML: Preprocessing\n",
    "from sklearn import preprocessing\n",
    "\n",
    "# ML: Train/test splits, cross validation, \n",
    "# gridsearch\n",
    "from sklearn.model_selection import (\n",
    "    train_test_split, cross_val_score, \n",
    "    GridSearchCV)\n",
    "\n",
    "# ML: Different models\n",
    "from sklearn.naive_bayes import GaussianNB\n",
    "from sklearn.linear_model import (\n",
    "    LogisticRegression)\n",
    "from sklearn.svm import SVC\n",
    "from sklearn.ensemble import (\n",
    "    RandomForestClassifier)\n",
    "\n",
    "from sklearn.metrics import confusion_matrix\n",
    "from sklearn import linear_model\n",
    "from sklearn.feature_extraction.text import CountVectorizer\n",
    "from sklearn.feature_extraction import text\n",
    "\n",
    "# ML: Model evaluation\n",
    "from sklearn.metrics import (confusion_matrix, \n",
    "    classification_report, roc_curve, auc, \n",
    "    cohen_kappa_score, make_scorer, f1_score)  \n",
    "\n",
    "# NLTK for language \n",
    "from nltk.corpus import stopwords\n",
    "\n",
    "from nltk.stem import WordNetLemmatizer\n",
    "\n",
    "\n",
    "import warnings\n",
    "warnings.filterwarnings(\"ignore\")"
   ]
  },
  {
   "cell_type": "markdown",
   "id": "ae9475c5",
   "metadata": {},
   "source": [
    "# Import dataset from r/ROAP "
   ]
  },
  {
   "cell_type": "code",
   "execution_count": 2,
   "id": "de4aab7a",
   "metadata": {},
   "outputs": [],
   "source": [
    "objects = []\n",
    "with (open(\"labeled_data.pkl\", \"rb\")) as openfile:\n",
    "    while True:\n",
    "        try:\n",
    "            objects.append(pickle.load(openfile))\n",
    "        except EOFError:\n",
    "            break"
   ]
  },
  {
   "cell_type": "code",
   "execution_count": 3,
   "id": "dfe2e058",
   "metadata": {
    "scrolled": true
   },
   "outputs": [
    {
     "name": "stdout",
     "output_type": "stream",
     "text": [
      "\n"
     ]
    }
   ],
   "source": [
    "print ()"
   ]
  },
  {
   "cell_type": "code",
   "execution_count": 4,
   "id": "76dba9b0",
   "metadata": {},
   "outputs": [
    {
     "data": {
      "text/html": [
       "<div>\n",
       "<style scoped>\n",
       "    .dataframe tbody tr th:only-of-type {\n",
       "        vertical-align: middle;\n",
       "    }\n",
       "\n",
       "    .dataframe tbody tr th {\n",
       "        vertical-align: top;\n",
       "    }\n",
       "\n",
       "    .dataframe thead th {\n",
       "        text-align: right;\n",
       "    }\n",
       "</style>\n",
       "<table border=\"1\" class=\"dataframe\">\n",
       "  <thead>\n",
       "    <tr style=\"text-align: right;\">\n",
       "      <th></th>\n",
       "      <th>0</th>\n",
       "      <th>1</th>\n",
       "    </tr>\n",
       "  </thead>\n",
       "  <tbody>\n",
       "    <tr>\n",
       "      <th>t3_17a1qc</th>\n",
       "      <td>[Hi there, I was supposed to be paid today., S...</td>\n",
       "      <td>[3, 3, 7, 3, 2, 2]</td>\n",
       "    </tr>\n",
       "    <tr>\n",
       "      <th>t3_2e6myo</th>\n",
       "      <td>[As the title states, I'm working a double tod...</td>\n",
       "      <td>[3, 3, 8, 3, 9, 9]</td>\n",
       "    </tr>\n",
       "    <tr>\n",
       "      <th>t3_3o4qox</th>\n",
       "      <td>[I'm moving out of the apartment I share with ...</td>\n",
       "      <td>[3, 3, 3, 8, 3, 9]</td>\n",
       "    </tr>\n",
       "    <tr>\n",
       "      <th>t3_9bo3ce</th>\n",
       "      <td>[Hi all, I'm gonna try and keep this post shor...</td>\n",
       "      <td>[3, 3, 3, 9, 3, 3]</td>\n",
       "    </tr>\n",
       "    <tr>\n",
       "      <th>t3_1hpzqs</th>\n",
       "      <td>[Sitting on negative 240$ in my bank account.,...</td>\n",
       "      <td>[3, 3, 3, 2, 3, 9]</td>\n",
       "    </tr>\n",
       "  </tbody>\n",
       "</table>\n",
       "</div>"
      ],
      "text/plain": [
       "                                                           0  \\\n",
       "t3_17a1qc  [Hi there, I was supposed to be paid today., S...   \n",
       "t3_2e6myo  [As the title states, I'm working a double tod...   \n",
       "t3_3o4qox  [I'm moving out of the apartment I share with ...   \n",
       "t3_9bo3ce  [Hi all, I'm gonna try and keep this post shor...   \n",
       "t3_1hpzqs  [Sitting on negative 240$ in my bank account.,...   \n",
       "\n",
       "                            1  \n",
       "t3_17a1qc  [3, 3, 7, 3, 2, 2]  \n",
       "t3_2e6myo  [3, 3, 8, 3, 9, 9]  \n",
       "t3_3o4qox  [3, 3, 3, 8, 3, 9]  \n",
       "t3_9bo3ce  [3, 3, 3, 9, 3, 3]  \n",
       "t3_1hpzqs  [3, 3, 3, 2, 3, 9]  "
      ]
     },
     "execution_count": 4,
     "metadata": {},
     "output_type": "execute_result"
    }
   ],
   "source": [
    "unpickled_dict = pd.read_pickle(\"labeled_data.pkl\")  \n",
    "#convert to df\n",
    "df = pd.DataFrame.from_dict(unpickled_dict)\n",
    "\n",
    "df = df.transpose()\n",
    "df.head()"
   ]
  },
  {
   "cell_type": "code",
   "execution_count": 5,
   "id": "f741cc0b",
   "metadata": {},
   "outputs": [
    {
     "name": "stdout",
     "output_type": "stream",
     "text": [
      "{'t3_17a1qc': [['Hi there, I was supposed to be paid today.', 'Sadly I am still waiting.', 'I spent my last £2 on cat food so I am absolutely dying here.', 'Not only has this ruined my plans for the weekend, but I am facing an involuntary fast.', 'I am a writer and I am happy to do some writing work for you if you need that.', 'As soon as I get paid, I promise to come straight back here and buy TWO pizzas for two different hungry people.'], [3, 3, 7, 3, 2, 2]], 't3_2e6myo': [[\"As the title states, I'm working a double today, and don't have any money, nor the time to get lunch to get me through the night.\", \"I work front desk at a hotel, and with it being Thursday, we're rather slow today, so today would be the only day I can get time to eat.\", 'Some food would be absolutely wonderful, and the good part is that I would be able to pay back the favor tomorrow after 3PM est!', 'I live in North Carolina.', 'Thank you for your time!', \"Happy pizza'in!\"], [3, 3, 8, 3, 9, 9]], 't3_3o4qox': [[\"I'm moving out of the apartment I share with some friends tomorrow to move back in with my parents.\", \"It's not an ideal situation, but something I have to do nonetheless.\", 'Both my roommates and I are pretty bummed about it, though.', 'A pizza would go a long way towards lifting our spirits.', 'We live in Richardson, TX with the closest pizza place being Pizza Hut.', 'Thanks for any help!'], [3, 3, 3, 8, 3, 9]], 't3_9bo3ce': [[\"Hi all, I'm gonna try and keep this post short as to not take up to much of your time, but here's my tale.\", 'At the start of June I was forced out of my home by my mother due to financial reasons.', \"Since that time I've been staying with close friends who have been helping me out in exchange for me maintaining there places cleanliness.\", \"It's not the worst and I am extremely grateful for what they've offered me but it hasn't been ideal.\", 'I had an interview this morning so I badly about that as it went fairly well and met with my councillor afterwards however I still have to figure out a more permanent housing before I start my grade twelve year.', \"But enough about that, I've come here to pray to the pizza gods above in hopes they shine down on me, am in Victoria Canada, with a Dominoes and villages nearby, thanks a ton for reading\"], [3, 3, 3, 9, 3, 3]], 't3_1hpzqs': [['Sitting on negative 240$ in my bank account.', 'Have worked sparingly the last 6 months, just enough to pay rent/utilities.', \"I haven't had my phone for 2 months because I can't afford that, first time I've ever had my phone shutoff since I've had it, 10 years.\", 'Of course I will buy someone else a pizza in the near future as well!', 'Anything helps!', 'Thanks guys.'], [3, 3, 3, 2, 3, 9]], 't3_3zdka3': [['Hey folks.', \"We've been doing it real tough the last little while.\", 'Work decided to not pay my annual leave.', \"If someone could spare a pizza for the wife and I, I'd be eternally grateful.\", \"We're in Sydney.\", 'Thanks homies!'], [9, 7, 3, 9, 3, 9]], 't3_4dxgzl': [[\"This is the last month of classes for my school and I've been really busy studying and doing school work the last few weeks.\", \"Sadly I haven't been able to play any PC games either :( Anyway, I was up until 3-4am last doing work and when I woke up it was almost 2pm.\", \"My campus cafeteria closes at 2pm and both dinning spots don't open until 4:30pm.\", 'I could wait but my stomach has been killing me the last few days.', 'Yesterday I was very constipated (lol) and today quite the opposite...', 'I would love to get some food in my very upset stomach, thanks all!'], [3, 7, 3, 5, 7, 8]], 't3_2m7ybs': [['My roomate and i have Virtually nothing to eat.', 'we just ran out of pasta yesterday.', 'we have no food at home.', 'itd be cool if we could get a pie.', '&lt;3 thank you is you do so.', 'if not thank you as well &lt;3'], [5, 3, 5, 8, 9, 9]], 't3_1gtb6m': [[\"Hi, RAoPizza'ers!\", \"Just as it says above, I'm an unemployed recent college graduate with loans on top of loans to pay.\", \"There's nothing to eat at my house, and I sure am awfully hungry.\", 'If anyone would be willing to buy me a pizza, I would be so extremely appreciative, and would repay your kind deed once I get back on my feet.', \"If it's any motivation, here is a picture of me about to eat a piece of paper (and verification that I'm not a scammer or troll): \\n\\nhttp://imgur.com/mCbMmxn\\n\\nThank you for reading!\", 'This would make my week.'], [9, 3, 5, 2, 1, 8]], 't3_2e78gw': [[\"As the title says, my sister just had a baby about a month ago, and I wanted to get us all something to eat while we visit the baby, but I can't afford it.\", \"I figured I'd give this a shot.\", \"I don't know how much info I'm supposed to post here, but I'm in the Portland metro area of Oregon and the closest pizza place to us is a Domino's I believe.\", 'And it would be for 4 people.', 'Thanks!', \"Edit: I'll be here for a few days, just in case someone happens to see this tomorrow :)\"], [3, 3, 3, 3, 9, 0]], 't3_7azakp': [['My bf lost his job about a month ago and just started a new one on friday.', 'Money is tight right now until he gets paid in 2 weeks.', \"We've only been eating every other day to try and save.\", 'I would love to be able to relax for just one night and celebrate him finding a new job.', \"We have Pizza Hut and Domino's near us.\", 'I would really appreciate any help we can get!'], [3, 3, 3, 3, 3, 9]], 't3_pupzc': [['EDIT:  A redidt-donor who wishes to not be named had helped me greatly with more than a pizza!', 'Thanks so much!', '------\\n\\nI recently suffered a lower back injury putting me out of work until I recover completely and I am waiting on my next cheque from the workers compensation board and trying to make my current grocery situation (instant noodles and chicken noodle soup) last as long as I can.', 'A small break from noodles for a night would be greatly appreciated.', 'Snip of the current balance.', 'http://i.imgur.com/jWtYr.jpg'], [3, 9, 3, 3, 1, 0]], 't3_1g5f7g': [['DeKalb, Il here...I quit my job about a month and a half ago to go back to school while working another part time job to fill in my income, but the job offer fell through and the company that I quit is holding my last check for another few weeks.', \"I'm trying to sort that out while trying to keep myself above water.\", 'I would appreciate a little help until I can get back on my feet.', 'I cannot offer much other than my personal thanks, friendship, and the promise to pay it forward when I can.', 'This would mean the world.', 'Thanks!'], [3, 3, 2, 2, 8, 9]], 't3_2qroad': [['A few months ago I quit my call center job in order to pursue what I really want to do with my life, which is art, music and connecting people with the same passion and more importantly working for myself.', \"I have been able to pay for the essentials, but going from $3k a month to not having much income at all hasn't left much room for luxury spending.\", \"I'm in Phoenix AZ near Cave Creek and Bell.\", 'If the one of the kind folks on Reddit make my pizza dreams come true, I can write you a song or draw and color some customized art and send it out to you.', \"Even if there's no response, still want to thank everyone involved in making this sub possible!\", 'Love, grease and pizza\\n- Nathan'], [3, 3, 3, 2, 9, 9]], 't3_1lqvcp': [[\"After a tiring two-weeks, including an ambulance ride for one kid, a hospitalization (she's okay now), 1 with a head ache (she's only 4, and has cluster head aches), and 1 that's home schooled due to bullies (Autism).\", 'This mommy is TIRED and could use a pizza night!', \"We can't afford it right now.\", \"I'll make it up to you guys and pay it forward when things are not so crazy around here!\", \"Also, for verification of the medical stuff I can forward you to our facebook page for our kids medical updates, I just don't want to post it publicly.\", 'Thanks in advance!'], [3, 3, 3, 2, 1, 9]], 't3_61agkf': [[\"Don't really have a lot to eat and I'm skinny enough as it is.\", 'Just got that left in my cupboard and some eggs and cheese just want to eat something filling.', \"Have dominoes near by, I'll pay it on next weekend as a thanks I'm from the UK.\", 'Do currently have an outstanding loan on /r/borrow which was purely for rent payment.', 'I lowered the asking amount as somewhere to live &gt; food.', 'Thanks.'], [3, 3, 2, 3, 3, 9]], 't3_1896rw': [[\"I had a threatened miscarriage last night and I'm stuck resting up until I see my OB tomorrow when the office opens.\", \"I need to go grocery shopping, but really can't yet.\", \"And with baby coming I can't justify spending money on a pizza.\", 'I do have a verification code.', 'Thanks, Reddit.', '&lt;3'], [7, 3, 3, 1, 9, 0]], 't3_16ukpa': [[\"After a particularly ill-timed lay-off, I've finally found a new job!\", 'Not only that, but it looks like the lay-off might have been a blessing in disguise, because this job seems amazing!', \"Unfortunately, I don't get paid for a while.\", \"While I have some left-overs I could eat, I'd love to be able to celebrate with a delicious pizza!\", '(And of course, the first new paycheck will have me celebrating again by paying the pizza-giving forward!)', 'Thanks, everyone!'], [3, 3, 3, 3, 2, 9]], 't3_uleok': [[\"I'm working on campus, for a fixed sum over the summer.\", \"I haven't been paid a dime so far.\", \"I've been in between apartments for the past few days, so most of my time outside work is securing a bed for the night.\", 'I work as a chemist, and its my only real skill.', 'I know it sounds weird, but ill answer any chemistry related questions for some pizza.', 'Any help would be appreciated.'], [3, 3, 3, 3, 2, 9]], 't3_8rglrs': [['My sister and her new husband just went off on their honeymoon, yay for them!', 'Problem is, I got laid off from my job a month ago and money has been tight.', \"I can only afford to pay this month's rent currently.\", \"I don't feel right asking for handouts but I'm too hungry right now.\", 'I live in New Mexico and have a papa johns and a pizza hut within the area if that helps.', 'Thank you very much.'], [3, 3, 3, 3, 3, 9]], 't3_4zrumx': [[\"Yes, I'm counting pizza as a finer thing at this point.\", 'Live in north Alabama and have been living off rice for a month while I look for a new job.', \"Not expecting much as there's way better causes here, but it couldn't hurt to try.\", 'Thanks for your consideration :3\\n\\n[EDIT] someone had replied but I never got any final confirmation from the person.', 'So still hoping for some pizza.', 'Thanks'], [8, 3, 3, 9, 3, 9]], 't3_3079q3': [['Hello, I am out of money due to a number of circumstances.', \"I haven't eaten today, was hoping someone could possibly order me a pizza (I can pick it up).\", 'There are multiple places near where I am.', 'I can order you one back on Friday, or I can paypal you the money back.', 'Just looking for a small pizza or something of any kind out of necessity not convenience.', 'Thank you!'], [3, 5, 3, 2, 3, 9]], 't3_3olx20': [['Long title says it all.', 'I have a phobia of dentists after my bad experience several years ago.', 'I posted about it here on another Reddit forum some time back.', 'I live in McMinnville, TN  Only Papa Johns delivers.', 'Just a single pie for myself.', 'Thanks for your consideration.'], [0, 3, 3, 3, 3, 9]], 't3_1ix6kb': [['I currently have enough funds for my bills, and fixing my car *or* food, but not both, and I have until the end of the month to fix my car or lose it.', \"I am not going to a mechanic, I am fixing the car myself, so I can't save money that way.\", \"I have been given rice and a rice cooker, but that's all I've had for weeks, and I really could use something different.\", \"Papa John's and Domino's both have deals going on, as always, and I am not picky in the slightest about what a generous Redditor is kind enough to give, I just want something that isn't rice.\", 'I am offering up a silly doodle in exchange for something tasty.', 'Thank you very much for reading, and in advance for any kind assistance!'], [3, 3, 3, 3, 2, 9]], 't3_456rsn': [['Had a death in the family recently, and I had to spend a bit extra to get around to visit him before he passed/see family.', \"Don't get paid until tomorrow, and haven't ate since Monday.\", 'Would really appreciate a pizza if at all possible.', 'Get paid tomorrow and a bit extra money from taxes next week, will definitely pay it forward when possible!', \"I'm in North Carolina, and only Pizza Hut and Dominoes delivers to me.\", 'Thank you for reading.'], [3, 3, 9, 2, 3, 9]], 't3_flezd': [['So im unemployed and currently living with my brother.', 'He went out of town and left me with a little bit of food.', 'but he got delayed and is staying an extra day so i am out of food.', 'I had lunch yesterday but wont have another way to get food until tomorrow night so a pizza or 2 would really help carry me over until he gets back in town.', 'I hope this works.', 'I can even make a drawing of anything for you if you would like.'], [3, 3, 5, 8, 3, 2]], 't3_9uevsd': [[\"I've been laying on my couch for the past 2 days nursing a busted ankle.\", \"I don't have insurance at the moment so the trip to the doctor cost a literal leg after X-rays and care.\", \"I've got till Thursday until I get paid next and am completely tapped out.\", 'Trying to sell some things to help, but a pizza would certainly lift my spirits.', \"I'm in Houston, Tx and there is a Domino's and Pizza Hut that deliver to me.\", 'Thank you for consideration.'], [3, 3, 3, 8, 3, 9]], 't3_7q94li': [[\"To say I'm bummed is an understatement and there's pretty much nothing I can do about getting them back.\", 'Will have to get a new pair but that takes a few weeks with appointments, ordering them, et cetera.', \"So I'll be working my job pretty blind.\", '-\\n\\nYay...\\n\\n-\\n\\nSo shitty day.', 'Would really like some bone-in wings from Pizza Hut because eating your feelings is a thing!', \"I'd pay it forward on Thursday to help someone else have a slightly less shitty day.\"], [3, 3, 3, 7, 3, 2]], 't3_a2gx6q': [['I accepted a job offer in October only to be surprised with a non-compete hidden in a stock agreement issued to me last year.', 'Ive been waiting for unemployment since last week and have 4 weeks until they process the claim.', 'I have no money and could really use a pizza right now.', 'in Downtown Salt Lake City, UT (favorite is Pineapple Jalapeno).', 'Freewheeler, Cool bros pizza.', '*Note* Mod told me to resubmit'], [3, 3, 3, 3, 3, 0]], 't3_10a2dc': [['This is the last night that all of my friends will be together for Friday Night Magic.', 'Four out out of the five will be leaving town to either go to college or another state.', 'I am trying to make this the best night I can with very little money, I just dropped 1000 for car repair.', 'A  simple cheese would work.', 'Many thanks to anyone that looks, and everyone else that considers, you are awesome!', 'I will repay the favor to someone else in the future!'], [3, 3, 3, 3, 9, 2]], 't3_8tcykn': [['Just discovered this subreddit.', 'Have food at home but not really feeling like cooking, my son asked if we could order pizza.', 'Im broke until payday on monday.', 'Will donate monday night to someone regardless of fulfillment of request.', 'Pizza would be for me, 5yo son and a piece for my 11 month old lol \\n\\nThanks all!', 'Forgot which pizza places are near me, papa johns, dominos, pizza hut, donatos, and a few family shops\\n\\n\\nEDIT: delivery is on the way will close/give credit on arrival'], [0, 3, 3, 2, 8, 3]], 't3_65035i': [['Just was laid off today and paid my rent and bills with little I have left.', 'Just found that to be more important.', 'No food in the house but will have money this weekend to help out.', 'A pizza and drink can last me two days and would be such a big help.', 'Ill be looking to pay it forward as well.', 'I truly would appreciate it.'], [3, 0, 5, 8, 2, 9]], 't3_1uplpl': [['My birthday is at the worst time of year.', 'So close the Christmas and new year, I never celebrate based on the fact that none of my friends/family have any money left.', \"I don't deserve pizza more than anyone else on here, I am just chancing my birthday luck.\", \"(I'm in the uk, and can provide proof).\", 'EDIT - funnily enough, my little brother has just phoned to see if I want pizza!', 'I hope everyone on this sub that needs food gets pizza!'], [3, 3, 3, 1, 3, 3]], 't3_7z0ynk': [[\"Mom's outta town (income source)  and we have no money!\", \"We've been feeding them cereal and Ramen noodles for a week, and I think they might appreciate something a bit more than that.\", \"If you can't, or don't want to, we have something to feed them - no worries.\", \"Domino's + Papa Gino's are here.\", 'Massachusetts.', 'Thanks!'], [3, 3, 3, 3, 3, 9]], 't3_ivcii': [['The current heat way somehow fried my car and i havent been able to go to work this week.', 'Money is now at a minimum.', 'The nearest restaurants/grocery stores are almost a mile away from my house.', 'i was kinda hoping someone could send me a pizza.', 'I get paid friday and can use that money to fix my car, and then pay the pizza forward.', 'Please help im a long time redditer that wants to remain anonymous.'], [3, 3, 3, 3, 2, 9]], 't3_ub164': [[\"I've been looking for the past month for a job and am having a really rotten time of it.\", 'I would be willing to barter some sort of tutoring either now, or in the fall.', \"I'm excellent in English, and pretty decent in other subjects.\", 'I could really use some pizza and coke to lift my spirits.', 'It would really help my morale.', 'Would be more than willing to pay it forward on my first payday.'], [3, 2, 3, 8, 8, 2]], 't3_8lx7vo': [[\"If you look at my post history (don't know how to cross post) you'll see I'm down on my luck, and hungry.\", \"Not starving obviously but I'm down to my last hotdog and can of refried beans.\", \"If anyone wants to help out I'd love it.\", \"Edit: never posted here and I've seen other people's posts now and they were more specific.. out of work, constantly applying with no luck.\", \"I'm near dominos, little Cesar's, and Pizza Hut.\", \"I don't mind picking up either, no gas In my car but I can walk.\"], [3, 3, 9, 0, 3, 3]], 't3_7pt72b': [['I live in Kitchener Ontario.', '[Here](  ) is a link to the post I made about the home invasion.', 'I havent been sleeping much since then and my appetite has started to come back.', 'I have a Dominos and a couple other chains near me but however you prefer works for me.', 'Will send adorable pictures of my new kitty in return should you so desire.', 'He has agreed to take that one for the team.'], [3, 3, 3, 3, 2, 3]], 't3_1yjwpk': [[\"Hi,\\n\\nI'm at my new all time low and really could use some Pizza now.\", \"However I don't want it just handed to me, so I'd offer some IT-Support in return.\", \"I'm working as a Data Analyst atm.\", 'and I got a lot of experience in fixing all kinds of home made PC Problems.', \"So if there's anything you'd like to get fixed (via VPN/Teamviewer) or general questions, I'd be happy to help you.\", 'Will forward pizza once I finally get my new job :)'], [3, 2, 3, 3, 2, 2]], 't3_4jnwhw': [[\"I don't have more money until the 3rd June and have some veg, pasta and cornflakes, it would make a nice change to have pizza.\", 'I have a dominos open here until 3:45, thank you to anyone who helps me out.', \"I can't think of anything I could do in exchange but if you think of something just let me know.\", 'Edit: just curious, could someone who happens to read this and knows why people are downvoting explain to me?', 'Thanks.', 'Edit2: [Proof of no money](  )'], [8, 3, 2, 0, 9, 1]], 't3_1l5uzx': [['Hey guys-\\n\\nWelp, tonight I am dinnerless.', 'I work in video production under freelance contracts, and my client said he cannot pay me on time like he was supposed to.', 'Unfortunately, that means no dinner for me tonight.', 'Just wondering if anyone can help a first time pizza requester out.', 'If I do find a kind person around these parts, I will definitely be giving back the second I get paid, not to try to make that any leverage, but this seems like an amazing idea that I would love to support for the future.', 'I live in Lakewood, CO, so there are a fair amount of choices that are taunting me... ;)\\n\\nThanks for taking the time to read this...\\n~Slade'], [3, 3, 3, 9, 2, 3]], 't3_7ch3is': [[\"Heya guys, been living off of pasta and ramen for the last couple of weeks thanks to someone's generosity.\", ':)\\n\\nCurrently all my money is going towards repaying rent and a little bit of a savings buffer, would really appreciate a pizza.', \"Domino's and Pizza Hut are good -- I can put in the 5 bucks for a delivery tip but I simply can't afford to get myself some zas.\", \"Ideally, there's a take and bake place called Papa Murphy's that's a short walk away, a FAMILY size chicken garlic is 14 bucks after coupon!\", \"I'm in California, but I have no camera or working phone for verification.\", \"Just letting you know that ahead of time, please don't think I'm a scammer I'm just broke as hell!\"], [3, 3, 3, 3, 1, 1]], 't3_8rk5fr': [[\"I've been in hospital all day with a suspected blood clot.\", 'Turns out its not, but they dont know what it is, so they sent me home with some painkillers but it still feels like my leg is going to implode.', 'I could really do with some Pizza to take the edge off this awful day.', 'Closest is Dominoes and Pizza hut.', \"I'm in the UK!\", 'Thank you kind Redditors.'], [3, 3, 8, 3, 3, 9]], 't3_vpa6p': [[\"Hey guys, my friend just told me about this and I'm starving and don't know when I'll have money or food again.\", 'I just started working and all my last check went to bills and gas to get to work.', \"I'm a type I diabetic who's in some need of food, and a pizza would be amazing right now.\", \"I'm willing to play some Team Fortress, Killing Floor, or anything else (as long as I have the game lol) w/ anyone who helps!\", 'Thanks in advance!', '#ERROR!'], [3, 3, 8, 2, 9, 0]], 't3_3ms19f': [[\"Working on some homework that couldn't done since we had to work all weekend!\", 'Looking for any generous soul looking to donate a pizza to our cause!', \"We're located in Louisiana.\", 'I also have a few free xbox live gold codes to offer in exchange!', 'Looking to feed 2 people, and will pay it forward this coming Friday.', \"Thanks in advance~\\n\\n&amp;nbsp;\\n\\n\\nI am nearby a Papa John's, Domino's, Pizza Hut, and Hungry Howie's, and have the ability to pick up at the store.\"], [3, 3, 3, 2, 2, 3]], 't3_xh15l': [[\"I'm on verge of hunger, i just finished my bread and jelly, my mom is going to work now she works night shift as a respiratory therapist.\", 'I cant eat too much sweets in one day if i could, i would demolish the poptarts in my cabinet.', 'I can do some what of a decent drawing with pencil, i cant free hand that well but i can try.', 'anyone want to treat me?', 'if not i understand.', 'EDIT: still open'], [3, 3, 2, 9, 9, 0]], 't3_2fumcg': [['I got hired from being a temp to a full time employee at a place.', \"I didn't learn until then that I only get paid bi-weekly by them.\", 'I have spent all but $5 on bills, and I cannot afford to buy anything really until I get paid next Wednesday.', \"If someone could help me out with a pizza so I don't have to eat just jelly and cheerios for the next week, that would be amazing.\", 'I live in Glenside, PA, which is North of Philadelphia.', \"There are a Dominoes and Papa John's I know of in the area.\"], [3, 3, 3, 8, 3, 3]], 't3_7atk4t': [[\"I'm really down and broke, and sleeping in a friend's basement.\", 'Pizza would be nice.', \"Papa John's/Domino's/Pizza Hut\\n\\nCan pay back soon.\", 'Will send picture of my cat on the box.', 'Her name is Socks.', \"She only has one working eye and she's my world.\"], [7, 8, 2, 2, 3, 3]], 't3_v7byq': [['I am having a bad weekend.', 'my internet was off from Thursday until today.', 'I feel awful from a bug.', \"It's father's day, and my dad passed in 2002.\", 'Wangst wangst.', 'If anyone could help me out with a pizza, i would appreciate it lots.'], [7, 3, 7, 3, 0, 9]], 't3_ke8v1': [['A little about me: I am in a supportive living program for chemical dependency after completing a rigorous in-patient detox program.', \"Myself and three other guys share an apartment and we get all of our food from the facilities 'food pantry.'\", \"We aren't starving but I know I haven't enjoyed the tasty goodness of a pizza in over 41 days!\", 'One of the other guys has been deprived for nearly 90 days!', 'I will do whatever is necessary to substantiate my story if need be.', 'Thanks for taking the time to check this out.'], [3, 3, 3, 3, 1, 9]], 't3_43nvpp': [[\"That's gamechanging for some of us.\", '&gt;  Dominos has $7 carryout pizza.', '$2 gift card would let me get a pizza for only $5!', \"Since people are getting gift cards on here, there's got to be some people who have a leftover dollar or something.\", \"It's pretty genius, if you get a $5 pizza then it becomes $3.\"], [8, 3, 3, 3, 3]], 't3_al5yn4': [['If anyone could spare a pizza, it would mean the world to me.', \"Disability cheques come in on the 31st and I've been eating canned peas for the last 5 days as I had to buy cat food for my boys.\", 'A pizza would really turn my luck around since Christmas practically drained the bank.', 'Local pizza joints are Dominos or Pizza Hut.', \"I'm in Ontario, Canada.\"], [8, 3, 8, 3, 3]], 't3_754moo': [['I hope to repay the community one day soon, thanks for reading.', 'Hello kind people of reddit.', 'My financial aid department informed me that the final semester of school they had to split my dispensation into two checks but the first check would go entirely to the University.', \"I wasn't expecting this and it's drained my finances waiting for the second check, which will be here next week.\", \"I'm hoping a kind redditor can help me make it to then.\"], [2, 9, 3, 3, 9]], 't3_icfwu': [['All I have to offer is I will help someone at some future date in need.', \"This isn't for me but I have a friend who is in need but isn't a redditor.\", '(That I know of).', 'He became unemployed a couple weeks ago and he has barely enough food to keep his weight up.', \"I am broke as hell and can't help him at the moment.\"], [2, 4, 3, 3, 4]], 't3_aq25wl': [['Probably make my mom really happy as well.', \"I'm in Los Angeles, CA, 90002\\n\\nMade a lot of mistakes in my life honestly, been stuck in my own head afraid to go out for years.\", 'Put a lot of pressure on my family to take care of me because I was an idiot.', \"That's changed recently and I'm trying to get on my feet but it isn't going well so far and it's honestly doing my head in a bit.\", 'A pizza right now would be a Godsend and honestly relieve some pressure for a few days.'], [8, 3, 3, 3, 8]], 't3_1d7423': [[\"As always i'm having a tough time and no food in the house.\", \"Hell, I'm fat.\", 'Want a pic of us both having a big binge.', \"I'm down almost 50 pounds this year!\", 'Go me.'], [5, 3, 3, 3, 9]], 't3_1j33z9': [[\"I'll probably forget about this anyways :)\", 'Chillin in Alaska, really craving a pizza.', 'No story, just wishing I could have a full stomach of pizza.', 'By all means, choose the guy above me, or below me.', 'Doesnt really phase me otherwise.'], [0, 3, 3, 3, 3]], 't3_7rzj3a': [[\"Edit: papa John's is the closest.\", 'The brakes in my car blew out yesterday and we typically go buy supplies on Sunday.', \"But with an unknown repair cost (gonna be caliper rotor and a brake line in my rear passenger wheel at least and an suv $$) I don't want to chance paying for an uber and not having the funds to get my car up and running tomorrow.\", 'I have frozen Brussels sprouts and eggs, neither of which my 7 year old will touch lol.', 'Thank you.'], [3, 3, 3, 3, 9]], 't3_vjgqj': [['My deviant art, its old but its a good example of what I do:', \"My day's been pretty okay despite being broke and nearly out of food.\", 'Then I get a ticket because I forgot about street cleaning.', \"So I guess you could say I'm a starving artist?\", \"Anyways, I'm an art student and I've got nothing to do for the rest of the day so I'll draw something for whoever would give me some pizza.\"], [3, 3, 3, 3, 2]], 't3_3wogro': [['Receiving a pizza soon :D', 'Hey all, giving this another shot.', \"This month I had to buy so much medicine that I'm pretty much broke.\", \"I REALLY would appreciate a pizza today... the gnawing pains in my stomach aren't helping me heal :( Will definitely pay it forward once I get money!\", 'EDIT: Thank you soooo much!!'], [3, 9, 3, 2, 9]], 't3_4eoarn': [['Will barter cute pictures of cats and we definitely plan to pay it forward once we have a little padding in our pockets.', 'Hey guys,\\nMy fiancé and I are in a pickle.', \"I just started a new job and have yet to be paid, and he's in between jobs.\", 'We still live with my dad until we can afford our own apartment.', 'There is zip to eat in this house.'], [2, 3, 3, 3, 3]], 't3_6a77tc': [['Thank you guys so much for reading.', 'The title says it all.', 'Without going into too much detail, finances are about to get real tough, and I would be ever grateful for some cheesy goodness.', \"&lt;3\\n\\nI'm in the southeast.\", 'Dominos, Papa Johns, and Pizza Hut are all down the road.'], [9, 3, 9, 3, 3]], 't3_4b7w51': [['Someone please help me celebrate my life moving forward finally', 'To celebrate!', 'I FINALLY BEAT CATCHER CHOCOBO ON FFX HD.', \"I'M FREE AT LAST.\", 'I even have a video to prove it!'], [9, 8, 3, 3, 1]], 't3_iavvx': [['There is a great place just down the road from me that makes awesome pizza, PLEASE help me out!', \"I'm a broke post-college student.\", \"There's nothing to eat here and I'm been hoping for a pizza pie all day long.\", 'Stomach is really starting to grumble!', \"It's my birthday soon, and I'll pay it forward by giving someone a pizza at the end of next week with money from that!\"], [3, 3, 5, 3, 2]], 't3_5y8v4s': [[\"I'm aware that chances are low due to living on other continent and that in Poland they don't accept gift cards.\", \"Hey,\\n\\nso I feel really ashamed by asking for help, but I'm kinda broke.\", 'The last money I have I need to spend on getting back home on saturday.', \"(my acc; it's ~2,7USD, I need 10 for ticket).\", 'I will receive salary on monday so I have to survive till friday.'], [3, 3, 3, 3, 3]], 't3_9t3q11': [['Thanks in advance.', 'Normal kinda sob story I guess.', \"Got dumped so I'm all alone on my favourite holiday playing Crusader kings 2 because we had the same friend group.\", 'Pizza would help.', \"Not hopeful but that's cool.\"], [9, 3, 3, 8, 0]], 't3_1k9fdo': [['I have:\\nBand Of Horses: Everything All The Time The Sword: Apocryphon The Gaslight Anthem: Handwritten The Gaslight Anthem: American Slang The Gaslight Anthem: The 59 Sound A Day To Remember: Homesick Daft Punk: Random Access Memories Queens of the Stone Age: ...Like Clockwork The Black Keys: Thickfreakness The Dillinger Escape Plan: One of us is the Killer Between The Buried and Me: Colors Between The Buried and Me: The Great Misdirect Yeasayer: Oddblood', 'Just waiting on my FinAid to come in, pretty much all of my check for work goes to bills.', 'I live in Oregon and there is a Pizza Hut close by.', 'If someone was to be so generous to help me out, I have several download codes from my vinyl collection.', 'I would have to look into it closer tomorrow, but off the top of my head I have:\\n\\nEDIT: These are the download codes I have for offer.'], [3, 3, 3, 2, 3]], 't3_2n7jeh': [['I live in Huntsville, AL.', \"I haven't ate all day and I can't get anything because my mom needed to use the car.\", 'She left with the car seat in it also.', \"I'm extremely broke and extremely hungry.\", 'Someone, anyone please help.'], [3, 3, 3, 7, 9]], 't3_3nhv7o': [['[You really saved the day today.', 'My wife requested this day off a while ago and we have no money to do anything and only spaghetti to make (again).', 'I feel bad we are just sitting around watching YouTube.', \"I'd be more than happy to reciprocate when our next paycheck comes in on the 9th.\", \"EDIT: Thank you to the 'magical pizza fairy', /u/Trazdat!\"], [9, 3, 3, 3, 9]], 't3_1aruca': [[':)))))', 'Due to shitty circumstances and misinformation I missed dinner at the dining hall tonight.', 'The express option was not available due to \"spring cleaning\".', 'Me and twelve other unhappy campers got shafted.....  Also, it was wing night at the express dinner.....', 'Double wut-ze-fuck....\\n\\nAnywho, I realized that I also have like $3.83 in my bank account until tomo, so if someone would like help me out that would be amazing!!'], [0, 3, 3, 3, 3]], 't3_16xsqk': [['CAN HAZ?', 'My best college buddy Lives in New Zealand but has been sleeping on my sofa in Los Angeles for the last 2 months because he has run out of money.', \"We want to watch the football games this afternoon but I'm tired of paying for him!\", 'I feel like I have a 30 year old child.', 'Anyone wanna send us some PIZZZZZAZ?!!?!'], [0, 3, 3, 3, 9]], 't3_1bpggs': [['Thanks guys and best regards', 'Hey there friends,\\n\\nHave not slept in two days, wrote over 20 pages of essay throughout its course.', 'I have -8.51 in my bank account (I have no idea, can provide pics)  Considering I have not eaten since tuesday night and have absolutely no food in this godforsaken place, could a dude in need just get a basic cheese pizza?', 'I am pretty delirious and out of options, my next one is to sleep the night off until my shift at work tomorrow afternoon where I can get a meal afterwords.', 'I solemnly swear to pay it forward, with interest, whether to my generous provider, or even another random soul in need.'], [9, 5, 3, 3, 2]], 't3_8v4909': [[\"We have Dominoes, Pizza Hut,  Little Caesar's, and Papa John's!\", \"It's my daughter's birthday and between the presents and rent coming up in a couple days we are stuck with ramen noodles, crackers and some canned food until Friday.\", \"That's not too bad for us, but it would be nice to give her a meal other than noodles for her birthday and we could probably make a pizza last a few days for her if the fiance and I ate some noodles instead.\", 'Thanks for taking the time to read!', 'Edit: I forgot to include pizza places near us.'], [3, 3, 8, 9, 3]], 't3_19elkp': [['will pass pizza-love on as soon as I am paid, because we all know pizza runs the universe.', \"I'm a 3rd year illustration student in Swansea, UK and my dissertation (final 8k word essay) is due in just over a week!\", \"Have been stressing a lot about it and really don't fancy cooking for my boyfriend and I tonight (we'd only be having tuna sprouty jacket potatoes anyway as its all we've got until march 12th payday!)\", \"He also had most of his tool kit stolen yesterday (he's a mechanic) and its really getting him down.\", 'can provide proof of sprouting potato-ownership, proof of half empty tool box, screenshots of half finished dissertation, photos of stressed me/pile of books and screenshots of $20 bank balance!'], [2, 3, 7, 3, 1]], 't3_14t3zy': [['Or if anyone has an idea, my boy loves to dance and attempt to rap, its pretty funny, lol', \"I've posted here before to no avail, I'm a single father with two kids, I'm laid off from stainless steel welding.\", 'All we have to eat is some canned vegetables and milk, could really use a pizza or two please, we live in Marshfield WI.', \"here's my kids for verification:\\n\\n  \\n\\nThank you!\", '**Edit**\\n\\nI will post a thank you video of my five year old and three year old dancing/breaking/doing the robot if I receive something!!'], [2, 3, 3, 1, 2]], 't3_2x2gr4': [[\"I will fulfill almost any request to have a pizza sent their way (i'm an unemployed student so i have no money to do it myself)\", 'So I have a couple of friends in my home state (WV) who are pretty down on their luck right now and could use a pizza.', 'They are rooming together in a small apartment and only one of them is currently employed (though the other is looking for a job).', 'However, they can barely afford to eat.', \"I was talking to one of them and he said that he's resorted to eating a tortilla shell with some condiments on it because it's all he's got because they can't go shopping until the other gets paid (he's had the job less than a week now).\"], [2, 3, 3, 3, 3]], 't3_7b1hf0': [[\"(I'm literally 3$short from being able to buy a pizza myself online)\\n\\n\\n(Edit: bot told me to include chains near me: Dominos, papa John's, Benitos, cottage inn USA)\", \"Tonight after work me and my girlfriend where leaving the parking garage but the card reading machine to get out of the lot decided it was going to scratch the fuck out of my credit card to the point where it's unreadable even thought I just put gas on the car before work.\", \"So I'm out of a credit card, don't get paid until Tuesday, and have a really upset gf.\", 'Literally a plain cheese pizza from anywhere would make our night not so shit.', \"Once I get a new card I would pay it forward x2, If only Meijer accepted PayPal this wouldn't be a issue.\"], [3, 3, 3, 8, 2]], 't3_8lymiz': [[\"I'm utterly sick.\", \"I don't really know what to say here, I just feel so shitty.\", \"I usually just use Reddit for memes and stuff, I've tried this a couple times before but haven't gotten any replies.\", 'My best friend killed herself the other night, she was the most important person in my world.', \"I've never had to go through something like this.\"], [7, 7, 3, 3, 3]], 't3_3gdcw9': [[\"Little help, random blokes off t'internet?\", 'I just managed to FUBAR cooking burgers.', '(Long story.)', \"I have nothing else left but those Bachelors Pasta N' Sauce packets, and I'm nearly out of milk.\", \"I don't get paid until Wednesday.\"], [9, 3, 3, 5, 3]], 't3_6sq0fz': [['thank you', 'I just got clean from a 6 year opiate addiction a week and a half ago.', \"I'm still right in the thick of withdrawals and got fired from my job when I had to call out because of them.\", 'I have not been able to afford any food for two days now.', \"it would mean the world to me and I will surely return the favor as soon as I'm back to normal.\"], [9, 3, 3, 5, 2]], 't3_1tmlv3': [['MERRY CHRISTMAS!', 'Would love to have some pizza for Christmas dinner.', 'My little girls would love it.', 'We are broke until next Friday and have no money to do a Christmas dinner.', 'Thank you for reading.'], [9, 8, 3, 3, 9]], 't3_4bwkre': [['It would be a welcome change from lentils and ketchup...', 'Hey randomactsofpizza!', 'I just had a ridiculously long workweek after covering my for full-time colleague while he was on vacation.', \"It wouldn't be too bad if I wasn't a full time student as well.\", 'Anyways, the stars aligned and I have a day off, so with this in mind, I was hoping someone here would be willing to send a pizza my way.'], [8, 9, 3, 3, 3]], 't3_oppen': [['Is there something me and my friends can do to convince a kind redditor with the resources to afford a large pizza to throw us a bone?', 'Just me and a couple friends hanging out watching television.', 'We are pretty much on our last dime (only consistent job is a gas station attendant who puts his money to rent).', \"We aren't starving, we aren't a sad story, but we can't afford pizza... a pizza which would just make our night.\", \"So here's the deal: I'm willing to barter.\"], [1, 3, 3, 8, 2]], 't3_2tacbt': [['Pretty pretty pretty please.', 'I just got paid yesterday and now i am only 30 dollars shy of rent.', 'Although i have been granted an extension, i still am lacking amazing pizza.', \"I don't know what to offer in trade, but i am open to requests.\", 'Please feed me.'], [9, 3, 3, 2, 9]], 't3_182nt8': [['!', \"I'm nearly out of money and I'm running out of time.\", \"I lost my job in January and need pizza soon or else my New Year's resolution is a bust.\", \"I DO have a job interview tonight at 7:30 p.m. (EST) and it'd be nice not to go on an empty stomach.\", 'Reddit, could you kill two of my birds with one stone by ordering me a pizza so I can eat lunch AND dinner?'], [0, 5, 3, 3, 9]], 't3_7dnul8': [[\"I'll help you out with any tech problems you might have over DMs in exchange.\", 'Howdy!', 'I work fast food and go to college studying computer science.', \"I'm trying to save my money to pay rent at the end of the month, and would love a pie this weekend.\", 'Thanks in advance.'], [2, 9, 3, 3, 9]], 't3_6kqhmj': [['thanks.', 'paid rent today and im gonna broke for a while.', 'in between jobs so money is tight.', 'could really use a pizza.', 'theres a pizza hut, dominos and papa johns near me.'], [9, 3, 3, 3, 3]], 't3_2x9ns0': [['Please help.', \"I'm a broke college student who ran out of money for the month.\", \"I'm not really talented, so I can't trade much, but I'll definitely hand write a heartfelt letter to whoever can help a girl out.\", 'I can try to draw a cute little thing.', 'I can trade my business law notes...'], [9, 5, 2, 2, 2]], 't3_927vbq': [[\"I'm located in Florida and have dominos Pizza hut and Papa John's neaby.\", 'I have just a few cents left across my accounts and I get paid at 8am tomorrow.', \"I'll make it but I haven't eaten much today and a pizza would go a long way to putting some food in me and my girlfriends belly.\", \"Thank you to anyone who's willing to help.\", 'I did make a similar thread in a the assistance subreddit but I deleted it as I found this place and believe I might have a better chance.'], [3, 3, 3, 9, 3]], 't3_svx9s': [['Thank you for your consideration.', 'My friend and I will be studying for finals for many hours this weekend.', 'We are poor, but not destitute.', 'Receiving a pizza for studying would lift our spirits and give us a reason to study very hard and do well on our finals.', 'Any pizza gift card would be met with great excitement!'], [9, 3, 3, 8, 8]], 't3_79czb7': [['Thank you for reading and considering!', \"He's in the navy and we are barely scraping by, there aren't a lot of jobs available in our small desert town so funds are super low.\", \"But today, he enlisted for another 4 years and I feel awful that I don't have anything for him to celebrate it with.\", \"He's an any kind of pizza guy and we only have enough money for gas to last us until payday.\", 'I promise that I will return the offer as soon as we get enough money to do so.'], [9, 3, 3, 3, 2]], 't3_9j3yd8': [['Thank you, to whoever sees this!', \"I have finals for my Pastries class this week, so as a result I've had to practice making tarts, choux pastry, and other things that involve expensive ingredients.\", 'I usually have a $40 a week grocery budget, so having to buy specialty ingredients took up a big part of that.', \"I've had a good bit of rice and beans in the past couple weeks, and having something like a pizza, and if it's not to much to ask, maybe a salad (I just really want some vegetables), would be fantastic.\", \"I'm located in Michigan, and I have all of the big chains near me.\"], [9, 3, 3, 3, 3]], 't3_7fwm96': [['Thanks for your consideration.', 'Hey all, got back from Ukraine yesterday morning.', \"After sleeping off jet lag, we're hard at it.\", 'Anyone out there mind hooking me up with a pie or two?', \"As you can see from my post history, I've got an offer up to give away pizza on Thursday, I'll make sure to pass it on.\"], [9, 3, 3, 9, 2]], 't3_4c25rf': [['User is /u/Fuck_My_Mom and link to the post [is here](  )', \"First time I've used this sub and I'm on mobile so forgive me any lack of pizza etiquette.\", 'I came across this poor person over on r/raisedbynarcissists and thought of you.', \"I'm not sure if you're even allowed to request for someone else?\", \"I don't know this person.\"], [3, 3, 3, 3, 3]], 't3_1ljh06': [['thank you.', 'My mom only has 20 dollars left until next week which she is going to use for gas to get to work.', 'My dad is 3 weeks late on child support.', 'All my fam has been eating is toast or soup.', 'Some pizza would be nice.'], [9, 5, 5, 3, 3]], 't3_7c5mnl': [['&lt;3\\n\\nEdit: Close to all major chains and not picky.', 'Hello RAOP!', 'Short and sweet, I just landed a new dream job at a major university that will allow me to quit working nights and actually have a life.', \"I wanted to celebrate with my girlfriend, but we're both broke for another week and a pizza would absolutely make our weekend.\", 'Thanks in advance!'], [0, 9, 3, 8, 9]], 't3_81ufyt': [['Thanks!', \"Going through an incredibly rough personal circumstance, and it's turned into the worst week of my life.\", 'Everything is going to shit.', \"As a broke college student, I don't have the money to spend on ordering food.\", \"I'm aware this isn't a charity, but I just wanted to lay out what's going on, and see if anyone is wiling to brighten up my day by providing me with high-calorie, greasy junk food.\"], [9, 7, 3, 3, 3]], 't3_2a6pa7': [['Location: Portland, Or', 'I was fired from my job and had a good week and a half where I was jobless, my wife and I are still trying to recover.', 'We just used the last of our money paying rent.', 'With that we have no money available to buy food until we get paid again.', \"I'm planning on paying it forward as soon as payday comes.\"], [3, 3, 3, 3, 2]], 't3_n47ak': [['My roommate, [Foolgroove](http://www.reddit.com/user/Foolgroove) will even draw you a picture :)\\n\\nThanks,\\n\\n[Saeka](http://www.reddit.com/user/Foolgroove)\\n\\n[Foolgroove](http://www.reddit.com/user/Foolgroove)\\n\\n[Zonku](http://www.reddit.com/user/Foolgroove)', 'Hey RaoP!', \"I'm writing on behalf of my roommates (and myself!)\", 'in request for some pizza!', \"We're extremely low on cash at the moment due to rent and the last bit of money we did have, we can't access due to a stolen debit card :(\\n\\nIf anyone would be willing to give us some pizza, we'd be really grateful!\"], [2, 9, 3, 3, 3]], 't3_86qqx4': [['Thanks for reading and thank you for your kindness\\n\\nEdit: Canada, Alberta, Pm for city\\n\\nPapa johns, pizza hut, perrys pizza, dominos, pizza 73, panago off the top of my head', 'Was looking through some post histories and found this subreddit.', 'I really like the idea of cool dudes buying pizzas for others.', 'Its a real nice idea that shows a little hope that the world isnt entirely inhabited by greedy people.', 'I start work in about a week or two so you can bet ill be helping to provide others aswell.'], [9, 3, 3, 3, 2]], 't3_3dnyb1': [['I work in the auto industry, for a supplier to one of the Big Three.', 'A recent recall has pretty much left us without any work to do, so they decided to lay a bunch of us off indefinitely.', 'Pizza would help lift my spirits.'], [3, 3, 8]], 't3_7xrtuc': [[\"First timer here: basically I'm full of flu, but am too busy at work to take any time off.\", \"My online grocery order isn't arriving until Saturday, and I think pizza, in bed, with extended LOTR is the only way to cure my low mood.\", \"I'll be back to gift someone else at the end of month when it's payday - this is a great sub :)\"], [3, 8, 2]], 't3_7dyfer': [['Just a stereotypical college student who scraps by on tips.', \"Tonight was a bogus night, and I'm pretty down.\", 'Some pizza would be great.'], [3, 7, 7]], 't3_zhkv6': [['I have never done this before and it sounds cool.', 'I would like to send someone a gift from my house.', 'A personal object of mine that I choose based on information you provide ( such as your interests ).'], [3, 2, 3]], 't3_12apo6': [['willing to trade A few rare Magic the Gathering cards for a pizza.', 'That can feed me for a week.', 'Please reddit pizza fairy, hear my plea....'], [2, 8, 9]], 't3_9pa3ww': [['Life is kicking me in the balls recently.. got into an accident today while just sitting at a stop sign some guy hit me head on and my car is most likely totaled (i love that car :[).. bit short on money because a few months ago i was hospitalized and made my first payment this week, on top of other bills (live on my own).', 'not getting paid until tomorrow (going for rental later) and stuck home with like $12 bucks cash on me, and not enough to call an uber or anything in my bank atm.', 'hopefully someone can help me out, gladly accept any terms they see fit.'], [3, 3, 9]], 't3_99hdns': [['My glasses broke today and I had to go out and get a new pair today.', \"Today's been terrible and now I don't have money for food.\", 'A pizza would really help and be very appreciated.'], [3, 7, 9]], 't3_6f2j7o': [[\"Title speaks for itself, I promised my family pizza for our get-together, people are already asking me where pizza is, idk what to do and I don't want to disappoint them\\n\\nedit: it was a 50$ Dominos gift card.\", \"If anyone does happen to be generous enough to help me out, I'll give it back to the community if I find it.\", \"(i don't need 50$, anything will be alright)\\n\\nedit2: took the L, confessed\\n\\nedit3: still haven't found it, out 50$ of pizza, was a gift for my birthday, lifes gay\"], [3, 2, 3]], 't3_16nlig': [['direct deposit goes through the bank tomorrow but we are starving tonight with only 83 cents in bank.', 'anyway someone could pizza me tonight and i can pizza back tomorrow to same person or could forward to a needy person.', 'Thanks!'], [3, 2, 9]], 't3_a8xfbq': [[\"This time of year is always tougher than typical on the wallet and more so this year since we have my wife's 3 siblings living with us for the foreseeable future, tried this last month and had a very nice redditor offer to gift a pizza but alas all the stores near us were closed on Thanksgiving, posting again to try and put some holiday cheer on my family's faces and, more importantly, in their bellies.\", \"I'm located in Clarksville, TN and there is a dominos, jets and Luigis near me, not asking for anything fancy, and in return I'd be willing to draw a picture of whatever youd like, I'm a self proclaimed artist and would like to spread some holiday cheer in my own way!\", 'Thanks for your time reading this post.'], [3, 3, 9]], 't3_721f4v': [[\"Should probably explain the title, been through surgery today for the first time (or that I can remember) and had general anesthesia, terrifying by the way, and I haven't eaten much since and have no money for another week or so.\", 'If not its alright but thanks anyway.', \"I'll be sure to pass forward when I get paid :)\\n\\nedit: pizza places are closed around me now so im gonna hit the sack for the night, thanks for though &lt;3\"], [3, 9, 2]], 't3_uuwle': [[\"So I'm completely broke at this point, just a bag of rice left until the end of the month.\", 'Pizza is a huge treat, but realistically- does anyone know of a food bank (or similar place) in Montreal?', 'Thanks :)'], [3, 3, 9]], 't3_17cbkn': [['Hey pizza givers!', 'I am starving!', 'Send me a pizza and I will return the favor!'], [9, 7, 2]], 't3_9gzr3m': [[\"Happy to provide more details but don't wanna bum anyone out.\", \"Gotta keep my last £20 in my account for a bill due out tomorrow and I don't get paid til Friday.\", 'Could really do with some hot tomato cheese bread to hug me from the inside please.'], [1, 3, 9]], 't3_12hkef': [['My girlfriend and I (both senior year design students) have been busting our butts in the studio working on our respective theses.', \"Can't leave the studio, would love to have a hot one delivered.\", '-Philadelphia'], [3, 3, 3]], 't3_4igd68': [['If you can, I would really appreciate it.', 'If you are considering giving tonight and there is someone else here that needs it, disregard my drugged up lazy ass.', 'Thanks!'], [9, 3, 9]], 't3_3onmil': [['Like the title implies, my ride showed up early and I missed their texts and calls as I was in the shower, and despite being ready at the normal pick up time they had already left and gone.', \"Spent the day deep cleaning my kitchen since I rarely have time to clean due to 60 hour work week, and I don't feel like cooking and I'm too strapped for cash to justify ordering pizza.\", 'Thanks in advance!'], [3, 3, 9]], 't3_ifbuc': [['So...', 'I guess I put my little sob story here.', \"Well, I'm poor, lonely, and hungry, and longing for some pizza to fill the emptiness in my soul.\"], [0, 3, 7]], 't3_82ad0t': [[\"IT's been a rough few weeks, years really.\", 'Anything would help.', 'Thanks, \\n\\n-mitt'], [7, 9, 9]], 't3_xn9n8': [['My parents are out of town for the weekend and my 3 brothers and I are having a Doctor Who Marathon!', \"We aren't in desperate need of food but we would love some pizza to eat while we watch The Doctor kick major ass!\", 'Thank you!'], [3, 3, 9]], 't3_3rso1m': [['My financial situation at the moment is tight and I logged into dominos to see if I had a free pizza earned yet to pick up, and saw that I was sadly 10 points away (  ).', 'I want to be able to pay it forward, so Im putting in a request so I can earn enough points to send a pizza.', 'A pizza is usually enough to feed me lunch/dinner for a couple days, so it would really make my weekend, and I would love to make someone elses too.'], [3, 2, 8]], 't3_8l34sl': [[\"My paycheck isn't for a few days so I'm really short on food.\", 'I would love a pizza so I could have something to eat for tonight.', 'Thank you!'], [5, 8, 9]], 't3_19xdgm': [[\"I'm currently training for the army and have been eating healthy-ish for a while, i'm really craving a pizza tonight and I have no money or food in my house!\", 'help me!', 'would be very appreciated!'], [5, 9, 9]], 't3_8p25ae': [['Negative bank account willing to draw [badly] or write poetry for pizza or even breadsticks.', \"Closest pizza places that deliver near me are dominos and papa John's.\", 'This would be greatly appreciated thank you so much.'], [2, 3, 9]], 't3_1ef88p': [['Our roommates are all out of town, and a pizza to snack on during our movie night would be great.', 'Thanks guys!', \"EDIT: We're in Portland, OR.\"], [3, 9, 3]], 't3_8fo35j': [['I just moved to a new city to follow my dreams of being a penniless art student (doing great so far!)', 'anyway I am now a resident of Richmond va, and would kill for some dominos.', 'Will pay it forward after my job is locked in, and also will post pictures of me and my cat enjoying pizza.'], [3, 3, 2]], 't3_14iaa3': [['Basically the above.', 'The fridge is empty and I have absolutely no cash/credit/anything on me until Monday.', 'I can make a pizza last until then, would appreciate it so much.'], [3, 5, 9]], 't3_67kn3x': [[\"I really wish I could be in the position to give instead of ask so this is making me feel awful but at the same time I don't like being hungry.\", \"If anyone could help it'd be greatly appreciated and I can provide proof or whatever of my situation.\", 'Mount Vernon WA'], [3, 1, 3]], 't3_mmptc': [['Been sick, nothing too bad just flu like cold.', \"Only have been eating soup, thus haven't stocked up on food for a while.\", 'I will pay it forward for the holidays!'], [3, 3, 2]], 't3_1mdson': [['Girlfriend of 9 months just broke up with me, turns out she slept with a guy after a night out 2 weeks ago.', \"Had a feeling she had as everything was different (No intimacy etc) and today she told me on the phone, she leaves for Thailand tomorrow (She's an English teacher going out there for a year)\\n\\nI live with my parents and they've all gone to another family members 21st birthday, didn't really feel like going but now I massively regret it, just sat here in the house with no one to talk to/vent except our mangy old cat.\", 'Would really appreciate something to smile about.'], [3, 3, 9]], 't3_infkm': [[\"Hey all,\\n\\nI'm the youth mission group leader at my Church, and they've spent the last two weeks working with Habitat for Humanity and other groups around the area to help out the community, and I would love to surprise them tonight with a nice tasty treat.\", 'Anyone willing to help out some kids who were just giving back to their community?', 'Thanks and god bless'], [3, 4, 9]], 't3_t3nc3': [['with pizza.', 'ehh??', \"Watching Star Trek with the person i'm going to marry, have both been up for 24 hours, and are getting really sick of oatmeal... haha so if anyone has a spare pizza laying around we'd be much obliged...the end.\"], [3, 0, 3]], 't3_8mcu6g': [['Two jobs, two shifts, too many hours haha.', 'The closest chains to me are Papa Johns and Pizza Hut.', 'Love yall'], [3, 3, 9]], 't3_17mpk5': [[\"Due to problems with work not paying me correctly or on time, I've fallen in a situation where all of my funds had to go towards my rent.\", \"I get a paycheque tomorrow but have zero funds until then, and not gonna lie I'm a little hungry!\", \"Heard about this subreddit and thought I'd give asking for internet help a try, and would love to return the favour this week as well!\"], [3, 3, 2]], 't3_vc4hg': [[\"I will help someone anyone even it doesn't work.\", 'Being hungry is the shittiest feeling of all time.', 'Update:  Mission Accomplished thanx to Sectorfour\\n\\nhttp://i.imgur.com/a1AYp.jpg'], [2, 3, 0]], 't3_8nmx79': [[\"I've had a rough few weeks with the unexpected deaths of two close people in my life and then the suicide of a singer I love ([Scott Hutchison of Frightened Rabbit](  )).\", \"It would just really brighten my day to get a pizza, since it's not something I can get in my regular budget.\", \"I'm in the US and have Papa Johns and Dominos nearby\"], [7, 8, 3]], 't3_93u88o': [['[my little man and I ](  ) are super broke.', 'Would be grateful for anything.', 'Someone got me a pizza\\n\\nThank you guys !!'], [3, 9, 9]], 't3_xww8y': [[\"My sister told me about this, last week the wife walked out on me and left the kids, she froze all the bank accounts and I don't get paid until Friday.\", \"I'd really like to cheer the kids up with some pizza.\", 'Any help would be great in these tough times.'], [3, 8, 9]], 't3_1vwlgl': [['Cafeteria food is giving me the green apple splatters.', 'I miss papa johns.', 'Hook me up?'], [3, 3, 9]], 't3_7q99q1': [['Even if no one responds or sends me any pizza you are all awesome too.', \"That being said I'm broke and hungry and would love some pizza .\", 'Request $fulfilled used great dominos deal of 5.99 per and got 3 pizzas and a 2 litter not pictured is the wife and kid who will also benefit from this amazing generosity with pizza for breakfast !'], [9, 3, 3]], 't3_1bml26': [[\"Lost my job on Monday and after my beginning of month bills were paid I'm completely broke until Friday when my final paycheck will come in.\", \"Omaha, NE, there is a Pizza Hut and a Godfather's Pizza nearby that deliver.\", 'I believe there should also probably be a Papa Johns as well somewhere nearby that would deliver here.'], [3, 3, 3]], 't3_3usd09': [['Recently lost my job and just want a pizza.', 'Anywhere will do.', 'Live near all the major chains.'], [3, 3, 3]], 't3_1gb0m2': [['So i recently got laid off from my Minimum wage job due to a back injury.', \"I've fallen on some hard times, I have money in my saving account but, i'm saving it for renting a tux for my best friends wedding.\", 'Will pay it forward when i find a stable job'], [3, 3, 2]], 't3_ixmw3': [[\"Yep, i'm still unemployed, short on money and would be very happy about receiving a pizza today.\", \"It doesn't matter where you live as long as you own a credit card or paypal we can handle this.\", 'Thanks guys.'], [3, 3, 9]], 't3_i5pg4': [[\"I sprained my ankle (I have repeated problems with this ankle from a previous injury) and then I had to work at a cafe all day because it was my first day and I've been unemployed for a month so I can't afford to lose this new job that I finally found (I've been cleaning houses sporadically since I moved back to the city, and just scraping by).\", \"On top of that I passed my first kidney stone recently and I'm having landlord issues.\", \"I'm trying to stay optimistic but I just feel like I can't get a break lately.\"], [3, 3, 7]], 't3_kfk0a': [['I have an O-Chem midterm in about 3.5 hours (2:15 Pacific) I have $1.80 in my account [http://i.imgur.com/qo6Oo.jpg&lt;====(proof here) ] and all this studying is making me hungry.', '(will share with other lucky students in the Chem tutor room)\\n\\nEdit: Located in Santa Barbara, CA.', 'Here---&gt; http://g.co/maps/xvqg4, on campus.'], [3, 2, 0]], 't3_ovnya': [[\"I'm 38 weeks pregnant and unexpectedly broke after a dr bill I wasn't expecting came up.\", \"I've been living off peanut butter sandwiches the last couple of days and pizza sounds unbelievably good right now.\", 'I can provide proof in a pm to anyone who wants it.'], [3, 3, 1]], 't3_opkmm': [['Craigslist and bike riding the past three days and im just hungry!', 'Help me out please?', 'Pics will be provided!'], [3, 9, 2]], 't3_1gzjki': [['So, long story short, today has been a really crappy day.', \"Unfortunately, it's going to continue to be crappy until the 5th when I get my first paycheck from my new job working night shifts.\", \"I would love to turn this day around with some pizza, and I'll be paying it forward as soon as I get the paycheck.\"], [7, 7, 2]], 't3_72wrju': [['Hungry and broke until payday.', \"There's a pizza hut by my house.\", 'Will pay it forward next week.'], [3, 3, 2]], 't3_17a4tq': [['Hungry in Waterloo, Ontario here.', 'Will eat anything =/'], [6, 3]], 't3_sgkt6': [['Hey Ladies &amp; Gentlemen,\\n\\nI would love to hang out with a pizza at around 4:00pm today... wink.', '-wolfbuzz'], [3, 0]], 't3_2scxyo': [[\"My mom has dinner but won't get me\\nanything and I don't have money.\", \"A small \\ncheese one from dominoes is fine I'm just really hungry\"], [3, 3]], 't3_6fr7bm': [[\"My job is pure commission, and I'm -$2 negative in my bank account.\", \"I've been in 100 Degree heat and delt with assholes all day and made no commission :( It would mean the world to me if I can get a pizza, I really want to pay it forward in the future!\"], [3, 2]], 't3_1num5h': [['Now all I want is Pizza Hut.', ':)'], [3, 0]], 't3_1irtiu': [['I will owe you the world.', 'Thanks.'], [2, 9]], 't3_44ejpr': [[\"My girlfriend and I live with our daughter, and I've been unemployed for a few months and things are pretty tight around here.\", \"Tax returns are coming and that'll be help enough for us to be comfortable while we figure out daycare assistance, but if anyone could help us out tonight, we'd be very thankful!\"], [3, 3]], 't3_783y7n': [[\"I'm a broke college student and will be eternally grateful for someone to get me pizza.\", 'I am in albany,ny.'], [3, 3]], 't3_79pu06': [['Can provide proof of not being paid yet if you want.', 'We have dominos and justeat around here, however no giftcards works here.'], [1, 3]], 't3_68bm7p': [['My buddy and I could use a Pizza Hut pizza to handle all of the stress from our upcoming finals.', \"We're willing to give away TWO Steam games from this list:\\nKilling Floor|$19.99|\\nMove or Die|$14.99|\\nElse Heart.Break|$24.99|\\nStronghold Crusader 2|$49.99|\"], [3, 2]], 't3_5y4kd8': [[\"I'm in western Washington, got pretty much any pizza place around.\", 'I just need some help getting through the day...'], [3, 8]], 't3_m9h42': [[\"My wife and I really miscalculated and I didn't realize payday for me is not until the 15th which is a tuesday.\", \"We'd really appreciate something to get us through the weekend.\"], [3, 8]], 't3_2eksmt': [[\"Less than a dollar is in my name until payday which is this Thur (8/28) and no food in my place....if I got pizza'd, I would use it sparingly throughout the week.\", \"Once I get paid, Ill repay whoever pizza's me.\"], [5, 2]], 't3_7ixlq1': [['I live off campus and money is extremely tight right now.', \"Finals are coming up and I've been working on a 5 page essay all day on an empty stomach :\\\\ \\n\\nI'd really appreciate any help\"], [3, 3]], 't3_7w1quy': [[\"I haven't been able to work in 4 days due to a series of unfortunate events with my car, and we would love to eat something more than ramen or peanut butter, so any help would be much appreciated.\", \"The closest pizza place to us is Dominos, and I'm in the US.\"], [3, 3]], 't3_501i39': [[\"I have no money for food due to mistakes I made with class textbooks and I don't get paid from my part time until Friday.\", 'Any help would be greatly appreciated'], [5, 9]], 't3_2of1kd': [[\"I'd really appreciate anything\\n  \\n \\nListen I have a lot to pay forward but this sub will be added to that list if someone feeds me now when I'm in need.\", \"I'll do whatever you want, post a selfie with my pizza, draw a picture, write a story, just help a girl out please\\n \\nI've been at work since 8am\\n \\n\\nKy/usa\"], [1, 2]], 't3_4puqgs': [[\"I had plans of donating plasma today bit was told my veins are too deep and wouldn't be able to withstand the pulling and pushing of the machine so I was unable to donate.\", \"My kids have been living off of peanut butter toast and mac and cheese and I would love for them to have something different tonight, I'm trying to feed the three of them; I'm not as concerned about myself as long as they get to eat.\"], [3, 3]], 't3_2n7t4i': [['I have a coupon code for Papa Johns for half off an order if that is helpful.', \"I want to treat my kids for being so great lately with everything that is going on, but don't want to use their birthday money to do it.\"], [3, 8]], 't3_3zndal': [['Any help would be great.', 'Thanks.'], [9, 9]], 't3_79f5r6': [['Tell me three things that scare you.', \"I'll write you a spooky pizza story with a twist.\"], [3, 2]], 't3_iaaw6': [['No Sob Story.', 'I am at work and all i have it the chicken the turned rock hard in the fridge...'], [3, 3]], 't3_157g5c': [['Really need a pizza been eating ramen.', 'and the occasional kraft dinner.'], [3, 3]], 't3_7d563s': [[\"Just got back from the hospital for the second day in a row with my clumsy toddler, and I'm honestly too tired to cook after the days we've had, if someone could get us a basic pizza from wherever I would be so grateful!\", \"We're based in Manchester in England if that's of any use\\n\\nThank you in advance!\"], [3, 6]], 't3_74pxsn': [['Just paid rent, all pets and child have food.', 'Looking for pizza for dad, mom and of course 9 yr old  :) \\n\\nThank you !'], [3, 3]], 't3_19nobm': [['All I have is canned soup and ichiban noodles in the house.', 'about 1 foot of snow fell on Southern Alberta over night, drifting to 3 feet, and I have yet to dig out my car or clear the driveway to go get groceries.'], [3, 3]], 't3_70xuvw': [['Ive been trying to find a Job and even ended up pawning my laptop  to be able to pay for books/some food but im out of funds for a few weeks.', 'It would be nice to have an uplifting pizza  to help me through exam week.'], [3, 8]], 't3_n6oq8': [['time for giving but gave to much now im broke myself: I recently had bought toys to give away at toys for tots anad it comes down to it i spent over 100 dollars i had left anticipating of getting paid today and guess w hat happens, I go in and lose my job becuase of labor cuts.', 'PLEASE help me feed my siblings tonight sincelry your dear redditor \\nPS will send pic with pizza and siblings'], [3, 8]], 't3_3zd25i': [['This would be so awesome and would blow her mind.', 'Thanks!!!'], [8, 9]], 't3_15995m': [[\"I'm just looking to get a pizza.\", 'I will pay it forward on Thursday when my check comes in.'], [3, 2]], 't3_2wh8w4': [[\"She's coming a long way to visit me in a very cold town.\", 'It would be swell if someone would buy us a pizza.'], [3, 8]], 't3_og9j0': [['Much love to the reddit community!', \"I just discovered this subreddit and I think it's a great idea!\"], [9, 9]], 't3_8at4hv': [['Currently have a few bucks and just seeking some food on Sunday.', 'Any help would be greatly appreciated.'], [3, 9]], 't3_2m1a82': [['$4 until next Friday.', 'Anybody care to help?'], [3, 9]], 't3_aczvki': [['If anyone could help a brother out it would make my day.', 'I live in Manassas, VA.'], [8, 6]], 't3_4cdky0': [['Electric bill took the last of the cash.', 'But one large pizza could take care of my hunger for three days.'], [3, 8]], 't3_4czbj9': [[\"I live in the UK, have dominoes and pizza hut near me, it's 2:15AM, April 2nd.\", \"LET'S GO!\"], [3, 9]], 't3_1mluew': [[\"Would love some grub as I'm in the process of moving out.\", \"Last bit if my check went to final months rent but fuck all that, a free pie would make anybody's day.\"], [3, 3]], 't3_1mjhmr': [['Hello all my truck was in the shop for a few days and made no money and would really enjoy something hot for the first time this month.', 'I can in exchange send you pictures of all the states I go through.'], [3, 2]], 't3_67ssi9': [[\"I know it's getting late here but I don't have money to go grocery shopping until Friday, and was hoping someone could order me something?\", \"There's Papa John's, Pizza Hut, and Dominos here\"], [3, 2]], 't3_3pb1sk': [[\"My parents aren't home amd there's nothing to make anything in my fridge.\", 'could someone order me a pizza?'], [2, 9]], 't3_9w0v82': [[\"Hey it's me and my lil bro at home, tonight my mom went to her boyfriends w/o leaving any money, I am 19 and work retail and my lil bro is 11, my mum doesn't really grocery shop so she'll normally pick something up on the way but today nothing, she told us she'd be back in the morning and to watch my little brother, I live in Las Vegas and have a Pizza Hut and dominos nearby that can deliver.\", 'Ty for ur time.'], [3, 9]], 't3_l3s5x': [[\"I went and hit the punching bag after I realized the date wasn't showing.\", 'Grrrr...'], [3, 0]], 't3_7yoiih': [[\"I'm taking my nursing school exam this Friday and have asked for the week off of work to prepare... not only for my exam but I have my other coursework that needs to be turned in.\", 'Funds are a little low after car maintenance and feel like a pizza could lift my mood from all the stress... in Texas, dominos and Pizza Hut are nearby.'], [3, 3]], 't3_9pzhpt': [[\"This has been a hard week mental health wise and work just kicked me over the edge today :( \\n\\nIf you're going through hard times as well, I hope you're treating yourself well.\", \"*internet hugs* \\n\\nSo Cal, Domino's and Papa John's nearby.\"], [7, 3]], 't3_1wxk9u': [['My dad and I would appreciate a pizza right now.', 'Clarksville,tn 37040'], [9, 3]], 't3_1gxmkx': [['Since bank of america is bad at being a bank, they canceled my old debit card without sending me a new one because they may or may not have leaked some information regarding my account.', 'So now here I am left without any means of acquiring food for the next couple days and a pizza pie would be really nice.'], [3, 3]], 't3_103w8n': [[\"I've been in school for a few weeks and my food stores are running low, and can't be filled up again until my loans come in.\", \"If somebody can gift me a pizza today I will 'today you, tomorrow me' this weekend!\"], [5, 2]], 't3_1me64e': [[\"I used to work in one but recently was laid off after we went bankrupt &lt;/3 Haven't had one of their slices in awhile and I would LOVE to get some good luck today!\", 'Please and Thank you!'], [3, 9]], 't3_11n72r': [['Me and my roomate are out of cash and food, I will get more cash next week but It would be amazing if one of you would send cash for a pizza.', \"(We live in Latvia so I don't know if you can send a pizza directly.)\"], [5, 3]], 't3_8qtgqn': [[\"They don't have their kitchen put together yet so I'm sure a couple pizzas would help them out so much!\", \"I'd usually do a home cooked meal for them but the military screwed up our pay and we have just enough food for us til Friday.\", 'I would just like to pass a blessing along to people who could definitely use it.', \"I remember being in that position 10 years ago (we're a navy family too) and an act of pizza would have rocked our world!\", 'I will be happy to pay it forward on Friday when we get paid (with proof).', \"None of this pizza is for me (and I will be happy to privately prove I'm giving it to them).\", \"They just got here, cross country, on a small advance from the Navy and are waiting for Friday's payday just like we are.\", 'We did all we could physically to help them unpack and watch their baby while they get situated.'], [3, 3, 2, 3, 2, 1, 3, 3]], 't3_w3zne': [['We met in real life shortly after, and became the best of friends very fast.', 'About 3 months into hanging out, my ex-girlfriend called me while we were hanging out at my cabin, and I got upset because the ex was saying terrible things.', 'To rectify this, Dave thought she should kiss me, and she did.', 'Things went from best friends to Relationship pretty fast.', \"I know I am in no way original or the most deserving of a pizza, but basically, here's my story:\\nI met a girl awhile ago.\", \"We'll refer to her as an 80's metal musician.\", \"Let's say, Dave Mustaine.\", \"Dave and I started talking over a social media site, but for vagueness, we'll say headnovel.\"], [3, 3, 3, 3, 3, 3, 0, 3]], 't3_lm901': [['Not really asking for much.', 'Anything you can offer would be amazing.', 'If not, at least go give someone else something!', 'Thanks everyone!', 'Today is my birthday and I would love - more than anything - to have some pizza with my friends.', 'I go to the University of Texas at Arlington.', \"I don't really plan on doing much today aside from chilling and hanging out with my friends.\", \"I know that there are other people who are more deserving than me, but it's worth a shot to ask, right?\"], [3, 9, 2, 9, 3, 3, 3, 3]], 't3_6xfgeo': [['They say my transmission needs to be replaced.', 'Not sure if i trust them enough or if my car is worth enough to pull the trigger on paying an obscene amount to swap the transmission out.', 'Made the poor choice to pull an all nighter to finish a video edit, drinking cups of coffee having not gone grocery shopping in a few good days.', 'Last time i pulled one of these was in college and i forget how much it sucks you dry.', 'Just stumbled upon this sub recently.', 'Sounds like a cool idea and would love to pay it forward.', 'I am currently \"stranded\" at home.', 'Car is immobile and at the shop for the past few days, which has left me out of my day job for the past week as it requires constant use of my car.'], [3, 3, 3, 3, 3, 2, 3, 3]], 't3_25taic': [[\"So now I'm craving some tasty food, and since I'm distracting myself enough from revision with Reddit enough as it is, I thought I'd post here and see if one of you guys could help me out!\", \"I promise if I get help I'll knuckle down harder to my revision!\", \"EDIT: [Proof that I'm revising!\", \"](  )\\n\\nEDIT 2: Forgot to say what I'm offering in return!\", 'Hi all you friendly people!', \"So, I'm currently sitting my final exams for my Computer Science with Software Engineering course.\", \"After 5 years (Year in Industry and Undergraduate Master's) of this course I'm on my last set of exams ever but I'm also down to very little money, all my savings are gone.\", \"My cupboard is pretty empty, and my girlfriend's just let me know her family took her out for dinner tonight.\"], [3, 3, 1, 2, 9, 3, 3, 3]], 't3_3zmur5': [[\"I'm just looking for a little pie for me and my little one.\", \"There's a little Caesars across the street I could walk to for a hot and ready.\", 'I believe this is the cheapest way.', \"Husband went to a friend's for a nerdy board game night, and I just want to snuggle up to my tiny beast and share some comfort food.\", 'Edit- friend brought dinner over.', 'No longer needed.', 'Thanks!', \"(I posted this in the other sub as well because I'm not sure the difference, so I will mark as received if I get one from either sub thanks!)\"], [3, 3, 3, 3, 3, 0, 9, 3]], 't3_sybz5': [['More importantly, they would now be inclined to participate.', 'So, yeah.', 'No one is needy/broke etc, I just wanted to start of a chain of action from our Table Top Adventurers.', ':)\\n\\n**Edit: I have no idea how to clarify that this is no longer needed since the time past.', 'I have friends who come over every Sunday for our weekly table top.', 'We always order food or cook a meal for the group.', 'None of us are needy, but I see a potential to get them involved with RAOP.', 'If pizza shows up at our game with no knowledge of the players, it would be \"magical\" and would make them all aware of the RAOP.'], [3, 0, 3, 3, 3, 3, 3, 8]], 't3_3fgh3h': [['I really want some pizza.', 'I live next to a Dominos and a local pizzeria business (Joe\\'s Pizza, voted \"best pizza in dayton\" a dozen times in the past 15 years).', 'Would anyone like to help me belatedly celebrate my birthday and possibly help a local business?', 'Or if easier, hook me up with some Dominos?', 'Started a new job recently and my second day was my birthday last Sunday.', \"I've worked everyday since.\", 'Today is my first day off and I have almost no food, just some ramen, potatoes, a bag of frozen broccoli and a bunch of condiments.', \"I don't get my first paycheck for at least another week.\"], [3, 3, 9, 3, 3, 3, 3, 3]], 't3_sxbtk': [['I PROMISE to pay it forward when I get moved in back home!', 'Any one want to help a girl out?', 'I would be forever in your debt!', 'I cannot tell you how much it would mean to me.', \"I'm in the middle of moving and have one more day before finals week starts.\", \"It's safe to say I'm going a little stir crazy.\", 'But mostly I would just really love a simple old pepperoni pizza.', \"I've responded to a few offers and haven't had any responses.\"], [2, 9, 2, 8, 3, 3, 3, 3]], 't3_4ur21v': [[\"I'd love something a bit more solid.\", 'I get paid Friday and can return the good karma then.', \"The only places that deliver to my area are Papa John's and a place called Mr. T's.\", \"Pizza Hut near me just closed and there isn't a Dominos near at all.\", 'Posted before and got no response.', 'Probably due to very limited pizza delivery places in my neck of the woods.', \"But can't hurt to ask again.\", 'Been running on soup and whatever is ripe in the garden.'], [3, 2, 3, 3, 3, 3, 0, 3]], 't3_8qmooi': [[\"I'm willing to prove whatever you'd like from me as well.\", 'I will happily draw you a picture too.', 'Anything you want.', \"I'm in the 14120 zip code, I have a Little Cesar's, Papa John's and Pizza Hut relatively close that I can walk to as nobody delivers to this address.\", 'Hey everyone,\\n\\nI realize my post history looks kind of bleak at the moment but I finally got a little bit of a break job wise, but everything else went to hell on me.', \"I have absolutely no food and won't until Friday at the earliest.\", \"I just got moved into a new apartment, and unfortunately there really isn't much in the way of food assistance I can get at the moment.\", \"Friday is my first payday in ages, and I'm willing to pay it forward if someone can just help me out, I can make pizza last a while with leftovers and whatnot so I can at least eat until then.\"], [1, 2, 2, 3, 3, 5, 3, 2]], 't3_iw91m': [['i was a stay at home mom, but now i am looking for a job so that me and my kids can get toiletries and basic supplies.', 'my parents are still in the picture, but they dont understand why i dont try to reconnect with my husband, who i havent even spoke to and cannot find.', 'they sent my children diapers, but im low on those now.', 'all i am looking for is pizza for tonight it would make my kids day and cheer them up.', 'this is my first time on this site, but i thought i should give it a try because i am really struggling.', 'my husband of 4 years walked out on me and the kids almost a month ago.', 'he got a new job and just up and left.', 'we had a joint bank account and that all that has been feeding me and the kids, but now he transferred most of the money out of it and we have nothing.'], [3, 3, 7, 8, 3, 3, 3, 3]], 't3_3m40e5': [['We have been eating small meals and basic stuff for ages and have not gone out or ordered since July.', \"This is usually fine, but today, I had to spend a few hours on the bus/train and walk around in the rain to go to interviews, plus I was gone over lunch time and there was not anything I could pack with me that didn't need a microwave, so I didn't eat anything until I came home just now.\", 'And what we had to eat was just a leftover serving of instant potatoes.', 'Between running around and the delay in eating the lunch today, I am still really hungry, but all the other food is budgeted so that we can make it to Friday and still have food other times.', 'This is so embarrassing, but I am actually (almost) a bona fide lawyer.', 'I find out if I pass the bar the first week in October, and I had two interviews today and have another on Tuesday.', \"Which is great, but because I am job-searching, most of our money goes to rent, the car, and our pets (they are rescue animals so we don't want to abandon them again).\", \"I don't have the wealthier background a lot of young lawyers do, so we can't rely on my parents, and my spouse's family is even poorer.\"], [3, 3, 3, 3, 3, 3, 3, 3]], 't3_1hplyt': [['When I first was diagnosed, I tried to eat gluten-free pizzas - they were all absolutely terrible, and I just gave up.', \"I'm appealing to you guys, now.\", \"**Pizza used to be my favorite food, and now I can't eat it.\", '**  I live in Brooklyn, NY.', 'So, last summer I was diagnosed with Celiac Disease.', \"It's an autoimmune disorder where the body freaks out over gluten, a protein in wheat, barley and rye (And most processed foods, due to cross-contamination in factories).\", \"Since then, I haven't been able to eat most breads, nor gluten-free foods processed in facilities where they might have gotten contaminated by something that contains gluten.\", \"Obviously, this means pizza's out.\"], [3, 3, 3, 3, 3, 3, 3, 3]], 't3_9fvpdu': [['My account balance says think again.', \"I've never done this before, and the instructions encourage askers to trade something.\", 'My talents are limited, but I can write you a limerick, draw you a stupid picture or send a photo of my evil cat.', 'Thank you pizza gods', 'There we have it.', 'I have a roof over my head and a shirt on my back for which I am grateful.', \"But fuck me it's been a long and exhausting week.\", 'I would absolutely love a pizza right now.'], [3, 2, 2, 9, 0, 3, 7, 3]], 't3_ak53ou': [[\"If anyone can lend a hand it'd be greatly appreciated.\", \"I know it's a lot to ask, seeing as how there are five of us in total.\", \"But I figured it wouldn't hurt to try!\", 'I hope you all have a great evening.', 'Hello everyone, I lost my job just before Christmas, and things have been kinda tight around these parts.', 'Bills take priority, and all.', 'Decent paying jobs are seeming farther and further in between.', 'The kiddos (3), asked for pizza for dinner, but the bank balance says otherwise.'], [9, 3, 3, 9, 3, 3, 3, 3]], 't3_86xh59': [['If anyone can help, I would gladly appreciate it!', 'Also I can draw you a little pizza doodle it you want!', \"I'm located in MI, USA, btw.\", 'Thanks in advance!', \"Hey guys, so it's Saturday night and I have nothing to eat right now.\", 'My dining hall closed at 5pm, there is nothing in walking distance around me.', 'Of course, even if there was, I have no money.', \"I'm really hungry and I can't sleep it off unfortunately.\"], [9, 2, 3, 9, 5, 3, 3, 7]], 't3_i2sdq': [[\"The reason why I even mention this is so you know I'm a real redditor and not some random outsider trying to exploit your generosity.\", \"I'm not using my real account name for reasons I will thoroughly explain if you IM me.\", \"Even if you don't plan on helping me.\", \"Finally, what I **can** explain here in the open is this: I've lost 15lbs in ~1 week due to not eating.\", 'First things first, this is a sock puppet account.', 'Second things second, I do have a reputable **real** account and I will talk to you on that account if you private message me first on this one.', \"I'm the creator/mod of a top 50 most active subreddit (according to [subredditfinder](http://subredditfinder.com/)).\", \"It's also in the top 100 in most subscribed, fastest rising, and other categories.\"], [1, 3, 0, 3, 3, 1, 3, 3]], 't3_7s3pib': [[\"Thank you to everyone who makes people's days/nights better with such a kind gesture.\", \"If I'm lucky enough to get one, a thank you photo will for sure follow.\", 'EDIT: the post reminded me, I have Extreme Pizza, Dominos, and Pizza Hut in my area.', \"Also I noticed people posting their zip codes so I figured I'd add it if I missed needing to post it: 94928 (Northern California)\", \"I feel embarrassed begging or giving a sob story (I am in need, but feel like I'm guilting people into feeding me (which I have zero issue with others explaining their situation, just a personal thing)), so I'd like to forgo that and in an act of theme-ing since I'm re-reading ADWD as we speak, wanted to stare into the fires of Reddit and see if I could find a Lord of Light to bring me some joy during this cold winter night.\", 'The pizza that was promised prophecy, I hear it was born amidst feta and smoke.', \"I am a fan of the TV Show, but I'm obsessed with the books.\", \"I very much appreciate and take the subreddit seriously, but again even though I'm having issues listing them in hopes it will get me a pizza over someone else here with either the same kinds of problems or worse made me feel uncomfortable.\"], [9, 2, 3, 3, 3, 3, 3, 3]], 't3_1lsr9x': [[\"I was saving a little aside for his birthday, but unfortunately since I work on commission, it didn't come through the past two weeks.\", 'I only had money to pay bills and rent.', 'I was hoping anyone that had a spare moment and some cash could help me buy a pizza for him this afternoon.', 'We can even consider it a loan.', 'Hi all,\\n\\nMy fiance dreads his birthday.', 'I was really excited to make it the best birthday I could.', 'Unfortunately, the cards did not fall that way.', \"Recently we've been going paycheck to paycheck with the little we have over going to food, and lawyers fees (custody battle).\"], [3, 3, 3, 3, 3, 3, 3, 3]], 't3_1uq11l': [[\"Not sure what the hell I'm going to do about that.\", 'I may be able to return to my job as a server in a couple of days, but I sure could use some food to tide me over until then.', \"I sold an item on eBay, but now that person is telling me they won't be able to pay me for two weeks.\", 'Wonderful.', 'I broke my arm Christmas Eve.', \"I haven't worked since then.\", 'I just got back from my first check up with my orthopedic surgeon, and he says everything looks alright.', 'However, I just received a medical bill for my anesthesia yesterday for $1440.'], [3, 3, 3, 0, 3, 3, 3, 3]], 't3_7cssos': [[\"Then he drops the bomb that he can't afford me anymore.\", 'I am not this person.', \"I'm not.\", \"But I don't have parents to turn to or friends to help me out.\", \"Look, I don't even know how to go about doing this.\", \"I've never been caught so bare as I am currently.\", 'My employer let me go Friday after barely four months of working there.', \"And I have been so aggressive with paying my debt down that I don't have a savings to fall back on.\"], [3, 3, 0, 3, 3, 3, 3, 3]], 't3_1d14ic': [['I can do electronic, hip-hop, blues, rock, doom metal, black metal, world/ethnic, orchestral pieces, 80s synth pop, ambient, almost anything really.', 'If desired, I could sing a name, tagline, or slogan and do it jingle style or even use crazy robot voice effects.', 'I could also mimic a specific artists style.', '[Here are some examples of my production.', 'Ive been eating nothing but rice and when im lucky ramen for almost 4 months now since being laid off from my computer repair gig.', 'I live in Alaska where the economy and culture is about 4-5 years delayed from the rest of the US so the recession is only now starting to really take hold here, as such Ive been unable to find any regular work even at any of the typical franchised fast food joints.', 'BUT I can make music, so if there is any kind of song you have ever wanted to hear or have made for yourself, a loved one, a personal project, or perhaps a video or web-series of yours; tell me about it and I will make it happen for a pizza.', 'Preferably a pizza with meat on it, I literally have dreams of meat and cheese these days.'], [3, 2, 2, 3, 3, 6, 2, 3]], 't3_7q15ak': [[\"I can't cook or store any food in this situation.\", 'I would LOVE a change of pace.', \"You don't even have to deliver, I'd go pick it up.\", \"Couldn't tip the driver anyway.\", 'Hi Reddit.', 'As the post says, I am currently homeless and sleeping in my car.', \"I'm looking for work, parked next to Wifi, hoping from spot to spot.\", \"I am down to the change in my console and have been eating nothing but dollar store beef stew and Kroger's daily bread for the past 2 months.\"], [3, 3, 3, 3, 9, 3, 3, 3]], 't3_6z5t90': [[\"A bit of an update, I won't be able to get food until Tuesday.\", \"My TAP card (which my housing program gave me) had a bit of an issue and can't be used until then.\", 'Meaning, no food bank.', \"[Here's a link so you think I'm pulling a sob story here](  )\\n\\nOkay, I guess I have to make this longer or give an essay on what pizza means to me.\", \"I'm sad and hungry with nothing in the cupboards.\", \"It'll get better later on in the week at least.\", \"There's a Dominos near here.\", 'I live in LA btw.'], [5, 3, 3, 1, 7, 3, 3, 3]], 't3_yh0nz': [[\"We don't really ever leave the house, and she has been not feeling well the past few days.\", \"So I'm kind of insane from no sleep/ constant crying.\", '~[`_°]~ ...', \"I'm not starving, we have some plain rice and spinach, but a pizza souneded amazing and money is very tight until I start work again.\", 'hello:) I never knew about this place!', 'you guys seem awesome.', 'Well I just had a baby almost 2 months ago.', 'Also my car just broke down.'], [3, 7, 0, 3, 9, 9, 3, 3]], 't3_3nrqdm': [['Anyway!', 'Yeah, there is no sob story here.', \"We paid our rent this past Friday, we got groceries, and we filled up the cars with gas to last us for the next 2 weeks until we're paid again.\", \"Needless to say, we aren't in desperate need or anything.\", \"We're located in upstate SC, and the only place we have is a Pizza Hut and they don't deliver (blah!)\", \"We've given quite a few times before, and we've received twice before.\", 'The last one received was a long time ago, maybe almost a year or something?', \"Not sure, but it's been awhile!\"], [0, 3, 3, 3, 3, 1, 3, 0]], 't3_849gtd': [['After 6 consistent days, I received reddit gold for one of the answers I provided for someone!', 'This was an awesome achievement and greatly motivates me to continue on with my current goal.', \"That said, I've used this service before and was hoping it would come through once again.\", 'A pizza would be greatly appreciated, but is in no way expected.', 'Hey guys!', \"So for the past week and a half, I've been getting serious in my pursuits of becoming a life coach or therapist of sorts to help people achieve greater things for themselves.\", 'In this pursuit, I took to r/getdisciplined and made the commitment to answer at least 1 question everyday.', 'Both to help someone out who feels lost, while also getting better at explaining personal philosophies and experiences that have helped me better myself.'], [3, 3, 3, 9, 9, 3, 3, 3]], 't3_29xdai': [['I think a surprise pizza would get him out of bed.', 'and make me feel a little better.', \"EDIT: He's still in bed 3 hours later.\", \"Dominoes/Pizza Hut E-gift cards are the easiest as they're within walking distance for me, but we do have a Papa Johns in delivery range.\", 'Not having a good day.', 'Check we were expecting last week (that we kinda need.)', 'is a week late-- we believe it may have been stolen at this point.', 'Hubby is depressed and appears to be attempting to stay in bed all day because of it.'], [8, 8, 3, 3, 7, 3, 3, 3]], 't3_7asbim': [[\"New to this sub so I'm sorry if something is formatted wrong.\", 'Edit: I forgot to say fuck student loans and health care debt.', \"Edit2: I'm in WI in the USA.\", 'I have Pizza Hut, Dominos, Marcos, Toppers, and Papa Johns near me.', \"My roommate is out of town with family and hadn't paid their share of rent.\", \"My dad, now in the hospital, rents the basement, but hasn't worked weeks and also hasn't paid his share of rent.\", \"After covering their asses this early in the month it's either gas for work or a decent meal.\", \"I have some ramen noodles, crackers, jelly and some pancake mix along with random canned food, so I'm not gonna die, but I'd really love a real meal before Friday.\"], [9, 7, 3, 3, 3, 3, 3, 3]], 't3_9lm6sk': [[\"On Friday nights, we have a tradition -- my kids are allowed to watch a movie and we eat pizza -- it's the only night of the week they get to do either; an attempt to give them some predictability.\", 'Unfortunately, [pending my October student loan payment to post](  ), [I will have $11 in my bank account](  ).', \"On top of that, with the late hour of the interview, even if I had the money to buy a take-and-bake pizza from Costco, I wouldn't have time to pick one up, before I get the kids from after-school (because of my interview).\", \"*Help me, Random Acts Of Pizza, you're my only hope*.\", \"**My life has become surreal**: I was forced out of my job in August, I'm in the midst of a separation (NC requires 366 days, which will be October 15, before you can file), [my unemployment claim was denied](  ), [my student loan payment doubled in August for reasons they won't explain](  ), [a scratch on my cuticle has become a month-long infection of my ring finger that has cost me $500, so far, and could lead to amputation](  ) (I don't qualify for healthcare subsidies because of last year's taxes and without unemployment, I don't qualify for medicaid), if it doesn't clear up, my car recently died (I fixed it - $600 in parts) and my not-yet-ex-wife was diagnosed with breast cancer two weeks ago, today.\", \"*Frankly, if I wasn't living it, I wouldn't believe it was happening*.\", \"**Things aren't all-bad**: I had a job interview on Tuesday and they've asked for a second-round, next week; I have a different interview today, at the end of the business day.\", 'My kids (6 and 9) are healthy (they don\\'t know about the cancer yet) and I should be able to cover my mortgage, before it becomes \"late\" on the 15th, because I\\'ve dipped into my retirement, just waiting for the deposit, sometime, next week.'], [3, 3, 3, 9, 3, 3, 3, 3]], 't3_258gx9': [['(Pizza hut, dominos, papa johns.)', 'There are three adults and two hungry kids.', 'Anyone who doubts my story can check my history to get a better idea of our story.', '(Check my popular submitted posts) Thank you for reading.', 'Long story short, my disabled mothers rent check bounced due to some emergency hospital bills and my sister and I pooled our resources to keep her from getting evicted.', 'Problem is that nobody has any money for anything until next Friday.', 'Pizza would be an awesome thing to brighten up this day.', 'There is a Mazzios across the street, and a brothers pizza (no online ordering) next door, but all the major chains are close by.'], [3, 3, 1, 9, 3, 3, 8, 3]], 't3_729zmh': [['Except for times like these when said clumsiness (d?', ')evolves into my convenient little wrist bag  fly off my wrist and tumble down the mountain...in what can only be described as heartbreaking slow motion.', \"So I'm stuck.\", 'Park Rangers were very helpful with bandaids for my knee and the front desk was gracious enough to provide me a replacement key-free of charge.', \"So, I'm in a hotel in Palm Springs, Ca.\", 'Just kinda kicking it while my kids get to spend the wknd with their dad.', 'Decided to go explore a bit, the mountains and scenery are beautiful and the triple digit temps have faded, thank the Gods!', \"Now, I'm simply a clumsy person but I don't let that stop me.\"], [3, 3, 3, 3, 3, 3, 3, 3]], 't3_95yduk': [['Or, if requested, I could also attempt to compose a pizza themed poem that follows the above mentioned stipulations as well.', \"Sorry if I don't respond to anyone until perhaps after 6:45pm or so Eastern Standard Time due to work (can't have phone on the floor and the internet is super locked down).\", 'I may be able to sneak onto my phone during my next break.', \"We'll have to see.\", 'First paycheck from my new job hits not tomorrow but the following Friday.', \"Would gladly accept some Dominoes or Pizza Hut (it's what in my area) to grab on my way home this evening.\", \"Will draw, quite terribly (not on purpose) whatever you require of me on the pizza box for my verification post so long as it isn't, you know, racist, sexist, misogynist, etc.\", 'Nothing overtly offensive.'], [2, 3, 3, 0, 3, 3, 3, 0]], 't3_2e86qx': [['We would REALLY appreciate it.', 'I live in Lapeer, Michigan.', 'I will try my best to definitely pay it forward when I can.', \"I have given a gift to someone before on another sub, and I'd love to give a pizza away when possible.\", 'Hi there!', 'I just found out about this subreddit.', \"There's nothing in my house but noodles, but there's no sauce or anything.\", \"My girlfriend and I and my mother haven't eaten anything all day and that's all we've got and we really cannot afford to order a pizza.\"], [9, 3, 2, 2, 9, 3, 3, 5]], 't3_3gndje': [[\"Unfortunately all of our spare money goes into the business and something like pizza isn't in the budget.\", \"I would love to pick up pizza or pasta on my way home this evening, I know it would absolutely make my wife's birthday and frankly it would move me to tears to see her smile.\", 'When our business takes off, you will see me return to repay the happiness afforded to my family previously and hopefully today.', 'We are in the Denver area and will eat pretty much anything, no complaints here when it comes to food.', \"Hello,\\n\\nI know this is a long shot, but tomorrow is my wife's birthday.\", 'In the last eighteen months, we relocated for my health and it cost our family dearly financially.', 'My wife works sixty hour weeks and I myself have been doing close to a hundred working to restart my small business.', 'In September we have a massive show and we have been crazy busy preparing for it.'], [3, 3, 2, 3, 3, 3, 3, 3]], 't3_1j4f8b': [['I seriously hope it works.', \"We've been trying to get regular birth control for *months,* but all we seem to do is struggle with the insurance company.\", 'Just a little good news would be nice.', 'Even if it\\'s just \"yes I\\'ll buy you a pizza.\"', 'I run a struggling small business in southwest Ohio.', \"Things aren't going so well, but I'm pretty certain once I get a nice clientele they'll ease up.\", \"I live in an apartment with my girlfriend... between the two of us we struggle to pay for food, and suddenly I have a terrible cold (my fever just broke 100 degrees, and I've had fluid in my lungs a couple times... hoping it's not walking pneumonia), meaning working is impossible for me.\", \"On top of that, just before the cold we had a condom break on us, so the money that would have gone to a copay to the doctor's office instead went to buying a morning after pill.\"], [3, 3, 3, 3, 3, 3, 3, 3]], 't3_a0popk': [[\"You can see my post history that I've been here for a while.\", \"I've pics and personal information so I'm not trying to scam anyone.\", 'Just throwing feelers out for them where ever I can think to ask to see if any help comes from it.', 'Thanks!', \"I don't have the funds to help my friend but figured there was no harm in asking here.\", 'Worst that comes from it nothing happens.', 'Best that comes from it they get pizza.', \"The family is a grandma, her daughter and her daughter's 4 kids.\"], [1, 1, 3, 9, 3, 3, 8, 3]], 't3_77pzzy': [['I would greatly appreciate any help!', 'Thank you!', 'Edit: Forgot to include, this is in the US, Oklahoma specifically.', \"Pizza Hut or Domino's would be fine.\", 'Hello!', 'This is my first time posting here.', \"My girlfriend is unemployed and was recently kicked out of her grandfather's house.\", \"She's looking for a job but for right now but I'm hoping someone here could help her out on the food front.\"], [9, 9, 3, 3, 9, 3, 3, 3]], 't3_30vm1l': [['Need some IT work done, remotely?', 'I also root phones.', 'I can also pay it forward then.', 'I posted in both subs.', 'I screwed up and overdrew my account when paying a bill.', \"Haven't eaten since saturday evening so I could use a pizza to help the next three days move by without the hunger pangs.\", 'This would help me out tremendously until I can pay my fees and go by groceries.', \"I don't have much or much to offer but I am extremely tech savvy.\"], [2, 3, 2, 3, 3, 5, 8, 3]], 't3_1jart1': [[\"You wouldn't guess it by looking at us but we could eat a pizza a piece if some generous member ofr royalty had that kind of money to patronize us with.\", 'This is barter town, and we are 100% willing to work!', \"Please take a chance and send us a PM, you won't regret it!\", 'sorry this sounds so much like an advertisement, we are super hungry and the thought of pizza hut is making us a liiitle bit crazy', 'Hello,\\n\\nWhat would you like in exchange for a Pizza Hut gift code?', \"We'll take pictures of whatever you can think of, draw, sing, make fools of ourselves in whatever way makes you happy.\", 'We are super hungry!', \"We have seven bucks but no gas, so we could walk to Pizza Hut and spend seven bucks on something, but I know it won't feed both of us.\"], [3, 3, 9, 3, 2, 2, 7, 3]], 't3_346pug': [['Not a great artist, but if you want me to draw something for you, I can try.', 'I can also crochet, and do other crafting related things, so I could maybe make you a hat or something.', 'Any help is appreciated!', 'Thanks in advance.', 'Broke college student studying for finals, that has $0.13 to his name at the moment.', \"Haven't had luck finding a job, yet.\", \"Once I get a job and some extra money, I'll pay it forward.\", 'I just want some food other than rice or ramen for once.'], [2, 2, 9, 9, 3, 3, 2, 3]], 't3_3sr0g8': [[\"It's cold, I just got home from a *long* day and I will definitely stretch it out as I'm definitely a bit sparse until my first check!\", \"I've received here once quite a while back through a contest and will certainly be a different kind of frequenter once I get settled in this stellar job.\", 'I hope you all are having a wonderful evening despite a rocky day around the world.', 'Thanks :)', 'Howdy folks,\\nAfter being laid off from my last job - much to my dismay at the time, as I adored the place and the people - I have spent the two weeks since applying to every place in my immediate area.', 'Being so close to the holidays, I was worried I would not be able to find a position at all, nonetheless one I would be happy with.', 'I lucked out *big time* and scored a wonderful position that not only pays better and offers better hours, but where I can already tell I *love* the people.', 'In celebration, it would be really amazing to have some warm food tonight!'], [3, 3, 9, 9, 3, 3, 3, 3]], 't3_7hfd1w': [['Unfortunately due to my rent being due on the 1st, and my unemployment check not yet processing because of the weekend, I am down to pennies in my account, along with an empty fridge.', \"It's just myself, I don't need much, but a warm pizza could really cheer me up tonight.\", 'Of course I will absolutely pay it forward the second I can.', \"I'm located in Los Angeles.\", \"Hey everyone,\\n\\nI'm at a pretty low point right now.\", 'I was let go from my job at a small company back in September as a video editor.', \"I've been looking for work ever since but have yet to get past the first interview process.\", 'I do have two interviews coming up a week from tomorrow that I am really excited for, though.'], [3, 8, 2, 3, 7, 3, 3, 3]], 't3_15zo3o': [['So that would be 2 adults and 6 children from 13-5 years old.', \"(I'm leaving myself out as I do not want a meal provided for me).\", 'I know this is a lot to ask for,  but I would be eternally greatful and if things do turn around for me you will be paid back.', 'Thank you in advance.', 'Things changed since I posted a request yesterday.', 'The person that has let me stay at her house needs me out after this weekend.', 'I have lunch for my kids taken care of,  but would love to have some surprise pizza for their dinner as this is likely the last time I will be able to spend a large amount of time with them until I get on my feet.', 'If at all possible I would like to also have some for my friend that let me stay,  her boyfriend,  and her oldest child (the other is too young for pizza).'], [3, 3, 9, 9, 3, 3, 8, 3]], 't3_17kz10': [['My Grammy passed away suddenly from complications from lung cancer on January 11th.', \"Being alone in WA meant a very complicated and extended grieving process as I couldn't get down to Oregon until the day before the funeral.\", \"Came back up and found that on top of my car being broken down, my tire went flat as it sat there completely still and parked meaning I'll have to get it fixed and replace a tire now.\", 'Then yesterday I was on Skype with my boyfriend who is an Airman and already far away in Omaha and he got orders.', \"Hey Redditors,\\n\\nIt has been awhile since I've been on here.\", \"January has been a really rough month and I'm just having a pretty crap day.\", \"Here's how January went for me.\", \"Car broke down at the beginning of the month, which means I've been busing until payday on Friday.\"], [3, 7, 3, 3, 9, 7, 3, 3]], 't3_zj7ws': [[\"I start on Monday and won't get my first check for at least 3 weeks.\", \"I've been so down in the dumps wondering where my next meal would come from or how I would even get it.\", \"I've come from having a furnished living space to bare walls and a dream of being able to support myself again.\", \"I thought about committing suicide because I just couldn't see any end in sight to this.\", 'Throwaway for obvious reasons.', 'So, I finally got a job!!!', 'I really want to celebrate with my friends and keep my spirits up.', 'I would love whoever could hook us up with a pizza please.'], [3, 7, 3, 7, 3, 3, 8, 9]], 't3_i1clg': [['Would make going to work tomorrow so much easier.', 'Reddit is the best!', 'I can PM details and proof if you want.', 'Thanks RAOP!', \"Hey ROAP, I've been lurking here for quite a while and finally have decided to ask for some help.\", 'I am currently about 40 dollars in the hole in my bank account (miscalculation of bills) and hardly any food in the house.', 'I could sure use a fresh hot pizza tonight!', 'I can pay it ~~back~~ forward when I get paid.'], [8, 9, 1, 9, 9, 3, 3, 2]], 't3_lab4w': [[\"**\\n\\nNote: We do not intend on using any sent pizza as a bribe, if there is enough to share with our small class of 15 people (it's an alternative high school) we will.\", 'We believe we have a solid argument and the pizza will be delicious evidence :).', 'Thank you /r/Random_Acts_Of_Pizza for your time!', 'Contact information:\\n\\nIdeal Mini School\\n855 West 59th Avenue\\nVancouver, BC\\nCanada\\nV6P 6H7', \"Good day kind folk of /r/Random_Acts_Of_Pizza;\\n\\nAs stated in the title, my class is holding a debate on the true nature of man, good or evil- myself and half of the class on the 'good' side, the other half on the 'evil' side.\", 'While myself and my peers discussed various properties of our assigned moral alignment, the concept of charity came up in discussion- and some of us being redditors, we immediately thought of this subreddit.', 'It would be greatly appreciated if someone could send us a pizza of any size and type (preferably something generic) around 8:35AM PST, October 13th, and hopefully inspire our pessimistic peers to see past the idiocy and greed omnipresent in our media and wall street and realize that there is such thing as pure human charity.', '**We remain committed to returning the favour to the subreddit as well, to an equal or greater value than the sent pizza :).'], [3, 3, 9, 3, 9, 3, 3, 2]], 't3_4glywh': [['So far water has tasted great but brace yourself, the hunger pains are coming!', \"I guess i'll just be serious and say, my life sucks right now and between the bills and the stress I need help.\", \"Usually I'm the optimistic one but i'd really like to feel that way again.\", 'Thank you for taking the time to read this, have a great night!', 'Hello there!', 'I am currently out of work dealing with multiple bills and  a horrid court ordeal at the moment.', \"I'm in the Houston area and would prefer a job offer but dinner would seriously make my night right now.\", \"All I've got in the pantry is spices and water.\"], [3, 7, 3, 9, 9, 3, 3, 3]], 't3_7jv8cn': [[\"Stealth edit:\\n*friend bought me some food cuz He's amazing, don't want or need any food, thanks!\", \"*\\n\\n\\nSo, let me preface this with saying I *am not* in desperate need of food, I have ramen and while I could add some cash to my meal plan, it's not feasible for me right now as I've got about $20 in my checking account right now and don't want to spend it unless I need to.\", \"Just posting this so I'm not being disingenuous and you know I'll be just fine without pizza.\", '-Anyways, if you\\'ve made it this far and thought \"hell, I could give  an engineering student some pizza\", then yeah, I\\'m an engineering student at a school in Virginia and we\\'ve got some exams coming up.', 'Cheers!', 'Thanks regardless!', 'If you think someone needs pizza more than I, give it to them, dammit!-\\n\\nEdit cuz bot: o yeah, lotsa pizza places around me, cuz college town, like pizza hut or dominos'], [3, 3, 3, 2, 9, 9, 3]], 't3_7l60m4': [['Hey all!!', 'My fiancé and I just bought a house and are in the process of moving in.', \"We've been go-go-going the last 2 weeks to get moved in before our lease on our apartment expires in 2 weeks.\", \"That being said, we would love a pizza so badly, especially because our kitchen isn't unpacked yet.\", 'Both dominos and Pizza Hut are right nearby!', \"Plus, we'll provide cute pictures of our cats and doggo!\", 'Thanks!'], [9, 3, 5, 3, 3, 2, 9]], 't3_l92cy': [['I spend my days making magic for little kids at DisneyQuest.', \"Between car payments and housing, I'm at about 48cents in my back account right now.\", \"I'm hungry and just got home from a nice 10-hour shift and I was hoping someone out there would be willing to feed me.\", \"I'll return the favor or pay it forward anyway I possibly can.\", 'Any redditor in the Orlando area wanna get into Disney for free?', \"I'll hook you up.\", ':]\\n\\n[My Disney name tag](http://hphotos-sjc1.fbcdn.net/hphotos-snc6/264710_1626693143620_1125270824_31873134_8125879_n.jpg)\\n\\n[I get to wear a cool costume too](http://a4.sphotos.ak.fbcdn.net/hphotos-ak-snc6/227890_1573589896072_1125270824_31806294_2054237_n.jpg)'], [3, 3, 3, 2, 2, 2, 3]], 't3_811p08': [['Turns out my long term live in girlfriend was cheating on me and secretly terrible.', 'Had to find a new place and move out quickly, getting set up in a new place is expensive.', \":( I've been living off rice, eggs, and soy sauce for a little over a week now and I dont get paid til next week.\", 'Literally anything else sounds amazing, especially a pizza.', \"I'm in Austin Texas and theres a pizza hut and dominos in my area.\", 'Can send cute chihuahua photos in return (my dog is super super cute).', 'Thanks for reading!'], [3, 3, 3, 3, 3, 2, 9]], 't3_1ct05o': [[\"EDIT: Thanks, I've got my pizza.\", 'Thank you.', 'Pretty self-explanatory, really.', 'This is my first request ever, and hopefully my last.', 'No cash, no cards, and really craving pizza.', 'Any scouse lovers out there wanting to help?', \":) I'd really appreciate it.\"], [9, 9, 3, 3, 3, 9, 9]], 't3_673601': [[\"I lived with my now ex-SO and now that he's gone, I'm stuck paying for everything until I'm able to move as well.\", 'I immediately got a second job, but due to some issues with the paperwork, my start date got pushed back.', \"Paying for rent means I won't have money for groceries or anything else.\", \"I'm extremely broke, still dealing with the break up, and struggling to catch back up in school.\", 'My fridge is mostly condiments, and while I plan to go to a pantry tomorrow, a pizza would be nice to hold me over today.', 'All major pizza chains are near me i.e.', \"Domino's, Pizza Hut, Papa John's.\"], [3, 3, 3, 7, 3, 3, 4]], 't3_3artl9': [[\"Hey all, I am in my first apartment, pretty broke after paying my bills and I don't get paid until Wednesday.\", 'I need to save any money I have for gas money to get to work tomorrow and Wednesday.', 'Would be totally awesome if someone could buy me a pizza.', \"I don't have any special story for you, I'm just a broke hungry dude.\", \"On a side note, I have a gluten allergy and there is a Domino's and Pizza Hut within a mile of my apartment that both offer gluten free pizzas.\", \"I'm not expecting results, but would be very greatful if I received one.\", 'Thank you.'], [3, 3, 9, 7, 3, 9, 9]], 't3_68ogr2': [[\"I'll try to keep the sob story minimal.\", 'My lady of 5 years is pregnant (about 8 weeks?', \"Something like that) and I'm out of work due to a back injury.\", 'We recently had the transmission blow up in the car we owned, but we were lucky enough to have a family member gracious enough to loan us a vehicle.', 'Problem is this vehicle is a MASSIVE SUV and between her job and both of our doctors appointments the gas is sucking us dry.', \"So between the insatiable bottomless pits that are my fuel tank and my girlfriend's appetite (sorry baby) I've been struggling lately, so a pizza would both fill our tummies and take a little weight off my shoulders for a day.\", 'In return I can offer your choice of a picture of our happy future family enjoying said pizza, or a shitty poem written by yours truly!'], [0, 3, 3, 3, 3, 8, 2]], 't3_9s8dfm': [['Hello RAOP!', 'Im currently studying and I have 3 papers to still write tonight.', 'I havent had time between a project and all of these works to eat (it has been over a day and a half since I have eaten).', 'I was hoping that someone would be able to provide me with pizza??', 'The nearest store is a Dominoes, Or a pizza hut.', 'I live In De Pere, Wisconsin.', 'Not sure what else to put... \\n\\n&amp;#x200B;\\n\\nSince I have no money for the near future to give back to the community, I can offer the person who provides a pizza, some dank memes or a really corny joke'], [9, 3, 3, 9, 3, 3, 3]], 't3_498hb8': [['Context: my girlfriend and I have been sitting pretty living in London for the last six months, both with solid jobs and a fair amount of disposable income.', 'She recently received an out of the blue offer for a PhD in another town a good distance away, but it meant that we only have a month to find a new place there and new jobs.', \"Because of the sheer speed of all this happening we have both been absolutely teetering on the edge of breakdowns, we found out that we don't fall into the affordability brackets of any of the places we were looking at and the offer on the place we had fell through.\", 'Now we are both unemployed as we thought we would have moved out by now and we are tired of potatoes.', 'Help us please.', \"All of our combined money now has to go towards ridiculous estate agents fees we'll have to pay in the next couple of weeks...if we find a place to live.\", \"It's coming apart at the seams.\"], [3, 3, 3, 3, 9, 3, 3]], 't3_15uf6h': [['Posting here in hopes of pizza.', 'Bit of a story!', 'Husband works CONSTANTLY to support us.', \"right now I'm 23 weeks pregnant (see r/babybumps) and after moving back into our apartment due to MIL troubles we're broke til next payday.\", \"It's my fault that we're broke which is why I'm secretly posting here while husband is at work and cannot see it.\", 'Insurance refuses to cover my prenatal now for some reason so our spare food/gas money has gone to those.', 'I am out of work sadly (was collecting SSI for my disability but they cut it off as soon as I got pregnant and no one wants to hire a pregnant woman even for a temp :(  )\\n\\nSo just hoping for a meal for when husband comes home from work :('], [3, 0, 3, 3, 3, 3, 7]], 't3_1c8rmz': [['Hey guys.', \"So it's Friday night and I'm doing work/preparing for finals next week.\", \"It's a long night of work ahead of me...(weekend as well).\", \"I'm running low on funds (the heat bill this winter was been ridiculous) and a girl would love a nice old cheese pizza to feed me for the next day or so.\", \"There's a rumbly in my tumbly; it would make all this coding more bearable!\", 'Apparently the odds are slim but I would truly appreciate if someone would help me out.', 'If not, peace, love...and enjoy your weekend!'], [9, 3, 3, 8, 3, 9, 9]], 't3_2aitmw': [[\"I'm an actuarial student.\", 'I started studying in November for one of my last major exams (Life Finance and Valuation).', 'The exam is 5 hours and very intense.', 'Results came out Friday and I failed.', \"This exam is only offered twice each year, so I won't be able to make another attempt until November.\", 'Very frustrating.', \"**Pizza received: Thanks to Punderstruck for sending a pepperoni pizza and chicken wings from Domino's Pizza.\"], [3, 3, 3, 3, 3, 7, 9]], 't3_1ahck6': [['We have had a really rough week.', 'The stress and expense has wiped us all out emotionally and financially.', 'I would be so happy if we could enjoy the last day of the weekend together.', 'We are to broke to go out or order in.', \"We can't celebrate Saint Paddy's Day, and I want to bring a smile to everyone's face.\", 'Can you help us with some pizza?', \"PS I know I don't have a lot of activity, I usually just read everything and don't post, but I have been a long time lurker on Reddit.\"], [7, 7, 3, 3, 8, 9, 3]], 't3_63xi6l': [['I just took a year sober on the fourth.', \"Frankly, I don't feel like my life changed all that much lately, as I'm still broke and hungry, which is why I'm here.\", 'Looking at the big picture, there were lots of unexpected changes this year, but I slayed then all sans booze.', 'I do, however, deserve to celebrate a bit though, right?', \"Food's finest nowadays.\", \"We just have Domino's, so if anyone wants to buy me dinner, I'd appreciate it.\", \"Thanks, y'all.\"], [3, 3, 3, 3, 3, 3, 9]], 't3_2amczy': [['When they stole it off the front porch about a month or two ago, they just cut the locks and thats all that was left in the morning.', 'I had that bike since I was in fifth grade, and rode it to school every day, now I am twenty and still rode it to work.', 'I bought a new bike and thought it should be safe inside the apartment, which it was.', \"The issue is when I went to bookman's and locked the bike out front, I came back and the bike and lock were gone.\", 'The security guard proceeded to show me that the bike rack had been broken, and some one was able to pull the bottom up out of the ground by loosening the bolts, apparently this was how they had stolen a few bikes the past couple weeks.', \"Thanks for the heads up bookman's; I did their job for them and added a personal note on the faulty bike rack, warning other bikers, hopefully preventing any more theft.\", \"Just really losing my faith in man kind's good nature, a slice would bring it back into perspective I think.\"], [3, 3, 3, 3, 3, 9, 8]], 't3_1kl9m5': [[\"Poor guy hasn't been able to shower taking care of our son who just started crawling like a maniac!\", \"I'm in Oregon and he's in Washington.\", 'He transferred the last of his money to me since I had to pay for my trip out of pocket with a reimbursement program.', \"He's pizza-obsessed!\", \"I would love to order it for him, but his transfer won't go through til Monday so were both lacking, he deserves it more though.\", 'I will try and attach a photo of my crazy kid as well for good measure!!!', 'http://i.imgur.com/AczHQkD.jpg \\n\\nhttp://i.imgur.com/Rol5zzM.jpg'], [3, 3, 3, 3, 3, 1, 0]], 't3_jpyr1': [[\"Hey, I haven't had a real meal in a week.\", 'I was unjustly fired from my job and am awaiting an appeal over unemployment.', \"Meanwhile, I'm looking for work and school just restarted.\", \"Finding work around my classes hasn't been easy.\", 'Most are waiter jobs and all want to speak with my previous employer.', 'Its a rainy Sunday here in the DC area and a good meal would do a lot for raising my spirits.', 'Thanks.'], [5, 3, 3, 3, 3, 8, 9]], 't3_61ba4l': [['Hello all.', 'I am not the type to ask for handouts but I am out of options.', 'My father just had bladder removal surgery last week and we are recovering in hospital provided housing.', \"However we won't have any money and have no food until monday/tuesday next week.\", 'Does anyone think they could send us a pizza.', 'I would be happy to repay you once I get some cash next week.', 'Thank you'], [9, 3, 3, 5, 9, 2, 9]], 't3_9yvena': [[\"My student finance has been delayed *yet* again but I'm told it will be by Friday.\", 'I have a formative assessment tomorrow and it would be a nice distraction whilst studying.', \"I have been living on 22p Aldi noodles, bread, soup and tinned sardines for about 3 weeks (it's rich in omega 3 and cheap!).\", \"Full disclosure I was given £25 on /r/Assistance about a month ago, and I've been stretching that out on my (world's most boring diet) since then (I also plan to pay those donors back, and yourselves if accepted).\", \"I like any toppings or any place, Dominos delivers to me but ANY 'town' place would be greatly appreciated!\", \"I got *so* excited last night thinking of the food I could eat (not being reckless) only to be told it's delayed again and noodles again!\", \"They aren't too bad if I add garlic granules and chilli powder, but, still...\"], [3, 3, 3, 3, 3, 3, 3]], 't3_8ndkst': [[\"Hey ya'll I'll just be honest.\", 'My fiancé and I are both mentally disabled and have really bad families so money and work has been difficult.', 'Recently I got a great looking job at a local bakery and seemed to be going good until yesterday they unexpectedly fired me.', \"They decided that they didn't want to train me up to the position and I just about scrapped our rent from what I made.\", \"We're currently both out of food stamps and our cupboard is nearly empty with even none of our usual hard time staples around.\", 'We just gotta get through one more day till one of us gets more food stamps so a pizza would help tremendously.', 'We live in Olympia, Washington and our best option for delivery is Dominos &lt;3'], [3, 7, 3, 3, 5, 8, 3]], 't3_10bsxp': [['Food stamps are now 2 weeks late due to moving counties and a new case worker that is slow as molasses in January.', 'She\\'s had my completed file for 2 full weeks (as of Friday) and still hasn\\'t \"processed\" it.', '(Whatever that entails..) \\n\\nMy family (Me, Hubby, and 2yr old baby girl) have been living off our pantry and freezer for 2+ weeks.', 'Last night we used our last chicken breast.', 'Today was literally buttered rice.', \"The food stamp office is closed till Monday morning at which point I will be calling my case worker, her supervisor, as well as her supervisor's supervisor; hourly, if necessary, until I have money to buy food for my family.\", 'Until then anyone wanna send us a pizza?'], [3, 3, 3, 3, 3, 3, 9]], 't3_vbvas': [['I have been looking for a job for about 3 months now and FINALLY!', 'got the tap from the local UPS depot for a drivers job!', 'Not the most glamorous job i know but hey for this area the money is decent and the station is close to home so no complaints from me!', 'Paying it forward it specifically implied upon first full paycheck.', 'Also if i get the job i promise not to be one of those jerk delivery guys that punts your nice box of Newegg goodness to the front door of your place from out by the curb!', ':D\\n\\nAny fine human being out there feel inclined to send out a good luck pizza to a prospective package jockey?', \"Now that i think of it that didn't sound so good..\"], [3, 3, 3, 2, 3, 9, 3]], 't3_13f0kd': [[\"I'm a student running off of my loans currently.\", 'My car battery died last week and I had to purchase a new one which took all of my excess money.', 'Currently worried about my bills and food for the next few months until I get my next check in late January.', \"I'm trying to figure out what to do to get some money.\", 'My parents said they could help me out some but not until next week.', 'Could somebody throw me a bone tonight?', 'Thanks &lt;3.'], [3, 3, 3, 3, 3, 9, 9]], 't3_4rloee': [[\"It's been a really really tight year money-wise as expenses have piled up.\", \"Had a bunch of expenses happen in June and then celebrated my daughter's 8th birthday last week.\", 'My 5 year old son just asked for pizza tonight...', 'I have $13 in my account which is enough to maybe get a cheap pizza from Little Cesars but then it puts me in the scary situation of not having even a tiny bit of padding money in case some charge happens to my account from some random bill.', \"Things always end up happening in spurts of months when it comes to things like that so I'm a bit paranoid.\", \"It'd be create if someone could help us out with that, my family and I would be appreciative, so very appreciative.\", 'We live in Oregon, USA and Dominos/Pizza Hut are really the only close places around here.'], [7, 3, 3, 3, 3, 9, 3]], 't3_16vnx8': [[\"Girlfriend's out of town for the weekend, but even if she were here her car's busted, and we're both broke.\", \"So i'm just sitting here on Reddit, depressed and hungry.\", \"Pizza places don't open for a little bit here but if someone could help me out with a pie and a 2 liter you'd be my hero.\", \"Edit: I'm an idiot and totally spaced on the location.\", 'Oh well.', \"If anyone sees this and wants to take pity, i'm in Tempe AZ.\", \"I'd edit the title but dunno how.\"], [3, 7, 3, 3, 0, 3, 0]], 't3_3rd8ws': [[\"I'm a student, working my rear end off, and due to some miscalculation on my part, did not request enough aid to actually get me through the semester.\", \"I've got an additional loan coming in a few weeks, but in the mean time, I would REALLY like to eat something that once walked the earth.\", \"I live in a community house, and we share food expenses, but it's all vegan and my housemates are terrible cooks.\", \"I'm more than happy to trade a knitted hat, or maybe some [paper quilling](  ) for a pizza!\", \"Papa John's has a good deal today, because the Timberwolves won last night.\", 'Thanks!', 'EDIT: Delicious pizza, THANK YOU!!'], [3, 3, 3, 2, 3, 9, 9]], 't3_2iesre': [['Hi random people.', \"Stressed and broke, that's what college is about, no?\", 'I just found you guys today.', \"I guess I'm not really studying that well!\", 'A pizza for an A?', \"Y'all rock either way!\", '- Texas State University student'], [9, 7, 3, 3, 9, 9, 3]], 't3_j0qo2': [['I am under no hardships.', \"I'm just a 17-year-old kid living near Chicago, and I just think that my sister would be pleasantly surprised by a nice pizza.\", \"It's been a while since we've had to share something.\", \";)\\n\\nDonors, if you're looking to help someone in need, look elsewhere.\", \"Although I'd like a pizza, I really don't *need* one, and there's plenty of requests on here that really do.\", \"That being said, if you're still up for helping me be the coolest brother of the day, I live in Naperville, IL.\", 'Thanks!'], [0, 3, 3, 0, 3, 3, 9]], 't3_iu7mk': [['I have less than 2 dollars in each of my accounts right now.', 'The government of Kentucky takes out more money from me during the summer from my small stipend because I am not taking classes.', 'I still have to do my research/work.', \"I do not want to ask my parents for money as I'm 25 and I hate doing that.\", \"I just saved some money on my car insurance but that doesn't come into effect until next month.\", \"I'm barely getting by and have had about a coffee and a granola bar today.\", 'Please someone save me!'], [3, 3, 3, 3, 3, 3, 9]], 't3_kzgfg': [['Here in Austin after just dropping my fiance off at the strip club so she can go to work to keep a roof over our heads.', \"Yep, we're that desperate.\", 'I just lost the job of my dreams two weeks ago.', 'I had the funny realization that the new guy I was training was my replacement, I was right.', \"Anyway We're down to our 30 dollars left in our emergency supply that we need to save, the fridge is totally empty, I havent eaten an actual meal in days, any kind person who wants to brighten our day would be encouraged to help us out.\", \"We might not have a home by next month so I'm really hoping there's someone out there that will make me smile today.\", 'what my bank account currently looks like.'], [3, 7, 3, 3, 8, 3, 3]], 't3_1cyxp5': [['I am new at this, but my friends have done this, and helped out many.', 'I now have a job to start repaying the favors to people in need, cause I do believe in the golden.', 'Heard the RAOP has kinda become disappointing over the time, with people not repaying the favor, or doing what people request, or even just thanking people.', 'I am here for help to turn that around if some of you could show me that there are still some kind hearted people out there and supply my bunk mates, and myself with some zas.', \"We just got the job building car washes, out of town, and don't get paid for the next two weeks.\", 'Ramen noodles are just not cutting it for this work.', 'Help however you can, we would be grateful for anything!'], [9, 2, 3, 3, 3, 3, 9]], 't3_qvej1': [[\"So we're waiting out for some money so we can get moved, but today my husband got his GED after three years!\", \"I'm so proud of him and he doesn't think it's anything special, but I want to reward him.\", \"Problem is we're pretty tight for cash after enrolling in college [waiting on loans, yay debt!].\", 'If anyone would be so kind, it would really mean a lot to us.', 'Also just thanks for having such a nice subreddit for people.', \"It's good to know people are getting help.\", ':D'], [3, 3, 3, 9, 9, 9, 0]], 't3_10ny1p': [['I am requesting a pizza for dinner.', 'My hubby is in the ICU unit,.He had a sezuier and hit his head.', 'They had to do emergency Brain surgery, He is medical coma.', 'Its to early to tell what is going to happen to him.', 'If you cant do a pizza, Please sent good thoughts his way .', 'Why am I on the internet?', 'I am trying to keep my mind busy, Thanks :]'], [8, 3, 3, 3, 9, 0, 3]], 't3_1g86tz': [[\"So I've been in DC interning for 4 weeks now and have not received a paycheck yet because of a clerical error in the last pay period but am receiving it (hopefully) next Friday.\", 'I handed in my direct deposit forms to HR my first day on the job.', 'Pay day comes around and I never received a transfer.', 'So I talk to HR and basically they never got my forms, and can not cut me a regular check because of some \"rules\".', 'So now I have to wait until the next pay period to get some money.', 'I have had no money for a week now, and am officially out of anything to eat in my apartment.', 'Any help would be grateful, and I would absolutely get you back after next Friday.'], [3, 3, 3, 3, 3, 3, 2]], 't3_6kgnbz': [[\"Hey RAOP, this is my first time here so sorry if I'm doing this wrong.\", \"I've been unemployed since April 25th, when my former employer went through their first round of downsizing.\", 'My wife, 1-year old son, and I have been cutting back to keep things manageable, and that means no more pizza.', 'I just got another rejection today and could really use a pick me up.', 'A pie for dinner would be amazing.', 'Thanks.', 'Location: Maryland, United States, 21060'], [9, 3, 3, 3, 8, 9, 3]], 't3_ska6s': [[\"So, as the title says, I'm currently broke.\", \"Well, to be more exact, I have $2.07 in my bank account, so I guess I'm not out on my ass quite yet.\", \"My boyfriend and I both are students and work part-time jobs, but unfortunately our jobs were both seasonal and now that the school year's pretty much over, so are our jobs.\", \"We're looking for work, but as many of you I'm sure know, that can be tough.\", \"I'd really appreciate any generosity from you great folks.\", 'A pizza tonight would be really, really awesome.', 'Thanks so much.'], [3, 3, 3, 3, 9, 8, 9]], 't3_90fh13': [[\"As of late I've been unemployed, looking for new work and I just paid all my bills from savings.\", \"All I have left is another month or two worth of bill payments and enough mac and ramen to last me all year, but, I'm so tired of eating it.\", \"I'd honestly just like to eat something different today.\", 'If it so happens you might be able to help, I would be very thankful!', 'Also, I write poems and stuff.', 'I will GLADLY trade my skills for the cheese!', 'If you want.'], [3, 3, 3, 9, 3, 2, 0]], 't3_7d4cwh': [['Just started my first ever full time job a month ago and tomorrow is my first day off.', \"As every cent from my first paycheck went to rent and catching up on bills I'm broke and my girlfriend and I have no clue what to eat tomorrow.\", \"We've eaten ramen and toast for the past 4 days.\", '(Luckily my job had a holiday party and I got to fill up on pizza and cupcakes one day).', 'Thursday/Friday/weekend will be fine because I can donate plasma again and buy some food and Monday I get my first full check!', \"I'd be willing to repay/pay it forward come Monday!\", 'Just need to secure a meal for tomorrow.'], [3, 3, 3, 3, 3, 2, 8]], 't3_2sgzm9': [['To be honest, I would greatly appreciate something.', 'I have five dollars of credit at Pizza Hut from when they goofed an order of mine up a few months ago, and since then bills and life have been rough.', 'Missed a paycheck, for example.', \"At the moment, I don't have enough to buy groceries or meet the minimum for delivery from PH.\", \"I don't know what else to say.\", \"My next paycheck isn't until the end of the month.\", 'Thanks in advance for your time.'], [9, 3, 3, 3, 3, 3, 9]], 't3_9m73di': [[\"Don't really have a sob story.\", \"I've been out of work for 2 weeks.\", \"I make a little bit of money by being a mobile mechanic, but it's barely enough to get by.\", 'Pizza sounds amazing tonight.', 'Pizza Hut, dominos, jets, hungry howies all near me, but I have a soft spot for dominos.', 'Thanks.', 'Edit: USA'], [3, 3, 3, 7, 3, 9, 3]], 't3_8jxdd8': [[\"I've been in the lowest depressive state of my life this past month and he's helped out incredibly.\", \"He's an animator and has been working on his final deadline for his final year at uni for the past 6 months, but every single night he's come home after 10 hours in the studio and stayed up with me making sure I was ok and felt cared for.\", \"His deadline was today and he's spending it chilling with his housemates because they can't afford to go to the pub, so I'd love to make his day really really special (but unfortunately I'm having to live off £20 a week at the moment and can't even really afford food for myself) so I would be eternally grateful.\", 'It was also my final deadline of my final year but i want this for him not me!', 'He really deserves it.', \"He's based in Falmouth, UK and I know he has a dominos within walking/delivery radius.\", 'Thanks!'], [7, 3, 3, 3, 3, 3, 9]], 't3_24tibk': [[\"Hi everyone, I *just* got a new job unloading shipping containers full of -*drumroll please*- [Bob's Butt Wipes](  )  !\", \"Unfortunately, I won't get paid for another two weeks.\", \"So on top of being exhausted, I'm broke!\", \"Some pizza would be greatly appreciated and I'd definitely want to pay it forward after my first check!\", 'Love what goes on here!', \"I live in New Orleans and the closest chain is Papa John's.\", 'EDIT- Friends brought pizza and beer, thanks anyway RaoP'], [3, 3, 7, 2, 9, 3, 9]], 't3_afo0h7': [[\"Hey, so, this isn't easy to say or do, but I have 90 days of sobriety from hard narcotics.\", 'I quit them even though I have a co-existing chronic pain problem.', 'Anyway, I just wanted to nicely ask and see if someone could help me out with a pizza?', 'All of my money right now is going towards medical expenses, therapy, psychiatry, rent, and just keeping me stable.', 'It would be a real treat to get some pizza.', 'I promise to pay it forward.', 'Thanks for reading this!'], [3, 3, 9, 3, 8, 2, 9]], 't3_meys2': [['Hey, RAOP!', \"I'm having a rather crappy day.\", 'Last night I stayed at my boyfriends apartment, and at 1:15 in the morning, they towed my car because I parked in his assigned parking spot.', 'After driving to the ghetto, arguing with both the towing people and his landlord, I still had to pay $193.30 in towing fees.', \"Now I'm broke, bummed, and I just want to spend the rest of the day watching Bridesmaids and Mean Girls and gorging on some pizza.\", \"It be awesome if someone could help me out today, I'll pay it forward one day!\", 'Peace out!'], [9, 7, 3, 3, 3, 2, 9]], 't3_10617y': [['Hey guys.', \"Normally I wouldn't post here but I could really use some help.\", 'I do freelance work and recently got screwed over by a client of mine.', 'He decided not to pay and I had budgeted for that money.', \"I've burned through all my emergency fund affording food trying to make it until friday when I get paid from my part time job.\", \"I don't like to ask people for help but I could really use some pizza right now.\", 'Thanks!'], [9, 3, 3, 3, 3, 3, 9]], 't3_a7edsv': [[\"I just came home from college after a very tough semester, my mom works three jobs and wasn't anticipating me coming home for the holidays (my school sponsored a bus ticket last minute cause my car was totaled so I could come home).\", 'So theres really not food here.', 'I broke into tears when I was scrounging around my house for change so I could get 2 for $2 taquitos at the gas station.', \"Thats all I had to eat yesterday and I'm just so hungry and tired and I don't want to leave my room.\", \"Idk, I'm just hungry.\", \"I plan on returning the favor to this sub as soon as I'm able to do so.\", 'A hot meal would mean a lot.'], [3, 5, 7, 7, 3, 2, 8]], 't3_kpi24': [['Hey - The title says it all.', \"After a week of exams, I'm letting myself spend the weekend playing Oblivion, since Skyrim is soon to come out, and I have yet to play Oblivion for myself.\", \"I'm waiting for a client (freelance webdesign is my job) to pay me Sunday, so until then, I really have no food other than chili I made 5 days ago, and has been my only meals every day since.\", \"I'll even do any crazy thing you tell me to do in game, if you're familiar with Oblivion, and consider it done (for better or for worst).\", \"I'll murder towns in the name of pizza!\", \"It'd really help - thanks!\", '[Charlotte, NC]'], [3, 3, 3, 2, 3, 9, 0]], 't3_16ufd0': [[\"I've been having a couple of harsh months (lung surgery, recovering, severe nerve damage, no money, on disability, etc.).\", \"Because of the amount of pain I am dealing with I don't get around to much.\", 'Overall, my dream is to become a pulmonary/critical care specialist to help people like me.', \"I wasn't going to go back to school this semester because of the pain (and not having any money) but I decided this week to still keep pursuing my education.\", 'So I got a loan for school and was approved, and classes start next Wednesday.', 'I am very excited.', 'Edit: Also because I want to eat pizza on my living room floor while watching all of netflix.'], [7, 3, 3, 3, 3, 7, 3]], 't3_ph76p': [[\"We're not in the biggest of pickles, but let us plead or case.\", '&lt;in Pocatello, ID for work.', \"Been here for about a week but haven't been paid yet.\", '&lt;ran out of money two days ago, and went through the rest of our raman.', '&lt;dying for dinner.', 'Two 23year-old painters could really use a pizza.', \"And I promise if this works I'll pay it back with a large as soon as I get back to Colorado.\"], [3, 3, 3, 5, 7, 3, 2]], 't3_216qty': [[\"I haven't eaten in the last 2 days and it is starting to wear on me.\", \"(I've gone longer without food, but for some reason today I feel really dizzy and weak).\", 'I can walk to get it if I need to and anything will do.', 'Even just an order of breadsticks.'], [5, 7, 3, 3]], 't3_xtzz2': [['Roommate left out of town.', \"I haven't ate a meal in two days.\", 'I had chicken, but my dog ate it all.', 'If someone can please help it would be greatly apprecited.'], [3, 5, 3, 9]], 't3_2jdafa': [['I work for 8.20 an hour with random hours.', 'I have a lot of bills that need to be paid and cant really afford much outside of ramen and pasta for food.', \"I'd just like to eat something different for a change.\", 'Thanks in advance.'], [3, 3, 3, 9]], 't3_722k7n': [[\"Bills have taken just about every penny from Friday's paycheck.\", 'I have a few dollars left but not enough for delivery and nothing in the house to eat/no car to get me somewhere.', 'A cheese pizza and diet coke would just be perfect tonight.', 'The first and last time I did a request (over 90 days ago) I said I wanted to pay it forward asap and I still have been unable to do that :( I am working towards a promotion at work but the bills just never end.'], [3, 3, 3, 3]], 't3_8cyjx3': [[\"Once I get a new job I'd love to pay this forward, but for now I'd love a pizza because all my money is going towards bills.\", 'Located in Colorado, US.', 'Local chains include Blackjack, Dominos, and Pizza Hut.', 'Thank you!'], [2, 3, 3, 9]], 't3_93bs11': [[\"I don't even know why I'm posting this but I haven't eaten in 2 days and I won't have any disposable money until Friday since I have to pay rent tomorrow.\", \"Problem is I need to buy tires for my car since I've been riding on a spare and having to pump air into another everyday cause it loses air in about 12 hours, so the next bit of disposable cash I have is going to have to go to that leaving me not much at all for groceries.\", \"I don't know, y'all are prolly just gonna think I'm making shit up for a sob story so it's probably frivolous typing all this out, but I'm very desperate and very hungry right now.\", \"I've only been able to afford sandwiches for the past month and even that's been eaten through and anything different would honestly brighten up my life right now.\"], [0, 3, 7, 8]], 't3_1fof55': [['Hey, my roommate and I are running low on cash.', \"He lost his job last week and I had to pay his month's rent, and I'm going to have to until he finds another job.\", 'If someone could help us out with a pizza that would be great!', 'Thanks!'], [3, 3, 9, 9]], 't3_9coccj': [['My family gave me (18) and my brother (14) $100 to have a few friends over and to get enough food to last us the week.', 'We went shopping but sadly when our friends came over they devoured all of our food, as to be expected from a bunch of other teenagers, but it left us without any food and our parents go back from Cuba until Wednesday.', 'It would be great to get some food to hold us over until they get back.', 'Thanks!'], [3, 3, 8, 9]], 't3_3nuosf': [[\"I know it's a long shot, but I would love to have pizza.\", \"I don't think Little Caesar's has gift cards, but they are closest.\", \"I'm not picky about the place, just honestly requesting some cheesy goodness for lunch or dinner.\", 'Thanks for reading and Have a great day!'], [3, 3, 3, 9]], 't3_195mf3': [['[Request] In state of profound shock!', \"My debit card company discontinued their 'overdraft' option which, due to extenuating circumstances, I was counting on being able to use till my next paycheck.\", 'Currently have ZERO money for food till next weds.', 'A pizza would hold me over till that date for sure!'], [3, 3, 3, 8]], 't3_1scocx': [['Money is very tight right now since I am on unemployment (winter layoff), and pizza is a luxury I cannot afford.', 'I would love to be able to enjoy this Saturday night with hot papa johns.', 'Just one person here!', 'Thank you so much to anyone who responds!'], [3, 8, 0, 9]], 't3_1jx10i': [['My partner and main support system is out of the country for three months.', \"Work has been especially frustrating and I'm waiting to hear if I got into the school I want to go to.\", \"Rent and bills have emptied my accounts and while I do have food at home, (rice and beans) I'm just feeling too overwhelmed to cook.\", \"I'm located in Portland, OR.\"], [3, 7, 3, 3]], 't3_14t9bx': [['Been slaving over finals week.', 'I get to go home tomorrow but I havenet eaten since wednesday morning when I had a Red Delicious apple.', 'I have just been too busy to even think about food and now that I am done with school it has finally hit me.', 'Anything you could offer would be much appreciated.'], [3, 3, 3, 9]], 't3_lcrh0': [['My wife and are a just a couple of broke college students (we are both starbucks baristas).', 'We have  couple of starbucks veggie plates to eat, but would love some pizza!', '(and maybe breadsticks?)', 'Thanks, you guys are all super heroes :)'], [3, 3, 3, 9]], 't3_9atjyu': [[\"It's the first day of school for little Elizabeth and Amy, and they really want some pizza.\", 'We are a family of five, and would really appreciate it.', 'I am low on gas and need it to get to work.', 'Thank you.'], [3, 3, 3, 9]], 't3_20eopo': [['I thought it would be a nice idea to have pizza today to celebrate.', 'Anyone out there want to help us out?', \"We're located in Upstate SC (Greenville/Spartanburg area).\", 'Thanks in advance!'], [8, 9, 3, 9]], 't3_jh5mx': [['I just started one of those awesome jobs where you only get paid once a month.', \"It's been a bitch not being able to claim unemployment the last few weeks and currently have [less than adequate funds.\", '](http://i.imgur.com/ls8TW.jpg) Anyone willing to help a guy out?', 'Pretty much been living on ramen and toaster shakens that last couple days.'], [3, 3, 9, 3]], 't3_3qbavj': [['Would love a pizza during our rough week.', \"Don't get paid for several days, McAffee decided to auto renew, even after we set it not to, draining our remaining cash.\", 'Almost no food in house left.', 'Wife is recovering from back surgery, to add even more stress to the week.'], [7, 3, 5, 3]], 't3_174u7e': [['My roommates and I are pretty strapped for cash, we are all completely broke and behind on some of our bills.', \"I haven't had money for food in a while, subsisting off of whatever I can steal from my campus eatery (hey, I'm paying for it anyways, right?)\", 'so I figured I would ask reddit for assistance on the off chance that someone could help.', 'I would love to surprise my roommates with some hot pizza goodness.'], [3, 3, 3, 8]], 't3_vcq8s': [['Pretty much exactly what it says in the title.', \"I don't get paid for another two weeks, but I'm not starving.\", 'I could just really go for something pizza-like and maybe a 2-liter of soda to curl up on the couch with.', ':)'], [3, 3, 3, 7]], 't3_n993g': [[\"I'm a little embarrassed posting this, but I'm desperate.\", \"Some unexpected bills came up and it's left me flat broke until Friday.\", \"I haven't eaten since Saturday morning and it's literally starting to hurt.\", 'If anyone can please, please help me out I would be eternally grateful.'], [7, 3, 5, 9]], 't3_8su8vy': [['Pizza would be appreciated!', 'We were going to have peanut butter sandwiches but pizza would be so much better.', ':) You would be making a couple of hungry boys really happy.', \"Edit: We are in the US and there is a Casey's, Papa John's, and Pizza Hut close to me.\"], [9, 3, 8, 3]], 't3_3of4u3': [['So like the title says, I was having fun on a glacier yesterday, when I lost my footing and fell into a crevasse filled with water.', 'In addition to almost catching hypothermia and dying, I lost my camera, lens, and phone to water damage.', \"I currently have no money to replace them right now, and am terrified because I'm so far from home(Georgia).\", 'I would really just love a straight up pizza right now.'], [3, 3, 3, 3]], 't3_66l8a6': [['My fridge is as empty as my bank account.', \"Normally I'm able to pick up a freelance design gig about \\nonce a week which covers the groceries, but I haven't had any clients lately.\", \"If anyone would be willing to send a pizza my way I could make you something pretty cool [My Portfolio](  )\\n\\nAnd I'd be happy to pay it forward once I start my new job.\", \"If it matters I'm in south florida.\"], [3, 3, 2, 3]], 't3_j469t': [['We are a family of 3 wanting a dinner of pizza.', 'We have barely any food left this month food-stamps dont come in till the 6th.', 'My 3 year old loves plain pizza and bread sticks.', 'We are a very low income family trying to make it until my boyfriend finds a job.'], [3, 5, 3, 3]], 't3_6at4lz': [[\"Hey guys I paid my bills this month and had a smaller paycheck than usual so I'm sitting at a cool $0 in my bank account.\", 'Got plenty of pizza places nearby in the Chicago suburbs.', \"Prefer Domino's.\", 'Just looking for a cheese.'], [3, 3, 3, 3]], 't3_1ma5ak': [[\"Like it says I'm moving roughly 3000 miles from Canton, OH to Seattle, WA, and all my money is going towards gas for my car to get there, and I don't have any extra for food and such.\", \"Basically I'm packing up everything and leaving because if I stay I will be homeless here so I had to sell my bed and everything but my clothes.\", 'If someone could get me a pizza, that would be so awesome.', 'Thanks!'], [3, 3, 9, 9]], 't3_2lt20a': [[\"Love the sub and what it stands for and never actually thought I'd post here myself.\", 'But poor financial tracking has led me here and I could really go for a pizza.', \"Whether or not it works out, I'll be granting somebody pizza this Tuesday once I get paid!\", 'looks like this is the closest pizza place to me:'], [3, 3, 2, 3]], 't3_jka9v': [[\"I am a complete wimp when it comes to the dentist, to the point where I get IV sedation for something as simple as a routine checkup, even though it really doesn't seem to help.\", 'Today will be my first ever root canal so needless to say I am extremely nervous because of all of the \"horror stories\" I have heard from others who have had root canals.', \"A pizza obviously wouldn't make me any less nervous about the dentist but it would help make my day a bit better and would be very much appreciated.\", 'I promise to pay it forward when I start working in a few weeks.'], [3, 3, 8, 2]], 't3_9m7eh5': [['Amassed a small amount of credit card dent when I was out of a job for 4 months.', \"I've been paying it back aggressively but that means there's little money for anything else besides the debt and rent.\", 'I have learned to coupon and so the house is stocked on essentials but it would be nice to take a break with a pie.', \"USA - dominos and Papa Johns are near me (sorry I didn't realize I should include that)\"], [3, 1, 3, 3]], 't3_4433xn': [[\"I'm in my last semester of my math degree and I will do your math homework for pizza.\", 'Or do a half hour of online tutoring via skype.', \"I've tutored professionally for the past 2 years and focused mostly calc 1 and below although I can do higher level maths as well.\", 'I am in the US near a pizza hut and a dominos.'], [2, 2, 3, 3]], 't3_1yk98y': [['I work for a music instrument manufacturer, and may have some cool things to send out to a nice redditor that wants to buy me some pizza.', 'Any guitarists feeling charitable?', 'Location will be divulged to anyone interested.', 'Edit: Location footnote'], [3, 6, 3, 3]], 't3_3in2qw': [[\"My budget's tight right now, or else I would buy him the pizza myself.\", 'He says he only has enough money left to get home.', 'Is there anyone out there who can feed him for today?', 'It would mean SO much!'], [4, 3, 9, 9]], 't3_2es3li': [['Just started school, money is tight with bills paid and financial aid not having arrived yet.', \"Been subsisting on beans and rice but that's basically out now.\", \"If someone could send me a pizza it'd make this day a lot more bearable.\", 'I live in Southern California if that matters at all.'], [3, 3, 8, 3]], 't3_7qpowk': [[\"We're broke till Wednesday, and all we have to eat is spoonfuls of peanut butter, and water, which is getting old.\", 'Literally only have .15 cents  to our name.', \"We're in the Dallas area, close to all major pizza chains.\", 'Thanks for reading this!'], [3, 3, 3, 9]], 't3_7sxczp': [[\"I've been sick for a bit over a week now, I'm going to be hungry for lunch and have no money/food.\", \"I still have lots of studying to do for a big exam tomorrow and I'd love some pizza.\", \"I'd be more than grateful and would gladly pay it forward on here when I'm able to.\", \"I'm in the USA, Pizza Hut and dominos are the local chains.\"], [5, 3, 2, 3]], 't3_6kq512': [[\"My wife's gone to Alaska, and I work, so I don't really ... Cook.\", \"I've just been throwing the chicken into the oven and baking it with seasoning.\", \"It's good, but I've had it for the last week.\", 'I get paid tomorrow, but would really appreciate something else for dinner tonight.'], [3, 3, 3, 3]], 't3_2wea2p': [[\"Hey guys, I'm just waiting to get paid on Friday and I could really use a pizza to tide me over for tonight's dinner and tomorrow's leftovers until Friday.\", \"Have asked a few times but been denied, but I won't give up.\", \"There's a Dominos down the street that I'll gladly go pick up from.\", 'Thank you guys in advance'], [8, 3, 3, 9]], 't3_83ce67': [['Yeah, basically the title.', \"Really at a point where I'm starting to figure out my life in awesome ways, but I'm pretty poor because of some bad decisions.\", 'I get paid Monday and have to figure out food for the next three days.', 'I would be so grateful for a pizza.'], [3, 3, 3, 9]], 't3_yc9h5': [['Hey everyone!', 'Today is my now 8 year old son Logans b-day and we kinda strapped for cash so i was wondering if anyone could bless him with just 1 pizza for tonight.', \"I hate to ask but it'd really make his day, he loves pizza more then anything lol.\", 'Thank you all so much :)'], [9, 3, 8, 9]], 't3_1mlyz0': [['Have 10 bucks need it for gas.', 'Wife, 2 1/2 year old daughter, and I would love some pie.', 'Ill pizza someone else Thursday when I get paid.', 'Thanks!'], [3, 3, 2, 9]], 't3_zh75s': [['Lost my Job three months ago.', \"Since then I've bought nothing but pasta.\", 'I got told today that all I need to do is go down tomorrow to fill out paperwork to get setup, but today I have 3 dollars in my bank.', \"Anyone wanna buy a pizza for a guy to celebrate with something other than water and beef top ramen since I won't be paid for another 3 weeks yet?\"], [3, 3, 3, 8]], 't3_yq9dd': [[\"Things just haven't been going the right ways.\", 'My friends and I have been getting distant...', \"I feel like I've been sleeping all day and there is nothing in the house to eat.\", 'Perhaps a pizza could help?'], [3, 3, 3, 9]], 't3_vjsxk': [['Pregnant with twins and have 3 other lil ones.', 'Fridge went out and landlord wont be able to replace till tuesday.', 'So anything would be a blessing to me and my family right now.', 'Thanks and god bless all!'], [3, 5, 8, 9]], 't3_1dqrm6': [['$0.33 in bank account, savings restricted due to online transfer limit being reached, and not getting payed for 10 days.', 'I work and am in class constantly, but I barely make ends meet.', \"This month is exceptionally bad for me and I haven't had constant access to food.\", 'Any help would be appreciated!'], [3, 3, 7, 9]], 't3_2se89n': [[\"This friday is my mom's birthday.\", \"I don't have any money to give her something, and she is amazing to me.\", \"These are hard times and I ashamed I have to do this but I want at least give her a nice meal, I don't know how this work because I live in Colombia.\", \"I'm sorry I have to do this, I don't like asking for stuff, but I love my mom.\"], [3, 3, 3, 3]], 't3_9fysrw': [['Honestly I could slap something together in the kitchen if I tried hard enough.', 'But pizza sounds realllllly good.', 'Thank you for indulging my selfish post lol.', 'In US, theres a papa johns, dominoes, and pizza hut near me.'], [3, 7, 9, 3]], 't3_8it9g9': [['Not gonna put a whole story to follow in here, but I had to quit my job a while back for mental health reasons, and have been struggling ever since.', 'A pizza would be amazing to make my day better!', \"There's a pizza hut and a papa johns near me, thanks for all you guys do here!\", 'Edit: oh, and U.S.A, if that changes things.'], [3, 8, 3, 6]], 't3_qvf9b': [['I thought I had enough to get some more ramen, but it turns out that I used my remaining quarters to do laundry.', \"I do get paid Friday, but until then I'll be at the mercy of my hunger pangs.\", 'A little pizza would go a long way.', 'Reddit, help a brother out!'], [3, 3, 3, 9]], 't3_9hbv5z': [[\"I've had a very bad day and a very stressful couple of weeks.\", \"I'd love some pizza tonight as comfort food.\", 'Located in Phoenix, AZ, USA.', \"I don't have much to offer aside from pictures of my poodle.\"], [7, 8, 6, 2]], 't3_6ci019': [['In Toronto, would be hugely grateful'], [9]], 't3_40up70': [['Hopefully I can find a job soon!'], [3]], 't3_7j9clw': [['In Australia, recently had my PayPal account take my bank account into negative from an unauthorised $1700 purchase,  Chilling with negative savings and a dominoes pizza would help with the sorrows greatly'], [3]], 't3_22y8ar': [['Tuesday I get to work and I get free drinks so those manage to hold me over.'], [3]], 't3_wzo6q': [[\"It's been too long, I'll take anything!\"], [5]], 't3_mrkl3': [['If one person helps me out, i promise to be on here atleast twice a month to pay it forward and restore faith in people, one pizza at a time =)'], [2]], 't3_1lf3me': [['got a 54/100 on my first Test, im feeling down.'], [7]], 't3_jmnl8': [['I live in Ohio'], [3]], 't3_15im0j': [['ME and my buddy want to celebrate getting new jobs that starts after the holidays, but we are both broke :/'], [3]], 't3_4u7eml': [['Will happily surprise you with something in return once I get my US account set back up.'], [2]], 't3_v3r93': [['If you look at my previous post you will be able to see my story, since then things have settled a little, the stress is still high but overall I am looking at things more positive, I would love to be able to get a pizza to relax this weekend without having to worry too much about food.'], [3]], 't3_13r18s': [['It would be much appreciated, and payed forward later on.'], [2]], 't3_4h5f3i': [['If any kind souls on the internet can help me out I promise to pay it forward.'], [2]], 't3_w3orz': [['You can tell me what to draw, or I will simply draw a picture of us enjoying the pizza:)\\nWe could defiantly use some help right now.'], [2]], 't3_1jul47': [[\"How's everyone doing tonight?\"], [9]], 't3_8f0jqo': [['Will be sure to pass this kindness to someone in future!'], [2]], 't3_12kfb2': [[\"Just me and the wife at home today, she is in bed sick, don't feel like cooking since its my only day off this week, would love a pizza.\"], [3]], 't3_9fg3pg': [[\"flat mates pretty much blew my money for the week by racking up a giant power bill and then one of them gave me some kind of cold which may ruin a second date I have coming up this weekend, feeling a void and I'm hoping someone wants to fill it with pizza for me in my quiet corner of the world &lt;3\"], [3]], 't3_14ux4w': [['kinda broke until next paycheck next friday and im sorta outta food at my place  :/\\nanything can help\\nthanks :)'], [5]], 't3_7ld7sy': [[\"We're having a pretty broke xmas season... a pizza would be a rather cheery surprise :)\"], [8]], 't3_3fokpx': [['Happy civic holiday?'], [9]], 't3_1c9g46': [['What a sad time.'], [7]], 't3_rjyfr': [[\"Haven't eaten anything these last two days hoping Reddit can help!\"], [5]], 't3_191q66': [[\"I'm just a hungry college student, not much more to say!\"], [3]], 't3_3w4yyp': [[\"Don't get paid until Friday and all I have is a bag of rotten potatos, would love a pizza.\"], [3]], 't3_z1zks': [['Flat broke havent ate all day live in memphis tn any help will be greatly appreciated'], [9]], 't3_1jnlu1': [['edit: my*'], [0]], 't3_6qeg3k': [['I recently lost my teaching job, currently waiting on my unemployment claim to be approved, hoping to crush my hunger with pizza crust tonight.'], [3]], 't3_38avw3': [['I will write you a short nonsense rap about your subject of choice.'], [2]], 't3_1ldpxz': [['Will pay it forward asap.'], [2]], 't3_8eejq6': [[\"We're near dominos.\"], [3]], 't3_s5apt': [['If this works, I will buy someone else a pizza next week.'], [2]], 't3_8ehz3v': [['\\nDouble edit: glad to say no longer needed thanks guys'], [0]], 't3_9cxjaf': [[\"I dont really wanna go grocery shopping until payday and I'm enjoying my day from my couch,  pizza would make my day 10/10\"], [3]], 't3_5znnmf': [['Please and thank you.'], [9]], 't3_ucbjy': [[\"I'm 37weeks pregnant and would love nothing more than a Stuffed Crust Super Supreme Pizza mmmm (mouth watering) Just something I am craving but we don't have the money to splurge on right now ;-) Please b my Pizza Angel :)\"], [3]], 't3_pdr5c': [['Hi everyone I am in louisville ky and I am wishing for someone to please help us out for dinner tonight ..Me and my daughter are hungry and we would love some pizza for dinner..We get foodstamps but they dont come until tomorrow the 7th ..please and we have no food and are very hungry..thanks for reading'], [3]], 't3_1ej7wt': [[':-) pizza sounds amazing'], [3]], 't3_319alb': [['Why are you looking here and not PMing me....'], [0]], 't3_4szs82': [[\"Monster hunter generations just released on the 3ds and I'd love to have a pizza to snack on all day.\"], [3]], 't3_2r5r4l': [['Hey guys thought i would give this a try\\n\\nMe the wife and our kid are going through a rough time right now, her hours were cut for holidays and my pay alone has never been enough but we are about 3 days into our ramen marathon and would love some good pizza.'], [3]], 't3_3emql4': [['Anything will do \\nWill pay it forward \\n\\nLocation: MA'], [2]], 't3_1bkslu': [[\"That'd be pretty cool(:\"], [9]], 't3_3odgd4': [['looking to celebrate passed my safety course for my motorcycle.'], [8]], 't3_29a2rw': [[\"Title says it all really, I'd love a break from worrying about whether or not I can afford to stretch food for another meal.\"], [8]], 't3_mv3z8': [['It would be much appreciated.'], [9]], 't3_146rcc': [['Starving student, just making it by, have a few finals tomorrow and some pizza would help me get to sleep without hunger pangs and would allow me to have a little something to eat before my tests!'], [8]], 't3_1gbd9e': [['Could use a pepperroni and mushroom visitor.'], [3]], 't3_6x15q5': [[\"I'm located in Canada and there's a pizza 73 not far away from me\"], [3]], 't3_8i641m': [[\"Wondering if somebody out there is willing to help me out, I haven't had pizza for about 3 or 4 months because I have to spend my money on other things.\"], [3]], 't3_3gdt5d': [[\"Moved from Denver, staying on a friend's couch.\", 'Have done everything but panhandle.', \"I'm not looking for an exorbitant amount of food.\", 'I just want to eat something and have lunch for the week.', \"I'll pay it forward with my first check.\", 'Please help.'], [3, 3, 3, 3, 2, 9]], 't3_7ezud9': [['Have you ever craved a pizza at 8:00 in the morning?', 'Well you know the struggle!', 'Been anxious about my doctor appointment coming up later today, and could definitely relax with a nice pizza after.', \"I'll write and send you a sweet little song for your kindness :D!\", \"I Hope I'm doing this right?\", 'The flairs are confusing meeee!'], [3, 3, 3, 2, 3, 3]], 't3_8t4vu6': [[\"Hey guys, I'm a 3rd year med student in Philly--I'm waiting for my loan disbursement to go through, which should happen next week.\", \"And also what sucks is that I'm overdrafted 200 of my debit card.\", \"I have rice and beans and some beef patties which should be able to hold me down until then, but that is all I've eaten this week past week.\", 'If anyone could just please order even a small or medium pie of cheese pizza I would be so thrilled.', 'There is a Pizza hut right near me, I could either walk over (to save delivery money) or have it delivered to my place.', 'And I promise to return the favor at the end of next week.'], [3, 3, 3, 3, 3, 2]], 't3_70mfhe': [['My depression just seems to be getting worse and worse lately.', \"It's getting to the point where just getting out of bed at all is incredibly strenuous.\", 'This gross inaction has led to me now be completely out of money, and food.', \"I did finally get a new job, but apparently I don't get paid until the end of my second week (really wish someone had mentioned that at orientation).\", 'I could really use any kind of help, at all.', \"I'm in Buffalo, New York.\"], [7, 3, 3, 3, 3, 3]], 't3_11jhye': [[\"Hi I'm shmuel.\", 'I know I just joined Reddit but I in real need here.', 'Just moved across the county to Portland Oregon.', \"I lost my bank card and I don't have anything to eat!\", 'Please help nee out.', 'I now know what it means to go hungry!'], [3, 3, 3, 3, 9, 3]], 't3_4qz8ij': [[\"I recently started a new job and won't have any money for groceries until Wednesday.\", 'We have exhausted our supply of ramen and sandwiches.', 'It would be awesome if we could get a pizza for tonight.', 'I will pizza it forward when I am back on my feet, and will send you a picture of my little dudes enjoying the pizza.', 'My car is being repaired but there is a Papa Johns within walking distance of my house.', 'Thanks and have a great weekend, everyone!'], [3, 3, 3, 3, 3, 9]], 't3_87vn8v': [[\"hello... i feel bad about asking for pizza although i know that the purpose of this sub is for giving and recieving pizza, so i'm finally posting after getting over most of the guilt.\", \"i've had money problems recently, living mostly off of oranges and instant ramen does not help my stomach issues.\", \"i have therapy tonight and getting food after (haven't eaten yet today) would use up the last bit of my spending money for this weekend, which is worrying me because i'm running low on food at home too.\", \"a pizza would be great right now, i'll try to draw you something in return for a yummy pie.\", \"i'm near dominos and papa johns right now.\", 'thank you all, may your lives be filled with good pizza.'], [7, 3, 3, 3, 3, 9]], 't3_ag0chk': [['I recently lost my job and was collecting unemployment.', \"I actually got a new job but don't get paid until Friday and unemployment does not pay up until you get a check.\", \"Would love a pizza as I haven't had one in some time due to my money situation.\", 'Thanks in advance!', 'Edit: United States / Rhode Island.', 'Nearby is mainly dominoes'], [3, 3, 3, 9, 3, 3]], 't3_akhtmc': [[\"I'm currently a student spending all night studying and doing a project, and I have midterms on my worst class (grade-wise) tomorrow.\", \"My fridge is pretty much bare and I could use some nice warm pizza right now, as I'm really fucking hungry, lmao.\", \"The nearest pizza place that delivers is Dominos (I'm in Long Island).\", \"Also note that even though I am giving away two dominos pizzas in my other post, those are from points, and I don't have money for those to be delivered so I figured that I'd help a fellow human out.\", 'If anybody can get me a pizza, let me know, I would really appreciate it, it  Would make my night, and week a whole lot better after so much stress from life and school.', 'Thanks :)'], [3, 3, 3, 3, 3, 9]], 't3_jcuju': [[\"I just came back from vaction, now I'm broke.\", 'This has put a damper on my plan to lure Batman to my house to learn his ways.', 'There are 4 people who live here and I am trying to get enough pizza to feed them and, with any luck, attract the Dark Knight himself to join in the festivities.', 'I have requested pizza on this site before and have recieved a gift card.', \"But at the time I couldn't use it so I donated it to someone else who needed it more than I did (not unlike the Caped Crusader would have done).\", 'I would be grateful for any help.'], [3, 3, 3, 3, 3, 9]], 't3_420x5e': [[\"Hello my name is James,I'm a 27 yr old male in California in DIRE need of some food/pizza...\", 'I lived in a house shared with a buddy and 2 couples until recently.', \"At approximately 4:00 am earlier this month, completely unprovoked,I was attacked with a bat by one of my male roommates (He apparently became convinced his wife had feelings for me,which was completely false) I awoke just in time to cover my face as the bat was swung down on my head,and after several more blows,escaped with my life and clothes on my head.I was taken overnight to the hospital,my attacker taken into custody....upon release I was told to never come back to my home again,as my remaining roommates,having been friends for 2 decades,ultimately decided I was to blame for my attacker being detained,not caring for my well being,or the fact that I paid rent (I would have just stayed anyway for this month anyway,but was threatened with my life if I tried)\\r\\n\\r\\n\\r\\nSo now,having no family around and little to no friends to help (he decided to take the bat to my phone as well) I'm now out on the streets...I have no food,no money,and nowhere to go at night to sleep or even get out of the cold...I also lost with my home my means of Transportation,save a barely-functioning bicycle.\", \"This is the whole story about what happened,without bias...its with a tremendous amount of sadness,and an unspeakable loss of pride that I write this,I have earned everything I have my whole life...If anyone has a trailer or Camper not in use,or willing to rent out Im willing to work for it.I am a medical CNA and am able-bodied...I am in need of clothes,shoes,Backpack,nearly anything sadly as all my possessions were gone through and taken...any gift cards or credit to obtain any food/clothes etc would be more than appreciated...I'm trying to stay positive, I later found out my roommate who attacked me has done this before,once nearly killing someone by stabbing them 8 times!\", \"But Im not a vengeful man,I forgive him,he's obviously a sick individual...\", \"I'm getting involved with the Victims of Violent Crime program, but seeing as he is still in jail and yet to be seen formally by a judge,that will take time...I can show whomever his charges however to corroborate my story if need be...I greatly appreciate both the time spent reading this and any help/advice given, thank you\"], [3, 3, 3, 3, 3, 3]], 't3_jjq9w': [['Just heard about this and rather than request a pizza for myself I thought how fun would it be for a surprise pizza to show up for the Adoption and Lifesaving staff at the animal control shelter I volunteer with several times a week.', 'Its a rainy and miserable day, the shelter is extremely overcrowded meaning the days are stressful and filled with tough decisions being made for space.', 'I wouldnt want them to know its from my request but just a random act of Pizza sent there way for all their hard work.', 'The staff are there until 8pm Eastern time.', 'Im actually headed over to walk some dogs this evening and would love to see them enjoying a surprise pizza :)    Even if we cant make it happen tonight..maybe another night/afternoon this week.', 'Pizza can always make a bad day a little better!'], [3, 3, 3, 3, 3, 3]], 't3_9wrgmp': [[\"I'm a student in the UK who has been struggling financially for the past few weeks.\", \"Luckily my family has had my back for the majority of it, but now I'm out of money again and I genuinely feel terrible about constantly asking them for money.\", 'I luckily got a job not too long ago and will be getting paid on Friday.', \"Until then I'll be stuck with pot noodles  for 80% of my meals.\", 'I know this is your typical \"broke student\" post but the struggle is honestly real and that\\'s why I promise to pay it forward to another student whose going through the same problems, once I\\'m financially stable myself.', 'I have a Pizza Hut and Dominos very close to me and would be completely fine with either of them.'], [3, 3, 3, 3, 3, 3]], 't3_9bncs6': [['Hello everyone!', \"My family (fiance and 3yr old son) and i have been eating veggies and rice for the past week because i ran short on money and wasn't able to make it to my payday tomorrow.\", 'While i do have a job its been part time due to minimum wage going up so ive only been getting 2-3 shifts a week at 4-6 hours each.', 'im looking at getting a different job and also considering going back to school to help get myself out of this slump.', 'Pizza would be amazing tonight and if someone helps us out i can see about paying it forward after i pay my rent and get groceries!', 'Ty for taking the time to read!'], [9, 3, 3, 3, 3, 3]], 't3_q9437': [[\"College student and I've lived mostly off of rice, oatmeal and a starbucks gift card I found in my apartment for the past 2 days.\", \"I could really use something more substantial but true to undergraduate form I'm out of cash right now.\", 'A delicious meat and veggie topped pizza would really hit the spot.', \"If I'm honest I could bum some sandwich money off a roommate and overall I'm hardly in dire straits but I'm sick of hitting my friends up for minor things.\", \"Just a college student with a stomach that's as empty as his wallet.\", \"I'd love a pizza to study with tonight and to eat cold for breakfast tomorrow morning.\"], [3, 3, 3, 3, 3, 3]], 't3_12j06o': [[\"The electric company turned off my power last night, I payed the bill, with what money I had left, but they said they won't turn it on until monday.\", \"I have little food, and what I do have is freezer stuff that I can't cook.\", \"I have two long papers to write for class and I'm pretty much running on empty and can't concentrate.\", \"What's a girl gotta do to get some pizza =\\\\.\", 'This post honestly makes me feel so pathetic, took a lot of courage to finally post it, not a fan of asking for help.', 'It would really help if someone could send me an egift card or something, then when im back on my feet ill payt forward as much as i can.'], [3, 3, 3, 3, 3, 3]], 't3_1l7iq5': [[\"I'm dealing with some severe depression, caused by mental illness and right now all my money is being thrown at my doctors to help me get through this.\", 'I have little food in my home, all of which needs to last me until the 8th when I can go grocery shopping again.', \"I'm feeding myself, so I don't need a lot, really anything will help.\", \"I'm in Salem, OR if that helps any.\", 'Thanks.', '#NAME?'], [5, 3, 3, 3, 9, 0]], 't3_2adwse': [['I can provide proof.', 'I have six bucks for the next week.', \"A month ago my husband's dad died we just found out yesterday (he hasn't talked to him in ten years) he is beating himself up for things beyond his control.\", \"I'm hoping I can get a pizza to cheer him up.\", '*edit- fulfilled by /u/andrewisboredx2 thank you again.', 'This is awesome of you.'], [1, 3, 3, 8, 3, 9]], 't3_ts9p3': [['Hello RAOP.', 'I am in need of pizza for me and my pup.', 'I have been out of work for a couple of weeks and I need a pizza to celebrate having been chosen for a PAID internship with a local marketing agency in Dallas.', 'The program starts in a week.', 'I can doodle anything here is [self-portrait](http://i.imgur.com/OWnlq.jpg?1) I can also do any name in graffiti.', 'Thanks!'], [9, 3, 3, 3, 2, 9]], 't3_3oh761': [[\"I normally forward my pizza's on the other sub, but right now I cant promise should I be given a pizza I can pay it forward anytime soon.\", \"I'm struggling with money but I will do my best should I get enough spare money!\", 'I have another job interview on Thursday, so wish me luck!', 'Would love some hot food.', \"I've literally not had a hot meal since the last time I received a pizza from one of these subs, almost 2 months ago now.\", 'Cheers fellow pizza givers!'], [3, 3, 3, 3, 3, 9]], 't3_1l1b96': [[\"I'm going to be completely honest here about my stupidity.\", 'I went to the store today and spent my last bit of money buying some alcohol and didnt even think about the fact that I have no food.', 'Now I am at home, and have no money and no food in my house.', 'A friend of mine told me about you guys, so I thought I would give it a try.', 'Thank you in advanced for even reading this.', 'Cheers'], [3, 3, 3, 3, 9, 9]], 't3_44e3wa': [['I am 20 year old that currently has no job :/...', \"I have had a shit day today, which could be related to my bipolar but I don't think it is...\", 'I can do something something for somebody.. (draw, music, throw eggs at my roommate randomly,  pretty much willing to do anything..) I am really stressed and a fun activity actually might help...', \"I would rather not go into why I had a bad day because it might seem stupid to a lot of you.. but for me, I am struggling just to pull myself out of bed... (oh, I can help design a website as well if anyone would be interested in that.. or a mobile app for something) This isn't a sob story either..\", 'I don\\'t \"need\" the pizza.. when my roommate gets home in the morning I can ask him to bring me somewhere..', \"I just can't afford it myself (again, trying to change that.. but I am in a really bad spot in life right now.. so it's hard.. but I am keeping a positive attitude about it.. or trying to at least)\"], [3, 3, 2, 3, 3, 3]], 't3_84ht96': [['No sob story here.', \"I know there's so many people on this sub who have it way worse than us.\", \"We've been living on the skinny for a while and it wears on you.\", 'I just worked an 11 hour day and have to work from home tonight.', \"We'd be so grateful for a cheese pizza.\", \"First chance I get to pay it forward, you've got my word I will.\"], [3, 3, 3, 3, 9, 3]], 't3_3qmhjr': [['i am a full time student in huntington, WV.', 'i have completely ran out of money and food.', 'my birthday is this weekend (sunday) and i have no friends to celebrate with or money.', 'Would love a pizza for my birthday.', 'We have all the major chains around here (papa johns, dominoes, pizza hut).', 'please please &lt;3'], [3, 3, 3, 3, 3, 3]], 't3_15qz4q': [[\"I am a broke ass college student (senior at Kennesaw State) and I won't be getting any money until the end of January.\", \"I'll probably be eating at the local shelter for the rest of the month.\", \"Would really just enjoy some good hot food tonight so that 2012 doesn't have to go out miserably in hunger.\", 'Thanks.', 'Happy New Year!', 'I hope 2013 brings great things to all you wonderful people.'], [3, 3, 3, 9, 9, 3]], 't3_klige': [[\"Okay, so I'm not exactly in the worst place seeing as I am living with my parents.\", \"But, due to circumstances with them, we've been in really tight money for about three years now.\", \"And we've been getting by food wise on food banks, and some meat (mostly chicken) on payday.\", \"It's looking up recently, but that doesn't change the fact that I haven't had any sort of pizza in a little over three years.\", \"So, it'd great to get some from one of you guys.\", \"Verification can be given when it's set up.\"], [3, 3, 3, 3, 3, 3]], 't3_1lf8vi': [[\"Okay so to keep things short, my fiancee has been having a really rough week and I'd like to surprise her with some pizza.\", 'The only problem is due to some recent financial obligations and trouble, I am low on funds and unable to buy it for her.', \"So if anyone has any good coupons or deals, or would be willing to gift her some pizza I'd be really gratefully and will definitely gift it forward as soon as I can.\", 'She has Papa Johns and Dominos nearby, and we are located in Lynchburg, Virginia.', 'Thanks!', '!'], [3, 3, 3, 3, 9, 3]], 't3_7stty5': [[\"So my wife's a full time student studying pharmacy technician than going on to be a pharmacist who's also pregnant and is finally able to hold down food.\", \"She's been craving pizza but unfortunately I have absolutely no money to order her pizza.\", \"We live on Schofield Barracks in Hawaii we're near a pizza hut and dominos and papa John's.\", 'I can pick it up so delivery fee will need to be paid.', \"She's really hungry and just hasn't been feeling so well but she's kicking ass at being an amazing wife and student and would love to satisfy her pregnancy cravings with some pizza if anyone is willing to help a fella out.\", 'Thanks in advance.'], [3, 3, 3, 3, 3, 9]], 't3_zqtrr': [[\"From this site: http://ctscampaign.weebly.com/strike-support.html\\r\\n\\r\\n&gt; Primo's Pizza, a locally owned and teacher-friendly restaurant near the strike HQ delivering pizza, pasta and salads.\", 'Call Gus or Daisy at Primo__ Pizza at  (312) 243-1052 .', 'Primo__ is at 816 W Van Buren Street, Chicago.', 'Open 11 am to 9 pm Monday through Friday.', \"My sister is a Chicago teacher, and she says they'll begin picketing, tomorrow, so sending deliveries to schools in striking districts will likely reach appreciative mouths, as well.\", 'Anyway, I hope we can show at least a few teachers some love from all over.'], [3, 3, 3, 3, 3, 3]], 't3_1hhtrg': [[\"[Pizza Recived] thank you u/Kirbykun \\r\\n\\r\\n\\r\\nI've been living out of my car for 4 months, and have just reached a new low after losing my wallet.\", \"I don't have a family to turn to for help- grew up in foster care, and I don't have any friends really.\", 'I had just taken out a payday loan to buy food with before going to the gym and lost all of that money.', 'This is a major set back for me, however I am thankful I still have a job.', 'I really could use a hand.', 'I live in San Diego, near a papa johns, pizza hut, round-table, and dominos.'], [3, 3, 3, 9, 3, 3]], 't3_6cctnw': [['Hello from Indianapolis!', 'My wife and I are down to our last few bucks after paying all of our bills and have been living off ramen for the past few days.', 'A pizza would lift our spirits so much, and we could return the favor in ~2 weeks.', 'We are within delivery range of all three of the big national chains, and there are lots of local places also.', 'Thanks!', 'Hope everyone is having a great weekend.'], [9, 3, 2, 3, 9, 9]], 't3_3v7zy3': [[\"She just started a new job, and she won't get her first paycheck for another couple of weeks.\", \"She had her wallet stolen, so she doesn't have much right now, and she's basically having to choose between food and bus fair with what little she does have.\", \"We've been trying to help her until she can get back on her feet, but I just spent the last of my money buying my boyfriend a birthday present yesterday, so I don't have enough to buy her a pizza.\", 'Would any of you be willing to help out?', \"She's in Poinciana, FL.\", 'I know I (and definitely she) would be incredibly grateful.'], [3, 3, 3, 3, 3, 9]], 't3_2hgphf': [[\"I was talking with a friend online about feeding my daughter, my son, and my son's two brothers tonight and not having any money to do it with and he told me about this sub.\", \"I've been a redditor a long time but did not know about this sub till earlier today.\", \"Anyway, it's been a really tough month, we are completely broke, rent was due Sept. 1st and is just now going to be paid tomorrow.\", \"We have all been eating bologna sandwiches like they are going out of style and I just really don't want to ask them to eat it again.\", \"I'll eat bologna again  myself, I would just love to be able to give them something different.\", 'Thanks for any help anyone can give, we are in Western KY.'], [3, 3, 3, 3, 3, 9]], 't3_kl2qa': [['Hello.', 'I have received once before in an offer post.', \"I'm humbly asking again if someone could assist us with a pizza.\", \"We just got back from swimming practice and we're pretty hungry.\", \"We have some buttered noodles to hold us over, but we're pretty sick of those.\", ':P    Thank you.'], [9, 3, 9, 3, 3, 9]], 't3_3nqxk2': [['I normally work Noon to 3pm (Eastern) for [WFKU](  ), a datk alternative Internet radio station.', 'My station manager gave me the OK to do a ten hour fundraiser for my art &amp; music projects (goal for today is $50 in pledges on Patreon, already up to $15/month).', \"If you can send me a Domino's e-gift card, as there is one literally two blocks from me, but I can't leave my apartment during my shift to get anything, I can play you a block of requests and/or say any embarrassing thing you want me to on the air!\", \"It'll be archived for the whole Internet, too!\", 'Whoo-hoo!', \"I usually eat at 6pm Eastern, so I've got a couple hours.\"], [3, 3, 3, 3, 0, 3]], 't3_8mfcrk': [[\"I'm homeleas but I have a hotel untill thurs morning.\", \"I haven't eaten anything  but eggs and beans all week.\", 'I would be so grateful for a pizza.', \"I'm in North Hollywood Ca.\", \"I'm near a big mama's and papa's pizza and papas johns and a dozen of local places according to eat 24.\", 'Zip code 91605.'], [3, 5, 9, 3, 3, 3]], 't3_j0ert': [[\"As a rock climber and guitarist, I've been bummed out since I screwed up my elbow ten days ago.\", \"I'm behind on rent, bills, and loans already, forgot about automatic bill pay this Monday, and I am overdrafted until my low-pay check on Friday.\", \"[Can't get this melancholy but beautiful song out of my head](http://www.youtube.com/watch?v=VQ5isLBu_To).\", 'Chicken is nice, and these are definitely First World (Boston) college student troubles.', \"My light at the end of the tunnel is a comp sci Bachelor's (and job?)\", 'in December, but, man, pizza sounds like pure love right now.'], [3, 3, 3, 3, 3, 3]], 't3_7fk9yv': [[\"I live about 4 hours from my mom and I wasn't gonna have the money to purchase a new car until the end of this week.\", 'Because of that i was going to be skipping the trip to her house for thanksgiving.', 'After I learned of some stuff going on with her and my stepdad i knew that i had to see her at all cost.', 'So I spent the rest of my weekly money to pay for the rest of the car I was buying from my manager.', \"Long story short.... it was great to see my mom and sisters but now I'm very short this week and not much to eat.\", 'Thank you!'], [3, 3, 3, 3, 3, 9]], 't3_j8f0g': [['I have ~20 bucks on me since I sent the rent check off yesterday, and I hate asking my parents for cash when I get paid from my job on the 15th.', \"I'm at work now (on campus job) and don't really want to eat Pop Tarts for dinner.\", \"There's a Dominos next to campus that always has cheap student specials, but I want to try and make my 20 dollars last as long as possible simply because I don't want to ask for bailout from my parents (trying to actually be an adult and make a living for myself.)\", \"It's okay if you guys want to give to someone more needy!\", \"I just kinda thought I'd try and see if this struck with anyone familiar with the situation!\", 'Best of luck to everyone out there!'], [3, 3, 3, 3, 3, 9]], 't3_3575vr': [[\"Good news - I don't have a brain tumor!\", 'However, I am having unexplained seizures.', 'I spent all last night in the ER getting pictures taken of my brain and having vampire nurses drain me of blood.', \"Now I'm too exhausted to cook, attempting to navigate my insurance's effed up system in an attempt to get an appointment for an EEG, and too broke to order pizza for myself.\", \"So just thought I'd throw a request out there.\", '(Fort Worth, TX here.)'], [3, 3, 3, 3, 3, 3]], 't3_25u7ex': [['I am a single man in Colorado Springs, CO.', 'I got laid off from my construction job a couple months ago.', 'I have been fortunate enough to maintain my savings account enough to pay my bills, but I usually go to Springs Rescue Mission, for a monthly food box.', 'I missed my chance today though, and they wont open again until monday.', \"There is a Papa John's, Dominoes, and a Pizza Hut within a mile of my place.\", 'Thanks in advance for anything.'], [3, 3, 3, 3, 3, 9]], 't3_2g1jkk': [['Hi reddit.', \"I seemed to have accidentally posted this on what seems to be a less popular version of this subreddit, so I'm going to delete that and x-post here.\", \"I'm a bit behind on cash, and would like to get my daughter some pizza tonight until I get paid tomorrow.\", 'I will happily return the favor come November when I turn 18 and get a full time job!', 'Please, if you find that someone else also deserves pizza, pick their post over mine.', 'We will be fine for one night, this is just me asking strangers for help instead of my family for once.'], [9, 3, 3, 2, 3, 3]], 't3_wm9q9': [['Thanks for reading my post.', 'I have been struggling with money for quit some time now.', \"My checking account is in the negative like $500, my house payment is due tomorrow and I don't have the $ to pay it.\", \"It would be nice to enjoy a pizza with my 11yo son tonight since I can't afford to do anything else with him.\", 'Thanks!!', '!'], [9, 3, 3, 3, 9, 0]], 't3_8n5qss': [['The only food we have right now is canned vegges and a box of hamburger helper with no beef or milk.', \"We've been snacking on cereal without milk the last 2 days and would love it if I can get us a pizza.\", 'We live alone with just the three of us and would appreciate any and all help.', \"We can take a picture of us with the pizza if you'd like!\", 'Thank you so much for reading, have a nice day/night!', \"There's a dominos and pizza hut near us as well.\"], [3, 3, 3, 2, 9, 3]], 't3_7qhm4g': [['Recently, my skateboard broke.', 'It was my only form of transportation from place to place so i spent around 140 on a new one.', 'Im officially broke with no money or food.', 'A nice hot pizza would be great right now.', 'I dont have anyones house to go for food because my moms grandma died recently and my mom flew to Sinaloa to attend her funeral.', \"Places around me are Domino's, Pizza Hut, and Papa John's if it helps.\"], [3, 3, 3, 3, 3, 3]], 't3_i3tm6': [['EDIT: Disregard, girl invited me to BBQ.', \"See you in a month, I'll still send out the pizzas.\", 'All alone on fathers day sucks more than I thought it would.', \"I don't need much, just a small cheese from someone who cares to cheer me up.\", \"I don't have enough $ for pizza and the gas I'll need to work my shitty job.\", \"I've never done this before but if I get something I'll send out two pizzas next month in your honor.\"], [3, 3, 3, 3, 3, 3]], 't3_70z96e': [['Hello everyone!', \"So I'm currently a college student living with my girlfriend.\", \"Things are tight right now because we both just started new jobs (just moved to the college town a month and a half ago), and our first paychecks don't come in for another week and a half.\", 'No spare money right now, but we could really go for a pizza that we could eat while we watch the Lions give the smackdown to the Giants tonight [Or at least hopefully ;)].', 'There is a pizza hut, dominos, papa johns, and hungry howies nearby.', 'Thank you everyone who reads this, any anything at all would be appreciated!'], [9, 3, 3, 3, 3, 9]], 't3_9hyin1': [[\"I just moved into a room in a shared house (my gran's friend who rents out rooms to not live alone - instant status as favourite renter!)\", 'from a 2-bed flat.', \"I have a little half-kitchen (two how plates, basically) but no pots or pans or anything - that's all stored in my parents garage in the other end of the country and I won't be able to get it for another week...\", \"So while I can accept living off of cereal and cold sandwiches for a week (after all, I am a poor student so that's like.. the majority of my food pyramid already, and probably a nice break off from the usual ) a warm, cheesy pizza would make studying electric circuits for my engineering course so much more enjoyable... :D Also, if someone donates I will write you one or more haikus on a topic of your choice!\", 'go crazy!', ':)\\n\\n&amp;#x200B;\\n\\n(practical info - I live in a city Denmark and lots of places within reach - one being dominos, but we also use Just-eat a lot here so that works too.)'], [3, 3, 3, 3, 3, 0]], 't3_865wwt': [[\"My sister is helping me out with a little money (which she owes me anyhow) on Friday, and I'm on my way to steadier work (woo-hoo!)\", \"But for now, I'm really, really hungry, and would be eternally grateful to anyone who can help out a little.\", 'Pizza would sure tide me over.', \"I'm in Mena, Arkansas, USA.\", 'Pizza Hut is the option.', 'Thanks so much in advance!'], [3, 3, 3, 3, 3, 9]], 't3_42u6tr': [['Hi, I live in Iowa..', 'I just started working yesterday and we are kind of in the hole in our act..', 'I am exhausted and trying to figure out what to make besides frozen waffles , would like something better to feed family..', 'If you are feeling generous and would like to help us get a pizza and possibly cheese sticks for my picky son I would very much appreciate it..', 'Thank you in advance ..', 'This would be feeding my Hubby and I, and our 3 year old son..'], [3, 3, 3, 9, 9, 8]], 't3_1z3x3c': [['I would love a pizza or an e-gift card to a pizza place.', \"I'd would be willing to discuss final fantasy, infamous, assassin's creed, or some other games in exchange.\", 'I also could try to make a fancy thank you on paint.'], [3, 2, 2]], 't3_1p34t4': [[\"It's been stupid slow at my job over the past month, and I only made $20 last night that I gotta use towards my phone bill.\", 'Little help?', 'x-posted in the other RAoP subreddit.'], [3, 9, 3]], 't3_4f8iwa': [[\"Already had cereal twice today and got no money for anything else so I'm hoping to draw someone something for pizza.\", 'Something I drew recently.', 'I love drawing characters so if you want a cool piece of fan art I can do that.'], [3, 3, 2]], 't3_2gc461': [['We are sitting at home looking at Pokemon cards and watching some cartoons.', \"We'd love some pizza to accompany us!\", 'Please help!'], [3, 3, 9]], 't3_8fc04v': [['My mom is currently having to deal with a ton of problems, from horrible family members to debt and legal issues.', 'We may have to file Chapter 13, and I think maybe a bit of pizza might help, since she loves it.', \"So I thought I'd come to you guys for some help, and maybe a slice.\"], [3, 3, 3]], 't3_67a7sy': [['Pretty much all my money has gone on bills, not got any money left over and have been living on beans on toast for the last week.', \"I'm just wondering if a kind soul would help a brother out with a pizza?\", 'Thanks in advance.'], [3, 9, 9]], 't3_nkfs6': [['Awesome Awesome!', 'Thank you, beardless Santa, for the pizza!', 'NomNom'], [7, 9, 0]], 't3_8iycfz': [[\"I order foodstuffs online pretty frequently and my package for this week's food was apparently stolen.\", \"Now I'm lacking $50 and food.\", 'Could really use a pizza to last me the next couple days.'], [3, 3, 3]], 't3_32bqyz': [[\"He's been feeling like shit the last few days and I can't afford to treat him like he deserves, care to help out?\", \"I'll teach you a cool magic trick in exchange for a pizza.\", 'Thanks in advance.'], [3, 2, 9]], 't3_1cc949': [[\"I've never done this before, but I am at the end of my education for nursing school and have had a bunch of fees for my NCLEX and license that I have had to scrounge for.\", 'I just worked night shift last night on a very busy floor (as a nursing assistant), have class in the morning and have had a serious pizza craving for the past 24 hours but no way to pay for it.', 'I feel a little guilty asking, but I hope I can return the favor someday.'], [3, 3, 2]], 't3_275dpr': [[\"I just moved into a new apartment this week which tied up all of my monies in the lease and moving van so I'm without money until pay day at the end of the week.\", 'I would love to cook something but my apartment has no gas service for at least another week and all I have for the pantry is dry beans and rice.', 'I would be super grateful if anyone could help me out with a pizza.'], [3, 3, 9]], 't3_1cr9f6': [['True story, i have ordered food from pizza places multiple time but i always have gotten wings, like my entire 24 years of living.', \"Lately haven't been able to order out much at all due to working at Mcdonalds which is about all i eat, since well its free.\", 'Not really expecting anything here, just thought i would give it a shot.'], [3, 3, 3]], 't3_1e3qus': [['First time making a request.', 'Money is tight recently thanks to a shift change at work and losing my 10% night shift differential.', \"I'm off today and tomorrow so no rush :) thanks in advance\"], [3, 3, 9]], 't3_86y82g': [[\"I can't withdraw money since my card is missing and SunTrust is closed on weekends.\", 'I can PayPal $25 dollars in return if you can send me an egift card.', \"Papa John's and Domino's are my local chains\"], [3, 2, 3]], 't3_7sc0zy': [['I lost my job due to renovations about a month ago, and so I got relocated to a different store of the same establishment but I only have gotten 4 hours a week.', \"My mom left for Colombia and the fridge was left empty, I've been getting by but I quickly went through my food money.\", 'Some pizza could really make my night and give me energy to do my homework for my classes tomorrow!'], [3, 3, 8]], 't3_4lijmt': [['Got a job halfway across the country, been packing all day and could use a pie.', 'across the street from a pizza hut near all other chains.', 'willing to trade a book from my library'], [3, 3, 2]], 't3_1w5gpy': [[\"I'm running out of food at home and I don't really think I'll have much money for more.\", 'A pizza would be greatly appreciated!', 'Also, I live in Virginia.'], [3, 9, 3]], 't3_1m4qd8': [['Looking for something other than canned food to eat tonight.', 'I can pay back when I get my settlement, my Daughter says she can draw you a picture, too!', '(I think she just wants to show off her art).'], [3, 2, 3]], 't3_llyi4': [[\"YES we just finished running our first ever 5K run around Arthur's seat in Edinburgh!!!!\", 'we are pretty knackered and need to regain the calories we lost running up those massive arthur hills in the scottish chilly breeze, my friends ears popped too so the experience wasnt so good for her at times.', 'We would like some pizza please\\n\\nthank you kindly!'], [3, 3, 9]], 't3_1cf800': [[\"I'm in Canada, I had a hard day at work today and I have one coming up tomorrow (PM me and Ill give you details) I have the basics of life but I have no extra money until Thursday.\", 'Problem is, I really want a pizza.', \"If anyone is willing to help out I'll pay it forward on payday.\"], [3, 3, 2]], 't3_6a0s0c': [[\"Awaken at 3 this morning to the repo guy leaving our driveway with her car luckily we still have my car as she has quite a commute to work, now I'm walking a mile to work and funds are really low.\", 'Would love to have something in my stomach other than ramen.', 'I will pay it forward once I get back on my feet.'], [3, 3, 2]], 't3_74c95q': [['So there was this form I was supposed to submit yesterday to lower my tuition.', 'It was due on the 7th calendar day of the quarter, but my brain had interpreted it as I had one week after the first day.', 'So I handed it in today, and as a result now I owe the school thousands of dollars.'], [3, 3, 3]], 't3_is4bx': [[\"There's not a could in the sky, and after a walk earlier I feel at peace with the world, rather than thinking of bills, loans and debt, for once.\", \"Nothing I'd rather be doing right now than on reddit!\", 'Based near Albany, NY\\n\\nI have a verification code.'], [3, 3, 3]], 't3_kseg4': [[\"My '99 Jeep Cherokee I've had for 10 years now was stolen today.\", \"I've got little cash as it is and no mode of transportation.\", 'A pizza would be fantastic tonight.'], [3, 3, 3]], 't3_1jdqwb': [['Title pretty much says it all.', 'No food, till I get paid tomorrow and can make a trip to the grocery store.', 'Willing to pay someone back tomorrow!'], [3, 3, 2]], 't3_ien0r': [['i am a 26 yr old house wife and mother.', 'My family and I have been eating Ramen Nooodles and PB&amp;J sandwiches for the past week and the food stamps dont come in for another 4 days.', 'I would like my family especially my 2 yr old son to have something a little more tasteful to eat.'], [3, 3, 3]], 't3_1cpln0': [['Hey guys im 16 years old and in need of some food im home alone with me and my dog playing xbox waiting for my mom to get home tomorrow in the afternoon with food she has to work day and night shifts so shes barely home to cook.', \"I haven't eaten since yesterday and im getting headaches but my dog has plenty of dog food to eat.\", 'If you guys could please send me a pizza id draw you a picture on paint or send you a picture of me and my dog eating pizza :D EDIT: Drew a picture for you guys please im so hungry :( also sorry image kinda sucks idk whats wrong with my scanner probably because i drew it in pencil (its a lynx)'], [3, 5, 2]], 't3_297ag1': [[\"Hey all,\\n\\nDon't get paid until Monday, and my son (an infant) is well fed, bottled and clothed, however me and Mommy are sitting here eating hot dogs for the 4th day this week.\", 'Could use a yummy delicious pie, and can return the favor next week!', 'We also have the most adorable kitten on the planet (who is also well fed):   \\n\\n(Ontario, Canada)'], [3, 2, 3]], 't3_3jdxvq': [[\"I've been making homemade comic books for a few months now and I have a good collection going and I'd love to send you some if you'd like to share a pizza with me.\", 'Tired of having to sneak out hotdogs from the has station to eat.', \"Just two more days and I can move in with my brother and get off the street, can't wait!!\"], [3, 3, 3]], 't3_kkmbd': [[\"She is poorly and I'm still on my year volunteering program so don't have the money to buy her tasty pizza to make her feel better!\", 'If someone would be wonderful and help me out here, ill pay it forward next Tuesday!', 'Thank you Reddit =]'], [3, 2, 9]], 't3_1crgpr': [['Hey guys, \\n\\nThe Boston RAoP is brilliant - why not extend it to West, Texas!', \"I can't take charge for organizing it, but figured I'd make the suggestion.\", 'This is their PD, I think: 110 N Reagan St  West, Texas 76691\\n\\nAnd this is their FD, I think: 111 S. Reagan St, PO Box 97 West, TX 76691 (Hoping this is an actual building, and not just a PO box...)'], [3, 3, 3]], 't3_4hcgcq': [[\"Yeah, there's food in the kitchen but it's all the way in there and I'm all the way in here.\", 'It seems like a lot of effort.', 'Will you please facilitate my laziness and feed my family on this wonderful Sunday?'], [3, 3, 9]], 't3_1adm8i': [['Hey you loving people of reddit!', \"Yesterday my girlfriend of almost 3 years broke up with me, and I'm too poor to go out drinking nor do I feel up to preparing myself any food.\", 'Care to help a guy down on his luck out?'], [9, 3, 9]], 't3_6gmxn3': [['Just as the title says.', \"The catch, I'm in Romania, but we can arrange the order trough [Foodpanda](  )!\", 'Thanks a lot in advance :)'], [3, 3, 9]], 't3_aus3ka': [['got a second job (nights)to try and supplement my income somehow.', 'but im broke until wednesday.', 'anyone wanna help a vegan out with some pizza for tonight?'], [3, 3, 9]], 't3_94oxwg': [['She is schizophrenic and unfortunately because we do not have health insurance, the cost for her medicine come out of my paychecks.', \"We've been eating just rice and beans for a couple weeks now, and a pizza would really help.\", 'Thanks.'], [3, 3, 9]], 't3_42hjh6': [['Hungry and pretty broke until Friday comes around again.', 'Trying this out since I saw it on the front page a while ago!', 'Tampa, FL'], [3, 3, 0]], 't3_1cd6yv': [['Alas, greater education has taken many things from me, and one of those things is the ability to order pizza whenever.', \"I won't have any money to buy pizza for a few weeks, since it's all going to tuition.\", 'Any kind souls willing to help me out?'], [3, 3, 9]], 't3_1nv8jq': [['Ive spent most of the weekend in bed with strep throat.', \"I cant afford the doctor so I'm eating expired antibiotics a friend found in their medicine cabinet.\", 'Anything would help....'], [3, 3, 9]], 't3_2tffb7': [[\"Not much more to say, I'm just hungry w/no money and hoping to eat something before campus dinner tonight.\", 'Anything would be greatly appreciated!', 'In Springfield, MO.'], [3, 9, 3]], 't3_ikit3': [['My wife is in the hospital and along with the costs of her surgery (she injured her eye and jaw in a car accident), the stress this has been on my 7 year old girl and 5 year old boy is extraordinary.', \"I haven't had time to get decent food for them and a pizza would...to be honest...a blessing.\", \"Life hasn't always been this hard on my family and I eagerly anticipate the day I can pay this forward.\"], [3, 3, 2]], 't3_4s1m5z': [['Scottish couple seeks generous pizza giver to make our Saturday a little brighter.', \"We are packing to move to our forever home and it's exhausting but we are also saving for furniture so if a kind stranger could find it in their heart to send us some cheesy, doughy goodness we would be eternally grateful!\", 'Have used RAOP once before, this time last year &amp; the easiest(nearest) pizza place to use was Dominoes :)\\nThanks,\\nErin &amp; Matt'], [3, 3, 9]], 't3_2wy26c': [[\"Hey folks, I'm in Denver just having a scrappy day.\", 'I have dominos close to me, this would be really nice.', 'Thanks if it happens!'], [7, 3, 9]], 't3_39y9q2': [[\"My car broke down and I'm using almost all of what I got paid today to fix it which ruins my trip to the grocery store.\", 'Anyone wanna buy me and my fiancee a pizza?', \"It'd really up my spirits.\"], [3, 9, 3]], 't3_7rl95d': [[\"We usually do sandwiches and chips when mom works on Fridays, however I've had a long day and as simple as sandwiches sound with three kids nothing comes easy.\", 'It would be nice if I could get them a pizza and surprise them.', 'Thanks for listening'], [3, 3, 9]], 't3_1961cz': [['any chance someone could pizza me?', 'please?', 'pwease?'], [9, 9, 3]], 't3_aipq0z': [[\"I'm a college student living in the US.\", 'I currently have -$4 in my account as I just spent a lot of money at the vet.', \"I promise to send videos of both my dog and my current foster dog getting some pizza crust (I'll even make them sit for it).\"], [3, 3, 2]], 't3_okh6v': [[\"We live in tempe and just haven't been able to afford food for a couple days.\", 'We are about running out of options and really hope someone can help us out:( text me for details if your willing to help.', 'God bless you all&lt;3 9283861115'], [3, 3, 9]], 't3_1crwei': [['We came to Anaheim for the Vex 2013 World robotics competition.', 'Now we are back at the place we are staying and looking to eat some pizza.', 'Thanks in advance.'], [3, 3, 9]], 't3_4fw1z5': [['Spending my 22nd birthday at home, broke, hungry, and applying to nearly every job on craigslist to dig myself out before finals week.', 'Chico, California if youre interested.', \"Theres a Domino's about three blocks down and a mountain mikes another light from that.\"], [3, 3, 3]], 't3_3d62b4': [['Would love if someone would help me feed them today.', \"It's my 2nd anniversary married to my wife.\", 'We struggled with rent last month as they dumped an extra 700 dollars onto it because a storm broke our patio door.', \"It's rough, and we are hungry.\"], [3, 3, 3, 3]], 't3_7a48sy': [['That pretty much sums it up.', 'We have ramen noodles but I just want some comfort food.', \"There's a papa johns and dominoes near me.\", 'Thanks.'], [3, 3, 3, 9]], 't3_1rbdqz': [['Played in a soccer tournament today where I got my ass kicked, now am hungry beyond belief.', \"Don't have any more money, as all of it has gone to applications for transferring (City college student).\", 'Would really appreciate some pizza.', 'Will try to pizza forward once I get suitable funds\\n\\nThanks!'], [3, 3, 9, 9]], 't3_4cbsi1': [[\"Edit: Zip code 32205\\n\\nToday's off to a crappy start.\", 'Tried to go into work, and got sent home (with no pay).', 'I have given pizza in the other RAOP sub, and gifted in other RAO-subs, and receiving would really make my day.', '[Bonus cat gif](  )'], [3, 3, 3, 0]], 't3_13btoa': [['Hey guys.', \"Just got a new job recently and I'm waiting for my first full pay.\", \"My partial pay last week went to rent and I'm a week till I have my first no-strings attached pay.\", 'I plan on paying it forward at that point - any chance someone can help me out with a bit of food before then?'], [9, 3, 3, 9]], 't3_14txwz': [[\"Shot in the dark....we've all been working our asses off but we don't have enough capital to properly reward ourselves.\", 'I promise to pay it forward in the future.', \"I just got a job and when I'm financially stable I'll pass it on.\", 'You have my word...and my axe.'], [3, 2, 3, 9]], 't3_9b1wnv': [[\"I can't work right now, I got into a car accident and needed my car for work.\", 'My son and I have been eating microwavable food and I thought it would be nice to treat him to some pizza.', \"He's been through a lot I just thought it would be a nice treat.\", 'I live in north Alabama.'], [3, 3, 3, 3]], 't3_lqa86': [['hey there gods and goddesses first I want to thank you for what you all do.', 'now on to my condition.', \"I recently got in a car accident, the bills aren't too bad but they took them all out of my account at once so now my account is overdrafted and I have no food to eat till I get paid on Monday.\", 'please help me out, ill pay you back and pay it forward to someone else.'], [9, 3, 3, 9]], 't3_x7px3': [[\"We're working on our house, and flat broke because of it.\", 'Tonight will be spent with a lot of rental equipment and flying dust, and I know my husband would be the happiest if he could sink his teeth into a few slices of pepperoni pizza.', 'Anyone who can help us out?', \"We'd be oh-so-grateful!\"], [3, 3, 9, 9]], 't3_1vv7av': [['My kids and I are stuck at home today on this cold snow day and would love a hot pizza.', 'I will pay ot forward next week here.', \"I'm the Hampton Roads area of Virginia.\", 'Thanks.'], [3, 3, 3, 9]], 't3_uz1hn': [[\"I'm just really hungry and low on cash right now.\", 'Will pay it forward once I get my money.', 'Thank you.', \":)\\n\\n\\nEDIT: PensiveShadows saved me from a night of hunger.You're awesome&lt;3. :)\"], [3, 2, 9, 3]], 't3_8f69rd': [['Hi pizza gifters - I have been sick this week and finally decided to throw in the towel and head home from work only to realize I have no food, and no money.', \"Plus my cat is farting and I'm just feeling crappy.\", 'In Chicago and have all the major chains: Pizza Hut, Dominos, Papa Johns.', 'Thanks\\n\\nHere is my cat when he is not farting: [Paul](  )'], [3, 3, 3, 9]], 't3_xu0dn': [['I applied to work at a photography studio to gain experience outside my chosen field and have a chance to fulfill a dream of mine while making money for school.', \"Didn't have any hope because of no past related history, but received a call 1 hour ago to be told I am a candidate for the second and final interview!\", 'Obviously, as a pay-it-forward, I will fulfill a request as soon as I can afford it.', 'Thanks guys!'], [3, 3, 2, 9]], 't3_1db9ne': [['Hey, lets just throw some info out here first, im 16 and dont live with my father and am going to meet my mother next month, and i currently have no money and no food and i have a MAAAAD craving for some pizza.', 'So if someone would give me a random act of pizza before im homeless it would be much appreciated and i would give just as much back to the board when everything is stabilized again.', 'Thanks in advance, even if you dont.', '*Edit* Also, i live in Ontario Canada if that helps any.'], [3, 3, 9, 3]], 't3_3oigcm': [[\"I'm home alone today and I don't get money for food until tomorrow.\", 'Would anyone be kind enough to just get me some cheesesticks and Coke to hold me over until then?', \"I'm in NJ.\", 'Many thanks if anyone takes this up'], [3, 3, 3, 9]], 't3_5ypu5o': [['So friday last week, my roommare kicked me out, forcing me to move back to the parents... half hour away from my job.', 'Was relying in public transportation, this week I had to buy a car.', 'After the down payment, giving people gas money to give me rides to work and back, and insurance, no money left for dinner.', 'Help a girl outd'], [3, 3, 3, 9]], 't3_r0big': [['Good evening folks!', \"We sure would love some pizza right about now, but we're too poor to feed our dog anything but carrots, let alone spare some change for a tasty slice of some pizza pie!\", \"How 'bout it?\", \"There's 3 of us and we like pineapple\"], [9, 3, 0, 3]], 't3_9nnais': [[\"I've been in and out of the hospital for my mental well-being which has made it hard for me to get the hours I need.\", \"I'm broke and on the verge of losing my apartment.\", 'A pizza would be beyond rad.', \"I'm sorry if I'm unable to pay it forward, but I'd very much like to in the future.\"], [3, 3, 3, 2]], 't3_3cy7t7': [[\"I've been refreshing my bank account all day, thinking just maybe the notification for my direct deposit hadn't gone out.\", \"I  probably won't be getting paid until Monday.\", \"I'm super hungry and only have $1.25 to my name for the bus ride back to work Monday.\", 'Thanks for reading.'], [3, 3, 3, 9]], 't3_8vvcn7': [['No sob story.', 'Just a struggling young adult who would love some pizza.', \"I live in Florida and there is a domino's near me.\", ':) thanks in advance'], [3, 3, 3, 9]], 't3_rrh8h': [['All alone in a seven bed after a long day at my work experience placement.', 'Working for no money!', 'So please make my day.', ':)'], [3, 3, 9, 9]], 't3_vbb3v': [[\"I'm 21 years old, just got out of a bad relationship and we have a 17 month old.\", \"I just moved in with my friend until I get my feet on the ground, I don't get paid until next Friday and I'm more than willing to help someone else out as soon as my funds allow me.\", \"I've never been in such a shitty situation, and I don't know what to do.\", \"I'm hungry and reaching out to you redditors\"], [3, 3, 7, 3]], 't3_uebcn': [['Recently I lost my job, so money has been a bit tight.', 'The other day, my crappy car overheated and blew my gasket.', \"So yesterday I had to put all my money towards a new car, and now I'm too poor for food really.\", \"I know this is my first post here, but it's worth a shot haha.\"], [3, 3, 3, 3]], 't3_mugyw': [['No sob stories, just college apps kicking my ass.', 'Procrastination is my best friend, we have a lot of fun then I remember all the stuff (COLLEGE APPS) I SHOULD have been doing.', \"So, now that I'm pulling an all nighter a snack, preferably a pizza would be sick!\", ':] IN CA.'], [3, 3, 3, 3]], 't3_3c8lp8': [['Accounts total -$2.41 But we paid first month rent!', ':D \\nWe would be grateful for any pizza place.', 'Hell, we would share a personal pizza.', 'Montgomery Alabama.'], [3, 9, 3, 3]], 't3_9384bp': [[\"Hi guys, I'm wicked hungry and am especially craving a pepperoni pizza.\", 'Also I want to confuse my family by telling them a stranger from a place very far away gave it to me for free just for asking, because the future is now.', \"In return I'll send you a picture of a spooky spider hanging on a web in the corner.\", \"thanks mateys\\n\\nedit: Whoops, forgot to say there's a Pizza Hut near me that delivers.\"], [3, 3, 2, 9]], 't3_7y2y4o': [['After 3 months, countless doctor visits, tests, a 3 day stint in the hospital, and some radioactive eggs, I finally got diagnosed and put on a medication that helps me eat without pain!', \"If anyone is feeling generous and would like to help me celebrate with a pizza I'd be ever so grateful!\", \"I'm in the US and have Pizza Hut and Dominos nearby.\", \"(PS I sadly can't do carry out as I don't have a car)\"], [3, 3, 3, 3]], 't3_30mjlw': [['Would any kind hearted soul be generous enough to grant me a pizza?', \"I'm skint (bills and rent have wiped me out) and all I've really eaten for the last few days is cereal and rice.\", \"I'd be most grateful.\", 'Thanks in advance!'], [9, 3, 9, 9]], 't3_1ozjuz': [['So what the title says.', 'I have about 15$ to my name and that needs to go towards a metrocard to get me through the week.', \"Doesn't have to be anything fancy.\", 'Thank you in advance.'], [3, 3, 3, 9]], 't3_2sbp60': [['Hey gang.', 'Been dealing with depression for years now, and I have had a rough week recently.', \"I managed to piss off my best friend, naturally, and he doesn't want to talk to me now.\", \"Anyways, I'm feeling pretty low here in Texas, so if anyone wants to help cheer me up, I'd be forever grateful!\"], [9, 3, 3, 9]], 't3_1loly5': [['I lost my job about a month ago and have had no luck in finding a new one.', 'I just ended up having to move back home as well because I could no longer afford to pay rent.', \"I'm not starving or going to go hungry, but a pizza would be really great right now, and I would much rather have it than easy mac for the 4th night in a row.\", \"I'll happily repay it as well once I finally have a job again!\"], [3, 3, 3, 7]], 't3_iwjzw': [['My parents just went through a divorce and times have been hard on both my mom and dad.', \"I'm living with my mom now but may have to move to my dads because my mom isn't able to support me and my dad isn't paying child support to my mom.\", 'i would love to treat myself to a pizza but i have nearly any money to pay for one, please help me with paying for a pizza!', 'i will return the favor once i am able to!'], [3, 3, 3, 2]], 't3_1ippsx': [['so my girlfriend is a waitress and has been sick for the last couple days, we rely on her tips for food and what not.', 'She is feeling better today but is moping around the house because she is worried about well EVERYTHING.', 'I think a pizza fix would cheer her up.', 'what do you think?'], [3, 3, 8, 0]], 't3_1v2npq': [['Not that peanut butter is bad!', 'I love in Texas, and payday is still 5 days away.', 'Pizza would be a refreshing change of pace.', 'Thanks guys!'], [3, 3, 3, 9]], 't3_acy3po': [['No food in my fridge and no car to go get food.', 'I am in Minnesota FYI.', 'Anyone able to help out?', 'Can post empty fridge pic for proof.'], [3, 3, 9, 1]], 't3_7nbnk1': [[\"Hey, I'd like a pizza for lunch.\", 'Currently watching dogs for family and get paid when they get back.', 'Have some hot dogs I could eat.', 'Only place that will deliver here is Dominos.'], [3, 3, 3, 3]], 't3_3ay3c5': [[\"I had to put my 11 year old cat down yesterday and I'm feeling super shit.\", \"Don't have any money left.\", 'Nothing but noodles to eat in the house for the next week.', 'Would love a papajohns e-giftcard so I can order a pie for lunch/dinner.'], [3, 5, 3, 3]], 't3_67zjdw': [[\"I've been working 12 hours a day (but on a low salary so don't get any of the overtime) and it really isn't paying off.. hoping it does soon but until it does I'm just overworked and underpaid.\", \"Now it's dinner time and I already skipped lunch and I'm going to here for another several hours.\", \"Unfortunately I'm a little out of town so no place is close, BUT Domino's (bless them) delivers to my place of work.\", \"I used to order it once in a while but can't justify it financially any more.. if somebody would be so kind to help me get some food, I'd freakin' love it.\"], [3, 3, 3, 3]], 't3_q875f': [[\"I've never done anything like this before, but I am willing to try this out.\", 'I am the proud mother of an awesome toddler whose favorite food is pizza.', 'Today is the first day of our staycation, but I am poor until Friday when I get paid.', 'Hoping to make my little man smile by having some pizza for lunch'], [3, 3, 3, 3]], 't3_a3q3gc': [['Hey everyone, honestly not a huge deal if no one gives me one, I gave one a little while back to pay it forward if I was ever in a situation where I wanted to eat.', \"Anyways, explanation is in the title, I have $5 until I get paid and I don't want McDonald's a 3rd time this week.\", \"Thanks in advance I'll be paying it forward again when I can.\", \"Edit: I'm in the US and I like all pizza\"], [9, 3, 9, 3]], 't3_73cfwg': [['Broke college student until Monday, not starving or anything, but weekend will suck major ass unless it is saved by a random act of pizza!', \"Been a while since I had a pizza, came across this subreddit and thought i'd try my lick :p\\n\\nFirst time on here, I live in Pittsburgh atm, hoping one of you fine folk can help me out!\", 'Will pay it forward when i can!', \"Cheers :)\\n\\nHere's a link to a hilarious site to cheer you guys up- it's a guy doing some lighthearted trolling on craigslist ads!\"], [3, 3, 2, 9]], 't3_1igg5z': [['Started studying in December for my Design and Pricing actuarial exams.', 'Results came out Friday.', 'I scored a 5 and the pass mark is a 6.', \"Due to the way they're changing the exam requirements, this means I'll have an extra year (at least) before I finish exams.\"], [3, 3, 3, 3]], 't3_6m3638': [['I was dumb with my money this month and thought I could help out a couple other people on this sub, but it came to bite me in the ass.', 'I forgot that I would have the extra bills to pay because both of my roommates are out of town, and am now out of money to go get groceries.', 'All gifts are so ridiculously appreciated.', 'Thanks &lt;3'], [3, 3, 9, 9]], 't3_1ix7og': [[\"I'm a student who lives off a mix of my student loans and funds from my summer job.\", \"I got laid off 3 weeks ago and since it's summer, I have no school money coming in and am trying to stretch what little money I have left.\", \"This means a steady diet of rice, beans and ramen and I'm dieing for some variety.\", 'I can send some proof in a PM if requested.'], [3, 3, 3, 1]], 't3_752r0z': [[\"A Domino's delivery will keep me going for a few days.\", 'If you feel the need to feed me in your bones, please do get in touch.', \"I'm based in Newcastle.\", 'Thanks all :)'], [3, 2, 3, 9]], 't3_xdtyq': [['Tomorrow I have a pretty stressful day ahead of me.', \"I've got to do tons of calling and mailing and application filling out to do in order to drop one school and enroll in another.\", \"I'm pretty terrible at handling stress too so a pizza would be a perfect way to unwind after it all.\", 'Any from the big 3 would be fine, but Pizza Hut is my favorite!'], [7, 3, 3, 3]], 't3_3k5vne': [['The title basically says it all.', \"My roommate and I weren't able to make it to dinner tonight, and we've been craving some cheesy goodness.\", 'Any help would be much obliged!', 'Thanks, RAoP!'], [3, 3, 9, 9]], 't3_7nnnkj': [['My leg is fucked up.', \"I had to reschedule an appointment for today to the eighth, so I've got another week of eating pain pills like a champ.\", \"I don't have much to eat, my house is freezing, I feel like shit for even posting this.\", \"If you want to help a cold eccentric start his new year right, I'd appreciate the help.\"], [3, 3, 3, 9]], 't3_2msg96': [[\"I'm tired of seeing all of these blank requests.\", \"I've got a list of things that make  me want to bite the bullet, but I just want to see these people get some Damn pizza.\", \"Please,  since I'm broke, choose someone at random in the sub and help them.\", 'It helps me just by seeing the sub flourish for awhile.'], [3, 3, 2, 9]], 't3_2wq04u': [[\"I am feeling kind of sad that I just kissed my 20's goodbye and am now considered an adult.\", 'I turned the big 3-0.', 'Help cheer me up with a pizza?', 'It would make the reality less harsh :) Located in Northern, VA and  have a Papa Johns and Dominos nearby.'], [7, 3, 9, 3]], 't3_m0nxw': [['we will love you for ever if you buy us some'], [9]], 't3_47svjl': [['Because pizza is the ultimate brain food it would be great if somebody could give me the boost I need.'], [8]], 't3_73y3bw': [['A big thank you in advance for anyone who helps.'], [9]], 't3_16glz7': [['Pretty please and thank you from me and Dog.'], [9]], 't3_1su121': [['So me and my wife have been broke for a bit and I honestly would love to just surprise her with dinner tonight.'], [8]], 't3_1lhw18': [['totally craving a stuffed crust, not expecting at all, just would be nice since I am currently unemployed'], [3]], 't3_tydcg': [['First time ever on here, would love any pizza please, very hungry with the munchies'], [3]], 't3_1eg6hz': [['*just to be clear: by CA, I mean California'], [3]], 't3_8ecpok': [[\"My moms at the hospital at the moment so i'm stuck at home alone with no money it would mean alot if someone could hook me up\"], [3]], 't3_jeudl': [[\"We still want pizza same as yesterday..we weren't successful yesterday..managed to get a few laughs, but that was it...pizza only this time, no drama, thx\"], [3]], 't3_6ux7ok': [[\"I've read the rules on this sub, and looked at previous posts to get an understanding of how this all works, but it's still a little fuzzy, so if someone could walk me through this process, I would appreciate it.\"], [3]], 't3_7pjrr1': [['I would prefer dominos carryout, and I have all major chains near me'], [3]], 't3_av6wq8': [['No longer needed'], [0]], 't3_19vqlq': [['My brother is home from college and we would appreciate it.'], [3]], 't3_4j4iim': [['I would love to have some dominos tonight so I can break my 4 day ramen streak.'], [3]], 't3_13yr6a': [[\"I don't have a sob-story, just think a pizza for me and the family would be nice until we get paid tomorrow.\"], [3]], 't3_3od8rj': [['give me pizza'], [3]], 't3_72h2iu': [['a pie would be real nice right now kind stranger.'], [3]], 't3_yd17n': [['I get paid next Thursday I just a move out on my on own im using my neighbors wifi i could really use a pizza'], [3]], 't3_1k0jhw': [['I am really craving some Hawaiian or bbq chicken and avocado pizza'], [3]], 't3_kte8z': [['ive asked yesterday and got nothing and i just need something for today for dinner im willing to pizza it forward'], [3]], 't3_68or0p': [['Located in Norway, will repay with a picture of pizza, and forward the the favor :D'], [2]], 't3_7ptkhb': [[\"Edit: Just realized I used exclusive twice in the same sentence man my brain doesn't work.\"], [0]], 't3_1mltme': [['I would appreciate some carbs in the form of pizza to stifle my cravings and cramps!'], [9]], 't3_214sb4': [['please be awesome.'], [9]], 't3_pbh5x': [['My reddit cake day!'], [0]], 't3_r16t9': [['Just a Hungry student :)'], [9]], 't3_1cryqs': [[\":) I'm new to reedit, but I've been out of money for a while..and we're studying for finals this whole weekend...so yes..Pizza would be great.\"], [9]], 't3_1lj5z5': [['O sweet reddit bless this hungry young chap with the pizza of my dreams.'], [9]], 't3_86nc9c': [[\"I really don't want to walk to the shops, help a sickly student out &lt;3 \\nIn Edinburgh, UK - we've got Papa John's, Pizza Hut and Domino's\"], [3]], 't3_1dkhn2': [['Just could really use a pizza.'], [3]], 't3_1j5piq': [[\"and I'm all out of bubblegum.\"], [3]], 't3_1o8uuk': [['Ottawa Ontario, Canada'], [3]], 't3_1ndzxb': [['Title pretty much says it all, would love a pizza to share amongst my roommates while we study!'], [3]], 't3_2jqirr': [['Nothing special, just hungry.'], [3]], 't3_ikszl': [['Received an egift from a person who wishes to stay anonymous thank you so much for helping my family.'], [9]], 't3_1mjf8o': [['Hope I get a response!'], [0]], 't3_1hq4k1': [['A couple of buddies are coming over and I would like to treat them to some pizza, will return the favor in the future to anyone who will respond :)'], [2]], 't3_1dls2w': [[\"[Here's proof :)](  )\"], [0]], 't3_2hubga': [['Ive been feeling a little under the weather as of lately and a pizza really could help me feel better---Will pay back whoever will pizza me tonight.'], [2]], 't3_jtsb9': [['myself and 2 of my friends are planning to do an allnighter but we have no food 2 snack on and was wondering if anyone could help us out \\nthanks :)\\n\\nwe are in surrey\\ni am kinda new 2 this so i dont know what to do'], [3]], 't3_2hxf61': [['Art student will draw anything of your choice for pizza.'], [0]], 't3_11ux2a': [[\"I actually have money for the pizza but all I have is a 50 dollar bill, and the delivery boys don't accept anything larger than a 20 dollar bill.\"], [3]], 't3_2rrwr8': [['I literally have only 1$ in the bank (  ) account and could really use a pizza, when I get paid Friday I will fill 2 requests on this sub, to pay it forward two fold'], [2]], 't3_upm24': [[\"I know I am new at this website but my friend suggested me to come on here for the fact of how kind and generous you people are... low on funds will get my paycheck tomorrow but all my check is going to my rent and bills got approved for snap that will not be getting that till next week.. have no vehicle and no way to go to the food pantry there are not walking distance from here and it's 95 degrees outside I've been eating nothing but raman noodles all week and I'm sick of it a pizza would go a long way I will be sure to return the favor as soon as I get extra money thank you and god bless\"], [3]], 't3_a762xd': [[\"So after having a rough year I ended up homeless and I have a friend's couch to sleep on for a few nights and would love to have a nice hot pizza to help these nights feel more comfortable and feel like what it used to to have a roof over my head.\"], [3]], 't3_11tjwv': [['If I had a pizza I would eat it  d(O_O)b'], [3]], 't3_21vhi9': [[\"The facts don't lie.\"], [0]], 't3_64socv': [[\"I don't get paid again until friday, and would love a Dominos Pizza to celebrate finishing off my debt, since that was my dinner 5 nights out of the week at school!\"], [3]], 't3_qqzpt': [['thx bros'], [9]], 't3_79jwbj': [[\"I am flat broke and staying on a friend's couch after escaping an abusive relationship, and i don't want to eat their food in addition to requesting living space.\", 'A cheese pie would be very much appreciated and I can pay it forward in a few weeks.'], [3, 2]], 't3_u2x1g': [['Could really go for some cheesy goodness to commemorate this joyous occasion.', \"Here's proof:\\nhttp://i.imgur.com/YF7oU.jpg\"], [3, 3]], 't3_1fxma9': [[\"I have a hunger only pizza can satisfy but I'm broke as a joke right now.\", 'You are AWESOME please help me out..'], [3, 9]], 't3_14i72s': [['The Noro virus really really sucks.', '(England)'], [7, 0]], 't3_6zqu8m': [[\"Hey I'm a TWS student waiting for them to help out but they said it won't happen til tomorrow ...\", \"I'm on my phone just taking a chance at this, we been out of power for a day and a half just wanting some warm food\\n\\nI'll be getting assistance tomorrow if anything so no worries if others need more than I\"], [3, 3]], 't3_y80tw': [['Just got home off of a long ass drive from Fountain, Michigan back home to Racine, Wisconsin all in one run.', 'Too tired to make dinner but I can offer you a pretty sweet picture of the sunrise on Lake Michigan\\nhttp://sphotos-a.xx.fbcdn.net/hphotos-ash4/215431_10152018722100414_1224859864_n.jpg'], [3, 2]], 't3_4ajua7': [[\"I've got a real stinker of a cold right now and a margherita pizza would really cheer me up!\", \"I'm in Margate and nearest place is Domino's.\"], [3, 3]], 't3_43d2x6': [['Can i IOU someone a pizza or something..', 'I will buy you a pizza on tuesday.'], [3, 2]], 't3_38g7hr': [[\"I'm broke and hungry, straight to the point.\", \"I'm in the Houston area (which is as much as I'll say for privacy)\\n\\nanyone wanna be cool?\"], [3, 3]], 't3_wwkkm': [[\"Short on cash this summer, currently taking summer B classes at Usf I'm a out of town student low on funds and a friend told me that site helps.\", 'Not looking for much just something to hold me over through to the weekend..Thanks'], [3, 3]], 't3_8l0sbc': [[\"I'm on disability and short on cash until my next check and I'm hungry for Pizza.\", 'I would really appreciate if anyone was was willing to help me out.'], [3, 9]], 't3_7kpofz': [['Just found out I got a 3.0 this semester after working my butt off to bring my grades up.', 'Hungry and would like a pizza to celebrate.'], [3, 3]], 't3_1ig16d': [['We recently moved to the area and have basically been living paycheck to paycheck.', 'She just started working again and has been kicking ass and has bailed us out a couple times and I would really like reward her with pizza.'], [3, 3]], 't3_1ex028': [['No particular sob story here, just had nothing to eat since yesterday afternoon, and I dont get paid till tomorrow night, dominoes &amp; papa johns are the ones in my area.', 'Thanks folks.'], [3, 9]], 't3_1c5whr': [['Broke until payday and only have soup waiting for me at home, but I am craving some cheesy goodness!', 'If anyone could help, that would be gnarly!'], [3, 9]], 't3_10pq58': [['Started school and had to cut back my hours at work, so my paycheck has been a little lacking.', 'Would really appreciate a pizza.'], [3, 9]], 't3_vb27s': [[\"Dunno how this works really, but I thought I'd try it.\", 'Sunflower seeds are getting a bit old, lol.'], [3, 0]], 't3_6ybq9q': [['It would really make our night if someone got us a pizza for dinner tonight.', 'Ill make sure to pay it forward come my next paycheck.'], [3, 2]], 't3_3532ba': [[\"I have been out of a job for a few months and can't afford food for a little.\", 'I have rice and sriracha to feed myself, but I could use a pizza for today because I just finished my semester and raised my GPA again.'], [3, 3]], 't3_2hnq7o': [['The world hates me and I have no way to zaaaaaaa.', 'Who will be my savior?'], [7, 9]], 't3_afcpu7': [[\"My dad is a government employee, he's still having to go to work, so we know he'll get back paid at some point, but he's already had to take out a loan to pay his bills for the next month.\", 'Some extra help with food would be greatly appreciated!'], [3, 9]], 't3_10nyhz': [['Hello I posted last night but forgot to put the proper tags.', \"yesterday I had to spend a weeks pay getting my car fixed, there is no food in the house, i've had a cheese sandwich and four peanut butter crackers since yesterday.\"], [3, 3]], 't3_7qwkzk': [['My mom and I are broke right now and have no money for groceries.', 'I would very much appreciate a pizza to share with her when she gets home from work.'], [3, 9]], 't3_14voh5': [[\"New to this whole RAOP thing :x\\nI'm here visiting my sick girlfriend who lives a few hours away for the weekend and we're really hungry!\", \"I won't be seeing her this New Years and I'm using my money for gas :|\\n\\nWe would really appreciate it!\"], [3, 9]], 't3_sr2y9': [[\"My siblings and I are hungry for some pizza, we don't go out much and with our parent working all the time we never get to go out to eat much.\", 'So please if anyone can give us a pizza that would be awesome.'], [3, 9]], 't3_9i407i': [[\"I was set to start a job this week, but due to issues with the training schedule, I've been set back to a start date which is roughly a month from the original date.\", 'I would greatly appreciate if someone could give me a hand.'], [3, 9]], 't3_9v0vf0': [['Hey guys, I am not one to ask for anything but I just got a septoplasty (nose surgery) and I am feeling really cruddy and would love to get a pie just to keep my mind off the pain.', 'I am in the southeast US and all major chains are nearby, I plan to pay it forward next payday!'], [7, 3]], 't3_46y9oj': [[\"Its wet its rainy and I'm hungry.\", 'No sob story jsut want pizza for Fiance and I.'], [3, 3]], 't3_ytpeu': [['At work tonight in a hotel and none of us have enough cash to order a pizza or anything for that matter.', 'We would really appreciate some free food to fill out empty hospitality worker tummies.'], [3, 9]], 't3_84rilq': [[\"If you're obliged, I'd like a couple pizzas to hold me over from now till then.\", 'Thank ya!'], [3, 9]], 't3_u7fva': [['Just as the title says, we are ready to smash some delicious pizza and whomever can deliver us goodness by the end of the night can also karma whore my body with a negotiable tattoo from my artist friend.', \"So who's got our backs?\"], [3, 9]], 't3_4o3fc3': [[\"I don't have any money on me right now as I'll get my paycheck next week.\", \"I also been feeling like shit cause the girl I like graduated and u won't see her anymore.\"], [3, 7]], 't3_1cc1fm': [[\"I know it's a long shot by being in Denmark, if you want to help me you will probably need to be danish.\", 'Willing to post proof of any kind.'], [3, 3]], 't3_7z71dz': [['After going through a rough spot I finally got a decent job, but I do not get my first paycheck until tomorrow and I have no car or way of getting groceries until tomorrow, anything helps!', 'EDIT  \\n  \\nThere is a Pizza Hut as well as a Dominos near me.'], [3, 3]], 't3_jisdc': [['Hey all i live in a very small town in iowa we have like 3 places to eat  in this town, pizza hut , subway , hardees i unfortunately dont get paid until friday and our food is running low, anyway, me and my wife have decided to on here to try and get a pizza and if we dont succeed we will try to create flour noodles !?', 'and those dont sound appetizing to be honest .'], [3, 3]], 't3_pa2xk': [[\"but I'm getting my friends from my early child hood together and I don't have enough money for any pizza or even any thing more than chips.\", \"And it'd mean a lot to me, but I'd understand if I didn't get one because like I said Im not the **most** needy and thanks to every one in advance **:)**\"], [3, 9]], 't3_lhqi7': [['Title pretty much sums it up, I would like a pizza or two.', 'Would prefer Pizza Hut but Dominos is fine too.'], [3, 3]], 't3_6dwnhj': [['I am so over rice and soy sauce and I would for a pizza to change that up.', 'I live in Austin and there I have tons around me.'], [3, 3]], 't3_80034p': [[\"I've made a few gifs on r/michaelbaygifs over the last year or so, since it's fun to do    \\n\\nSo in return for a nice Italian pie, I offer my explosive service.\", \"Pick a video or a gif (if you have something in mind, it works best if it's good quality) and I'll do my best to apply some Michael Bay to it.\"], [2, 2]], 't3_9w0j1e': [['Hey guys, I am not one to ask for anything but I just got a septoplasty (nose surgery) and I am feeling really cruddy and would love to get a pie just to keep my mind off the pain.', 'I am in the southeast US and all major chains are nearby, I plan to pay it forward next payday!'], [3, 2]], 't3_j87d2': [['Upstate SC, she would really appreciate the gift and it would save her time from cooking!', 'thank you RAOP!'], [3, 9]], 't3_1pg1xv': [['Student in Columbus, OH, will be up studying for a while.', \"Incredibly hungry and I can't get some food anywhere on campus so a pizza would be greatly appreciated!\"], [3, 9]], 't3_14ghqp': [['My roommate and I have been studying for finals for awhile now and we realized that we are completely out of food and would love a pizza if you would be willing to send one our way.', ':)'], [3, 9]], 't3_5xcury': [['Literally drinking whole milk to trick my hunger.', 'I live in the U.S. and I got a Pizza Hut near by :)'], [3, 3]], 't3_n32ze': [['wallets empty, plus finals and wrapping up the final week at my internship...i would really appreciate a nice fresh steaming triangle of cheese at this moment in time.', 'cheers'], [3, 9]], 't3_1a71y4': [[\"Tomorrow night I'm driving with my family to Florida (from Michigan) to go to my uncle's memorial service.\", 'Four people packed into a car for a 19 hour drive, we could definitely use a good snack in.'], [3, 3]], 't3_6jn12o': [['Missed my new jobs payroll enrolment date last month so have had to survive for a month and a half on £20 but that ran out a week ago.', 'Anything would be appreciated!'], [3, 9]], 't3_16gr7t': [['My family is so nice and awesome I would love to surprise them with pizza.', '&lt;3 thanks -Tif'], [3, 9]], 't3_1d0mgh': [[\"Hey, I'm staying home sick and am in need of some food.\", 'I can offer a free steam copy of ArmA 2:OA, DOTA 2, and various guest passes for killing floor and Red orchestra on Steam.'], [3, 2]], 't3_2wz17p': [['im hungry and feel like shit, a pizza would make me feel a little less like it.', '#nosobstory'], [3, 0]], 't3_u8mjp': [['Or something else equally as jokey.', 'Now, if I actually get this job after providing this employer with delicious cheesy goodness, I will spend the next 10 (10!!)', 'paychecks buying pizza for those in need on r/RandomActsOfPizza.', 'Okay - so - I have been applying for jobs like crazy for the past few months and am utterly tired of being poor, incapable of feeding myself, or taking my girlfriend on dates, paying my bills on time, etc.', 'Unfortunately I keep getting passed over.', 'There is a college that I think I have a fairly good chance of being hired at, but I would like to put myself over the edge, as I have had a \"fairly good chance\" in the past and been passed over.', 'I would like to have two pizzas sent to my potential employer\\'s office, with a jokey note basically reading, \"What I may lack in areas other potential candidates excel in, I more than make up for in shameless desperation.\"'], [2, 3, 3, 3, 3, 3, 3]], 't3_7le063': [[\"Unfortunately I don't have any real artistic qualities.\", 'Any help would be appreciated, thank you so much for everything you guys do here.', 'Location is Portland OR, close chains are Pizza Hut, Dominos, Papa Johns.', \"I was let go from my job working in IT in June and have barely survived since then but I'm at the end of my savings and haven't found a new job, and all I've got left are a couple things of chicken noodle soup.\", \"I'm not sure when I'm going to have any money next to buy food and I haven't eaten anything with any substance to it for a few days.\", \"I don't like begging for help at all but I could really use a pizza right now.\", 'I can help you solve computer problems if you have any!'], [3, 9, 3, 3, 3, 3, 2]], 't3_1ajekk': [['If anyone wants more information about my situation or any proof I am able to provide please PM me.', 'I have a verification system code available as well, please ask if you need it.', 'Thanks in advance to anyone considering helping me out.', 'I am almost completely out of food and have a negative balance in my account at present.', 'I am unemployed and my unemployment insurance is expiring.', 'I could really use a cheering up in the form of a decent meal if anyone is feeling generous.', 'I would gladly repay the kindness by paying it forward when I get back to work.'], [1, 3, 9, 3, 5, 3, 2]], 't3_17dgf1': [[\"Since I have nothing to eat today I figured I've give it a shot and ask another redditor for some help .\", 'I can pay you back or pay it forward as early as tomorrow as soon as I can get to a bank and get a new card.', 'Thanks!', 'I went out friday night for Star Trek trivia (which I lost) and I must have lost my debit card somewhere from the trivia event to my house.', \"I didn't leave the house at all yesterday as I had no need to since I had enough food to make myself dinner Saturday night when the intention of going grocery shopping today...however My Debit card is gone.\", \"I've searched everywhere and it's gone.\", \"This wouldn't be bad if my bank were open on a sunday but alas it is not.\"], [3, 2, 9, 3, 3, 3, 3]], 't3_1awfml': [[\"Whether I get a pizza or not,  I'll still likely pizza someone in the coming weeks.\", 'Thanks guys!', '!', \"I've never been pizza'd before, so someone will need to tell me how this works.\", 'I can get to any of the big 3, but I and my wife prefer the Hut.', \"In a couple weeks, I'll pizza someone else.\", \"Again, I've never done this so someone will need to tell me how to pizza someone else.\"], [3, 9, 0, 3, 3, 3, 3]], 't3_6utfoi': [['ZIP code is 85345.', 'Thanks you guys!', \"I'm so glad Reddit communities like this exist, and am looking forward to paying it forward.\", 'Hey guys,\\n\\nSix months unemployed, and yesterday morning, I got an email saying I was selected to be hired by a tech firm.', \"I have nothing left after these six months, and while I'm coming up with alternative funding solutions for various problems, I would love to have a celebration for the end of the job hunt.\", \"Not to mention, I'm sick and tired of Ramen.\", \"Have a Pizza Hut and Domino's in my area, don't drive so I would go for delivery.\"], [3, 9, 2, 9, 3, 7, 3]], 't3_95mkd5': [['Can anyone help us out with a pizza and some breadsticks?', 'Closest place is Pizza Hut.', 'I can pay it forward as soon as I get back on my feet.', \"I threw my back out and I'm in an immense amount of pain.\", \"I'm out of work for the day.\", \"My girlfriend is working all day so she can't cook.\", \"We're a bit broke and can't afford to eat out.\"], [9, 3, 2, 3, 3, 3, 3]], 't3_8xui9c': [[\"I'll share a photo of him as thanks!\", \"EDIT II: I still haven't eaten a real meal today so I'm gonna leave this up for one more day.\", 'Thank you for your considerations, givers.', \"I honestly feel a little embarrassed but yea, I just did a large amount of work in a short amount of time, and I'd like to unwind for the night.\", \"Unfortunately I don't have the extra cash to do so at the moment, so if anyone can be of help, I'd appreciate it.\", 'I will pay it forward when I get the opportunity.', 'EDIT: My Mother is adopting a dog on Thursday.'], [1, 3, 9, 3, 3, 3, 3]], 't3_21zq24': [[\"I've ransacked the kitchen and fridge to no avail.\", \"If anyone could find it in their hearts it would put a smile on a guy who's had a terrible week coupled with and awful day.\", 'I live in Scottsdale AZ \\n\\nThanks to anyone who takes the time to read this\\n\\nDirty338', \"Hey fellow Redditors, I've been having an exceptionally tough week as my weeks end on Thursdays.\", \"I've been living pay check to paycheck and had some bad luck fall my way in regards to my vehicle unfortunately using up all the money I had stashed away for a rainy day as well as having to max out my credit card to get it repaired.\", \"If that wasn't bad enough my boss decided he needed to make an example of me a wrote me up for being late from picking up my vehicle this morning even though he knew I was having it worked on.\", \"Due to me being 30 minutes late he made me work through my lunch break in which my friend was going to buy me lunch, so I haven't had a chance to eat all day.\"], [3, 8, 3, 3, 3, 3, 3]], 't3_a68aiu': [['Thanks for listening!', \"I'm in North Carolina, if that matters.\", \"I don't know how the timing works with making a post/having a request fulfilled, but I would be planning to have the pizza tomorrow, not today.\", \"My wife is leaving first thing in the morning for a business trip and I'll be fending for myself for meals the next couple of days.\", 'My wife has Celiac\\'s Disease, so we don\\'t keep bread or \"real pizza\" in the house for solidarity.', \"I was hoping to enjoy a Dominoes pizza for myself, but I'm cutting it close this month on bills due to Christmas presents and student loans so it just wouldn't be a smart financial decision to splurge.\", \"I know this doesn't entitle me to anything, but I would certainly appreciate it if someone was looking to fulfill a request anyway.\"], [9, 3, 3, 3, 3, 3, 3]], 't3_1hbi0b': [['My son knows about Reddit and would really freak if someone sent one for him and his bros.(his words lol).', 'Make some kids day?', 'Thanks for reading and have a good one!', 'I have 3 boys(12,13) over this afternoon for a day of gaming.', 'They all make good grades and 2 are in the band.', 'All I have for munchies is tunafish,popcorn and kool-aid.', 'You know how kids love pizza if some one could send a pizza their way I know they would flip.'], [3, 3, 9, 3, 3, 3, 3]], 't3_3xsij4': [['Getting a real dinner tonight would REALLY brighten my spirits a lot.', 'Bonus points if you play DotA and wanna get on with me after the game or something.', \"I don't really have any plans because I don't really know anyone yet.\", 'Hey guys.', 'I just moved across the country and it took me longer to find work than I thought it would.', \"I haven't gotten paid in like three weeks and I am officially broke.\", \"Additionally I don't know anyone out here, so I can't even rely on friends to help me out.\"], [3, 3, 3, 9, 3, 3, 3]], 't3_8362vy': [['Happy Friday!', 'Edit: fulfilled!', 'Paying it forward rn', 'After a short unemployment Im back again with a brand new job!', 'Im just broke until payday which is in april, been struggling eating my savings and cannot afford much other than potatoes and some cheap (but nice!)', 'ramen!', 'Will pay forward when im back in the swing of things :) Or I could animate/draw you something of your choice!'], [9, 3, 2, 3, 3, 3, 2]], 't3_2gix6q': [[\"I would be eternally grateful if anyone wanted to share a pizza with me, and in a month or two when I'm back on my feet I will pass along the kindness!\", 'Sending good vibes to everyone here!', \"Don't give up, share the love (and the pizza)!\", \"Recently I've decided to focus on all the good that's waiting for me in life.\", 'I faced homelessness, like many on here I used my last dollars to feed my cats instead of myself, and almost had to give up on all of my dreams.', 'Luckily (maybe a week before I had to be out of my apartment) I found a steady job, and shortly after ended up scheduling my entire next year for my second job.', \"I consider myself very lucky, extremely lucky, and though I'm beginning to get back on my feet I am still not able to feed myself properly.\"], [3, 3, 3, 3, 3, 3, 3]], 't3_2dhcbg': [['Thanks!', 'We are in California btw.', 'Pizza Hut is closest.', \"So we are pretty low on money and I wasn't able to get him a present yet so I feel pretty bad about that.\", 'He also just lost his job 2 days ago.', 'If I could surprise him with a pizza for dinner it would make his day!', 'I will absolutely pay it forward in a few weeks when I get my money.'], [9, 3, 3, 3, 3, 8, 2]], 't3_66l1xf': [[\"I'm stuck with rice and canned veggies right now, and both of those are starting to run low.\", 'I would not be opposed to a trade off deal where I get you back next weekend.', \"Dominos, Howie's, Hut, Papa's, Figaro's and Marco's are all major chains nearby.\", \"I posted last year asking because my job didn't give me enough hours, that actually continued until about a month ago when I got fired.\", \"Now, I'm broke but have a new job.\", 'I get paid on the 28th, but most of that is going to rent and bills.', 'I would just like to have a really delicious taste of the pie.'], [3, 3, 3, 3, 3, 3, 3]], 't3_z9lyp': [[':-)\\n\\nMy guidelines are...\\n\\n    nothing illegal (not looking for jailtime...)\\n\\n    nothing NSFW (not looking for jailbait...)\\n\\n    nothing unreasonable (imma not cloning teh Googelz for just a pizza...)\\n\\nFeel free to pm with your projects, and we can go from there.', 'Thanks everyone.', 'Nom', 'Hello all.', \"I'm looking to barter digital work for pizza.\", \"Since there is a Domino's in town, and since they have an eGift system in place, they are my preferred pizza source.\", ':-)\\n\\nThis work could be along the lines of...\\n\\n    MS Office stuff\\n\\n    website stuff\\n\\n    digital art stuff\\n\\n    digital audio stuff\\n\\n    digital video stuff\\n\\n    programming / scripting stuff\\n\\n    tech support stuff\\n\\nBasically, computer-related stuff.'], [3, 9, 0, 9, 3, 3, 0]], 't3_7htrqd': [[\"I'm not one to beg but I get hungry just like everyone else.\", \"Ive had enough bad luck lately, let's see if the PIZZAGODS will shine a ray of cheesy benevolence upon us.\", 'Will repay with offerings of a heavily decorated pizza box and our big saucy smiles.', 'Insert sob story here: My girlfriend and I live together with (until recently) a roommate.', \"The day before rent was due our roommate split, packed everything she owned when we weren't home and left.\", \"She wasn't on the lease so we could either pay her rent or risk eviction.\", \"So we paid her rent and now we're broke till pay day and the fridge is empty.\"], [3, 3, 2, 3, 3, 3, 3]], 't3_a6guou': [['Im depressed and just would appreciate a little help.', 'Florida so papa johns, dominos, pizza hut, hungry howies.', 'Thanks in advance', \"We've had a tough year w me and the kids.\", 'Im working 2 jobs and barely surviving.', 'Holidays are always hard.', 'I try to make sure there is food for them and ive been averaging eating a meal every 2 days since my hours were cut a month ago.'], [7, 3, 9, 3, 3, 3, 3]], 't3_4egwha': [['My 10 year old gets home a little later and would be ecstatic to have some food waiting for him too.', 'No request is a problem!', 'A playlist, an illustration, an interesting edited photo, a custom request for a poem or love letter to give to someone, even NSFW requests are fair game &lt;3 worth a shot, right?', 'Do my little clan a favor and help us out with something to eat?', 'My partner and I would really appreciate it.', 'We gathered up the absolute last of our change, down to the pennies, to get food this weekend.', \"We don't need much at ALL, but will happily make it up for anything you can contribute.\"], [3, 2, 3, 3, 3, 3, 3]], 't3_1kbjq5': [['really adds up.', \"We're looking at an empty pantry and totally bummed.\", \"If someone could get us a pizza for tonight we'd be incredibly grateful.\", 'My landlord double-leased the apartment we were staying in, resulting in them showing up last Thursday morning to kick us out.', \"We disputed and proved our lease wasn't until up until the 31st of August, but they did everything in their power to get us out early.\", \"They're supposed to refund our unused rent and give us a little extra, but there's no telling when we'll see that check.\", \"We've spent every dime we have moving into a new place; deposit, first and last month's rent, getting utilities turned on, etc.\"], [3, 3, 3, 3, 3, 3, 5]], 't3_3h58au': [['I start a new job on Monday, but unfortunately I only had a very small paycheck to live off of, and its been gone for about a week now.', \"I don't need much, dominos or pizza hut is fine.\", \"This new job pays each week so I'll pay it forward asap.\", \"I've tried here a few other times to no avail.\", 'Someone suggested I give it another shot.', \"We'll see.\", 'I recently had to quit my job without having time to line up another job.'], [3, 3, 3, 3, 3, 3, 3]], 't3_4d3b2l': [['Happy days.', \"Edit: I'm watching *The Godfather*.\", 'Pizza is a must.', 'Hey friends.', \"I'm starving, I'd love a pepperoni pizza.\", \"There's a Domino's just down the road.\", \"I'm paid on Monday, and I'll pay it forward.\"], [9, 3, 3, 9, 3, 3, 2]], 't3_4xvi2r': [[\"So basically, long story short, I'm hoping I can get a pizza from an awesome person here and then get groceries probably Wednesday, when I have my paycheck.\", \"Would really appreciate it, and I'm confident that any major chain is around here, but if it's up to me, I'd prefer dominos.\", \"I'm not really in a position to be picky, though, right?\", \"Hey, I'll try to make this as not-sob-story as possible.\", 'I moved to a new apartment a few months ago, but have since had some unexpected and large medical expenses and am now living on $7 for the next two days.', \"All I have in my apartment food-wise is rice, and while I could walk to the grocery store and probably eat some ramen for the next couple days... let's say I'm also not really wanting to go anywhere alone around here because of said things that caused the medical expenses.\", \"That part I'm working on, but honestly I just am in no kind of mood to deal with catcalling as well.\"], [3, 3, 3, 3, 3, 3, 3]], 't3_10qo7d': [[\"As soon as I'm in a better way, I want to pay it forward.\", 'So if anyone could be of help, would be incredibly grateful.', 'Thank you!)', \"Hey Guys,\\n\\nI'm not one to ask for charity.\", \"I'm just in a little bit of a pinch.\", \"I just recently started a new career and as such I've now been about 3 weeks without a paycheck.\", \"With paying my rent and all my bills, I'm now down to about $8 to live off of until my first paycheck comes on friday.\"], [2, 3, 9, 3, 3, 3, 3]], 't3_6epc2i': [[\"I'm hoping to pay it forward when I do find a job.\", \"I'm in Minnesota,  have a coupon for Topper's (50% off) and would totally love that, but we have Papa Johns and Dominos (and several other chains) as well.\", 'Thanks!', 'Hello, kind pizza givers!', \"I'm hoping to break up the monotony of vegan food cooked by people who don't know how to cook (don't worry, I know vegan food can be delicious!)\", \"with a pizza, but, unfortunately, I'm pretty strapped until I find work.\", \"If anyone is willing to help out, I'd be super grateful!\"], [2, 3, 9, 9, 3, 3, 9]], 't3_7nbkuq': [['My husband loves pizza and we could really use a pick me up.', \"It's our 1st year wedding anniversary in a few days and we can't afford to celebrate.\", \"I'll gladly pay it forward when I'm more financially secure.\", 'Hi reddit,\\n\\nI am writing this because my husband and I have been going through a really rough patch.', 'I have been out of work for a few months and my husband was just let go two weeks early from his seasonal job.', 'We put in an application for food stamps on Friday but that is going to take a bit to get approved.', 'I start a new job on the 8th so hopefully we will be ok after that.'], [3, 3, 9, 3, 3, 3, 3]], 't3_ja7v9': [['If someone could please send us an egift card that could feed 7 kids and 4 adults we would be very appreciative.', 'Thank you all for what you do on this site and god bless.', 'I know my son will be so happy for this.', 'My son is having some friends over because he just got out of the hospital!', 'He had to have surgery on his arm after a fall and now he is doing better, although depressed because he has to wear a cast for the rest of the summer.', \"He is having a party to celebrate, but me and my husband don't have much money because we had to spend a lot for the surgery.\", '(thank you obama).'], [3, 9, 3, 3, 3, 3, 9]], 't3_2t8jfv': [['We would love something hot and cheesy to curve the mad munchies we have!!', 'Thanks for reading.', ':D \\n\\n**Edit:** PS, we do have a Boston Pizza in the area so eCards work!', 'Just like the title says...', 'I have a surgery consult finally tomorrow that is the first step in being able to walk after a fall on ice over two years ago.', 'I am so crazy excited!!', \"My fiance and I are staying at my parent's place to be closer to the doctor for the morning.\"], [3, 9, 3, 3, 3, 7, 3]], 't3_1bbpg0': [['I would even offer to write you a song if you bought me a pizza.', 'I may not be good, but it would be funny.', 'come on!', 'Title basically says it all.', 'I am sitting on the couch of this new place trying to figure out what I want to eat and I realized that all I had was Ramen and rice.', \"I won't starve or anything without pizza, but god is Ramen and rice doing something to my stomach that is not good.\", 'Was hoping for a good hot meaty meal.'], [2, 3, 3, 3, 3, 3, 3]], 't3_3pkh2e': [['I currently live with a roomate who is out of town until next week and he primarily eats out.', 'Im sorry if this sounds like pandering but to be honest im out of reasonable options.', 'Any kindness is much appreciated and i look forward to returning it in kind.', 'Im 26, have an ok job.', 'But this month has been more financially taxing than anticipated.', 'Yesterday I used my last bit of  bit of cash to buy tickets for my friends to go see the force awakens which at some point i will get reimbursed for.', 'I dont get paid until friday and until then i dont have a means of eating a meal.'], [3, 3, 9, 3, 3, 3, 3]], 't3_9pq4rx': [['We are near Dominos, Pizza Hut, Little Ceasars, and others.', 'Thanks.', 'edited formatting.', '*my dogs are super adorable, or I can draw you something, or both.', '(be warned, I am not a great sketch artist but will try)*\\n\\nHi.', 'im not gonna try and gain sympathy with some long winded story, suffice it to say; things really suck at the moment, and a nice pizza would take some of suck away, and prevent my diabetic mother from eating ice cream for dinner because she has the dietary preferences and impulse control of a grieving and stressed out 4 year old.', 'One pizza would feed the three of us.'], [3, 9, 0, 3, 3, 3, 3]], 't3_3fabf5': [['The pizza would be for her, me, and my nana.', \"When I get a job I'll return the favor.\", 'Update: I have recieved a pizza from /u/alfadude  \\nThanks for helping me out guys!', \"I'm a broke teenager (15, can't get a job), and I want to do something special for her.\", 'Her psychiatrist changed her doses due to side effects, and has been feeling more depressed than usual.', \"It makes me upset that I can't do anything, so maybe a pizza will cheer her up at least a little.\", \"Papa Johns is her favorite, but there's also a Pizza Hut and a Dominos nearby.\"], [3, 2, 3, 3, 3, 7, 3]], 't3_x89xn': [[\"I'll dedicate my first pay-check to you guys and offer someone else in need a free pizza!\", 'Please help me out, reddit!', '=)', \"I'm a 22 year old guy living in the outskirts of Seattle.\", 'I lost my job a couple months ago because of anxiety issues and have been barely making it by.', \"I'm practically down to my last packet of ramen.\", '=(\\n\\nI have an exciting job opportunity now, and if everything goes well, I should be starting next week!'], [3, 9, 9, 3, 3, 7, 3]], 't3_1lxspb': [['He got arrested and no one else, even his family, came to get him out.', 'Cost me around $1000 to release him... Im dry with money now and could use a a pizza...', 'I of course would pass along the generosity', 'I just bailed a childhood friend out of jail today.', \"He had been getting mixed up in drugs, and honestly, I hadn't spoken to him in about a year.\", 'But I never stopped caring about him.', 'He got pulled over, and cops found a bag of weed.'], [3, 3, 2, 3, 3, 3, 3]], 't3_lput5': [['I am a single mom of 3 kids, ages 6 months, 3 years, and 7 years.', \"I am throwing a small party this Saturday, Oct 29th and my daughter requested pizza for supper and I'm not sure I can afford pizza for all her guests (10 girls) I would appreciate any help offered!\", 'Verification can be provided.', 'Hi.', 'My girlfriend told me about Reddit and random acts of pizza.', \"I still can't believe there is people this generous out there.\", \"I need a hand with the food for my daughter's birthday party.\"], [3, 9, 1, 9, 3, 3, 8]], 't3_5yc1ca': [[\"I've been sharing my human food whith my dog so that he doesn't run out but now I'm out of food and haven't eaten since Tuesday morning.\", 'I can go untill Friday without food so please if someone in more need than I am is out there please help them.', 'Thank you for taking your time to hear my story.', \"I recently broke up with my girlfriend, she took a vacation to go and fuck her ex in another state, Valentine's Day, and broke up with me when she got back a week later.\", \"then a few days after I find out through istagram... it's a long story but you get the gist.\", 'Anyways I had to pay her what I owed her and I did, right away to get her out of my life, thinking that my tax checks would come by the end of the week.', \"It's 3 weeks later and they still haven't come and after paying what I had in rent and dog food, I've run out of money.\"], [3, 3, 9, 3, 3, 3, 5]], 't3_9abtlp': [[\"In between paychecks so the pantry is empty and we can't afford a meal out this week!\", 'EDIT: Zip code is 85027!', \"We've got Dominos, Pizza Hut, and my personal favorite is a local Chicago style place called Barro's.\", 'Never posted here before (to my knowledge anyway).', 'I kinda came across the sub on accident.', \"It's really as simple as the title.\", 'Save from my wife lol.'], [3, 0, 3, 3, 3, 3, 8]], 't3_1n5kbf': [['Or at least I hope so!', 'Can we please try to work something out?', 'Thank you in advance!', 'My girlfriend and I are in a lot of pain and cannot physically cook.', 'We have a doctors appointment to get to in the morning, but we need to eat before we go.', 'I am willing to barter!', 'I have stuff in my eBay store that you would *love*.'], [3, 3, 9, 3, 3, 3, 2]], 't3_11lvl7': [[\"I will gladly pay this forward the very second I'm paid again.\", 'Thanks so much reddit!', 'edit: I do have a verification number.', \"Hey guys,\\n\\nI've heard good things about this subreddit, hopefully someone could help out with a pizza just until friday?\", 'Recently moved and my first check was almost entirely spent getting the deposit covered for power and the last half of my move in cost.', 'I saw \"almost\" because I only have about $0.75 left until Friday.', 'Would someone want to help a guy out with a pizza until the end of the week?'], [2, 9, 1, 3, 3, 3, 9]], 't3_9wf710': [[\"I was planning on getting a job for myself, but until then I'm pretty broke so yeah.\", 'This will probably make things harder, but I live in eastern Europe.', 'In a city, but still.', \"Hi everyone,\\n\\nMy gf is a single child, with only her grandpa left (mom and mom's mom both dead, never met her father).\", \"We're both college students, and with the money she's getting she has just enough to pay rent and food at the cantina, fancy food is rarely an option, if ever.\", \"I'm not in a great spot myself, my dad just lost his job and mom works in an elementary school so they can only send me just the bare mininum too.\", \"He should be able to find a new one but this is how it's going to be during this transitional period.\"], [3, 3, 3, 3, 3, 3, 3]], 't3_qyoqv': [[\"I'm also struggling so I cant treat myself, So this would be awesome!\", 'Please?', 'I have helped out in a randomacts and babyexchange but not on this reddit yet,I do plan too :)\\n\\nThanks  :)', 'Hey there!', \"I am so exhausted I've chased after a tot all day that is teething and refuses to listen to the word NO.\", 'am hungry and a warm pizza and breadsticks would just make my kiddos month.', \"I'm a single working mommy and getting treated to dinner is not something I've gotten in over a year!\"], [3, 9, 2, 9, 3, 3, 3]], 't3_7oge2y': [[\"There's a Dominos nearby.\", 'Anything helps.', 'Thank you so much.', 'I have been a human geyser for the last 24 hours.', 'Until about 4pm today I could barely even keep water down.', \"I'm keeping saltine crackers and ramen broth down for now, but I feel super weak and I just want some real food in my system.\", \"I just paid rent and can't afford to eat anything but the ramen and peanut butter I already have.\"], [3, 3, 9, 3, 3, 5, 3]], 't3_9nx7d3': [[\"Domino's is the only chain nearby.\", 'US 33444.', 'Thanks for your time.', 'This last month has been really rough, with a move and job change.', 'Almost through it but like im feeling now, the cabinets and fridge are feeling very empty.', 'We both could use a recharge.', 'I hate asking but i could really use the help.'], [3, 0, 9, 3, 3, 3, 3]], 't3_4f8zcr': [[\"I need someone's help.\", 'I will gladly pay back whoever treats me tonight.', 'Thank you in advance.', 'My roommate and I landed a house that we planned on moving into at the end of May.', \"Well, her crappy ex-bf decided to be a dick about things and now she's gone and we had to sign the lease agreement for the house since she needed a place to put her stuff.\", 'That left me in the hole since I was getting ready to save last week, but cant now since I have no money.', 'A pizza would help the situation feel somewhat manageable.'], [3, 2, 9, 3, 3, 3, 3]], 't3_97j4g5': [['I live in PA, USA.', \"There is Domino's and Papa John's near me.\", 'Thanks.', 'Hello,\\n\\nDue to an emergency earlier in the month I had to pay $1,200 for something.', \"This put me in a bad financial situation, I haven't revealed how bad it is to anyone because I'm embarrassed but I am all out of money as of now.\", 'I get paid on the 18th, and I have some eggs and sausages in my fridge that I can stretch out until then, a large pizza would just make my life a lot easier right now.', 'I would really appreciate any help, and I promise to come back to this sub and back to people once I get my paycheck.'], [3, 3, 9, 3, 3, 3, 9]], 't3_m3nk7': [['And it would be shut by the time I went in again today....', 'So could anyone possibly send me a pizza or like... any other food?', \"I haven't eaten all day :(\", \"So, I [wrote](http://www.reddit.com/r/unitedkingdom/comments/lsqto/i_would_like_to_take_a_moment_to_rant_about/) a week or so ago about the problems I was having getting the student finance company to get my loan to me, and it still hasn't been resolved and I've reached the end of my overdraft (they'll only give me a £200 overdraft until my loan comes through).\", \"I tried to go to my university to get some emergency funds and the lady I spoke to said I could only get a £50 bridging loan which seeing as I'd have to pay back in 4 weeks she didn't want to give me.\", \"And after arguing with her for quite a while about how I needed the money to buy food she said that it didn't matter because the lady who could've given me the money left at 2pm (I went in at 1:30pm, she was just arguing with me for that long).\", 'I then went into my bank to try and get my overdraft extended and they told me I needed to do it over the phone, went home and called them up and apparently I needed to go back to my branch and do it.'], [3, 9, 3, 3, 3, 3, 3]], 't3_784awk': [[\"No delivery in my area so if anyone is kind enough to help a hangry gal out I'll just have to pick it up tomorrow when I have a ride.\", 'Only place in my tiny town is Pizza Hut.', 'Thanks in advance for even considering me :)', \"I'm honestly just hungry and very broke.\", \"I'm packing to move cross country and have 1 box of Mac and cheese and $.09 to my name until the 1st and a pizza will last me a few days.\", 'Trying to sell some things for a little cash but nothing has worked out so far.', \"I'm currently on the east coast US.\"], [3, 3, 9, 3, 3, 3, 3]], 't3_3b0cqj': [['I can make you a minecraft sprite of anime, pokemon, etc.', '[This](  ) is an example of what I can make.', \"I will try my best to make a cool one for anyone who'd be willing to gift me a pizza :) Closest pizza place is Pizza Hut in Girard, PA.\", 'Thank you for taking the time to read this post.', 'I currently have no money until the first of next month.', 'Would love a pizza.', 'If someone would be kind enough to provide one that would be awesome.'], [2, 3, 2, 9, 5, 3, 9]], 't3_4j1gsq': [['Thank you.', 'edit: Just saw on the side bar it says to include location in the request.', 'I am in Dallas, TX.', \"Hello all, this is my first time using this sub so I hope I've done everything correctly.\", 'My cat was recently diagnosed with chronic kidney disease (CKD/CRF) and diabetes, so the vet bills have been very high the last couple months with all the tests, treatment, and medicine.', 'Just took her in yesterday for a re-check to adjust her fluid treatment, but that leaves me with no money until I get paid on Saturday.', \"I've got enough food for 1 day, I'd be really grateful for a pizza sometime today or tomorrow to help get through these next couple days.\"], [9, 3, 3, 9, 3, 3, 3]], 't3_pa1lo': [['I was evicted from my home this past monday..', 'I spent all last week desperately searching for a place to live..', \"Since I'm disabled, and still waiting for my benefits to start, I knew I could never afford a place for myself..\", 'So I did what most people in my situation would do..', 'I had faith that between my family and all my friends..', 'SomeONE.. (I thought there would be many)  would find it in their heart to take me in, even if for just a short time..  After waiting a few days, I realized that no one was going to come to my aid..', 'So I decided to start asking those who I KNEW would do anything for me.. Or so I thought..', 'Immediate family turned me away without even a 2nd thought..'], [3, 3, 3, 3, 3, 3, 3, 3]], 't3_97lcdm': [['My family is adjusting to a new normal, my fiancé and I are suddenly in a parental role, and the child is living with us now.', 'Today was the first day at the new school.', \"I'd love to have pizza on the table tonight.\", '7 months ago my fiancé and I found out his little sibling was being sexually abused by their adult step brother.', 'The parents knew, according to the child, and did nothing.', \"Fiancé and young sibling's Mom died towards the end of last year.\", 'We challenged the step dad for custody and have finally won.', 'The step-brother will hopefully be in jail soon, or at least on the sex offender registry.'], [3, 3, 3, 3, 3, 3, 3, 3]], 't3_5xxiuz': [['Please.', 'Honestly any food would do.', 'ZIP code 60660.', 'I can walk.', \"It's pretty dark out so please not trying to rush but if I were to walk and walk back it would probably be cerfew.\", \"Don't want to break any laws or anything.\", \"Please also I won't contact CPS or anything.\", \"I'm better off trust me.\"], [9, 3, 3, 3, 3, 3, 3, 3]], 't3_i04fh': [['Hello, I just heard of this site.', 'My family is going through some rough times right now, there are 4 of us, my father, my 2 sisters, and myself.', 'My oldest sister and I are out of work.', 'My father was too, but he just found a job a week or so ago.', \"My sister and I have been looking for jobs for a while, but we only have one car at the moment, so it's hard to find an employer who is willing to work with someone else's schedule.\", 'I have applied at all the places within walking distance to our house, but we live in a really small town, and all of our small-town businesses are suffering.', \"We've been spending the past week packing, because we are in the process of losing our house.\", \"We do have food stamps, and they definitely help, but we're out until the end of this week and would really love a pizza.\"], [9, 3, 3, 3, 3, 3, 3, 3]], 't3_7g1h68': [[\"I've only had this happen once... and the last time I at least had yummy food to motivate me :(.\", \"I'm a student who's very overwhelmed right now with... 4 exams in the next 3 days, a 10 page paper due in...16 ish hours, and god knows how many projects for my linguistics class my prof forgot to mention... and I got up about 5 minutes before the dining hall closed.\", 'I rarely am awake during the day so usually I have *something* to nosh on but apparently not tonight.', 'Forgot to buy groceries and the fridge is empty save for a few week old peanut sauce packets from a falafel place.', \"Speaking of- I'm gonna throw these out they smell terrible.\", 'If anyone could spot me for a pizza from Dominos that would really make my night.', \"Otherwise there's not much else open this late at night (11:30pm), everything generally closes up by 10 around here :/, have zero clue why.\", 'Ironically(?'], [3, 3, 3, 3, 3, 3, 3, 3]], 't3_qljyk': [['And I just ate the last two eggs in my APT and now only have a can of chicken noodle soup,some potato wedges,minute rice and half a loaf of bread in my kitchen.', \"I've been working my ass off for the past month but recently had to put 900 bucks into my car two weeks before my rent was due.\", 'After paying rent on the 1st I had 35 bucks to last me 10 days until pay day.', 'I am now down to 7 bucks and I work Tomorrow, Thursday and Friday.', \"I have just over qtr of a tank left and my work is 12 miles from my apt, so I'm pretty much spending that 7 bucks on gas in hopes that it will get me enough to get to work.\", \"I have gotten pizzas on here before, and i've been lurking thru the threads this week trying to win a pizza but every time i'm to late.\", \"I know that RAOP gets these type of sob stories all day, and a lot of them arent rewarded so i'm not really putting to much hope into this.\", 'I just thought it would be nice to try and get a large pizza that I could munch on for a few days so I dont starve before pay day.'], [3, 3, 3, 3, 3, 3, 3, 3]], 't3_477c4c': [['Hey all.', \"I live with my girlfriend's family (mom, dad, her).\", \"Her mom's on disability and her dad is having extreme pain from his gall bladder.\", \"He's saved as much as he can to hopefully get a surgery done in a few weeks, but we're in a tough spot right now.\", 'Our propane tank is below 5%, his surgery is eating into our gas bill pretty heavily.', \"But now that the pain is too much for him (Farm laborer), we're going to be really hurting.\", 'A pie would do us good.', 'My girlfriend and I have been supporting as much as we can, but we both have crap part time jobs.'], [9, 3, 3, 3, 3, 7, 3, 3]], 't3_3hwsif': [['Hi there, my name is Paul and that title almost rhymed.', \"___\\n\\nMy family and I've had a month thus far that has been depressing and quite expensive.\", \"I'm not gonna go into too many details right now.\", \"If you're really curious as to what's going on, there's a post in my history from a few days ago where I vented a bit about some of it.\", 'Anyway, basically this month went very sour, rather quickly and now my family and I are broke until we get payed in 2 weeks.', 'Because of events personally effecting me, my sister wants to be kind and buy some pizza for when we all watch the WWE special events this weekend, Which is super sweet of her.', 'As I said, though, none of us currently have money.', \"So, she's talking about gathering up a bunch of stuff and selling it at a pawn shop to try to quickly get enough to do so.\"], [3, 7, 3, 3, 3, 3, 3, 3]], 't3_925lz6': [['Last night my best buddy, our pit bull mix, passed away.', 'He was 12 and the best boy anyone could ask for.', \"Yesterday, he was acting normal in the morning then at noon I went to take him out and he wouldn't stand up.\", 'I finally got him up and he took a couple steps then fell over.', 'Took him to the vet, they said he had a stroke and his kidneys were failing.', 'Took him home with pain meds.', 'He passed laying on my bed while I cuddled him and told him how much I loved him.', 'Needless to say this has been incredibly hard.'], [3, 3, 3, 3, 3, 3, 3, 3]], 't3_9v47x0': [['There was a weird processing error with auto payment where my rent was taken out from my account twice.', 'Everyone is apologetic and it was just a shitty accident, but the refund is taking time to process.', \"I'm a broke college student who can only work enough to live paycheck to paycheck while in school.\", \"I don't have any money until I get that refund.\", 'i have had basically nothing but ramen and potatoes for a few days now.', 'Then I found this subreddit.', 'It might sound cheesey, but pizza has always been my go to comfort food.', 'Pizza and coke.'], [3, 3, 3, 5, 3, 3, 3, 3]], 't3_9ogd0w': [['Hey guys!', \"I don't have a very compelling story for why we can't afford pizza, but we are on a budget and have been for a while.\", 'We are at about half salary of what we used to be, and the house has been in poor spirits lately.', 'We have a week filled with Errands and doctors appointments, and a special dinner would do wonders :) \\n\\nIn return, I can offer a derpy drawing of any pokemon you choose, or I could write you a short story about any topic :D  \\n\\nThank you so much in advance.', 'I live in Maryland, USA.', 'I have Papa Johns, Dominos, and Pizza hut all within delivery.', 'The house includes me, my husband, and my three-year-old.', 'I hope to be able to contribute back to the subreddit more in the future!'], [9, 3, 3, 3, 3, 3, 3, 2]], 't3_uhhmb': [['I feel kinda selfish posting this, but I could use something to cheer me up.', \"I'm a student living alone in Bloomington, IN over the summer to work.\", 'The groceries I bought at the start of the summer are pretty much gone or too old.', 'I was going to buy more yesterday, but some bad luck struck.', 'Turns out somebody hacked into my bank account and emptied it out.', 'The bank caught it while it was mostly still pending, and contacted me.', 'Because I had not authorized those purchases, they locked down my account and I got all but about $100 back.', 'I was going to go into the bank today to get it sorted out and maybe get my account unlocked so I could use checks or something, but the one branch close to me is apparently closed on Saturdays.'], [3, 3, 3, 3, 3, 3, 3, 3]], 't3_vjsze': [[\"Long story short, today is my boyfriend's birthday and it has nooooot gone as planned at all.\", \"It sucks :( I want to take him out for dinner to try to fix this, but can't afford it.\", \"Broke as hell and I don't get paid until the end of the month.\", 'I live in Canada, is anyone willing/able to help me out?', 'Something delicious from Pizza 73 or Panago would go miles towards helping me perk him up and put a smile on his face.', 'Edit: scratch this request, guys.', \"We're passing out now.\", 'Keep calm and pizza on!'], [3, 3, 3, 3, 3, 3, 3, 3]], 't3_v92gl': [['Hi guys, I need some help.', 'School just let out last week, and as such summer break has started for most students.', 'I however am working at the university over the summer full time.', '\"If you\\'re working full time, why do you need help to eat, you should have money enough for food?\"', 'I hear you ask.', 'Well, my fulltime schedule literally started today.', 'I get paid monthly and the campus dining commons are closed this week for some dumb reason.', 'My latest check that was issued not three days ago is already almost gone due to paying bills, housing contracts, and other such necessities.'], [3, 3, 3, 3, 3, 3, 3, 3]], 't3_34v56o': [['HEY RANDOM ACTS OF PIZZA!', 'I am writing to you from the mountains of North Carolina - Appalachian State to be specific.', 'I am currently a graduate student in an analytics class.', 'Now in this class we had to do a final project.', 'My group and I decided to analyze you wonderful bastards to see if there was a method to the madness.', 'Basically we took over 4000 different posts, some got pizza, some didnt, and used every trick in our book to find out if it was random or if there was a certain type of post that had a high chance of getting a pizza.', 'Some 40+ Hours later, we have come to realize you guys are random as hell, and no one can predict your awesomeness.', \"That being said, we present our findings to our class tomorrow, didn't know if anyone wanted to show our class how awesome you guys are!\"], [3, 3, 3, 3, 3, 3, 3, 3]], 't3_9ax0vc': [['We usually do okay.', 'Truth be told, my birthday just passed and my fiance took us out.', 'First birthday we could afford to celebrate in three years.', \"Only, we really couldn't.\", \"I had no idea until after, and I can't blame him because he just wanted to give me an actual birthday.\", 'We have a baby boy as well, and he just had the last package of ramen.', \"It's been about 24 hours since I've eaten.\", \"We can't go another two days.\"], [3, 3, 3, 3, 3, 3, 3, 3]], 't3_2mhuln': [[\"Our life is literally so fucked up that we can't get any food.\", 'we were chastized and insulted for asking to get a ride to a food bank.', 'we (my boyfriend and I) are disabled, ill adults that have been trying to make ends meet in an abusive household that witholds money for food from us, and forcing me to drain my disability  getting delivery (we can not drive because of both illnesses and the absolute refusal to let us take the car to the store.', 'there is nothing even within a bike ride to us.)', 'every three days/week ( we try and make the food last as long as possible.', 'and we go days without if we use it up too fast or someone in the house takes it.)', 'i have 80 cents in my bank account now.', \"I can't feed us.\"], [3, 3, 3, 3, 3, 3, 3, 3]], 't3_1bta0s': [[\"Hello RaoP,\\n\\n\\nI don't usually beg for stuff, but I don't have anything to eat today.\", \"I've spent all of my dining hall meals this week since I was busy studying and ate an easy three meals a day.\", 'It payed off though because I got an A in two classes.', \"Gah, I'm rambling.\", 'The only thing edible I have in my room is coffee.', 'I like coffee.', 'Anyway, why not give this a shot.', 'Ducks'], [3, 3, 3, 3, 3, 3, 3, 3]], 't3_a97vx5': [['This is the 2nd attempt at posting.', 'I owe someone a thank you for the one time I received pizza from an offer.', 'I apologize that I neglected to do so publicly at the time, I missed that rule at the time.', 'Christmas and presents are cancelled this year for my house.', \"Needs had to come before wants and this is the first year I haven't managed to pull off something to make the holiday bright and special.\", 'There is no tree even but if there was it would only highlight the fact that there are zero presents under it.', 'Between my SO and we have 4 very understanding, conscientious and easy to please teens.', \"They've tried to reassure us that they don't need anything at all and I only wished that were true.\"], [3, 3, 3, 3, 3, 3, 3, 3]], 't3_37n7cw': [['New apartment.', '4 roommates in house including myself.', '2 of us just got jobs, one is in school and broke.', 'Other one has been carrying us through this and is also broke.', 'A pizza for all is in order.', 'In return, I will post pictures of two cute kitties and a hellbeast.', 'Location is south east Pennsylvania.', 'York area.'], [3, 3, 3, 3, 3, 2, 3, 3]], 't3_2dreic': [[\"My parents are gone most of the week, and don't often leave much food in the house when they leave.\", \"This wouldn't be a problem if I hadn't lost my job last month.\", \"I'd be okay with eating ramen and bolognia but...\", 'I guess I just need a little comfort food maybe?', \"I've been upset lately due to my grandpa being in the hospital and being off of depression meds (And away from my doctor) due to loosing my job and not being able to pay for them.\", \"I'll try to pay someone back when I get a job again (Or even on the 25th when/if I get birthday money) if I do manage to get something!\", 'I live in the middle of Indiana, USA, if that helps...', 'So, care to help a depressed girl out...?'], [3, 3, 3, 3, 7, 2, 3, 3]], 't3_wst3o': [[\"I'm a student who is currently looking for work.\", 'My husband works long hours, but (after a series of unfortunate and close-together events) we are completely BROKE.', \"In all honestly, it's inspired the kind of creative cooking that is fun every once in a while.\", 'Alas, we just ate our last bag of dry beans and our bank account is over-drafted due to unavoidable bills (will send a screen shot of bank account, if desired).', \"I'd like to say that we could pay you back soon, but until I find a job that's a promise I can't commit to.\", \"I do, however, plan on getting more involved in this community once we're back on our feet.\", 'I love reading about the kindness of strangers and would love to participate soon!', \"I'm planning on going to our local food bank tomorrow if this doesn't produce any fruit...I hate to do that because there is always someone in more need than I am, but when you're on your last packet of ramen, things get desperate!\"], [3, 3, 3, 3, 2, 3, 3, 3]], 't3_60xi9q': [['Here watching my single aunts kids for the evening, she is on her very first date since her divorce.', 'Not getting paid either.', 'Very rough day, would love to relax with a pie to keep the kids calm too.', 'Their mother has lunchables in the fridge for dinner for them.', 'Very heartbreaking.', \"I'm stuck and can't go anywhere and I have no money whatsoever.\", 'Currently playing Apples to Apples Jr Edition.', 'In the USA, and there is Papa Johns/Pizza hut within a quarter mile from here.'], [3, 3, 3, 3, 7, 3, 3, 3]], 't3_1b5a4p': [['Hey all.', 'Long story short my girlfriend recently had to move from home to Montreal, QC for work.', 'She was told that she would be taxed in Ontario, but it turns out she is being taxed in Quebec.', '**That is a huge difference.', '** Her budget is shot and she really has no money left for food.', 'I will help her out a little bit but i am unemployed and living in Ontario still.', 'Please Help me cheer my girlfirend up!', 'I can honestly say i will make an effort to pay this forward.'], [9, 3, 3, 3, 3, 3, 9, 3]], 't3_17cduq': [['Hello!!!', \"I've heard great things about this subreddit and was hoping someone would help me out.\", 'Had my hours cut at work, got paid last week only to spend it all by sunday catching up on bills.', \"Had to pay for car insurance or else my license would have been suspended ( almost reached day 30)  because I wasn't made aware I lost my insurance ( parents always took care of it).\", \"And Now the car's engine won't even kick over.\", \"Stomach is growling and I have nothing but dry cereal ( which is something some people can't say I know. )\", \"So I'm hoping one of you kind people will help me fill my belly.\", 'I promise to pay it forward x2 this pay check (1st of February) and will make sure my benefactor receives confirmation if desired.'], [9, 3, 3, 3, 3, 5, 3, 2]], 't3_1q26a1': [[\"I don't like asking for hand outs, but I have no other options.\", \"I don't want to put a sob story up but this is truly how it is:\\n\\nMy mother is a junkie, she ran off early this morning after a huge fight last night getting high.\", 'She relies on food stamps to get us food and our food stamps don\\'t \"go on\" until the 15th.', \"My younger brother keeps saying he's starving and honestly, I am too.\", '2 people.', '1 adult, one teenager.', 'I live in Baltimore, Maryland and am willing to \"pay it forward\" the next time I get the opportunity too.', 'Thank you guys.'], [3, 3, 3, 3, 3, 3, 3, 9]], 't3_1ylkgm': [['Hungry couple seeking warm, yummy pizza.', 'My husband just started his job and is in training, which is really intense!', \"I'm job hunting currently.\", 'We just recently moved in together, trying to make it all work!', \"We currently don't really have food.\", \"It's *hard* starting out on your own!\", 'It would be an *awesome morale booster* to eat some pizza this Friday night, instead of just cold water and bread.', \"I'm not kidding!\"], [3, 3, 3, 3, 3, 3, 3, 3]], 't3_neuhh': [['Hello there!', \"I believe in keeping things simple and to the point to display the best of honesty so here it goes...I'm broke!\", 'Literally, I have 58 cents, which i will be using tomorrow to purchase a blue book for my final.', 'I could use a meal for my empty stomach.', 'Let me know if ya can help a student out.', 'Peace!', 'EDIT: Whoops!', 'I forgot to mention my location.'], [9, 3, 3, 3, 3, 3, 0, 3]], 't3_kq9e3': [['Out of work right now.', 'Looking for a new job.', 'Got home last night, ate lasagna, went to bed and woke up puking into my trashcan around 4 hours later.', \"I've spent all day in bed feeling like shit instead of out applying at places.\", \"I only have 200 bucks in my account and I have no idea how long that'll have to last me.\", \"I'd be willing to repay the favor with my first paycheck.\", 'Because I live in a guest house Dominos is a must.', \"The pizza tracker tells me when to expect delivery and go to the main house, meaning I can wait in bed while it's cooking.\"], [3, 3, 3, 3, 3, 2, 3, 3]], 't3_4o2do6': [['Today, at my local Pizza place, they have a deal on large pizzas-plain for $5.99 a pie and one topping for $7.99.', \"I'm salivating just thinking about a bacon pizza.\", 'Or a meatball pizza!', 'It is also game night at my house-I run an Age of Rebellion campaign every Tuesday.', 'So between the kids and the campaign, making dinner for myself gets tricky.', \"Sometimes I don't eat a full meal and just graze on pretzels.\", \"Any who, if you wouldn't mind being so kind and hooking me up with some grub, then I will make you your very own crappy beach art!\", '[It looks like this!'], [3, 3, 3, 3, 3, 3, 3, 3]], 't3_7cjf4h': [['Hey guys.', \"I've had a really long day and could really use a pie.\", \"To give you the short version:\\n\\nI run a small computer repair business and I've been trying so hard to fix this guys laptop to no avail.\", \"It will recognize a drive, but won't read it, no matter what I do.\", \"I've been working on it all day and I'm at a loss.\", 'So to wind down from my stressful day, I wanted to watch Rogue One and order a pie, but I just looked at my bank account to see if I could afford one, and I have a lot less than I thought I did, so buying myself pizza is out of the question.', \"(I've actually had to throw some of my Fallout 4 Pip Boy Edition onto Craigslist today because of it)\\n\\nMy girlfriend has also been writing a paper all day for school and could also use a pie of cheesy deliciousness.\", 'We live in Tallahassee, FL, and we have Dominos, Pizza Hut, and Papa Johns.'], [9, 3, 3, 3, 3, 3, 3, 3]], 't3_1572x5': [['Failed my soc final (my fault I know).', \"Parents won't pay for my ticket back.\", \"Stuck in college town this week, staying in a friend's apt alone while he went home.\", 'Any help out there?', \"I'll pay it back X 3 when my student loan check comes next semester.\", 'No car, nowhere in walking distance, no food, just stuck here with electricity and internet.', 'Hoping for some dominos today.', 'Happy holidays'], [3, 3, 3, 9, 3, 3, 3, 9]], 't3_iq6md': [[\"Hello there, I am a single parent who's been ravaged by this 5 day blackout here in Waukegan.\", \"I've had to empty hundreds of dollars worth of food from my once cold refrigerator.\", 'My kids are constantly asking for take-out however I cannot afford it.', 'I would be greatly appreciative of anyone who could help a family in need out.', 'We were ravaged by storms recently which have left us in a 5 day blackout as of yet.', 'I hope some redditer reads this and has sympathy for our situation.', 'Willing to provide pics of our empty fridge and our neighborhood in the morning when there is light to see the devastation.', 'I hope all is well with the community and wish everyone a good night.'], [3, 3, 3, 9, 3, 3, 3, 3]], 't3_6sfcuv': [['This is a weird one.', \"I was diagnosed with Diverticulitis about three years ago, and haven't had any flare ups since, so I guess I got complacent.\", 'I had a flare up about nine days ago (104 fever, omega-level stomach pain, etc).', 'I spent three days in the hospital, two of which I was on only IV liquids.', 'I transitioned to a liquid diet and have been on Ensure, Slimfast, and the like for about seven days now.', \"Payday is still a few days away and I really don't want my first solid meal to be Ramen or something.\", 'A pizza will cover me for a few days.', 'Will pay it forward on payday!'], [3, 3, 3, 3, 3, 3, 3, 2]], 't3_1k175h': [[\"Dota 2's The International 3 is this weekend (popular competitive video game).\", \"I'm not as close to my brother as I would like.\", \"He's 8 years younger than me.\", \"We've had our differences in the past.\", \"I've invited him to come down to NYC for the geek-out tournament watching weekend.\", \"He's old enough now and I'll also buy him drinks and expect to have a jolly good time.\", \"If anyone would like to participate in this brotherly bond in the making, you're more than welcome to!\", 'He arrives tomorrow afternoon.'], [3, 3, 3, 3, 3, 3, 3, 3]], 't3_a47r9f': [['My title pretty much says it all.', \"All I have is some tomato soup and ramen and it's all i've had the past week lol.\", \"I'm broke going in between jobs at the moment, spent my last few bucks on bills.\", \"I'm not in a bad spot, just looking to spice dinner up.\", 'In southern california .', 'I have a pizza hut 10 minutes from me in with a 7.99 carry out deal.', \"A dominos about 20, don't know any deals.\", \"Thanks for for at least reading this if you've come through here and have a good evening :)\"], [3, 3, 3, 3, 3, 3, 3, 9]], 't3_2tmzrz': [[\"My husband's job has been really slow.\", 'We had enough to pay all our bills, buy weekly dinner stuff, and gas.', 'We would love to be able to eat some pizza tonight.', \"We've been having spaghetti for days because its cheap!\", \"Plus I'm 34 weeks pregnant and if I see spaghetti tonight I might barf.\", 'If anyone would like to help us out and have a great night of pizza (yay no dishes!)', 'And watching some wrestling.', 'We would be eternally grateful!'], [3, 3, 3, 3, 3, 3, 3, 9]], 't3_8l4mj3': [['Hello everyone.', \"I tried this a few days ago but it didn't work out, and thats okay.\", 'I feel horrible for even asking.', 'Anyway, my situation is less than ideal right now.', \"I'm currently crashing on my sister's couch due to housing renovations and money.\", 'I get payed in 3 more days but as of right now I have nothing to eat.', \"All I am asking for is some food so I can eat, and share with my nephew I'm babysitting.\", 'If anyone is willing to help me out I cab pay it back or forward on Thursday.'], [9, 3, 7, 3, 3, 3, 3, 9]], 't3_2uxn7j': [[\"Hello, \\n\\nI am in the midst of a Crohn's flare-up and utterly exhausted.\", 'My lovely wife works quite long hours to cover most of our bills - I am hoping to surprise her this evening with an easy dinner of delivery as it is something we almost never get to do; we get our groceries for the most part from the local food bank.', 'Pizza would be a lovely break from boxed mashed potatoes and leftover donated Chipotle meat.', 'We are in Denver and open to any major pizza chain.', 'Thank you.', 'Edit: a word.', 'Second edit: /u/DreamIsle gifted us a Pizza Hut gift card, thank you!', 'We are speechless at the generosity - a strangers kindness can really help to renew faith and hope.'], [3, 3, 3, 3, 9, 0, 3, 3]], 't3_68b2ln': [[\"Hello reddit,\\n\\nI live with my wife and we're both hungry and in need.\", \"I work full time but after a slow set of hours the last couple weeks and some unforseen expenses, everything in my account is going to rent and we won't have anything until a family check hopefully comes in the mail next week.\", \"We don't want much, just something to share and get us through today.\", \"It's my one day off and it's been miserable with no money, no food and only stress.\", 'We just want to eat and save some for tomorrow.', 'Pizza hut is the nearest to me in the US.', 'Thank you guys so much.', 'I appreciate it deeply.'], [3, 3, 3, 3, 3, 3, 9, 3]], 't3_4yr37a': [[\"My son's been asking for pizza for a couple weeks now but we simply don't have the money.\", \"Today's been an extra bit of a bummer because our cat (*his* cat, specifically) wandered out through an accidentally open door last night.\", \"We're doing what we can to find her, but it's not looking too good so far :( We're a family of four, just looking for some cheering up.\", '[Pic of cat, named Thunder, with aforementioned son.', \"](  )\\n\\nThe worst part is my son's autistic, so his bond with Thunder was pretty special and definitely therapeutic.\", \"I'm already crushed that she's missing, but I don't even know how I'll explain it to him if she doesn't turn up.\", 'Sorry for the sob story, but it does feel good to get it all out.', 'Thanks for reading.'], [3, 3, 3, 3, 3, 3, 3, 9]], 't3_1jxi96': [['10 minutes ago I was in bed with my girlfriend of two years tomorrow and she slowly stopped and said, \"We\\'re done.\"', 'She slapped me, grabbed her clothes, and left.', 'I did nothing, crazy bitch.', 'Like seriously, everything was going great and then she just left.', \"I'm crying and could go for a plain pie.\", \"There's a Dominos by my crib.\", \"Whether it's just a box of cinna-stix or a bottle of coke, anything can help.\", 'Port Washington, NY \\n\\nPM for Address'], [3, 3, 3, 3, 7, 3, 3, 3]], 't3_ahs1nc': [[\"Hey guys, I've hit a really rough spot in my finances and everything that's happening in my life.\", \"I've been spending most of my money on seeing lawyers for justice in a case I was in where i was sexually assaulted, that was closed.\", 'On top of rent, gas to get to work, and other things im not doing good.', 'Thankfully i had enough money to get a bag of cat food, but it left me with nothing until next Friday.', \"I'm hoping soon I will be able to return the favor to this amazing subreddit.\", \"I'm picking up a second job within the week so hopefully I can do a little something and get back on my feet.\", \"Thank you for reading\\n\\nEdit:, forgot to add location like a dummy, I'm in monroe, north Carolina.\", \"I believe i have a dominoes, papa John's and pizza hut nearby.\"], [3, 3, 3, 3, 3, 3, 9, 3]], 't3_pvs82': [['Hi, everyone.', \"I'm in college right now and have absolutely no money, and will continue to be broke until I get paid in two weeks.\", 'This is my first time posting on RAOP.', \"I'm requesting a pizza not for me, but for my boyfriend.\", \"He's absolutely wonderful to me, and right now he's going through a really hard time.\", 'His mom is sick.', 'Really sick.', 'And normally in this kind of situation I would make/buy some kind of food for him.'], [9, 3, 3, 3, 3, 3, 3, 3]], 't3_14sl4k': [['I shall do most anything in reason.', 'I recently moved down here..', 'In the bumfuck middle of nowhere.', \"I live a stone's throw away from the Speedway.\", 'I feel disconnected from the world.', \"I'm ACTUALLY looking forward to the meteor shower tonight-- as there's absolutely no light pollution around where I live.\", 'Maybe enjoy it with a pizza?', ':)'], [3, 3, 3, 3, 3, 3, 3, 9]], 't3_3q279z': [[\"Got fired, well laid off and now I can't afford to stay at my apartment.\", \"Now i'm moving back in with my mom until I get back on my feet.\", 'Payed the movers for tomorrow &amp; still came up short.', 'Luckily they were cool about it.', \"Now I'm in my apartment all boxed up, all day.\", 'Pizza would hit the spot and be perfect because my first meal here was pizza.', 'Why not make it the last?', \"Edit: I'm in NYC.\"], [3, 3, 3, 3, 3, 3, 3, 3]], 't3_7bp8jg': [['I lost my job last year and as a result, my old apartment as well.', 'After almost a year of having to drift around with friends, I was finally able to find an apartment that accepted me (bad credit is a bitch).', \"I know it's harder to gift to Canada, but I would love some pizza to celebrate starting this next chapter of my life.\", \"I can take pictures of my box filled living room as proof that I just moved in if you'd like.\", \"And also of the ants I'm trying to get rid of, courtesy of the last tenants :(\\n\\nIt's been one hell of a shitty year, but I'm finally back on my feet again and hope to have employment soon.\", \"In town there is Domino's, Papa John's, Pizza Pizza, Pizza Hut (but I find them pretty expensive in comparison) and a Topper's Pizza.\", \"I don't need anything fancy or expensive, the $10.99 large brooklyn style pepperoni from Domino's would feed me for a couple days.\", 'Thanks for reading!'], [3, 3, 3, 1, 3, 3, 3, 9]], 't3_3avjys': [[\"Working towards paying off back rent and bills from my husband being unemployed for a while, so we're broke until payday.\", \"I would be happy to write/edit anything for you (I'm a freelance writer) for some dinner for my family.\", 'Want an epic origins story written for your username?', 'You got it.', 'Want a passive aggressive poem about your ex that you can post on FB to shame him/her?', 'You got it!', \"Literally anything you want me to write, I will write for you upon receiving a pizza (within reason, it would take quite a bit of pizza for me to write your 12 page research paper that's due tomorrow, but we can talk).\", 'Thanks in advance!'], [3, 2, 3, 3, 3, 3, 3, 9]], 't3_jf70p': [['First off, long time lurker, just found out about this subreddit and thought maybe someone may be able to help.', 'Over the weekend, I let a good friend of mine borrow my 1998 Ranger.', 'He ended up drinking and driving and drove through a fence (and then on my rims around the block).', 'Totaled it.', \"It was the last thing my dad gave me and I can't afford repairs nor the tow for weeks.\", \"By the time I can get it out, it will be costing more than it's worth.\", 'I am still going to get it out and fix it, because it is sentimental.', \"All I have to eat is rice for the next three weeks (maybe more); so, I'm not starving, but a pizza would really be a pick-me-up at this point.\"], [3, 3, 3, 3, 3, 3, 3, 3]], 't3_9b581y': [['Hi guys.', 'My name is Ian.', 'I live Manhattan and I am currently broke until Friday (sister got married over the weekend).', 'If there are any fellow pizza lovers out there that are willing to help out I will HAPPILY pay it forward Friday evening on this very subreddit.', 'I am not picky, Ill take a plain pie or even a suggestion!', 'I can pick up as well.', 'That being said if there is ANYTHING else you would like to know, please, do not hesitate to ask.', \"_crosses fingers_\\n\\n&gt;edit: I know I made this last night, but I havent been pizza'd, so this post still applies!\"], [9, 3, 3, 2, 3, 3, 3, 3]], 't3_krx89': [[\"I'm in the US.\", 'Money is super tight and my soon to be 2 yr old keeps asking for pizza (peet-zee).', \"Her b-day is tomorrow (9/27) and i'd really like to surprise her with some pizza.\", 'I can provide cell phone pics of my family (2 toddlers, 2 adults) eating the pizza afterward.', ':D'], [3, 3, 8, 2, 9]], 't3_8jojsg': [[\"Hey all, I'm a college student who's in-between paychecks.\", \"I'm out of meal plan dollars for the semester, so I've been surviving off of ramen and peanut butter sandwiches for the last week or so.\", \"It's depressing and I'm really craving something more substantial in the lead up to finals, like pizza.\", 'I receive my next paycheck this Friday, so if someone is willing to help me out I will pay it back, or pay it forward to someone who is also struggling!', \"I live in Colorado Springs, and there is a Domino's nearby.\"], [3, 3, 7, 3, 3]], 't3_1ifds1': [[\"Hi everyone :3 so I've had no AC thanks to my *lovely* roommate lying to us about being able to get one.\", \"It's 95 right now and I'm about to collapse from heat exhaustion.\", 'You know what would make me smile and actually be able to get up off the couch right now?', 'A yummy pizza.', 'Someone make my dreams come true?'], [3, 3, 3, 3, 9]], 't3_a5zj68': [['Hey, been struggling to find a job and been super busy with finals.', \"I spent nearly all my money on bills and don't have money to buy groceries currently.\", \"So I'm trying to fuel up to continue studying for my last final and would appreciate a pizza if someone would be so kind.\", 'Thank you in advance \\n\\nEDIT: I am in college park Maryland, I have a dominos about 15 minute walk away, also have a papa johns and paisanos the same distance away .', 'I do not have a car'], [3, 3, 3, 9, 3]], 't3_a51zcn': [[\"I've gifted before.\", 'Im hoping karma comes through.', \"That's all...\\n\\nIm in Wisconsin.\", 'Pizza Hut and Toppers delivers to me.', 'I am not in a position to pick up...'], [3, 3, 3, 3, 3]], 't3_6zpl0g': [[\"Hi, was inbetween jobs last month and was able to clear last month's rent/bills just barely.\", \"I've been living off $20 since Thursday and am getting incredibly sick of eating ramen and eggs.\", 'I\\'ve worked the last 8 days in a row and have 2 more to go before anytime off and have not felt \"not hungry\" almost the entire time.', 'Really hoping for just a pizza for tonight to get me through one more day of 500 calories (or less) for food consumption.', 'Thank you so much to anyone who replies, much appreciated &lt;3'], [3, 3, 3, 3, 9]], 't3_760rfi': [['Got into town a few weeks ago, spent all my money on my hotel and moving into this apartment.', \"I don't start my new job until next week at the earliest.\", 'Can provide pictures for proof.', 'Just hungry and looking for a bite.', 'Edit: US Most major chains are nearby.'], [3, 3, 1, 3, 3]], 't3_3pkqpd': [['So pretty much the title.', \"I don't have an extravagant sob story to feed you in return for a pizza.\", \"I won't have any money coming in for another 2-4 days (had to transfer it from paypal to my bank and that takes some time) and i am really craving pizza.\", 'I would make sandwiches but my brother takes lunch to school with him and he usually has sandwiches.', 'My location is vero beach florida.'], [3, 3, 3, 3, 3]], 't3_3dal82': [[\"Yep, I'm officially a genius.\", 'My wallet must have fallen out of my pocket last night while I was walking around Memphis, TN, and now I have no money for the next 5-7 business days.', \"Any of the big 3 chains (Papa John's, Domino's, Pizza Hut) are fairly close, and I really don't have a preference for any of them.\", 'I will just be feeding myself, but a bit extra so I can grab an extra large and have leftovers for tomorrow would be swell.', 'I will happily pay my pizza forward once I get all my cards/IDs from my wallet replaced.'], [3, 3, 3, 3, 2]], 't3_uuwpz': [[\"I've got about a dollar and the prospect of a few old cell phones to sell until Friday.\", 'My classic non-perishables, spam and tuna, are dwindling too.', 'Anybody feel like helping out a poor soul in the Montgomery County, MD area?', 'Will screenwrite for pizza!', 'Thanks much!'], [3, 3, 3, 3, 9]], 't3_xbnlb': [['I found out a couple weeks ago that I have Rheumatoid Arthritis.', \"While I wait to start serious treatment, I'm having to give up just about every focal activity in my life- basketball, yoga, alcohol and long nights out.\", 'This is making my move to a new city all the more difficult, as you might imagine.', \"Anyway, I'm hungry, low on food, and too achy to shop and prepare a meal (no real grip function today).\", \"I figured it would be worth a shot since I'm just a couple days away from returning the gesture.\"], [3, 3, 3, 3, 3]], 't3_62hbzm': [[\"I'm a college student as the title suggests.\", \"I have a handful of meals that I'm rationing until next I'm paid, but I'm low on money and my food supply is shrinking.\", 'I can probably survive without, ration harder, etc.', 'But a pizza or two would go a LONG way for keeping full over the next few days.', 'Thanks ahead of time :)'], [3, 3, 3, 3, 9]], 't3_997os0': [['Good evening, Reddit!', \"My mom's currently out of commission (respiratory illness/cold) and we don't have food in the house!\", \"Any gift cards for Domino's or other big pizza chains would be swell.\", \"I'm so hungry I could eat my cat!\", 'Obligatory floof:'], [9, 3, 3, 3, 3]], 't3_2b0kn1': [['So I recently got my hands on a TON of [lentils](  ).', 'Red, green, brown...speckled!?', \"I was thinking that I'd love to try those and maybe some greens I have on a few pizzas; Maybe try out the healthier side of pizza.\", \"I'll also ask for a custom drawing, of your choice, from the pizzaiolo themselves!\", 'Given and received before.'], [3, 3, 3, 3, 1]], 't3_3jepln': [['Hey guys, my brother-in-law just got out of the hospital after a 9 day stay and on top of that his birthday was yesterday.', 'Pizza is by far his favorite food but my wife and I have no money to get any right now.', 'Would anyone be willing to help make our day a little better?', \"We'll pay it forward once we're able to.\", 'Thanks!'], [3, 3, 9, 2, 9]], 't3_k2m6f': [['Probably a long shot.', 'Broke, no real money til next week.', 'Can provide pictures of kitten attempting to eat pizza.', 'Just gonna be lounging around watching football this weekend with my kitties, eating oatmeal, lol.', \"I'm in Georgia, but not a Georgia fan.\"], [3, 3, 1, 3, 3]], 't3_7w2gwh': [['hello all.', \"I've been trying all day to find a way to get money for groceries and nothing has worked out.\", \"I'm not going to say I'm more deserving than anybody but I can explain why I'm struggling if you want.\", \"I would really appreciate a pizza right now, I don't have much else to eat and I haven't had anything hot in days.\", 'thank you.'], [9, 3, 3, 3, 9]], 't3_66hbh3': [[\"I don't get paid til next Friday.\", \"Didn't get too many hours over the last pay period and all I have is bread and pimento cheese.\", \"I'll try and pay it forward when I get paid.\", 'I feel really bad for having to ask.', \"There's a Pizza Hut and a Domino's around here.\"], [3, 3, 2, 9, 3]], 't3_9kkf0e': [['I got fired from my job on 9/17.', \"I've literally been running on empty to save enough for rent this month.\", 'I just dropped my rent off and have $13 to last for the rest of this week until next Tuesday.', 'Thank you ahead of time for reading and I promise once I start getting a regular income again I will pay it forward.', \"I'm in the Greensboro, NC area and have the Papa Johns, Pizza Hut and other local places that deliver to me.\"], [3, 3, 3, 9, 3]], 't3_xs4sp': [[\"So we're having a house show.\", 'And pizza boxes make our lineup.', 'So what better to have pizza at our pizza party house show.', 'This one is 12 bands.', 'Help feed hungry musicians and a house full of people with a pizza!'], [3, 3, 3, 3, 9]], 't3_rtwya': [[\"Hey, i'm new to this but my friend just told me about this site.\", 'I have just moved to Centralia and got my apartment.', 'I spent all my money for rent and have no money until the 12th.', \"It'd be highly appreciated if someone would be able buy me a Large Pepperoni Pizza from Dominos and I will be able to pay you back.\", 'Please and thank you.'], [3, 3, 3, 9, 9]], 't3_16soun': [['Hello, all five of my roommates have gone for the evening of whom are wonderful cooks which I incessantly feed myself from, but tonight there are no leftovers and no food in the house and no vehicle.', \"I'd love a pizza if there is one to spare.\", ':)\\n\\nI could offer something in return, but my skills are limited only to graphic design/digital arts, drawing, and painting.', 'I could send a little thank you if you wanted!', 'Thanks \\n\\nedit: I live in Athens, GA'], [3, 3, 2, 9, 9]], 't3_jnzv0': [['My husband and I are buying our first new car today.', 'We are not in dire straights by any means, but buying a new car is definitely putting a huge dent in our wallets.', \"I would like to surprise my husband tonight with a celebratory pizza that didn't put any extra strain on our bank account.\", 'The car payments over the next 5 years will being doing enough of that.', 'Thank you!'], [3, 3, 8, 3, 9]], 't3_1mqs3k': [['The pilot, my partner, and I had to make a quick landing after one of our sensors started acting up.', \"Luckily we didn't have a patient with us.\", \"We're grounded at a small airport and were about to order some pizza.\", \"Thought I'd see if a random pizza flew our way.\", 'Thanks.'], [3, 3, 3, 3, 9]], 't3_ktg8y': [[\"I live in Tucson, AZ, and came out of work to find a small tree on the hood of my car after this afternoon's lovely storm.\", \"Fixing this is going to be the rest of my money until payday on Friday, and I'm just hoping that there's someone out there thinking about passing on a pizza.\", \"I'm a big believer in karma, and I'm hoping that she's going to be kind to me after the past few weeks of absolute shit.\", 'UGH.', 'Right before my vacation, too :('], [3, 3, 3, 0, 3]], 't3_2n38u3': [[\"I'm at my mothers house for the next day or so watching my little brothers while she is gone for work.\", \"She didn't buy any food before she left and I'm broke, any help would be awesome!\", 'My little brothers would thank you immensely!', 'Ky/USA\\n\\nQuick Edit: my brothers offered to draw someone a picture if they get pizza!', 'Edit: received'], [3, 3, 9, 2, 0]], 't3_87el4v': [[\"I've been working full time since my boyfriend was unexpectedly laid off.\", 'He has some interviews and now we wait for a call back and the pay check.', 'It all takes a while.. My pay by itself only covers enough for us to pay the bills.', 'Would be nice to have a pizza during all this.', \"There are a lot of local places but also a Papa John's, Domino's, and most other main chains.\"], [3, 3, 3, 3, 3]], 't3_1seo15': [['Just started fostering my niece and her prior foster family did not send any of her stuff.', 'We have 3 kids of our own already and are usually alright on funds, but we started from scratch this winter with her and are now broke.', 'We would love some pizza to share!', 'When things look up I will pay it forward!', 'Thanks!'], [3, 3, 3, 2, 9]], 't3_akh9x2': [[\"I heard about this sub from a friend who suggested I give it a shot... (forgive him he's broke as well)\\nI recently moved to souix city, Iowa.\", \"Haven't received first paycheck yet, but expect to within the week.\", 'I ran out of money on Friday and a coworker gave me some ramen before I left work for the weekend.', \"I normally don't ask for help from others but, I am really hungry and broke.\", 'Any help would be appreciated!'], [3, 3, 3, 3, 9]], 't3_4w553c': [['Just trying to feed myself and my brother who has a broken ankle.', \"Don't feel sorry for him and buy the pizza.\", 'Buy the pizza knowing that your username or phrase of your choice will be forever tattooed on my flesh in return for the melty goodness.', 'Toledo, Ohio.', \"Dominos, Papa Johns, Pizza Hut, Marco's.\"], [3, 3, 3, 0, 3]], 't3_akib8q': [['I recently got a job last Wednesday.', \"After I reach payday, I won't have to worry about money again for a while, but the first two weeks of work until the paycheck are the hardest.\", \"Having never had a job before, until I get the first paycheck, I'm just completely broke (apart from fare for traveling).\", \"I'll be able to repay the favor eventually but as for right now, I'd highly appreciate it if someone were to help me out for the week.\", 'Thanks!'], [3, 3, 3, 3, 9]], 't3_10qbul': [['Car got towed on OSU campus thursday night &amp; $248 later i now have no money.', 'Between this and my court fees that need paid by the end of the month im extremely strapped for cash.', 'I cant even leave my apartment cause i cant fill up my gas.', \"I would love for someone to help me out and I will gladly pass along the favor when I'm experiencing more prosperous times.\", 'Located in Columbus, Ohio\\n\\nThanks Reddit!'], [3, 3, 3, 3, 9]], 't3_82t1n7': [['Hey guys, first time user here.', \"Not to egg any sympathy, but due to some recent situations in life, I'm struggling financially.\", 'I work at a Trampoline Park and we order Dominos for parties, and we happened to have one today.', 'The smell of that Dominos pizza nearly made my stomach cry, and it made me recall this subreddit.', \"So, I'd like to give this a try and make a request!\"], [3, 3, 3, 3, 3]], 't3_8anc70': [['Hello everyone, I am a college student with no money to spend.', 'I am currently in grind mode completing my projects and studying for my tests.', \"I didn't have enough time to go to the dining hall today so I've been studying on an empty stomach.\", \"I'd love it if someone could help me out with some pizza.\", \"I'm in Raleigh and the closest pizza places to me are Papa Johns and Dominos.\"], [3, 7, 3, 3, 3]], 't3_3rrn3d': [[\"My wife works in a NICU and works nights - our schedules overlap so that we don't see each other except weekends.\", 'So I am pretty much a stay at home dad every night, drive 1.2 hours home from work, pick up tot from daycare, cook, clean, bathe him, read books, etc.', 'I am just tired of cooking and worn out.', 'Would like to spend the entire time with my wife and toddler instead of doing chores.', 'Someone want to make this night a movie night?'], [3, 3, 7, 3, 9]], 't3_8ftwe8': [[\"Okay well since you actually might be interested, and because I wasn't trying to use some lure-ass clickbait title, I've been couch surfing for two weeks, I'm out of money, and I won't be home for two days.\", \"BUT THE GOOD NEWS is there's a local dominos nearby selling medium pizzas at a pretty good delivery deal, AND (get ready for me to butter you up like the perfect garlic crust) not the mention the fact that there are just some BEAUTIFUL and FANTASTIC redditors out there who, out of the kindness of their own Damn hearts, may or may not spend 15 or 20 bucks to make sure I don't over-dramatically think I'm starving over the next few days.\", \"I mean honestly it would be swell and I've never been gifted random internet things in real life before so it would be cool as hell and again, heavily appreciated.\", 'USA, if that matters.', 'Edit: yes there are OTHER pizza places nearby but that dominos deal is just incredible'], [3, 3, 3, 3, 3]], 't3_4ofzjn': [['Seasonal worker here who has very little to live on this month.', 'Broke and nothing in the kitchen.', 'I could really use some help getting dinner this evening.', 'Thanks reddit.', 'California, by the way.'], [3, 3, 3, 9, 3]], 't3_4p1k58': [['Hey guys.', 'I woke up violently ill around 1 am and had to call out of work today.', \"I got a whole ration of shit from my boss and now my paycheck is going to be too low for the period, so I'm going to be living lean for the next 3 weeks.\", \"I've not had a bite to eaten since my committing fit earlier and don't have hardly anything to eat any way.\", \"I'd love a pizza to give me a little joy before passing out tonight.\"], [9, 3, 3, 5, 3]], 't3_9wufes': [['I just recently lost my job and definitely have been actively trying to land a new one.', \"But I spent my last paycheck paying Utility bills at my parents place and now I'm a little short on food for the week.\", 'I can make a large or XL last for about three days which is perfectly fine.', \"I'm in USA and the closest thing near me is Papa Johns or Pizza Hut.\", 'Thanks'], [3, 3, 3, 3, 9]], 't3_lkmwg': [[\"It's been a rough couple of weeks.\", \"Found out last week that the guy I've been seeing has a girlfriend.\", \"Then found out today that it's going to cost almost 200$ for a medical procedure I need for my stomach.\", 'I really could use a little bit of cheesy cheer.', 'As soon as I can pay it forward I will!'], [3, 3, 3, 3, 2]], 't3_jq1rb': [[\"Not to be cliche, but I'm a broke, last-year college student trying to get through the night.\", 'I would be more than willing to pay it back/forward after I get my check next week from my job.', 'School starts tomorrow and I will have meal plans, so no worries for the rest of the semester.', \"Feel free to check my account, it's over three years old and I participated in Secret Santa and Arbitrary Day if that gives any credibility to my intent in hitting someone back.\", 'Thanks in advance to anyone who reads this.'], [3, 3, 3, 1, 9]], 't3_8pegfh': [[\"I've never requested here before but I thought it was worth a shot.\", \"I'm alone at work with just my kid.\", \"My sitter had a family emergency and I can't afford to miss work.\", \"My bank account is at -$6 and some change and I can't leave my store unattended even if I did have the money.\", 'If anyone could help out two hungry girls we would be forever greatful.'], [3, 3, 3, 3, 9]], 't3_1djtso': [['In the middle of my final year university exams, got one left next Tuesday...', \"I have no money to eat tonight and just have a pack of supernoodles, you'd be making my week!\", 'A pizza would make life seem slightly more bearable and get me to the weekend.', \"I'd be eternally grateful and you can live with the knowledge you helped a man get his degree.\", ':)'], [3, 3, 3, 3, 9]], 't3_1ik4g6': [['So:\\n\\nI have kidney failure and am on dialysis, off work ill and work have paid me half pay (after saying they would pay full pay).', 'Meanwhile, my fiancee has sprained her ankle and is also off work with no sick pay.', 'We have no money until next payday.', 'Please help with pizza (will pay forward when we can)\\n\\nEDIT: pizzas have arrived awesomely.', 'Thank you, u/dontwakeme !'], [3, 3, 5, 9, 9]], 't3_3j3v9n': [['My favorite pizza to get from pizza hut is chicken and meatball, with garlic buttery crust, then the sauce is BBQ with honey sirarcha drizzled on top.', \"It's an insane mixture of flavors.\", 'You should try it sometime!', 'Oh yeah, live in Cleveland, Ohio.', \"Romeo's, Pizza Hut, Marco's, Domino's, Papa John's all deliver to my house.\"], [3, 3, 3, 3, 3]], 't3_4qchb2': [[\"**RECIEVED THANKS TO /U/CommanderGumball** ~~I'm just asking for a pizza as I have been going through some bad weeks here recently.\", 'Lost my job, about to lose my home and have no family to call on.', 'just got another job and everything we have right now is going to the baby.', \"I'll pay it forward or back when I get paid my last check at the end of the week.\", 'Pizza Hut has the best deal right now, [the triple threat box](  ) thing they have for 20 bucks.~~'], [3, 3, 3, 2, 3]], 't3_90rffo': [[\"Hello Pizza people, this is my first post here but i've been lurking for a little while just observing how you do things.\", 'Basically I want a pizza because I just got off work after being up for over 24 hours now, want to go take a nap and really dont want to have to think about dinner when I wake up, would just buy one myself buy my accound is overdrafted from some emergency car repairs, and i dont get paid again till friday.', 'So if you are willing, Thanks!', 'if not, I completely understand.', 'I dont know if i should give personal info here or in a PM to whoever, if anyone is willing, so ill just say that the only place nearby that would deliver is Dominos.'], [3, 3, 9, 3, 3]], 't3_ko3e1': [['A good three months ago, a family welcomed me into their home when I was living on the streets.', 'I was homeless, broke and starving when they saved me.', 'Now, I am on my feet thanks to them and they are moving tomorrow because of a family emergency.', 'Since all of the food is packed up, I would like to get them a pizza but I do not have the money to do this until I get paid next Friday, which will be to late, so I will pay forward.', 'Many thanks'], [3, 3, 9, 3, 9]], 't3_3y4j1j': [['In the past few months me and my friend have both lost the want or ability to speak to our families.', 'I have even had to go so far as getting a restraining order against my mom.', 'A pizza would be an awesome Christmas Eve dinner.', \"We're in Cincinnati, Ohio.\", 'Thanks!'], [3, 3, 3, 3, 9]], 't3_9nvz59': [[\"I don't know what to say.\", \"Honestly it's been a really rough few months.\", \"I don't have friends and just been really down.\", 'I will pay back someone next week.', 'I have the money but it would be nice if someone can do something for me and feel like I am a person.'], [3, 3, 7, 2, 3]]}\n"
     ]
    }
   ],
   "source": [
    "print(unpickled_dict)"
   ]
  },
  {
   "cell_type": "code",
   "execution_count": 6,
   "id": "935a9ac7",
   "metadata": {},
   "outputs": [],
   "source": [
    "#clean up the data and put each sentence in its own cell. \n",
    "#In the cell next to it, put the code for the persuasion technique\n",
    "#for each row\n",
    "#column 0 split by \",\"\n",
    "#same index as column 1\n",
    "\n",
    "\n",
    "\n",
    "#[t3_17a1qc, column0[0], column1[0]]\n",
    "#[t3_17a1qc, column0[1], column1[1]]\n",
    "\n",
    "#print(unpickled_dict)\n",
    "final_answer = []\n",
    "for key, values in unpickled_dict.items():\n",
    "    title = key\n",
    "    list_of_sentences = values[0]\n",
    "    list_of_answers =values[1]\n",
    "#     print(title)\n",
    "#     print(list_of_sentences)\n",
    "    for i in range(len(list_of_sentences)):\n",
    "        current_sentence = list_of_sentences[i]\n",
    "        current_answer = list_of_answers[i]\n",
    "        answer_list = [title,current_sentence,current_answer]\n",
    "        final_answer.append(answer_list)\n",
    "        \n",
    "#convert list to dataframe        \n",
    "ROAP_transposed_df = pd.DataFrame(final_answer)\n",
    "        \n",
    "        "
   ]
  },
  {
   "cell_type": "code",
   "execution_count": 7,
   "id": "68195666",
   "metadata": {
    "scrolled": true
   },
   "outputs": [
    {
     "data": {
      "text/html": [
       "<div>\n",
       "<style scoped>\n",
       "    .dataframe tbody tr th:only-of-type {\n",
       "        vertical-align: middle;\n",
       "    }\n",
       "\n",
       "    .dataframe tbody tr th {\n",
       "        vertical-align: top;\n",
       "    }\n",
       "\n",
       "    .dataframe thead th {\n",
       "        text-align: right;\n",
       "    }\n",
       "</style>\n",
       "<table border=\"1\" class=\"dataframe\">\n",
       "  <thead>\n",
       "    <tr style=\"text-align: right;\">\n",
       "      <th></th>\n",
       "      <th>0</th>\n",
       "      <th>1</th>\n",
       "      <th>2</th>\n",
       "    </tr>\n",
       "  </thead>\n",
       "  <tbody>\n",
       "    <tr>\n",
       "      <th>0</th>\n",
       "      <td>t3_17a1qc</td>\n",
       "      <td>Hi there, I was supposed to be paid today.</td>\n",
       "      <td>3</td>\n",
       "    </tr>\n",
       "    <tr>\n",
       "      <th>1</th>\n",
       "      <td>t3_17a1qc</td>\n",
       "      <td>Sadly I am still waiting.</td>\n",
       "      <td>3</td>\n",
       "    </tr>\n",
       "    <tr>\n",
       "      <th>2</th>\n",
       "      <td>t3_17a1qc</td>\n",
       "      <td>I spent my last £2 on cat food so I am absolut...</td>\n",
       "      <td>7</td>\n",
       "    </tr>\n",
       "    <tr>\n",
       "      <th>3</th>\n",
       "      <td>t3_17a1qc</td>\n",
       "      <td>Not only has this ruined my plans for the week...</td>\n",
       "      <td>3</td>\n",
       "    </tr>\n",
       "    <tr>\n",
       "      <th>4</th>\n",
       "      <td>t3_17a1qc</td>\n",
       "      <td>I am a writer and I am happy to do some writin...</td>\n",
       "      <td>2</td>\n",
       "    </tr>\n",
       "  </tbody>\n",
       "</table>\n",
       "</div>"
      ],
      "text/plain": [
       "           0                                                  1  2\n",
       "0  t3_17a1qc         Hi there, I was supposed to be paid today.  3\n",
       "1  t3_17a1qc                          Sadly I am still waiting.  3\n",
       "2  t3_17a1qc  I spent my last £2 on cat food so I am absolut...  7\n",
       "3  t3_17a1qc  Not only has this ruined my plans for the week...  3\n",
       "4  t3_17a1qc  I am a writer and I am happy to do some writin...  2"
      ]
     },
     "execution_count": 7,
     "metadata": {},
     "output_type": "execute_result"
    }
   ],
   "source": [
    "ROAP_transposed_df.head()"
   ]
  },
  {
   "cell_type": "code",
   "execution_count": 8,
   "id": "ab2d44bc",
   "metadata": {},
   "outputs": [
    {
     "data": {
      "text/html": [
       "<div>\n",
       "<style scoped>\n",
       "    .dataframe tbody tr th:only-of-type {\n",
       "        vertical-align: middle;\n",
       "    }\n",
       "\n",
       "    .dataframe tbody tr th {\n",
       "        vertical-align: top;\n",
       "    }\n",
       "\n",
       "    .dataframe thead th {\n",
       "        text-align: right;\n",
       "    }\n",
       "</style>\n",
       "<table border=\"1\" class=\"dataframe\">\n",
       "  <thead>\n",
       "    <tr style=\"text-align: right;\">\n",
       "      <th></th>\n",
       "      <th>name</th>\n",
       "      <th>sentence</th>\n",
       "      <th>code</th>\n",
       "    </tr>\n",
       "  </thead>\n",
       "  <tbody>\n",
       "    <tr>\n",
       "      <th>0</th>\n",
       "      <td>t3_17a1qc</td>\n",
       "      <td>Hi there, I was supposed to be paid today.</td>\n",
       "      <td>3</td>\n",
       "    </tr>\n",
       "    <tr>\n",
       "      <th>1</th>\n",
       "      <td>t3_17a1qc</td>\n",
       "      <td>Sadly I am still waiting.</td>\n",
       "      <td>3</td>\n",
       "    </tr>\n",
       "    <tr>\n",
       "      <th>2</th>\n",
       "      <td>t3_17a1qc</td>\n",
       "      <td>I spent my last £2 on cat food so I am absolut...</td>\n",
       "      <td>7</td>\n",
       "    </tr>\n",
       "    <tr>\n",
       "      <th>3</th>\n",
       "      <td>t3_17a1qc</td>\n",
       "      <td>Not only has this ruined my plans for the week...</td>\n",
       "      <td>3</td>\n",
       "    </tr>\n",
       "    <tr>\n",
       "      <th>4</th>\n",
       "      <td>t3_17a1qc</td>\n",
       "      <td>I am a writer and I am happy to do some writin...</td>\n",
       "      <td>2</td>\n",
       "    </tr>\n",
       "    <tr>\n",
       "      <th>...</th>\n",
       "      <td>...</td>\n",
       "      <td>...</td>\n",
       "      <td>...</td>\n",
       "    </tr>\n",
       "    <tr>\n",
       "      <th>3595</th>\n",
       "      <td>t3_9nvz59</td>\n",
       "      <td>I don't know what to say.</td>\n",
       "      <td>3</td>\n",
       "    </tr>\n",
       "    <tr>\n",
       "      <th>3596</th>\n",
       "      <td>t3_9nvz59</td>\n",
       "      <td>Honestly it's been a really rough few months.</td>\n",
       "      <td>3</td>\n",
       "    </tr>\n",
       "    <tr>\n",
       "      <th>3597</th>\n",
       "      <td>t3_9nvz59</td>\n",
       "      <td>I don't have friends and just been really down.</td>\n",
       "      <td>7</td>\n",
       "    </tr>\n",
       "    <tr>\n",
       "      <th>3598</th>\n",
       "      <td>t3_9nvz59</td>\n",
       "      <td>I will pay back someone next week.</td>\n",
       "      <td>2</td>\n",
       "    </tr>\n",
       "    <tr>\n",
       "      <th>3599</th>\n",
       "      <td>t3_9nvz59</td>\n",
       "      <td>I have the money but it would be nice if someo...</td>\n",
       "      <td>3</td>\n",
       "    </tr>\n",
       "  </tbody>\n",
       "</table>\n",
       "<p>3600 rows × 3 columns</p>\n",
       "</div>"
      ],
      "text/plain": [
       "           name                                           sentence  code\n",
       "0     t3_17a1qc         Hi there, I was supposed to be paid today.     3\n",
       "1     t3_17a1qc                          Sadly I am still waiting.     3\n",
       "2     t3_17a1qc  I spent my last £2 on cat food so I am absolut...     7\n",
       "3     t3_17a1qc  Not only has this ruined my plans for the week...     3\n",
       "4     t3_17a1qc  I am a writer and I am happy to do some writin...     2\n",
       "...         ...                                                ...   ...\n",
       "3595  t3_9nvz59                          I don't know what to say.     3\n",
       "3596  t3_9nvz59      Honestly it's been a really rough few months.     3\n",
       "3597  t3_9nvz59    I don't have friends and just been really down.     7\n",
       "3598  t3_9nvz59                 I will pay back someone next week.     2\n",
       "3599  t3_9nvz59  I have the money but it would be nice if someo...     3\n",
       "\n",
       "[3600 rows x 3 columns]"
      ]
     },
     "execution_count": 8,
     "metadata": {},
     "output_type": "execute_result"
    }
   ],
   "source": [
    "# adding column name to the respective columns\n",
    "ROAP_transposed_df.columns =['name','sentence', 'code']\n",
    "  \n",
    "ROAP_transposed_df"
   ]
  },
  {
   "cell_type": "code",
   "execution_count": 9,
   "id": "68a3d47c",
   "metadata": {},
   "outputs": [],
   "source": [
    "#df.to_csv('transposed_ROAP.csv', index=False)"
   ]
  },
  {
   "cell_type": "markdown",
   "id": "3a6ae177",
   "metadata": {},
   "source": [
    "roap_df = documents\n",
    "ROAP_cleaned_df = pd.DataFrame(documents)"
   ]
  },
  {
   "cell_type": "markdown",
   "id": "71d41ae2",
   "metadata": {},
   "source": [
    "# Import r/Borrow"
   ]
  },
  {
   "cell_type": "code",
   "execution_count": 10,
   "id": "4a321ebc",
   "metadata": {},
   "outputs": [],
   "source": [
    "#import r/borrow dataset\n",
    "objects = []\n",
    "with (open(\"borrow_labeled_data.pkl\", \"rb\")) as openfile:\n",
    "    while True:\n",
    "        try:\n",
    "            objects.append(pickle.load(openfile))\n",
    "        except EOFError:\n",
    "            break"
   ]
  },
  {
   "cell_type": "code",
   "execution_count": 11,
   "id": "4d48073f",
   "metadata": {},
   "outputs": [
    {
     "name": "stdout",
     "output_type": "stream",
     "text": [
      "\n"
     ]
    }
   ],
   "source": [
    "print ()"
   ]
  },
  {
   "cell_type": "code",
   "execution_count": 12,
   "id": "c7c05f49",
   "metadata": {},
   "outputs": [
    {
     "data": {
      "text/html": [
       "<div>\n",
       "<style scoped>\n",
       "    .dataframe tbody tr th:only-of-type {\n",
       "        vertical-align: middle;\n",
       "    }\n",
       "\n",
       "    .dataframe tbody tr th {\n",
       "        vertical-align: top;\n",
       "    }\n",
       "\n",
       "    .dataframe thead th {\n",
       "        text-align: right;\n",
       "    }\n",
       "</style>\n",
       "<table border=\"1\" class=\"dataframe\">\n",
       "  <thead>\n",
       "    <tr style=\"text-align: right;\">\n",
       "      <th></th>\n",
       "      <th>0</th>\n",
       "      <th>1</th>\n",
       "    </tr>\n",
       "  </thead>\n",
       "  <tbody>\n",
       "    <tr>\n",
       "      <th>t3_9oe5d9</th>\n",
       "      <td>[Long story short: I messed up on a dental pro...</td>\n",
       "      <td>[3, 3, 2, 3, 0]</td>\n",
       "    </tr>\n",
       "    <tr>\n",
       "      <th>t3_9wpobn</th>\n",
       "      <td>[I am in the middle of a land sale which will ...</td>\n",
       "      <td>[3, 3, 3, 3, 1]</td>\n",
       "    </tr>\n",
       "    <tr>\n",
       "      <th>t3_4cwz66</th>\n",
       "      <td>[The opening date of the bar that I am the bar...</td>\n",
       "      <td>[3, 3, 3, 3, 2]</td>\n",
       "    </tr>\n",
       "    <tr>\n",
       "      <th>t3_7ic1k0</th>\n",
       "      <td>[Hello, \\n\\nI've had great success here and yo...</td>\n",
       "      <td>[3, 8, 3, 9, 2]</td>\n",
       "    </tr>\n",
       "    <tr>\n",
       "      <th>t3_52538d</th>\n",
       "      <td>[Hi Ali,\\n\\nIt's your favorite borrower back a...</td>\n",
       "      <td>[6, 8, 3, 1, 9]</td>\n",
       "    </tr>\n",
       "  </tbody>\n",
       "</table>\n",
       "</div>"
      ],
      "text/plain": [
       "                                                           0                1\n",
       "t3_9oe5d9  [Long story short: I messed up on a dental pro...  [3, 3, 2, 3, 0]\n",
       "t3_9wpobn  [I am in the middle of a land sale which will ...  [3, 3, 3, 3, 1]\n",
       "t3_4cwz66  [The opening date of the bar that I am the bar...  [3, 3, 3, 3, 2]\n",
       "t3_7ic1k0  [Hello, \\n\\nI've had great success here and yo...  [3, 8, 3, 9, 2]\n",
       "t3_52538d  [Hi Ali,\\n\\nIt's your favorite borrower back a...  [6, 8, 3, 1, 9]"
      ]
     },
     "execution_count": 12,
     "metadata": {},
     "output_type": "execute_result"
    }
   ],
   "source": [
    "unpickled_dict = pd.read_pickle(\"borrow_labeled_data.pkl\")  \n",
    "#convert to df\n",
    "df = pd.DataFrame.from_dict(unpickled_dict)\n",
    "\n",
    "df = df.transpose()\n",
    "df.head()"
   ]
  },
  {
   "cell_type": "code",
   "execution_count": 13,
   "id": "e123c3a0",
   "metadata": {},
   "outputs": [],
   "source": [
    "#for each row\n",
    "#column 0 split by \",\"\n",
    "#same index as column 1\n",
    "\n",
    "\n",
    "\n",
    "#[t3_17a1qc, column0[0], column1[0]]\n",
    "#[t3_17a1qc, column0[1], column1[1]]\n",
    "\n",
    "#print(unpickled_dict)\n",
    "final_answer = []\n",
    "for key, values in unpickled_dict.items():\n",
    "    title = key\n",
    "    list_of_sentences = values[0]\n",
    "    list_of_answers =values[1]\n",
    "#     print(title)\n",
    "#     print(list_of_sentences)\n",
    "    for i in range(len(list_of_sentences)):\n",
    "        current_sentence = list_of_sentences[i]\n",
    "        current_answer = list_of_answers[i]\n",
    "        answer_list = [title,current_sentence,current_answer]\n",
    "        final_answer.append(answer_list)\n",
    "        \n",
    "#convert list to dataframe        \n",
    "borrow_transposed_df = pd.DataFrame(final_answer)"
   ]
  },
  {
   "cell_type": "code",
   "execution_count": 14,
   "id": "0d3af229",
   "metadata": {},
   "outputs": [
    {
     "data": {
      "text/html": [
       "<div>\n",
       "<style scoped>\n",
       "    .dataframe tbody tr th:only-of-type {\n",
       "        vertical-align: middle;\n",
       "    }\n",
       "\n",
       "    .dataframe tbody tr th {\n",
       "        vertical-align: top;\n",
       "    }\n",
       "\n",
       "    .dataframe thead th {\n",
       "        text-align: right;\n",
       "    }\n",
       "</style>\n",
       "<table border=\"1\" class=\"dataframe\">\n",
       "  <thead>\n",
       "    <tr style=\"text-align: right;\">\n",
       "      <th></th>\n",
       "      <th>0</th>\n",
       "      <th>1</th>\n",
       "      <th>2</th>\n",
       "    </tr>\n",
       "  </thead>\n",
       "  <tbody>\n",
       "    <tr>\n",
       "      <th>0</th>\n",
       "      <td>t3_9oe5d9</td>\n",
       "      <td>Long story short: I messed up on a dental proc...</td>\n",
       "      <td>3</td>\n",
       "    </tr>\n",
       "    <tr>\n",
       "      <th>1</th>\n",
       "      <td>t3_9oe5d9</td>\n",
       "      <td>Luckily I have some savings that can help cove...</td>\n",
       "      <td>3</td>\n",
       "    </tr>\n",
       "    <tr>\n",
       "      <th>2</th>\n",
       "      <td>t3_9oe5d9</td>\n",
       "      <td>I can add in an additional $150 in interest.</td>\n",
       "      <td>2</td>\n",
       "    </tr>\n",
       "    <tr>\n",
       "      <th>3</th>\n",
       "      <td>t3_9oe5d9</td>\n",
       "      <td>I can also make monthly payments.</td>\n",
       "      <td>3</td>\n",
       "    </tr>\n",
       "    <tr>\n",
       "      <th>4</th>\n",
       "      <td>t3_9oe5d9</td>\n",
       "      <td>Whichever is best for you.</td>\n",
       "      <td>0</td>\n",
       "    </tr>\n",
       "  </tbody>\n",
       "</table>\n",
       "</div>"
      ],
      "text/plain": [
       "           0                                                  1  2\n",
       "0  t3_9oe5d9  Long story short: I messed up on a dental proc...  3\n",
       "1  t3_9oe5d9  Luckily I have some savings that can help cove...  3\n",
       "2  t3_9oe5d9       I can add in an additional $150 in interest.  2\n",
       "3  t3_9oe5d9                  I can also make monthly payments.  3\n",
       "4  t3_9oe5d9                         Whichever is best for you.  0"
      ]
     },
     "execution_count": 14,
     "metadata": {},
     "output_type": "execute_result"
    }
   ],
   "source": [
    "borrow_transposed_df.head()"
   ]
  },
  {
   "cell_type": "code",
   "execution_count": 15,
   "id": "39ffa0d9",
   "metadata": {},
   "outputs": [
    {
     "data": {
      "text/html": [
       "<div>\n",
       "<style scoped>\n",
       "    .dataframe tbody tr th:only-of-type {\n",
       "        vertical-align: middle;\n",
       "    }\n",
       "\n",
       "    .dataframe tbody tr th {\n",
       "        vertical-align: top;\n",
       "    }\n",
       "\n",
       "    .dataframe thead th {\n",
       "        text-align: right;\n",
       "    }\n",
       "</style>\n",
       "<table border=\"1\" class=\"dataframe\">\n",
       "  <thead>\n",
       "    <tr style=\"text-align: right;\">\n",
       "      <th></th>\n",
       "      <th>name</th>\n",
       "      <th>sentence</th>\n",
       "      <th>code</th>\n",
       "    </tr>\n",
       "  </thead>\n",
       "  <tbody>\n",
       "    <tr>\n",
       "      <th>0</th>\n",
       "      <td>t3_9oe5d9</td>\n",
       "      <td>Long story short: I messed up on a dental proc...</td>\n",
       "      <td>3</td>\n",
       "    </tr>\n",
       "    <tr>\n",
       "      <th>1</th>\n",
       "      <td>t3_9oe5d9</td>\n",
       "      <td>Luckily I have some savings that can help cove...</td>\n",
       "      <td>3</td>\n",
       "    </tr>\n",
       "    <tr>\n",
       "      <th>2</th>\n",
       "      <td>t3_9oe5d9</td>\n",
       "      <td>I can add in an additional $150 in interest.</td>\n",
       "      <td>2</td>\n",
       "    </tr>\n",
       "    <tr>\n",
       "      <th>3</th>\n",
       "      <td>t3_9oe5d9</td>\n",
       "      <td>I can also make monthly payments.</td>\n",
       "      <td>3</td>\n",
       "    </tr>\n",
       "    <tr>\n",
       "      <th>4</th>\n",
       "      <td>t3_9oe5d9</td>\n",
       "      <td>Whichever is best for you.</td>\n",
       "      <td>0</td>\n",
       "    </tr>\n",
       "    <tr>\n",
       "      <th>...</th>\n",
       "      <td>...</td>\n",
       "      <td>...</td>\n",
       "      <td>...</td>\n",
       "    </tr>\n",
       "    <tr>\n",
       "      <th>5795</th>\n",
       "      <td>t3_anoefk</td>\n",
       "      <td>I can provide any documentation you need.</td>\n",
       "      <td>3</td>\n",
       "    </tr>\n",
       "    <tr>\n",
       "      <th>5796</th>\n",
       "      <td>t3_4njyfp</td>\n",
       "      <td>As prearranged with /u/kingkaizersauce</td>\n",
       "      <td>0</td>\n",
       "    </tr>\n",
       "    <tr>\n",
       "      <th>5797</th>\n",
       "      <td>t3_88km07</td>\n",
       "      <td>Need some lunch money for the next 2 weeks.</td>\n",
       "      <td>3</td>\n",
       "    </tr>\n",
       "    <tr>\n",
       "      <th>5798</th>\n",
       "      <td>t3_84lv5a</td>\n",
       "      <td>£20 loan, repaying £25 in 8 days  time.</td>\n",
       "      <td>2</td>\n",
       "    </tr>\n",
       "    <tr>\n",
       "      <th>5799</th>\n",
       "      <td>t3_a0bv3e</td>\n",
       "      <td>Pre-Arranged with u/sisternancy94</td>\n",
       "      <td>0</td>\n",
       "    </tr>\n",
       "  </tbody>\n",
       "</table>\n",
       "<p>5800 rows × 3 columns</p>\n",
       "</div>"
      ],
      "text/plain": [
       "           name                                           sentence  code\n",
       "0     t3_9oe5d9  Long story short: I messed up on a dental proc...     3\n",
       "1     t3_9oe5d9  Luckily I have some savings that can help cove...     3\n",
       "2     t3_9oe5d9       I can add in an additional $150 in interest.     2\n",
       "3     t3_9oe5d9                  I can also make monthly payments.     3\n",
       "4     t3_9oe5d9                         Whichever is best for you.     0\n",
       "...         ...                                                ...   ...\n",
       "5795  t3_anoefk          I can provide any documentation you need.     3\n",
       "5796  t3_4njyfp             As prearranged with /u/kingkaizersauce     0\n",
       "5797  t3_88km07        Need some lunch money for the next 2 weeks.     3\n",
       "5798  t3_84lv5a            £20 loan, repaying £25 in 8 days  time.     2\n",
       "5799  t3_a0bv3e                  Pre-Arranged with u/sisternancy94     0\n",
       "\n",
       "[5800 rows x 3 columns]"
      ]
     },
     "execution_count": 15,
     "metadata": {},
     "output_type": "execute_result"
    }
   ],
   "source": [
    "# adding column name to the respective columns\n",
    "borrow_transposed_df.columns =['name','sentence', 'code']\n",
    "  \n",
    "borrow_transposed_df"
   ]
  },
  {
   "cell_type": "markdown",
   "id": "4fe42378",
   "metadata": {},
   "source": [
    "# Merge the dataframes"
   ]
  },
  {
   "cell_type": "code",
   "execution_count": 16,
   "id": "833d328b",
   "metadata": {},
   "outputs": [],
   "source": [
    "frames= [ROAP_transposed_df,borrow_transposed_df]\n",
    "result = pd.concat(frames, ignore_index=True)"
   ]
  },
  {
   "cell_type": "code",
   "execution_count": 17,
   "id": "1c4ef3b0",
   "metadata": {
    "scrolled": false
   },
   "outputs": [
    {
     "name": "stdout",
     "output_type": "stream",
     "text": [
      "           name                                           sentence  code\n",
      "0     t3_17a1qc         Hi there, I was supposed to be paid today.     3\n",
      "1     t3_17a1qc                          Sadly I am still waiting.     3\n",
      "2     t3_17a1qc  I spent my last £2 on cat food so I am absolut...     7\n",
      "3     t3_17a1qc  Not only has this ruined my plans for the week...     3\n",
      "4     t3_17a1qc  I am a writer and I am happy to do some writin...     2\n",
      "...         ...                                                ...   ...\n",
      "9395  t3_anoefk          I can provide any documentation you need.     3\n",
      "9396  t3_4njyfp             As prearranged with /u/kingkaizersauce     0\n",
      "9397  t3_88km07        Need some lunch money for the next 2 weeks.     3\n",
      "9398  t3_84lv5a            £20 loan, repaying £25 in 8 days  time.     2\n",
      "9399  t3_a0bv3e                  Pre-Arranged with u/sisternancy94     0\n",
      "\n",
      "[9400 rows x 3 columns]\n"
     ]
    }
   ],
   "source": [
    "print(result)"
   ]
  },
  {
   "cell_type": "code",
   "execution_count": 18,
   "id": "e65fed24",
   "metadata": {},
   "outputs": [],
   "source": [
    "training_set_df = pd.DataFrame(result)"
   ]
  },
  {
   "cell_type": "code",
   "execution_count": 19,
   "id": "33deeab2",
   "metadata": {},
   "outputs": [
    {
     "data": {
      "text/html": [
       "<div>\n",
       "<style scoped>\n",
       "    .dataframe tbody tr th:only-of-type {\n",
       "        vertical-align: middle;\n",
       "    }\n",
       "\n",
       "    .dataframe tbody tr th {\n",
       "        vertical-align: top;\n",
       "    }\n",
       "\n",
       "    .dataframe thead th {\n",
       "        text-align: right;\n",
       "    }\n",
       "</style>\n",
       "<table border=\"1\" class=\"dataframe\">\n",
       "  <thead>\n",
       "    <tr style=\"text-align: right;\">\n",
       "      <th></th>\n",
       "      <th>name</th>\n",
       "      <th>sentence</th>\n",
       "      <th>code</th>\n",
       "    </tr>\n",
       "  </thead>\n",
       "  <tbody>\n",
       "    <tr>\n",
       "      <th>0</th>\n",
       "      <td>t3_17a1qc</td>\n",
       "      <td>Hi there, I was supposed to be paid today.</td>\n",
       "      <td>3</td>\n",
       "    </tr>\n",
       "    <tr>\n",
       "      <th>1</th>\n",
       "      <td>t3_17a1qc</td>\n",
       "      <td>Sadly I am still waiting.</td>\n",
       "      <td>3</td>\n",
       "    </tr>\n",
       "    <tr>\n",
       "      <th>2</th>\n",
       "      <td>t3_17a1qc</td>\n",
       "      <td>I spent my last £2 on cat food so I am absolut...</td>\n",
       "      <td>7</td>\n",
       "    </tr>\n",
       "    <tr>\n",
       "      <th>3</th>\n",
       "      <td>t3_17a1qc</td>\n",
       "      <td>Not only has this ruined my plans for the week...</td>\n",
       "      <td>3</td>\n",
       "    </tr>\n",
       "    <tr>\n",
       "      <th>4</th>\n",
       "      <td>t3_17a1qc</td>\n",
       "      <td>I am a writer and I am happy to do some writin...</td>\n",
       "      <td>2</td>\n",
       "    </tr>\n",
       "  </tbody>\n",
       "</table>\n",
       "</div>"
      ],
      "text/plain": [
       "        name                                           sentence  code\n",
       "0  t3_17a1qc         Hi there, I was supposed to be paid today.     3\n",
       "1  t3_17a1qc                          Sadly I am still waiting.     3\n",
       "2  t3_17a1qc  I spent my last £2 on cat food so I am absolut...     7\n",
       "3  t3_17a1qc  Not only has this ruined my plans for the week...     3\n",
       "4  t3_17a1qc  I am a writer and I am happy to do some writin...     2"
      ]
     },
     "execution_count": 19,
     "metadata": {},
     "output_type": "execute_result"
    }
   ],
   "source": [
    "training_set_df.head()"
   ]
  },
  {
   "cell_type": "code",
   "execution_count": 20,
   "id": "72c47fb9",
   "metadata": {},
   "outputs": [
    {
     "data": {
      "text/html": [
       "<div>\n",
       "<style scoped>\n",
       "    .dataframe tbody tr th:only-of-type {\n",
       "        vertical-align: middle;\n",
       "    }\n",
       "\n",
       "    .dataframe tbody tr th {\n",
       "        vertical-align: top;\n",
       "    }\n",
       "\n",
       "    .dataframe thead th {\n",
       "        text-align: right;\n",
       "    }\n",
       "</style>\n",
       "<table border=\"1\" class=\"dataframe\">\n",
       "  <thead>\n",
       "    <tr style=\"text-align: right;\">\n",
       "      <th></th>\n",
       "      <th>name</th>\n",
       "      <th>sentence</th>\n",
       "      <th>code</th>\n",
       "    </tr>\n",
       "  </thead>\n",
       "  <tbody>\n",
       "    <tr>\n",
       "      <th>0</th>\n",
       "      <td>t3_17a1qc</td>\n",
       "      <td>Hi there, I was supposed to be paid today.</td>\n",
       "      <td>3</td>\n",
       "    </tr>\n",
       "    <tr>\n",
       "      <th>1</th>\n",
       "      <td>t3_17a1qc</td>\n",
       "      <td>Sadly I am still waiting.</td>\n",
       "      <td>3</td>\n",
       "    </tr>\n",
       "    <tr>\n",
       "      <th>2</th>\n",
       "      <td>t3_17a1qc</td>\n",
       "      <td>I spent my last £2 on cat food so I am absolut...</td>\n",
       "      <td>7</td>\n",
       "    </tr>\n",
       "    <tr>\n",
       "      <th>3</th>\n",
       "      <td>t3_17a1qc</td>\n",
       "      <td>Not only has this ruined my plans for the week...</td>\n",
       "      <td>3</td>\n",
       "    </tr>\n",
       "    <tr>\n",
       "      <th>4</th>\n",
       "      <td>t3_17a1qc</td>\n",
       "      <td>I am a writer and I am happy to do some writin...</td>\n",
       "      <td>2</td>\n",
       "    </tr>\n",
       "    <tr>\n",
       "      <th>...</th>\n",
       "      <td>...</td>\n",
       "      <td>...</td>\n",
       "      <td>...</td>\n",
       "    </tr>\n",
       "    <tr>\n",
       "      <th>9395</th>\n",
       "      <td>t3_anoefk</td>\n",
       "      <td>I can provide any documentation you need.</td>\n",
       "      <td>3</td>\n",
       "    </tr>\n",
       "    <tr>\n",
       "      <th>9396</th>\n",
       "      <td>t3_4njyfp</td>\n",
       "      <td>As prearranged with /u/kingkaizersauce</td>\n",
       "      <td>0</td>\n",
       "    </tr>\n",
       "    <tr>\n",
       "      <th>9397</th>\n",
       "      <td>t3_88km07</td>\n",
       "      <td>Need some lunch money for the next 2 weeks.</td>\n",
       "      <td>3</td>\n",
       "    </tr>\n",
       "    <tr>\n",
       "      <th>9398</th>\n",
       "      <td>t3_84lv5a</td>\n",
       "      <td>£20 loan, repaying £25 in 8 days  time.</td>\n",
       "      <td>2</td>\n",
       "    </tr>\n",
       "    <tr>\n",
       "      <th>9399</th>\n",
       "      <td>t3_a0bv3e</td>\n",
       "      <td>Pre-Arranged with u/sisternancy94</td>\n",
       "      <td>0</td>\n",
       "    </tr>\n",
       "  </tbody>\n",
       "</table>\n",
       "<p>9400 rows × 3 columns</p>\n",
       "</div>"
      ],
      "text/plain": [
       "           name                                           sentence  code\n",
       "0     t3_17a1qc         Hi there, I was supposed to be paid today.     3\n",
       "1     t3_17a1qc                          Sadly I am still waiting.     3\n",
       "2     t3_17a1qc  I spent my last £2 on cat food so I am absolut...     7\n",
       "3     t3_17a1qc  Not only has this ruined my plans for the week...     3\n",
       "4     t3_17a1qc  I am a writer and I am happy to do some writin...     2\n",
       "...         ...                                                ...   ...\n",
       "9395  t3_anoefk          I can provide any documentation you need.     3\n",
       "9396  t3_4njyfp             As prearranged with /u/kingkaizersauce     0\n",
       "9397  t3_88km07        Need some lunch money for the next 2 weeks.     3\n",
       "9398  t3_84lv5a            £20 loan, repaying £25 in 8 days  time.     2\n",
       "9399  t3_a0bv3e                  Pre-Arranged with u/sisternancy94     0\n",
       "\n",
       "[9400 rows x 3 columns]"
      ]
     },
     "execution_count": 20,
     "metadata": {},
     "output_type": "execute_result"
    }
   ],
   "source": [
    "training_set_df"
   ]
  },
  {
   "cell_type": "code",
   "execution_count": 21,
   "id": "e2a03bc9",
   "metadata": {},
   "outputs": [],
   "source": [
    "training_set_df.to_csv('training.csv', index=False)"
   ]
  },
  {
   "cell_type": "code",
   "execution_count": 22,
   "id": "adf9f973",
   "metadata": {
    "scrolled": true
   },
   "outputs": [
    {
     "data": {
      "text/plain": [
       "3    4689\n",
       "9    1456\n",
       "2    1262\n",
       "8     785\n",
       "1     500\n",
       "0     413\n",
       "7     155\n",
       "5     117\n",
       "6      17\n",
       "4       6\n",
       "Name: code, dtype: int64"
      ]
     },
     "execution_count": 22,
     "metadata": {},
     "output_type": "execute_result"
    }
   ],
   "source": [
    "training_set_df['code'].value_counts()"
   ]
  },
  {
   "cell_type": "code",
   "execution_count": 23,
   "id": "2e48eb6d",
   "metadata": {
    "scrolled": true
   },
   "outputs": [
    {
     "data": {
      "text/plain": [
       "<AxesSubplot:>"
      ]
     },
     "execution_count": 23,
     "metadata": {},
     "output_type": "execute_result"
    },
    {
     "data": {
      "image/png": "[encoded data removed]",
      "text/plain": [
       "<Figure size 432x288 with 1 Axes>"
      ]
     },
     "metadata": {
      "needs_background": "light"
     },
     "output_type": "display_data"
    }
   ],
   "source": [
    "training_set_df['code'].value_counts().plot(kind='bar')"
   ]
  },
  {
   "cell_type": "code",
   "execution_count": null,
   "id": "500af4d7",
   "metadata": {},
   "outputs": [],
   "source": []
  },
  {
   "cell_type": "code",
   "execution_count": 24,
   "id": "10764056",
   "metadata": {},
   "outputs": [
    {
     "data": {
      "text/plain": [
       "<Figure size 432x288 with 0 Axes>"
      ]
     },
     "metadata": {},
     "output_type": "display_data"
    }
   ],
   "source": [
    "plt.savefig('books_read.png')"
   ]
  },
  {
   "cell_type": "code",
   "execution_count": 25,
   "id": "26820320",
   "metadata": {},
   "outputs": [],
   "source": [
    "X, y = training_set_df.sentence, training_set_df.code"
   ]
  },
  {
   "cell_type": "code",
   "execution_count": 26,
   "id": "4714570a",
   "metadata": {
    "scrolled": true
   },
   "outputs": [
    {
     "name": "stdout",
     "output_type": "stream",
     "text": [
      "0              Hi there, I was supposed to be paid today.\n",
      "1                               Sadly I am still waiting.\n",
      "2       I spent my last £2 on cat food so I am absolut...\n",
      "3       Not only has this ruined my plans for the week...\n",
      "4       I am a writer and I am happy to do some writin...\n",
      "                              ...                        \n",
      "9395            I can provide any documentation you need.\n",
      "9396               As prearranged with /u/kingkaizersauce\n",
      "9397          Need some lunch money for the next 2 weeks.\n",
      "9398              £20 loan, repaying £25 in 8 days  time.\n",
      "9399                    Pre-Arranged with u/sisternancy94\n",
      "Name: sentence, Length: 9400, dtype: object\n"
     ]
    }
   ],
   "source": [
    "print(X)"
   ]
  },
  {
   "cell_type": "code",
   "execution_count": 27,
   "id": "f1eaae59",
   "metadata": {},
   "outputs": [],
   "source": [
    "documents = []\n",
    "\n",
    "from nltk.stem import WordNetLemmatizer\n",
    "\n",
    "stemmer = WordNetLemmatizer()\n",
    "\n",
    "for sen in range(0, len(X)):\n",
    "    # Remove all the special characters\n",
    "    document = re.sub(r'\\W', ' ', str(X[sen]))\n",
    "    \n",
    "    # remove all single characters\n",
    "    document = re.sub(r'\\s+[a-zA-Z]\\s+', ' ', document)\n",
    "    \n",
    "    # Remove single characters from the start\n",
    "    document = re.sub(r'\\^[a-zA-Z]\\s+', ' ', document) \n",
    "    \n",
    "    # Substituting multiple spaces with single space\n",
    "    document = re.sub(r'\\s+', ' ', document, flags=re.I)\n",
    "    \n",
    "    # Removing prefixed 'b'\n",
    "    document = re.sub(r'^b\\s+', '', document)\n",
    "    \n",
    "    # Converting to Lowercase\n",
    "    document = document.lower()\n",
    "    \n",
    "    # Lemmatization\n",
    "    document = document.split()\n",
    "\n",
    "    document = [stemmer.lemmatize(word) for word in document]\n",
    "    document = ' '.join(document)\n",
    "    \n",
    "    documents.append(document)"
   ]
  },
  {
   "cell_type": "code",
   "execution_count": 28,
   "id": "ce90bd64",
   "metadata": {
    "scrolled": true
   },
   "outputs": [
    {
     "data": {
      "text/plain": [
       "(9400,)"
      ]
     },
     "execution_count": 28,
     "metadata": {},
     "output_type": "execute_result"
    }
   ],
   "source": [
    "X.shape"
   ]
  },
  {
   "cell_type": "code",
   "execution_count": 29,
   "id": "7c106309",
   "metadata": {
    "scrolled": true
   },
   "outputs": [
    {
     "data": {
      "text/plain": [
       "(9400,)"
      ]
     },
     "execution_count": 29,
     "metadata": {},
     "output_type": "execute_result"
    }
   ],
   "source": [
    "y.shape"
   ]
  },
  {
   "cell_type": "markdown",
   "id": "da039bbf",
   "metadata": {},
   "source": [
    "# Apply ML model random forests "
   ]
  },
  {
   "cell_type": "code",
   "execution_count": 30,
   "id": "d3d8c69b",
   "metadata": {},
   "outputs": [],
   "source": [
    "from sklearn.feature_selection import SelectFromModel"
   ]
  },
  {
   "cell_type": "code",
   "execution_count": 31,
   "id": "a25fee4e",
   "metadata": {},
   "outputs": [],
   "source": [
    "#convert the words into vectors for ML model \n",
    "from sklearn.feature_extraction.text import CountVectorizer\n",
    "vectorizer = CountVectorizer(max_features=1500, min_df=5, max_df=0.7, stop_words=stopwords.words('english'))\n",
    "X = vectorizer.fit_transform(documents).toarray()"
   ]
  },
  {
   "cell_type": "code",
   "execution_count": 32,
   "id": "f2df25a6",
   "metadata": {},
   "outputs": [
    {
     "data": {
      "text/plain": [
       "(9400, 1500)"
      ]
     },
     "execution_count": 32,
     "metadata": {},
     "output_type": "execute_result"
    }
   ],
   "source": [
    "X.shape"
   ]
  },
  {
   "cell_type": "code",
   "execution_count": 33,
   "id": "47da68d4",
   "metadata": {},
   "outputs": [
    {
     "name": "stdout",
     "output_type": "stream",
     "text": [
      "['00', '000', '01', '02', '04', '06', '07', '08', '09', '10', '100', '1000', '10th', '11', '110', '115', '11th', '12', '120', '1200', '125', '12th', '13', '130', '135', '13th', '14', '140', '1400', '14th', '15', '150', '1500', '15th', '16', '160', '16th', '17', '170', '175', '17th', '18', '180', '18th', '19', '19th', '1st', '20', '200', '2000', '2015', '2016', '2017', '2018', '2019', '20th', '21', '210', '21st', '22', '220', '225', '22nd', '23', '230', '23rd', '24', '240', '24th', '25', '250', '25th', '26', '260', '26th', '27', '275', '27th', '28', '28th', '29', '29th', '2nd', '30', '300', '30th', '31', '31st', '320', '330', '35', '350', '360', '3rd', '40', '400', '425', '45', '450', '4th', '50', '500', '55', '550', '5th', '60', '600', '65', '650', '6th', '70', '700', '75', '750', '7th', '80', '800', '85', '8th', '90', '900', '99', '9th', '_cup_', 'ability', 'able', 'absolute', 'absolutely', 'accept', 'accepted', 'access', 'accident', 'accidentally', 'account', 'across', 'act', 'active', 'actually', 'add', 'added', 'additional', 'address', 'adult', 'advance', 'afford', 'afternoon', 'ago', 'agreed', 'agreement', 'ahead', 'aid', 'allow', 'almost', 'alone', 'along', 'already', 'also', 'although', 'always', 'amazing', 'amount', 'amp', 'another', 'answer', 'anybody', 'anymore', 'anyone', 'anything', 'anyway', 'anyways', 'anywhere', 'apartment', 'app', 'apparently', 'apple', 'application', 'applied', 'applying', 'appointment', 'appreciate', 'appreciated', 'appreciative', 'approved', 'april', 'area', 'around', 'arranged', 'arrangement', 'art', 'artist', 'asap', 'ask', 'asked', 'asking', 'assistance', 'ate', 'atlanta', 'attempt', 'attend', 'aug', 'august', 'auto', 'available', 'avoid', 'awaiting', 'aware', 'away', 'awesome', 'awful', 'awhile', 'az', 'baby', 'back', 'bad', 'bag', 'balance', 'bank', 'barely', 'barter', 'based', 'basic', 'basically', 'beach', 'bean', 'become', 'bed', 'begin', 'beginning', 'behind', 'believe', 'besides', 'best', 'better', 'bi', 'big', 'bike', 'bill', 'bind', 'birthday', 'bit', 'biweekly', 'bless', 'blew', 'bonus', 'book', 'borrow', 'borrowed', 'borrower', 'borrowing', 'bos', 'boston', 'bot', 'bought', 'box', 'boy', 'boyfriend', 'brain', 'bread', 'break', 'brighten', 'bring', 'broke', 'broken', 'brother', 'buck', 'buddy', 'budget', 'budgeted', 'buffer', 'build', 'building', 'bunch', 'bus', 'business', 'busy', 'butter', 'buy', 'buying', 'ca', 'cad', 'california', 'call', 'called', 'came', 'campus', 'canada', 'canadian', 'canned', 'cannot', 'cant', 'car', 'card', 'care', 'carolina', 'case', 'cash', 'cat', 'catch', 'catching', 'caught', 'cause', 'celebrate', 'cell', 'cent', 'cereal', 'chain', 'chance', 'change', 'changed', 'charge', 'cheap', 'check', 'checking', 'cheer', 'cheese', 'cheesy', 'cheque', 'chicago', 'chicken', 'child', 'choice', 'choose', 'christmas', 'circumstance', 'city', 'claim', 'class', 'clean', 'clear', 'client', 'close', 'closed', 'closest', 'clothes', 'co', 'code', 'cold', 'college', 'colorado', 'columbus', 'com', 'come', 'comfort', 'comfortable', 'coming', 'commission', 'communication', 'community', 'commute', 'company', 'complete', 'completed', 'completely', 'computer', 'confident', 'confirm', 'confirmation', 'consider', 'consideration', 'considering', 'consolidate', 'contact', 'continue', 'contract', 'control', 'cook', 'cooking', 'cool', 'copay', 'copy', 'correctly', 'cost', 'couch', 'could', 'country', 'couple', 'course', 'court', 'cover', 'covered', 'covering', 'craigslist', 'crappy', 'craving', 'crazy', 'creddit', 'credit', 'crust', 'ct', 'current', 'currently', 'cut', 'cute', 'cycle', 'dad', 'dallas', 'date', 'daughter', 'day', 'deadline', 'deal', 'dealing', 'debit', 'debt', 'dec', 'december', 'decent', 'decided', 'deductible', 'definitely', 'degree', 'delay', 'delayed', 'delicious', 'deliver', 'delivers', 'delivery', 'dental', 'dentist', 'denver', 'depending', 'deposit', 'deposited', 'depressed', 'depression', 'desperate', 'desperately', 'despite', 'detail', 'diagnosed', 'died', 'difference', 'different', 'difficult', 'dining', 'dinner', 'dire', 'direct', 'directly', 'disability', 'disclosure', 'discus', 'discussed', 'distance', 'doctor', 'document', 'documentation', 'doe', 'dog', 'dollar', 'domino', 'donate', 'done', 'dont', 'double', 'drained', 'draw', 'drawing', 'dream', 'drive', 'driver', 'driving', 'dry', 'due', 'earlier', 'early', 'easier', 'easily', 'eastern', 'easy', 'eat', 'eaten', 'eating', 'ebay', 'edit', 'egg', 'either', 'electric', 'electricity', 'else', 'email', 'embarrassed', 'emergency', 'employed', 'employer', 'employment', 'empty', 'end', 'ended', 'engineering', 'england', 'enjoy', 'enjoying', 'enough', 'entire', 'error', 'especially', 'essential', 'essentially', 'est', 'etc', 'eternally', 'even', 'evening', 'event', 'ever', 'every', 'everyone', 'everything', 'ex', 'exact', 'exam', 'excellent', 'except', 'exchange', 'excited', 'exhausted', 'expect', 'expected', 'expecting', 'expense', 'expensive', 'experience', 'explain', 'extended', 'extension', 'extra', 'extremely', 'face', 'facebook', 'fact', 'failed', 'fair', 'fairly', 'faith', 'fall', 'fallen', 'family', 'fancy', 'fantastic', 'far', 'fare', 'fast', 'father', 'favor', 'favorite', 'feb', 'february', 'fee', 'feed', 'feeding', 'feel', 'feeling', 'fell', 'fiance', 'fiancé', 'figure', 'figured', 'fill', 'filled', 'final', 'finally', 'finance', 'financial', 'financially', 'find', 'finding', 'fine', 'finish', 'finished', 'finishing', 'fired', 'first', 'five', 'fix', 'fixed', 'fixing', 'fl', 'flat', 'floor', 'florida', 'folk', 'follow', 'following', 'food', 'foot', 'forced', 'forever', 'forgot', 'form', 'forth', 'forward', 'found', 'four', 'foxk56', 'free', 'freelance', 'friday', 'fridge', 'friend', 'front', 'frozen', 'frustrating', 'fuck', 'fuel', 'fulfill', 'fulfilled', 'full', 'fully', 'fun', 'fund', 'future', 'ga', 'game', 'gas', 'gave', 'gear', 'general', 'generosity', 'generous', 'get', 'getting', 'gift', 'girl', 'girlfriend', 'give', 'given', 'giving', 'gladly', 'go', 'god', 'going', 'gone', 'gonna', 'good', 'goodness', 'google', 'got', 'gotta', 'gotten', 'government', 'grab', 'grant', 'grateful', 'great', 'greatly', 'grocery', 'group', 'gt', 'guaranteed', 'guess', 'guy', 'ha', 'half', 'hall', 'hand', 'hanging', 'happen', 'happened', 'happening', 'happens', 'happily', 'happy', 'hard', 'hate', 'havent', 'head', 'health', 'hear', 'heard', 'heart', 'heat', 'hell', 'hello', 'help', 'helped', 'helpful', 'helping', 'hence', 'hey', 'hi', 'high', 'higher', 'history', 'hit', 'hold', 'holding', 'hole', 'holiday', 'home', 'homeless', 'honest', 'honestly', 'hook', 'hope', 'hopefully', 'hoping', 'hospital', 'hot', 'hotel', 'hour', 'house', 'housing', 'houston', 'however', 'http', 'huge', 'human', 'hundred', 'hunger', 'hungry', 'husband', 'hut', 'id', 'idea', 'ideal', 'identification', 'identity', 'igrewatomato', 'il', 'ill', 'illness', 'im', 'imgur', 'immediate', 'immediately', 'important', 'include', 'including', 'income', 'increased', 'incredibly', 'infection', 'info', 'information', 'installment', 'instant', 'instead', 'insurance', 'interac', 'interest', 'interested', 'internet', 'interview', 'involved', 'issue', 'item', 'ive', 'jan', 'january', 'job', 'john', 'jpg', 'july', 'june', 'karma', 'kashifr', 'keep', 'keeping', 'kept', 'kid', 'kind', 'kinda', 'kindness', 'kitchen', 'knew', 'know', 'la', 'labor', 'lack', 'lacking', 'lady', 'laid', 'landlord', 'laptop', 'large', 'larger', 'last', 'late', 'lately', 'later', 'latest', 'le', 'lead', 'lease', 'least', 'leave', 'leaving', 'left', 'leftover', 'lend', 'lender', 'lending', 'let', 'license', 'life', 'lift', 'light', 'like', 'likely', 'line', 'lined', 'link', 'listed', 'literally', 'little', 'live', 'living', 'loan', 'loaned', 'loaner', 'local', 'located', 'location', 'lol', 'long', 'longer', 'look', 'looking', 'lose', 'losing', 'lost', 'lot', 'love', 'lovely', 'low', 'lower', 'lt', 'luck', 'luckily', 'lucky', 'lump', 'lunch', 'lyft', 'made', 'main', 'mainly', 'major', 'make', 'making', 'man', 'managed', 'many', 'march', 'massive', 'math', 'matter', 'max', 'may', 'maybe', 'meal', 'mean', 'meaning', 'meat', 'med', 'medical', 'medication', 'medicine', 'medium', 'meet', 'member', 'mention', 'mentioned', 'message', 'messed', 'met', 'method', 'michigan', 'mid', 'middle', 'might', 'mile', 'military', 'milk', 'mind', 'mine', 'minimum', 'minute', 'miss', 'missed', 'missing', 'mistake', 'mo', 'mom', 'moment', 'monday', 'money', 'month', 'monthly', 'morning', 'mostly', 'mother', 'move', 'moved', 'moving', 'much', 'multiple', 'name', 'nc', 'near', 'nearby', 'nearest', 'nearly', 'necessary', 'necessity', 'need', 'needed', 'needing', 'negative', 'negotiable', 'negotiate', 'negotiated', 'net', 'never', 'new', 'next', 'nice', 'night', 'non', 'none', 'noodle', 'normal', 'normally', 'north', 'note', 'nothing', 'nov', 'november', 'number', 'ny', 'obviously', 'oct', 'october', 'offer', 'offered', 'offering', 'office', 'oh', 'ohio', 'ok', 'okay', 'old', 'one', 'online', 'ontario', 'open', 'opportunity', 'option', 'order', 'oregon', 'original', 'others', 'otherwise', 'outside', 'outstanding', 'overall', 'overdraft', 'overdrafted', 'overdue', 'overtime', 'owe', 'pa', 'page', 'paid', 'pain', 'pantry', 'papa', 'paper', 'parent', 'part', 'partial', 'partner', 'party', 'pas', 'passed', 'past', 'pasta', 'pay', 'payback', 'paycheck', 'payday', 'payed', 'paying', 'payment', 'paypal', 'payroll', 'paystubs', 'peace', 'peanut', 'pending', 'people', 'pepperoni', 'per', 'perfect', 'period', 'person', 'personal', 'pet', 'phone', 'photo', 'pic', 'pick', 'picking', 'pickle', 'picky', 'picture', 'pie', 'piece', 'pizza', 'place', 'plain', 'plan', 'plane', 'planned', 'planning', 'play', 'please', 'plenty', 'plus', 'pm', 'pocket', 'point', 'poor', 'portland', 'position', 'positive', 'possible', 'possibly', 'post', 'posted', 'posting', 'potato', 'potential', 'power', 'pre', 'prearranged', 'prefer', 'preferably', 'preferred', 'pregnant', 'prescription', 'present', 'pretty', 'previous', 'previously', 'price', 'prior', 'probably', 'problem', 'process', 'processed', 'program', 'project', 'promise', 'proof', 'properly', 'prove', 'provide', 'provided', 'pull', 'purchase', 'purpose', 'put', 'putting', 'question', 'quick', 'quickly', 'quit', 'quite', 'ramen', 'ran', 'random', 'raop', 'rate', 'rather', 'reach', 'reached', 'read', 'reading', 'ready', 'real', 'realize', 'realized', 'really', 'reason', 'reasonable', 'receive', 'received', 'receiving', 'recent', 'recently', 'record', 'red', 'reddit', 'redditor', 'redditors', 'reference', 'refund', 'regard', 'registered', 'regular', 'reimbursement', 'related', 'released', 'reliable', 'remainder', 'remaining', 'rent', 'rental', 'rep', 'repaid', 'repair', 'repaired', 'repay', 'repaying', 'repayment', 'replace', 'replaced', 'replacement', 'reply', 'repost', 'reposting', 'req', 'request', 'requested', 'requesting', 'require', 'required', 'requires', 'research', 'response', 'rest', 'result', 'return', 'returned', 'rice', 'ride', 'right', 'road', 'rock', 'room', 'roommate', 'root', 'rough', 'roughly', 'round', 'rule', 'run', 'running', 'sadly', 'safe', 'safety', 'said', 'saintsintosea', 'salary', 'sale', 'san', 'sandwich', 'saturday', 'sauce', 'save', 'saved', 'saving', 'say', 'saying', 'schedule', 'scheduled', 'school', 'screwed', 'searching', 'season', 'seasonal', 'second', 'secure', 'security', 'see', 'seeing', 'seeking', 'seem', 'seemed', 'seems', 'sell', 'selling', 'semester', 'send', 'sending', 'sent', 'sept', 'september', 'serious', 'seriously', 'service', 'set', 'settled', 'several', 'share', 'shelter', 'shift', 'shit', 'shitty', 'shop', 'shopping', 'short', 'shot', 'show', 'showing', 'shut', 'sibling', 'sick', 'side', 'simple', 'simply', 'since', 'single', 'sister', 'site', 'sitting', 'situation', 'sleep', 'sleeping', 'slightly', 'slow', 'small', 'smaller', 'smile', 'sob', 'social', 'sold', 'solid', 'somebody', 'someone', 'something', 'sometime', 'somewhere', 'son', 'soon', 'sooner', 'sorry', 'sort', 'soul', 'sound', 'soup', 'spare', 'special', 'specific', 'spend', 'spending', 'spent', 'spiderpikachu', 'spirit', 'split', 'spot', 'spring', 'stable', 'stamp', 'standing', 'start', 'started', 'starting', 'starving', 'state', 'stated', 'station', 'stay', 'staying', 'steady', 'steam', 'step', 'still', 'stolen', 'stomach', 'stop', 'store', 'story', 'straight', 'stranger', 'strapped', 'street', 'stress', 'stretch', 'struggle', 'struggling', 'stub', 'stuck', 'student', 'studying', 'stuff', 'stupid', 'sub', 'submit', 'subreddit', 'successful', 'successfully', 'suck', 'suddenly', 'suggested', 'sum', 'summer', 'sunday', 'super', 'supply', 'support', 'supposed', 'sure', 'surgery', 'surprise', 'survive', 'sweet', 'system', 'table', 'take', 'taken', 'taking', 'talk', 'tank', 'tasty', 'tax', 'teacher', 'tech', 'tell', 'temporary', 'term', 'terrible', 'test', 'texas', 'thank', 'thankfully', 'thanks', 'thanksgiving', 'thats', 'thing', 'think', 'thinking', 'though', 'thought', 'thread', 'three', 'throughout', 'throw', 'throwing', 'thursday', 'thus', 'ticket', 'tide', 'tight', 'til', 'till', 'time', 'timing', 'tire', 'tired', 'title', 'tn', 'today', 'together', 'told', 'tomorrow', 'ton', 'tonight', 'took', 'top', 'toronto', 'total', 'totaling', 'totally', 'tough', 'towards', 'towed', 'town', 'track', 'trade', 'training', 'transaction', 'transfer', 'transmission', 'transport', 'transportation', 'travel', 'travelling', 'treat', 'tried', 'trip', 'trouble', 'true', 'truly', 'trust', 'try', 'trying', 'tuesday', 'tuition', 'turn', 'turned', 'twice', 'two', 'tx', 'type', 'uber', 'uk', 'unable', 'understand', 'unemployed', 'unemployment', 'unexpected', 'unexpectedly', 'unforeseen', 'unfortunate', 'unfortunately', 'university', 'unless', 'unpaid', 'upcoming', 'update', 'upon', 'urgent', 'usa', 'usd', 'use', 'used', 'user', 'using', 'usual', 'usually', 'utility', 'va', 'vacation', 'various', 'vehicle', 'venmo', 'verification', 'verified', 'verify', 'vet', 'veteran', 'via', 'video', 'virginia', 'visit', 'wa', 'wage', 'wait', 'waiting', 'walk', 'walking', 'wallet', 'wanna', 'want', 'wanted', 'wanting', 'warm', 'watch', 'watching', 'water', 'way', 'website', 'wedding', 'wednesday', 'week', 'weekend', 'weekly', 'weird', 'well', 'went', 'west', 'whatever', 'whether', 'whoever', 'whole', 'wife', 'willing', 'winter', 'wise', 'wish', 'within', 'without', 'wonderful', 'wondering', 'wont', 'word', 'work', 'worked', 'working', 'world', 'worried', 'worry', 'worse', 'worst', 'worth', 'would', 'write', 'wrong', 'x200b', 'yeah', 'year', 'yes', 'yesterday', 'yet', 'yoloswagmaster4jesus', 'young', 'zero', 'zip']\n"
     ]
    }
   ],
   "source": [
    "feature_names = vectorizer.get_feature_names()\n",
    "print(feature_names)"
   ]
  },
  {
   "cell_type": "code",
   "execution_count": 34,
   "id": "a6566e25",
   "metadata": {},
   "outputs": [],
   "source": [
    "from sklearn.feature_extraction.text import TfidfTransformer\n",
    "tfidfconverter = TfidfTransformer()\n",
    "X = tfidfconverter.fit_transform(X).toarray()"
   ]
  },
  {
   "cell_type": "code",
   "execution_count": 35,
   "id": "3e7c0bc8",
   "metadata": {},
   "outputs": [],
   "source": [
    "######################################################################\n",
    "#### SPLIT TWICE! Here we create TRAIN | VALIDATION | TEST  #########\n",
    "####################################################################\n",
    "from sklearn.model_selection import train_test_split\n",
    "\n",
    "# 70% of data is training data, set aside other 30%\n",
    "X_train, X_OTHER, y_train, y_OTHER = train_test_split(X, y, test_size=0.3, random_state=101)\n",
    "\n",
    "# Remaining 30% is split into evaluation and test sets\n",
    "# Each is 15% of the original data size\n",
    "X_eval, X_test, y_eval, y_test = train_test_split(X_OTHER, y_OTHER, test_size=0.5, random_state=101)"
   ]
  },
  {
   "cell_type": "code",
   "execution_count": 36,
   "id": "9edcbde3",
   "metadata": {},
   "outputs": [],
   "source": [
    "# SCALE DATA\n",
    "from sklearn.preprocessing import StandardScaler\n",
    "scaler = StandardScaler()\n",
    "scaler.fit(X_train)\n",
    "X_train = scaler.transform(X_train)\n",
    "X_eval = scaler.transform(X_eval)\n",
    "X_test = scaler.transform(X_test)"
   ]
  },
  {
   "cell_type": "code",
   "execution_count": 37,
   "id": "559431a4",
   "metadata": {},
   "outputs": [],
   "source": [
    "from sklearn import ensemble\n",
    "RF_model = ensemble.RandomForestClassifier(random_state=1)\n",
    "\n",
    "RF_model.fit(X_train,y_train)\n",
    "pred = RF_model.predict(X_test)\n",
    "cm = confusion_matrix(y_test,pred)\n",
    "RF_acc = (cm[0,0]+cm[1,1])/(sum(sum(cm)))"
   ]
  },
  {
   "cell_type": "markdown",
   "id": "3cdb8746",
   "metadata": {},
   "source": [
    "from sklearn.model_selection import train_test_split\n",
    "X_train, X_test, y_train, y_test = train_test_split(X, y, test_size=0.2, random_state=0)"
   ]
  },
  {
   "cell_type": "code",
   "execution_count": 38,
   "id": "86d57429",
   "metadata": {},
   "outputs": [
    {
     "data": {
      "text/plain": [
       "RandomForestClassifier(n_estimators=1000, random_state=0)"
      ]
     },
     "execution_count": 38,
     "metadata": {},
     "output_type": "execute_result"
    }
   ],
   "source": [
    "classifier = RandomForestClassifier(n_estimators=1000, random_state=0)\n",
    "classifier.fit(X_train, y_train) "
   ]
  },
  {
   "cell_type": "code",
   "execution_count": 39,
   "id": "95530974",
   "metadata": {},
   "outputs": [],
   "source": [
    "y_pred = classifier.predict(X_test)"
   ]
  },
  {
   "cell_type": "code",
   "execution_count": 40,
   "id": "d55a7c35",
   "metadata": {
    "scrolled": true
   },
   "outputs": [
    {
     "name": "stdout",
     "output_type": "stream",
     "text": [
      "[[ 45   1   2  17   0   0   0   0   0   1]\n",
      " [  2  51   3  26   0   0   0   0   0   2]\n",
      " [  0   3 149  41   0   0   0   0   1   2]\n",
      " [ 14   9  21 627   0   1   0   2   7  18]\n",
      " [  0   0   0   1   0   0   0   0   0   0]\n",
      " [  0   0   0  13   0   0   0   0   0   0]\n",
      " [  0   0   0   1   0   0   0   0   0   0]\n",
      " [  0   0   1  12   0   0   0   1   0   1]\n",
      " [  0   1   5  65   0   0   0   0  32   0]\n",
      " [  4   1   3  20   0   0   0   0   0 204]]\n",
      "              precision    recall  f1-score   support\n",
      "\n",
      "           0       0.69      0.68      0.69        66\n",
      "           1       0.77      0.61      0.68        84\n",
      "           2       0.81      0.76      0.78       196\n",
      "           3       0.76      0.90      0.82       699\n",
      "           4       0.00      0.00      0.00         1\n",
      "           5       0.00      0.00      0.00        13\n",
      "           6       0.00      0.00      0.00         1\n",
      "           7       0.33      0.07      0.11        15\n",
      "           8       0.80      0.31      0.45       103\n",
      "           9       0.89      0.88      0.89       232\n",
      "\n",
      "    accuracy                           0.79      1410\n",
      "   macro avg       0.51      0.42      0.44      1410\n",
      "weighted avg       0.78      0.79      0.77      1410\n",
      "\n",
      "0.7865248226950354\n"
     ]
    }
   ],
   "source": [
    "from sklearn.metrics import classification_report, confusion_matrix, accuracy_score\n",
    "\n",
    "print(confusion_matrix(y_test,y_pred))\n",
    "print(classification_report(y_test,y_pred))\n",
    "print(accuracy_score(y_test, y_pred))\n"
   ]
  },
  {
   "cell_type": "code",
   "execution_count": 41,
   "id": "17cd4518",
   "metadata": {
    "scrolled": true
   },
   "outputs": [
    {
     "name": "stdout",
     "output_type": "stream",
     "text": [
      "thanks       6.467872e-02\n",
      "thank        4.861594e-02\n",
      "repay        2.270399e-02\n",
      "interest     2.167738e-02\n",
      "need         1.957631e-02\n",
      "                 ...     \n",
      "pepperoni    2.274908e-08\n",
      "round        2.126973e-08\n",
      "suggested    6.406810e-09\n",
      "rental       0.000000e+00\n",
      "struggle     0.000000e+00\n",
      "Length: 1500, dtype: float64\n"
     ]
    }
   ],
   "source": [
    "#Create a series with feature importances:\n",
    "featimp = pd.Series(RF_model.feature_importances_, index = feature_names).sort_values(ascending=False)\n",
    "print (featimp)"
   ]
  },
  {
   "cell_type": "code",
   "execution_count": 42,
   "id": "3b741c4d",
   "metadata": {},
   "outputs": [],
   "source": [
    "with open('text_classifier', 'wb') as picklefile:\n",
    "    pickle.dump(classifier,picklefile)"
   ]
  },
  {
   "cell_type": "code",
   "execution_count": 43,
   "id": "1af1ec6c",
   "metadata": {},
   "outputs": [],
   "source": [
    "with open('text_classifier', 'rb') as training_model:\n",
    "    model = pickle.load(training_model)"
   ]
  },
  {
   "cell_type": "code",
   "execution_count": 44,
   "id": "2751d829",
   "metadata": {
    "scrolled": true
   },
   "outputs": [
    {
     "name": "stdout",
     "output_type": "stream",
     "text": [
      "[[ 45   1   2  17   0   0   0   0   0   1]\n",
      " [  2  51   3  26   0   0   0   0   0   2]\n",
      " [  0   3 149  41   0   0   0   0   1   2]\n",
      " [ 14   9  21 627   0   1   0   2   7  18]\n",
      " [  0   0   0   1   0   0   0   0   0   0]\n",
      " [  0   0   0  13   0   0   0   0   0   0]\n",
      " [  0   0   0   1   0   0   0   0   0   0]\n",
      " [  0   0   1  12   0   0   0   1   0   1]\n",
      " [  0   1   5  65   0   0   0   0  32   0]\n",
      " [  4   1   3  20   0   0   0   0   0 204]]\n",
      "              precision    recall  f1-score   support\n",
      "\n",
      "           0       0.69      0.68      0.69        66\n",
      "           1       0.77      0.61      0.68        84\n",
      "           2       0.81      0.76      0.78       196\n",
      "           3       0.76      0.90      0.82       699\n",
      "           4       0.00      0.00      0.00         1\n",
      "           5       0.00      0.00      0.00        13\n",
      "           6       0.00      0.00      0.00         1\n",
      "           7       0.33      0.07      0.11        15\n",
      "           8       0.80      0.31      0.45       103\n",
      "           9       0.89      0.88      0.89       232\n",
      "\n",
      "    accuracy                           0.79      1410\n",
      "   macro avg       0.51      0.42      0.44      1410\n",
      "weighted avg       0.78      0.79      0.77      1410\n",
      "\n",
      "0.7865248226950354\n"
     ]
    }
   ],
   "source": [
    "y_pred2 = model.predict(X_test)\n",
    "\n",
    "print(confusion_matrix(y_test, y_pred2))\n",
    "print(classification_report(y_test, y_pred2))\n",
    "print(accuracy_score(y_test, y_pred2))"
   ]
  },
  {
   "cell_type": "markdown",
   "id": "ca4508a5",
   "metadata": {},
   "source": [
    "# Apply ML Logit model  "
   ]
  },
  {
   "cell_type": "code",
   "execution_count": 45,
   "id": "548568fe",
   "metadata": {},
   "outputs": [],
   "source": [
    "#use logit model \n",
    "#convert the words into vectors for ML model \n",
    "from sklearn.feature_extraction.text import CountVectorizer\n",
    "vectorizer = CountVectorizer(max_features=1500, min_df=5, max_df=0.7, stop_words=stopwords.words('english'))\n",
    "X = vectorizer.fit_transform(documents).toarray()"
   ]
  },
  {
   "cell_type": "code",
   "execution_count": 46,
   "id": "3b5af10f",
   "metadata": {},
   "outputs": [],
   "source": [
    "from sklearn.feature_extraction.text import TfidfTransformer\n",
    "tfidfconverter = TfidfTransformer()\n",
    "X = tfidfconverter.fit_transform(X).toarray()"
   ]
  },
  {
   "cell_type": "code",
   "execution_count": 47,
   "id": "b2dd51e5",
   "metadata": {},
   "outputs": [],
   "source": [
    "from sklearn import linear_model\n",
    "\n",
    "log_model = linear_model.LogisticRegression(random_state=1)\n",
    "log_model.fit(X_train,y_train)\n",
    "pred = log_model.predict(X_test)\n",
    "cm = confusion_matrix(y_test,pred)\n",
    "log_acc = (cm[0,0]+cm[1,1])/(sum(sum(cm)))"
   ]
  },
  {
   "cell_type": "code",
   "execution_count": 48,
   "id": "058bb2ba",
   "metadata": {},
   "outputs": [
    {
     "data": {
      "text/plain": [
       "LogisticRegression(random_state=1)"
      ]
     },
     "execution_count": 48,
     "metadata": {},
     "output_type": "execute_result"
    }
   ],
   "source": [
    "classifier = LogisticRegression(random_state=1)\n",
    "classifier.fit(X_train, y_train) "
   ]
  },
  {
   "cell_type": "code",
   "execution_count": 49,
   "id": "e8d2c36e",
   "metadata": {
    "scrolled": true
   },
   "outputs": [],
   "source": [
    "y_pred = classifier.predict(X_test)"
   ]
  },
  {
   "cell_type": "code",
   "execution_count": 50,
   "id": "df17be15",
   "metadata": {
    "scrolled": false
   },
   "outputs": [
    {
     "name": "stdout",
     "output_type": "stream",
     "text": [
      "[[ 32   3   6  23   0   0   0   0   0   2]\n",
      " [  0  45   4  31   0   0   0   0   3   1]\n",
      " [  2   8 128  39   0   2   0   2  12   3]\n",
      " [ 28  18  50 480   0  14   2  15  48  44]\n",
      " [  0   0   0   1   0   0   0   0   0   0]\n",
      " [  1   2   1   7   0   0   0   0   2   0]\n",
      " [  0   0   0   1   0   0   0   0   0   0]\n",
      " [  0   0   2   6   0   0   0   4   1   2]\n",
      " [  1   2   5  40   0   1   0   0  50   4]\n",
      " [  3   1   7  29   0   0   0   1   5 186]]\n",
      "              precision    recall  f1-score   support\n",
      "\n",
      "           0       0.48      0.48      0.48        66\n",
      "           1       0.57      0.54      0.55        84\n",
      "           2       0.63      0.65      0.64       196\n",
      "           3       0.73      0.69      0.71       699\n",
      "           4       0.00      0.00      0.00         1\n",
      "           5       0.00      0.00      0.00        13\n",
      "           6       0.00      0.00      0.00         1\n",
      "           7       0.18      0.27      0.22        15\n",
      "           8       0.41      0.49      0.45       103\n",
      "           9       0.77      0.80      0.78       232\n",
      "\n",
      "    accuracy                           0.66      1410\n",
      "   macro avg       0.38      0.39      0.38      1410\n",
      "weighted avg       0.66      0.66      0.66      1410\n",
      "\n",
      "0.6560283687943262\n"
     ]
    }
   ],
   "source": [
    "from sklearn.metrics import classification_report, confusion_matrix, accuracy_score\n",
    "\n",
    "print(confusion_matrix(y_test,y_pred))\n",
    "print(classification_report(y_test,y_pred))\n",
    "print(accuracy_score(y_test, y_pred))\n"
   ]
  },
  {
   "cell_type": "markdown",
   "id": "16e7c0ba",
   "metadata": {},
   "source": [
    "# Apply ML Decision tree model"
   ]
  },
  {
   "cell_type": "code",
   "execution_count": 51,
   "id": "c4f7930f",
   "metadata": {},
   "outputs": [],
   "source": [
    "#use decisiontree model \n",
    "#convert the words into vectors for ML model \n",
    "from sklearn.feature_extraction.text import CountVectorizer\n",
    "vectorizer = CountVectorizer(max_features=1500, min_df=5, max_df=0.7, stop_words=stopwords.words('english'))\n",
    "X = vectorizer.fit_transform(documents).toarray()"
   ]
  },
  {
   "cell_type": "code",
   "execution_count": 52,
   "id": "f339b1b6",
   "metadata": {},
   "outputs": [],
   "source": [
    "from sklearn.feature_extraction.text import TfidfTransformer\n",
    "tfidfconverter = TfidfTransformer()\n",
    "X = tfidfconverter.fit_transform(X).toarray()"
   ]
  },
  {
   "cell_type": "code",
   "execution_count": 53,
   "id": "28e54db8",
   "metadata": {},
   "outputs": [],
   "source": [
    "from sklearn import tree\n",
    "DT_model = tree.DecisionTreeClassifier(random_state=1)\n",
    "\n",
    "DT_model.fit(X_train,y_train)\n",
    "pred = DT_model.predict(X_test)\n",
    "cm = confusion_matrix(y_test,pred)\n",
    "DT_acc = (cm[0,0]+cm[1,1])/(sum(sum(cm)))"
   ]
  },
  {
   "cell_type": "code",
   "execution_count": 54,
   "id": "8fd9a7a4",
   "metadata": {},
   "outputs": [
    {
     "data": {
      "text/plain": [
       "DecisionTreeClassifier(random_state=1)"
      ]
     },
     "execution_count": 54,
     "metadata": {},
     "output_type": "execute_result"
    }
   ],
   "source": [
    "classifier = tree.DecisionTreeClassifier(random_state=1)\n",
    "classifier.fit(X_train, y_train) "
   ]
  },
  {
   "cell_type": "code",
   "execution_count": 55,
   "id": "66432c7e",
   "metadata": {},
   "outputs": [],
   "source": [
    "y_pred3 = classifier.predict(X_test)"
   ]
  },
  {
   "cell_type": "code",
   "execution_count": 56,
   "id": "33613721",
   "metadata": {
    "scrolled": false
   },
   "outputs": [
    {
     "name": "stdout",
     "output_type": "stream",
     "text": [
      "[[ 46   3   2  14   0   0   0   0   1   0]\n",
      " [  2  45   6  23   0   0   0   1   1   6]\n",
      " [  7   6 129  45   0   0   0   0   6   3]\n",
      " [ 48  30  39 478   0   8   0  14  51  31]\n",
      " [  0   0   0   0   0   0   0   0   0   1]\n",
      " [  2   0   1   8   0   1   0   0   0   1]\n",
      " [  0   0   0   1   0   0   0   0   0   0]\n",
      " [  1   0   1   8   0   0   0   4   0   1]\n",
      " [  1   3   7  41   0   1   0   0  45   5]\n",
      " [  3   2   1  20   0   0   1   0   2 203]]\n",
      "              precision    recall  f1-score   support\n",
      "\n",
      "           0       0.42      0.70      0.52        66\n",
      "           1       0.51      0.54      0.52        84\n",
      "           2       0.69      0.66      0.68       196\n",
      "           3       0.75      0.68      0.72       699\n",
      "           4       0.00      0.00      0.00         1\n",
      "           5       0.10      0.08      0.09        13\n",
      "           6       0.00      0.00      0.00         1\n",
      "           7       0.21      0.27      0.24        15\n",
      "           8       0.42      0.44      0.43       103\n",
      "           9       0.81      0.88      0.84       232\n",
      "\n",
      "    accuracy                           0.67      1410\n",
      "   macro avg       0.39      0.42      0.40      1410\n",
      "weighted avg       0.68      0.67      0.68      1410\n",
      "\n",
      "0.674468085106383\n"
     ]
    }
   ],
   "source": [
    "from sklearn.metrics import classification_report, confusion_matrix, accuracy_score\n",
    "\n",
    "print(confusion_matrix(y_test,y_pred3))\n",
    "print(classification_report(y_test,y_pred3))\n",
    "print(accuracy_score(y_test, y_pred3))\n"
   ]
  },
  {
   "cell_type": "markdown",
   "id": "6b86c5d7",
   "metadata": {},
   "source": [
    "# Apply ML Gradient Boosting model "
   ]
  },
  {
   "cell_type": "code",
   "execution_count": 57,
   "id": "6c05859e",
   "metadata": {},
   "outputs": [],
   "source": [
    "#convert the words into vectors for ML model \n",
    "from sklearn.feature_extraction.text import CountVectorizer\n",
    "vectorizer = CountVectorizer(max_features=1500, min_df=5, max_df=0.7, stop_words=stopwords.words('english'))\n",
    "X = vectorizer.fit_transform(documents).toarray()"
   ]
  },
  {
   "cell_type": "code",
   "execution_count": 58,
   "id": "93d02146",
   "metadata": {},
   "outputs": [],
   "source": [
    "from sklearn.feature_extraction.text import TfidfTransformer\n",
    "tfidfconverter = TfidfTransformer()\n",
    "X = tfidfconverter.fit_transform(X).toarray()"
   ]
  },
  {
   "cell_type": "code",
   "execution_count": 59,
   "id": "acee5a7e",
   "metadata": {},
   "outputs": [],
   "source": [
    "GB_model = ensemble.GradientBoostingClassifier(random_state=1)\n",
    "\n",
    "GB_model.fit(X_train,y_train)\n",
    "pred = GB_model.predict(X_test)\n",
    "cm = confusion_matrix(y_test,pred)\n",
    "GB_acc = (cm[0,0]+cm[1,1])/(sum(sum(cm)))"
   ]
  },
  {
   "cell_type": "code",
   "execution_count": 60,
   "id": "92f71759",
   "metadata": {},
   "outputs": [
    {
     "data": {
      "text/plain": [
       "GradientBoostingClassifier(random_state=1)"
      ]
     },
     "execution_count": 60,
     "metadata": {},
     "output_type": "execute_result"
    }
   ],
   "source": [
    "classifier = ensemble.GradientBoostingClassifier(random_state=1)\n",
    "classifier.fit(X_train, y_train) "
   ]
  },
  {
   "cell_type": "code",
   "execution_count": 61,
   "id": "5113a8ba",
   "metadata": {},
   "outputs": [],
   "source": [
    "y_pred4 = classifier.predict(X_test)"
   ]
  },
  {
   "cell_type": "code",
   "execution_count": 62,
   "id": "f9979c4b",
   "metadata": {},
   "outputs": [
    {
     "name": "stdout",
     "output_type": "stream",
     "text": [
      "[[ 25   1   2  37   0   0   0   0   0   1]\n",
      " [  0  47   5  31   0   0   0   0   0   1]\n",
      " [  2   4 138  48   0   1   0   0   1   2]\n",
      " [  2  12  22 622   1   4   2  12   8  14]\n",
      " [  0   0   0   1   0   0   0   0   0   0]\n",
      " [  0   0   0  11   0   0   0   0   1   1]\n",
      " [  0   0   0   1   0   0   0   0   0   0]\n",
      " [  0   0   1  10   0   0   0   3   0   1]\n",
      " [  0   1   5  52   0   1   0   4  40   0]\n",
      " [  2   2   1  27   0   0   1   0   0 199]]\n",
      "              precision    recall  f1-score   support\n",
      "\n",
      "           0       0.81      0.38      0.52        66\n",
      "           1       0.70      0.56      0.62        84\n",
      "           2       0.79      0.70      0.75       196\n",
      "           3       0.74      0.89      0.81       699\n",
      "           4       0.00      0.00      0.00         1\n",
      "           5       0.00      0.00      0.00        13\n",
      "           6       0.00      0.00      0.00         1\n",
      "           7       0.16      0.20      0.18        15\n",
      "           8       0.80      0.39      0.52       103\n",
      "           9       0.91      0.86      0.88       232\n",
      "\n",
      "    accuracy                           0.76      1410\n",
      "   macro avg       0.49      0.40      0.43      1410\n",
      "weighted avg       0.77      0.76      0.75      1410\n",
      "\n",
      "0.7617021276595745\n"
     ]
    }
   ],
   "source": [
    "from sklearn.metrics import classification_report, confusion_matrix, accuracy_score\n",
    "\n",
    "print(confusion_matrix(y_test,y_pred4))\n",
    "print(classification_report(y_test,y_pred4))\n",
    "print(accuracy_score(y_test, y_pred4))\n"
   ]
  },
  {
   "cell_type": "markdown",
   "id": "ac1909b4",
   "metadata": {},
   "source": [
    "# Apply ML Neural Network model\n"
   ]
  },
  {
   "cell_type": "code",
   "execution_count": 63,
   "id": "43227035",
   "metadata": {},
   "outputs": [],
   "source": [
    "#convert the words into vectors for ML model \n",
    "from sklearn.feature_extraction.text import CountVectorizer\n",
    "vectorizer = CountVectorizer(max_features=1500, min_df=5, max_df=0.7, stop_words=stopwords.words('english'))\n",
    "X = vectorizer.fit_transform(documents).toarray()"
   ]
  },
  {
   "cell_type": "code",
   "execution_count": 64,
   "id": "c075addb",
   "metadata": {},
   "outputs": [],
   "source": [
    "from sklearn.feature_extraction.text import TfidfTransformer\n",
    "tfidfconverter = TfidfTransformer()\n",
    "X = tfidfconverter.fit_transform(X).toarray()"
   ]
  },
  {
   "cell_type": "code",
   "execution_count": 65,
   "id": "a3bf6be7",
   "metadata": {},
   "outputs": [],
   "source": [
    "from sklearn import neural_network\n",
    "\n",
    "NN_model = neural_network.MLPClassifier(random_state=1)\n",
    "NN_model.fit(X_train,y_train)\n",
    "pred = NN_model.predict(X_test)\n",
    "cm = confusion_matrix(y_test,pred)\n",
    "NN_acc = (cm[0,0]+cm[1,1])/(sum(sum(cm)))"
   ]
  },
  {
   "cell_type": "code",
   "execution_count": 66,
   "id": "ef499557",
   "metadata": {},
   "outputs": [
    {
     "data": {
      "text/plain": [
       "MLPClassifier(hidden_layer_sizes=(512, 256), random_state=1)"
      ]
     },
     "execution_count": 66,
     "metadata": {},
     "output_type": "execute_result"
    }
   ],
   "source": [
    "classifier = neural_network.MLPClassifier(random_state=1, hidden_layer_sizes= (512,256))\n",
    "classifier.fit(X_train, y_train) "
   ]
  },
  {
   "cell_type": "markdown",
   "id": "af25d3dd",
   "metadata": {},
   "source": [
    "#alternative model that i tried \n",
    "#did not yield better results \n",
    "classifier = neural_network.MLPClassifier(random_state=1, hidden_layer_sizes= (512,256),solver = 'adam', activation = 'relu', \n",
    "                                         learning_rate_init = 0.01, learning_rate = 'adaptive')\n",
    "classifier.fit(X_train, y_train) "
   ]
  },
  {
   "cell_type": "code",
   "execution_count": 67,
   "id": "f7924a0e",
   "metadata": {},
   "outputs": [],
   "source": [
    "y_pred5 = classifier.predict(X_test)"
   ]
  },
  {
   "cell_type": "code",
   "execution_count": 68,
   "id": "55aaf025",
   "metadata": {
    "scrolled": true
   },
   "outputs": [
    {
     "name": "stdout",
     "output_type": "stream",
     "text": [
      "[[ 44   2   2  18   0   0   0   0   0   0]\n",
      " [  1  46   2  32   0   0   0   0   2   1]\n",
      " [  4   4 142  39   0   1   0   0   4   2]\n",
      " [ 21   9  28 580   0   4   1  10  25  21]\n",
      " [  0   0   0   1   0   0   0   0   0   0]\n",
      " [  1   0   0  10   0   1   0   0   1   0]\n",
      " [  0   0   0   1   0   0   0   0   0   0]\n",
      " [  0   0   1   9   0   0   0   3   0   2]\n",
      " [  1   1   6  56   0   0   0   0  39   0]\n",
      " [  4   1   6  28   0   0   0   1   2 190]]\n",
      "              precision    recall  f1-score   support\n",
      "\n",
      "           0       0.58      0.67      0.62        66\n",
      "           1       0.73      0.55      0.63        84\n",
      "           2       0.76      0.72      0.74       196\n",
      "           3       0.75      0.83      0.79       699\n",
      "           4       0.00      0.00      0.00         1\n",
      "           5       0.17      0.08      0.11        13\n",
      "           6       0.00      0.00      0.00         1\n",
      "           7       0.21      0.20      0.21        15\n",
      "           8       0.53      0.38      0.44       103\n",
      "           9       0.88      0.82      0.85       232\n",
      "\n",
      "    accuracy                           0.74      1410\n",
      "   macro avg       0.46      0.42      0.44      1410\n",
      "weighted avg       0.74      0.74      0.73      1410\n",
      "\n",
      "0.7411347517730497\n"
     ]
    }
   ],
   "source": [
    "from sklearn.metrics import classification_report, confusion_matrix, accuracy_score\n",
    "\n",
    "print(confusion_matrix(y_test,y_pred5))\n",
    "print(classification_report(y_test,y_pred5))\n",
    "print(accuracy_score(y_test, y_pred5))"
   ]
  },
  {
   "cell_type": "markdown",
   "id": "e29fdceb",
   "metadata": {},
   "source": [
    "# Clean Craigslist Data // Import .csv"
   ]
  },
  {
   "cell_type": "code",
   "execution_count": 69,
   "id": "6502cd9b",
   "metadata": {
    "scrolled": true
   },
   "outputs": [
    {
     "name": "stdout",
     "output_type": "stream",
     "text": [
      "       Unnamed: 0   action    start_time  \\\n",
      "0               0  message  1.496341e+09   \n",
      "1               1  message  1.496341e+09   \n",
      "2               2  message  1.496341e+09   \n",
      "3               3  message  1.496341e+09   \n",
      "4               4  message  1.496341e+09   \n",
      "...           ...      ...           ...   \n",
      "58931       58931  message  1.500429e+09   \n",
      "58932       58932  message  1.500429e+09   \n",
      "58933       58933  message  1.500429e+09   \n",
      "58934       58934    offer           NaN   \n",
      "58935       58935   accept           NaN   \n",
      "\n",
      "                                                    data  agent          time  \\\n",
      "0      Hi, not sure if the charger would work for my ...      0  1.496341e+09   \n",
      "1      It will work, i have never seen a car without ...      1  1.496341e+09   \n",
      "2       Still, can I buy it for $5? I'm on a tight budge      0  1.496341e+09   \n",
      "3           I think the lowest I would want to go is 8.       1  1.496341e+09   \n",
      "4      How about $6 and I pick it up myself? It'll sa...      0  1.496341e+09   \n",
      "...                                                  ...    ...           ...   \n",
      "58931  They have been cleaned. They are in good shape...      1  1.500429e+09   \n",
      "58932  Ok well how about 45 for them and I can pick t...      0  1.500429e+09   \n",
      "58933  45 seems fair. Could you bring cash? That woul...      1  1.500429e+09   \n",
      "58934                       {'price': 45.0, 'sides': ''}      1  1.500429e+09   \n",
      "58935                                                NaN      0  1.500429e+09   \n",
      "\n",
      "                                     uuid  \\\n",
      "0      C_fe3d143826f44a8db1072188f5345e8a   \n",
      "1      C_fe3d143826f44a8db1072188f5345e8a   \n",
      "2      C_fe3d143826f44a8db1072188f5345e8a   \n",
      "3      C_fe3d143826f44a8db1072188f5345e8a   \n",
      "4      C_fe3d143826f44a8db1072188f5345e8a   \n",
      "...                                   ...   \n",
      "58931  C_824ca40ba2424c618a45c64c00f5c296   \n",
      "58932  C_824ca40ba2424c618a45c64c00f5c296   \n",
      "58933  C_824ca40ba2424c618a45c64c00f5c296   \n",
      "58934  C_824ca40ba2424c618a45c64c00f5c296   \n",
      "58935  C_824ca40ba2424c618a45c64c00f5c296   \n",
      "\n",
      "                                                scenario       scenario_uuid  \\\n",
      "0      {'category': 'phone', 'uuid': 'S_6Bcls3VtniHs9...  S_q0qenRCWLQ6vOMOq   \n",
      "1      {'category': 'phone', 'uuid': 'S_6Bcls3VtniHs9...  S_q0qenRCWLQ6vOMOq   \n",
      "2      {'category': 'phone', 'uuid': 'S_6Bcls3VtniHs9...  S_q0qenRCWLQ6vOMOq   \n",
      "3      {'category': 'phone', 'uuid': 'S_6Bcls3VtniHs9...  S_q0qenRCWLQ6vOMOq   \n",
      "4      {'category': 'phone', 'uuid': 'S_6Bcls3VtniHs9...  S_q0qenRCWLQ6vOMOq   \n",
      "...                                                  ...                 ...   \n",
      "58931  {'category': 'car', 'uuid': 'S_BOn8EaSWj0U0r3s...  S_MNkMhsUJfaC2gKnI   \n",
      "58932  {'category': 'car', 'uuid': 'S_BOn8EaSWj0U0r3s...  S_MNkMhsUJfaC2gKnI   \n",
      "58933  {'category': 'car', 'uuid': 'S_BOn8EaSWj0U0r3s...  S_MNkMhsUJfaC2gKnI   \n",
      "58934  {'category': 'car', 'uuid': 'S_BOn8EaSWj0U0r3s...  S_MNkMhsUJfaC2gKnI   \n",
      "58935  {'category': 'car', 'uuid': 'S_BOn8EaSWj0U0r3s...  S_MNkMhsUJfaC2gKnI   \n",
      "\n",
      "                             agents  \\\n",
      "0      {'1': 'human', '0': 'human'}   \n",
      "1      {'1': 'human', '0': 'human'}   \n",
      "2      {'1': 'human', '0': 'human'}   \n",
      "3      {'1': 'human', '0': 'human'}   \n",
      "4      {'1': 'human', '0': 'human'}   \n",
      "...                             ...   \n",
      "58931  {'1': 'human', '0': 'human'}   \n",
      "58932  {'1': 'human', '0': 'human'}   \n",
      "58933  {'1': 'human', '0': 'human'}   \n",
      "58934  {'1': 'human', '0': 'human'}   \n",
      "58935  {'1': 'human', '0': 'human'}   \n",
      "\n",
      "                                                 outcome  \n",
      "0      {'reward': 1, 'offer': {'price': 7.0, 'sides':...  \n",
      "1      {'reward': 1, 'offer': {'price': 7.0, 'sides':...  \n",
      "2      {'reward': 1, 'offer': {'price': 7.0, 'sides':...  \n",
      "3      {'reward': 1, 'offer': {'price': 7.0, 'sides':...  \n",
      "4      {'reward': 1, 'offer': {'price': 7.0, 'sides':...  \n",
      "...                                                  ...  \n",
      "58931  {'reward': 1, 'offer': {'price': 15000.0, 'sid...  \n",
      "58932  {'reward': 1, 'offer': {'price': 15000.0, 'sid...  \n",
      "58933  {'reward': 1, 'offer': {'price': 15000.0, 'sid...  \n",
      "58934  {'reward': 1, 'offer': {'price': 15000.0, 'sid...  \n",
      "58935  {'reward': 1, 'offer': {'price': 15000.0, 'sid...  \n",
      "\n",
      "[58936 rows x 11 columns]\n"
     ]
    }
   ],
   "source": [
    "df = pd.read_csv('/Users/caleb/Desktop/Y4S1 /UROP /craigslist dataset/kokil/craigslist_total_clean.csv')\n",
    "print(df)"
   ]
  },
  {
   "cell_type": "code",
   "execution_count": 70,
   "id": "1f10a7ee",
   "metadata": {},
   "outputs": [],
   "source": [
    "craigslist_total_clean_df = df"
   ]
  },
  {
   "cell_type": "code",
   "execution_count": 71,
   "id": "8e64b0a3",
   "metadata": {
    "scrolled": true
   },
   "outputs": [
    {
     "data": {
      "text/html": [
       "<div>\n",
       "<style scoped>\n",
       "    .dataframe tbody tr th:only-of-type {\n",
       "        vertical-align: middle;\n",
       "    }\n",
       "\n",
       "    .dataframe tbody tr th {\n",
       "        vertical-align: top;\n",
       "    }\n",
       "\n",
       "    .dataframe thead th {\n",
       "        text-align: right;\n",
       "    }\n",
       "</style>\n",
       "<table border=\"1\" class=\"dataframe\">\n",
       "  <thead>\n",
       "    <tr style=\"text-align: right;\">\n",
       "      <th></th>\n",
       "      <th>Unnamed: 0</th>\n",
       "      <th>action</th>\n",
       "      <th>start_time</th>\n",
       "      <th>data</th>\n",
       "      <th>agent</th>\n",
       "      <th>time</th>\n",
       "      <th>uuid</th>\n",
       "      <th>scenario</th>\n",
       "      <th>scenario_uuid</th>\n",
       "      <th>agents</th>\n",
       "      <th>outcome</th>\n",
       "    </tr>\n",
       "  </thead>\n",
       "  <tbody>\n",
       "    <tr>\n",
       "      <th>0</th>\n",
       "      <td>0</td>\n",
       "      <td>message</td>\n",
       "      <td>1.496341e+09</td>\n",
       "      <td>Hi, not sure if the charger would work for my ...</td>\n",
       "      <td>0</td>\n",
       "      <td>1.496341e+09</td>\n",
       "      <td>C_fe3d143826f44a8db1072188f5345e8a</td>\n",
       "      <td>{'category': 'phone', 'uuid': 'S_6Bcls3VtniHs9...</td>\n",
       "      <td>S_q0qenRCWLQ6vOMOq</td>\n",
       "      <td>{'1': 'human', '0': 'human'}</td>\n",
       "      <td>{'reward': 1, 'offer': {'price': 7.0, 'sides':...</td>\n",
       "    </tr>\n",
       "    <tr>\n",
       "      <th>1</th>\n",
       "      <td>1</td>\n",
       "      <td>message</td>\n",
       "      <td>1.496341e+09</td>\n",
       "      <td>It will work, i have never seen a car without ...</td>\n",
       "      <td>1</td>\n",
       "      <td>1.496341e+09</td>\n",
       "      <td>C_fe3d143826f44a8db1072188f5345e8a</td>\n",
       "      <td>{'category': 'phone', 'uuid': 'S_6Bcls3VtniHs9...</td>\n",
       "      <td>S_q0qenRCWLQ6vOMOq</td>\n",
       "      <td>{'1': 'human', '0': 'human'}</td>\n",
       "      <td>{'reward': 1, 'offer': {'price': 7.0, 'sides':...</td>\n",
       "    </tr>\n",
       "    <tr>\n",
       "      <th>2</th>\n",
       "      <td>2</td>\n",
       "      <td>message</td>\n",
       "      <td>1.496341e+09</td>\n",
       "      <td>Still, can I buy it for $5? I'm on a tight budge</td>\n",
       "      <td>0</td>\n",
       "      <td>1.496341e+09</td>\n",
       "      <td>C_fe3d143826f44a8db1072188f5345e8a</td>\n",
       "      <td>{'category': 'phone', 'uuid': 'S_6Bcls3VtniHs9...</td>\n",
       "      <td>S_q0qenRCWLQ6vOMOq</td>\n",
       "      <td>{'1': 'human', '0': 'human'}</td>\n",
       "      <td>{'reward': 1, 'offer': {'price': 7.0, 'sides':...</td>\n",
       "    </tr>\n",
       "    <tr>\n",
       "      <th>3</th>\n",
       "      <td>3</td>\n",
       "      <td>message</td>\n",
       "      <td>1.496341e+09</td>\n",
       "      <td>I think the lowest I would want to go is 8.</td>\n",
       "      <td>1</td>\n",
       "      <td>1.496341e+09</td>\n",
       "      <td>C_fe3d143826f44a8db1072188f5345e8a</td>\n",
       "      <td>{'category': 'phone', 'uuid': 'S_6Bcls3VtniHs9...</td>\n",
       "      <td>S_q0qenRCWLQ6vOMOq</td>\n",
       "      <td>{'1': 'human', '0': 'human'}</td>\n",
       "      <td>{'reward': 1, 'offer': {'price': 7.0, 'sides':...</td>\n",
       "    </tr>\n",
       "    <tr>\n",
       "      <th>4</th>\n",
       "      <td>4</td>\n",
       "      <td>message</td>\n",
       "      <td>1.496341e+09</td>\n",
       "      <td>How about $6 and I pick it up myself? It'll sa...</td>\n",
       "      <td>0</td>\n",
       "      <td>1.496341e+09</td>\n",
       "      <td>C_fe3d143826f44a8db1072188f5345e8a</td>\n",
       "      <td>{'category': 'phone', 'uuid': 'S_6Bcls3VtniHs9...</td>\n",
       "      <td>S_q0qenRCWLQ6vOMOq</td>\n",
       "      <td>{'1': 'human', '0': 'human'}</td>\n",
       "      <td>{'reward': 1, 'offer': {'price': 7.0, 'sides':...</td>\n",
       "    </tr>\n",
       "    <tr>\n",
       "      <th>...</th>\n",
       "      <td>...</td>\n",
       "      <td>...</td>\n",
       "      <td>...</td>\n",
       "      <td>...</td>\n",
       "      <td>...</td>\n",
       "      <td>...</td>\n",
       "      <td>...</td>\n",
       "      <td>...</td>\n",
       "      <td>...</td>\n",
       "      <td>...</td>\n",
       "      <td>...</td>\n",
       "    </tr>\n",
       "    <tr>\n",
       "      <th>58931</th>\n",
       "      <td>58931</td>\n",
       "      <td>message</td>\n",
       "      <td>1.500429e+09</td>\n",
       "      <td>They have been cleaned. They are in good shape...</td>\n",
       "      <td>1</td>\n",
       "      <td>1.500429e+09</td>\n",
       "      <td>C_824ca40ba2424c618a45c64c00f5c296</td>\n",
       "      <td>{'category': 'car', 'uuid': 'S_BOn8EaSWj0U0r3s...</td>\n",
       "      <td>S_MNkMhsUJfaC2gKnI</td>\n",
       "      <td>{'1': 'human', '0': 'human'}</td>\n",
       "      <td>{'reward': 1, 'offer': {'price': 15000.0, 'sid...</td>\n",
       "    </tr>\n",
       "    <tr>\n",
       "      <th>58932</th>\n",
       "      <td>58932</td>\n",
       "      <td>message</td>\n",
       "      <td>1.500429e+09</td>\n",
       "      <td>Ok well how about 45 for them and I can pick t...</td>\n",
       "      <td>0</td>\n",
       "      <td>1.500429e+09</td>\n",
       "      <td>C_824ca40ba2424c618a45c64c00f5c296</td>\n",
       "      <td>{'category': 'car', 'uuid': 'S_BOn8EaSWj0U0r3s...</td>\n",
       "      <td>S_MNkMhsUJfaC2gKnI</td>\n",
       "      <td>{'1': 'human', '0': 'human'}</td>\n",
       "      <td>{'reward': 1, 'offer': {'price': 15000.0, 'sid...</td>\n",
       "    </tr>\n",
       "    <tr>\n",
       "      <th>58933</th>\n",
       "      <td>58933</td>\n",
       "      <td>message</td>\n",
       "      <td>1.500429e+09</td>\n",
       "      <td>45 seems fair. Could you bring cash? That woul...</td>\n",
       "      <td>1</td>\n",
       "      <td>1.500429e+09</td>\n",
       "      <td>C_824ca40ba2424c618a45c64c00f5c296</td>\n",
       "      <td>{'category': 'car', 'uuid': 'S_BOn8EaSWj0U0r3s...</td>\n",
       "      <td>S_MNkMhsUJfaC2gKnI</td>\n",
       "      <td>{'1': 'human', '0': 'human'}</td>\n",
       "      <td>{'reward': 1, 'offer': {'price': 15000.0, 'sid...</td>\n",
       "    </tr>\n",
       "    <tr>\n",
       "      <th>58934</th>\n",
       "      <td>58934</td>\n",
       "      <td>offer</td>\n",
       "      <td>NaN</td>\n",
       "      <td>{'price': 45.0, 'sides': ''}</td>\n",
       "      <td>1</td>\n",
       "      <td>1.500429e+09</td>\n",
       "      <td>C_824ca40ba2424c618a45c64c00f5c296</td>\n",
       "      <td>{'category': 'car', 'uuid': 'S_BOn8EaSWj0U0r3s...</td>\n",
       "      <td>S_MNkMhsUJfaC2gKnI</td>\n",
       "      <td>{'1': 'human', '0': 'human'}</td>\n",
       "      <td>{'reward': 1, 'offer': {'price': 15000.0, 'sid...</td>\n",
       "    </tr>\n",
       "    <tr>\n",
       "      <th>58935</th>\n",
       "      <td>58935</td>\n",
       "      <td>accept</td>\n",
       "      <td>NaN</td>\n",
       "      <td>NaN</td>\n",
       "      <td>0</td>\n",
       "      <td>1.500429e+09</td>\n",
       "      <td>C_824ca40ba2424c618a45c64c00f5c296</td>\n",
       "      <td>{'category': 'car', 'uuid': 'S_BOn8EaSWj0U0r3s...</td>\n",
       "      <td>S_MNkMhsUJfaC2gKnI</td>\n",
       "      <td>{'1': 'human', '0': 'human'}</td>\n",
       "      <td>{'reward': 1, 'offer': {'price': 15000.0, 'sid...</td>\n",
       "    </tr>\n",
       "  </tbody>\n",
       "</table>\n",
       "<p>58936 rows × 11 columns</p>\n",
       "</div>"
      ],
      "text/plain": [
       "       Unnamed: 0   action    start_time  \\\n",
       "0               0  message  1.496341e+09   \n",
       "1               1  message  1.496341e+09   \n",
       "2               2  message  1.496341e+09   \n",
       "3               3  message  1.496341e+09   \n",
       "4               4  message  1.496341e+09   \n",
       "...           ...      ...           ...   \n",
       "58931       58931  message  1.500429e+09   \n",
       "58932       58932  message  1.500429e+09   \n",
       "58933       58933  message  1.500429e+09   \n",
       "58934       58934    offer           NaN   \n",
       "58935       58935   accept           NaN   \n",
       "\n",
       "                                                    data  agent          time  \\\n",
       "0      Hi, not sure if the charger would work for my ...      0  1.496341e+09   \n",
       "1      It will work, i have never seen a car without ...      1  1.496341e+09   \n",
       "2       Still, can I buy it for $5? I'm on a tight budge      0  1.496341e+09   \n",
       "3           I think the lowest I would want to go is 8.       1  1.496341e+09   \n",
       "4      How about $6 and I pick it up myself? It'll sa...      0  1.496341e+09   \n",
       "...                                                  ...    ...           ...   \n",
       "58931  They have been cleaned. They are in good shape...      1  1.500429e+09   \n",
       "58932  Ok well how about 45 for them and I can pick t...      0  1.500429e+09   \n",
       "58933  45 seems fair. Could you bring cash? That woul...      1  1.500429e+09   \n",
       "58934                       {'price': 45.0, 'sides': ''}      1  1.500429e+09   \n",
       "58935                                                NaN      0  1.500429e+09   \n",
       "\n",
       "                                     uuid  \\\n",
       "0      C_fe3d143826f44a8db1072188f5345e8a   \n",
       "1      C_fe3d143826f44a8db1072188f5345e8a   \n",
       "2      C_fe3d143826f44a8db1072188f5345e8a   \n",
       "3      C_fe3d143826f44a8db1072188f5345e8a   \n",
       "4      C_fe3d143826f44a8db1072188f5345e8a   \n",
       "...                                   ...   \n",
       "58931  C_824ca40ba2424c618a45c64c00f5c296   \n",
       "58932  C_824ca40ba2424c618a45c64c00f5c296   \n",
       "58933  C_824ca40ba2424c618a45c64c00f5c296   \n",
       "58934  C_824ca40ba2424c618a45c64c00f5c296   \n",
       "58935  C_824ca40ba2424c618a45c64c00f5c296   \n",
       "\n",
       "                                                scenario       scenario_uuid  \\\n",
       "0      {'category': 'phone', 'uuid': 'S_6Bcls3VtniHs9...  S_q0qenRCWLQ6vOMOq   \n",
       "1      {'category': 'phone', 'uuid': 'S_6Bcls3VtniHs9...  S_q0qenRCWLQ6vOMOq   \n",
       "2      {'category': 'phone', 'uuid': 'S_6Bcls3VtniHs9...  S_q0qenRCWLQ6vOMOq   \n",
       "3      {'category': 'phone', 'uuid': 'S_6Bcls3VtniHs9...  S_q0qenRCWLQ6vOMOq   \n",
       "4      {'category': 'phone', 'uuid': 'S_6Bcls3VtniHs9...  S_q0qenRCWLQ6vOMOq   \n",
       "...                                                  ...                 ...   \n",
       "58931  {'category': 'car', 'uuid': 'S_BOn8EaSWj0U0r3s...  S_MNkMhsUJfaC2gKnI   \n",
       "58932  {'category': 'car', 'uuid': 'S_BOn8EaSWj0U0r3s...  S_MNkMhsUJfaC2gKnI   \n",
       "58933  {'category': 'car', 'uuid': 'S_BOn8EaSWj0U0r3s...  S_MNkMhsUJfaC2gKnI   \n",
       "58934  {'category': 'car', 'uuid': 'S_BOn8EaSWj0U0r3s...  S_MNkMhsUJfaC2gKnI   \n",
       "58935  {'category': 'car', 'uuid': 'S_BOn8EaSWj0U0r3s...  S_MNkMhsUJfaC2gKnI   \n",
       "\n",
       "                             agents  \\\n",
       "0      {'1': 'human', '0': 'human'}   \n",
       "1      {'1': 'human', '0': 'human'}   \n",
       "2      {'1': 'human', '0': 'human'}   \n",
       "3      {'1': 'human', '0': 'human'}   \n",
       "4      {'1': 'human', '0': 'human'}   \n",
       "...                             ...   \n",
       "58931  {'1': 'human', '0': 'human'}   \n",
       "58932  {'1': 'human', '0': 'human'}   \n",
       "58933  {'1': 'human', '0': 'human'}   \n",
       "58934  {'1': 'human', '0': 'human'}   \n",
       "58935  {'1': 'human', '0': 'human'}   \n",
       "\n",
       "                                                 outcome  \n",
       "0      {'reward': 1, 'offer': {'price': 7.0, 'sides':...  \n",
       "1      {'reward': 1, 'offer': {'price': 7.0, 'sides':...  \n",
       "2      {'reward': 1, 'offer': {'price': 7.0, 'sides':...  \n",
       "3      {'reward': 1, 'offer': {'price': 7.0, 'sides':...  \n",
       "4      {'reward': 1, 'offer': {'price': 7.0, 'sides':...  \n",
       "...                                                  ...  \n",
       "58931  {'reward': 1, 'offer': {'price': 15000.0, 'sid...  \n",
       "58932  {'reward': 1, 'offer': {'price': 15000.0, 'sid...  \n",
       "58933  {'reward': 1, 'offer': {'price': 15000.0, 'sid...  \n",
       "58934  {'reward': 1, 'offer': {'price': 15000.0, 'sid...  \n",
       "58935  {'reward': 1, 'offer': {'price': 15000.0, 'sid...  \n",
       "\n",
       "[58936 rows x 11 columns]"
      ]
     },
     "execution_count": 71,
     "metadata": {},
     "output_type": "execute_result"
    }
   ],
   "source": [
    "craigslist_total_clean_df"
   ]
  },
  {
   "cell_type": "code",
   "execution_count": 72,
   "id": "32c8f5fe",
   "metadata": {},
   "outputs": [],
   "source": [
    "X = craigslist_total_clean_df.data"
   ]
  },
  {
   "cell_type": "code",
   "execution_count": 73,
   "id": "08f0f167",
   "metadata": {
    "scrolled": false
   },
   "outputs": [
    {
     "data": {
      "text/plain": [
       "<bound method Series.info of 0        Hi, not sure if the charger would work for my ...\n",
       "1        It will work, i have never seen a car without ...\n",
       "2         Still, can I buy it for $5? I'm on a tight budge\n",
       "3             I think the lowest I would want to go is 8. \n",
       "4        How about $6 and I pick it up myself? It'll sa...\n",
       "                               ...                        \n",
       "58931    They have been cleaned. They are in good shape...\n",
       "58932    Ok well how about 45 for them and I can pick t...\n",
       "58933    45 seems fair. Could you bring cash? That woul...\n",
       "58934                         {'price': 45.0, 'sides': ''}\n",
       "58935                                                  NaN\n",
       "Name: data, Length: 58936, dtype: object>"
      ]
     },
     "execution_count": 73,
     "metadata": {},
     "output_type": "execute_result"
    }
   ],
   "source": [
    "X.info"
   ]
  },
  {
   "cell_type": "code",
   "execution_count": 74,
   "id": "58923dbc",
   "metadata": {},
   "outputs": [],
   "source": [
    "craigslist_total_clean_df['code'] = ''"
   ]
  },
  {
   "cell_type": "code",
   "execution_count": 75,
   "id": "120da7d7",
   "metadata": {},
   "outputs": [],
   "source": [
    "#Y = craigslist_dev_clean_df.code"
   ]
  },
  {
   "cell_type": "code",
   "execution_count": 76,
   "id": "cc5e7cfe",
   "metadata": {
    "scrolled": true
   },
   "outputs": [
    {
     "name": "stdout",
     "output_type": "stream",
     "text": [
      "Hi, not sure if the charger would work for my car. Can you sell it to me for $5?\n"
     ]
    }
   ],
   "source": [
    "print(X[0])"
   ]
  },
  {
   "cell_type": "code",
   "execution_count": 77,
   "id": "5eeda7e3",
   "metadata": {},
   "outputs": [],
   "source": [
    "documents = []\n",
    "\n",
    "from nltk.stem import WordNetLemmatizer\n",
    "\n",
    "stemmer = WordNetLemmatizer()\n",
    "\n",
    "for sen in range(0, len(X)):\n",
    "    # Remove all the special characters\n",
    "    #print(X[sen])\n",
    "    document = re.sub(r'\\W', ' ', str(X[sen]))\n",
    "    \n",
    "    # remove all single characters\n",
    "    document = re.sub(r'\\s+[a-zA-Z]\\s+', ' ', document)\n",
    "    \n",
    "    # Remove single characters from the start\n",
    "    document = re.sub(r'\\^[a-zA-Z]\\s+', ' ', document) \n",
    "    \n",
    "    # Substituting multiple spaces with single space\n",
    "    document = re.sub(r'\\s+', ' ', document, flags=re.I)\n",
    "    \n",
    "    # Removing prefixed 'b'\n",
    "    document = re.sub(r'^b\\s+', '', document)\n",
    "    \n",
    "    #document = (X[sen])\n",
    "    \n",
    "    # Converting to Lowercase\n",
    "    document = document.lower()\n",
    "    \n",
    "    # Lemmatization\n",
    "    document = document.split()\n",
    "\n",
    "    document = [stemmer.lemmatize(word) for word in document]\n",
    "    document = ' '.join(document)\n",
    "    \n",
    "    documents.append(document)"
   ]
  },
  {
   "cell_type": "code",
   "execution_count": 78,
   "id": "b1bea29b",
   "metadata": {
    "scrolled": true
   },
   "outputs": [
    {
     "name": "stderr",
     "output_type": "stream",
     "text": [
      "IOPub data rate exceeded.\n",
      "The notebook server will temporarily stop sending output\n",
      "to the client in order to avoid crashing it.\n",
      "To change this limit, set the config variable\n",
      "`--NotebookApp.iopub_data_rate_limit`.\n",
      "\n",
      "Current values:\n",
      "NotebookApp.iopub_data_rate_limit=1000000.0 (bytes/sec)\n",
      "NotebookApp.rate_limit_window=3.0 (secs)\n",
      "\n"
     ]
    }
   ],
   "source": [
    "print(documents)"
   ]
  },
  {
   "cell_type": "code",
   "execution_count": 79,
   "id": "d5062e97",
   "metadata": {
    "scrolled": true
   },
   "outputs": [],
   "source": [
    "#convert the words into vectors for ML model \n",
    "from sklearn.feature_extraction.text import CountVectorizer\n",
    "vectorizer = CountVectorizer(max_features=1500, min_df=3, max_df=0.7, stop_words=stopwords.words('english'))"
   ]
  },
  {
   "cell_type": "code",
   "execution_count": 80,
   "id": "d11088a0",
   "metadata": {},
   "outputs": [],
   "source": [
    "with open('text_classifier', 'rb') as training_model:\n",
    "    model = pickle.load(training_model)"
   ]
  },
  {
   "cell_type": "code",
   "execution_count": 83,
   "id": "45004255",
   "metadata": {
    "scrolled": true
   },
   "outputs": [],
   "source": [
    "X_test = vectorizer.fitransform(documents).toarray()"
   ]
  },
  {
   "cell_type": "code",
   "execution_count": 84,
   "id": "028eda17",
   "metadata": {
    "scrolled": true
   },
   "outputs": [
    {
     "data": {
      "text/plain": [
       "array([8, 8, 3, ..., 3, 3, 3])"
      ]
     },
     "execution_count": 84,
     "metadata": {},
     "output_type": "execute_result"
    }
   ],
   "source": [
    "#y_pred_technique = model.predict(X_test)\n",
    "y_pred = classifier.predict(X_test)\n",
    "y_pred"
   ]
  },
  {
   "cell_type": "code",
   "execution_count": 85,
   "id": "47b5552c",
   "metadata": {},
   "outputs": [
    {
     "name": "stdout",
     "output_type": "stream",
     "text": [
      "[8 8 3 ... 3 3 3]\n"
     ]
    }
   ],
   "source": [
    "print(y_pred)"
   ]
  },
  {
   "cell_type": "code",
   "execution_count": 86,
   "id": "2d0fe5b4",
   "metadata": {},
   "outputs": [
    {
     "data": {
      "text/plain": [
       "(58936,)"
      ]
     },
     "execution_count": 86,
     "metadata": {},
     "output_type": "execute_result"
    }
   ],
   "source": [
    "y_pred.shape"
   ]
  },
  {
   "cell_type": "code",
   "execution_count": 87,
   "id": "9fe151f6",
   "metadata": {
    "scrolled": true
   },
   "outputs": [],
   "source": [
    "predictions_df = pd.DataFrame(y_pred)"
   ]
  },
  {
   "cell_type": "code",
   "execution_count": 88,
   "id": "30af1b7e",
   "metadata": {},
   "outputs": [],
   "source": [
    "# adding column name to the respective columns\n",
    "predictions_df.columns =['code']"
   ]
  },
  {
   "cell_type": "code",
   "execution_count": 89,
   "id": "25780d50",
   "metadata": {},
   "outputs": [],
   "source": [
    "df_out = pd.merge(craigslist_total_clean_df,predictions_df[['code']],how = 'right',left_index = True, right_index = True)"
   ]
  },
  {
   "cell_type": "code",
   "execution_count": 90,
   "id": "18a04925",
   "metadata": {
    "scrolled": true
   },
   "outputs": [
    {
     "data": {
      "text/html": [
       "<div>\n",
       "<style scoped>\n",
       "    .dataframe tbody tr th:only-of-type {\n",
       "        vertical-align: middle;\n",
       "    }\n",
       "\n",
       "    .dataframe tbody tr th {\n",
       "        vertical-align: top;\n",
       "    }\n",
       "\n",
       "    .dataframe thead th {\n",
       "        text-align: right;\n",
       "    }\n",
       "</style>\n",
       "<table border=\"1\" class=\"dataframe\">\n",
       "  <thead>\n",
       "    <tr style=\"text-align: right;\">\n",
       "      <th></th>\n",
       "      <th>Unnamed: 0</th>\n",
       "      <th>action</th>\n",
       "      <th>start_time</th>\n",
       "      <th>data</th>\n",
       "      <th>agent</th>\n",
       "      <th>time</th>\n",
       "      <th>uuid</th>\n",
       "      <th>scenario</th>\n",
       "      <th>scenario_uuid</th>\n",
       "      <th>agents</th>\n",
       "      <th>outcome</th>\n",
       "      <th>code_x</th>\n",
       "      <th>code_y</th>\n",
       "    </tr>\n",
       "  </thead>\n",
       "  <tbody>\n",
       "    <tr>\n",
       "      <th>0</th>\n",
       "      <td>0</td>\n",
       "      <td>message</td>\n",
       "      <td>1.496341e+09</td>\n",
       "      <td>Hi, not sure if the charger would work for my ...</td>\n",
       "      <td>0</td>\n",
       "      <td>1.496341e+09</td>\n",
       "      <td>C_fe3d143826f44a8db1072188f5345e8a</td>\n",
       "      <td>{'category': 'phone', 'uuid': 'S_6Bcls3VtniHs9...</td>\n",
       "      <td>S_q0qenRCWLQ6vOMOq</td>\n",
       "      <td>{'1': 'human', '0': 'human'}</td>\n",
       "      <td>{'reward': 1, 'offer': {'price': 7.0, 'sides':...</td>\n",
       "      <td></td>\n",
       "      <td>8</td>\n",
       "    </tr>\n",
       "    <tr>\n",
       "      <th>1</th>\n",
       "      <td>1</td>\n",
       "      <td>message</td>\n",
       "      <td>1.496341e+09</td>\n",
       "      <td>It will work, i have never seen a car without ...</td>\n",
       "      <td>1</td>\n",
       "      <td>1.496341e+09</td>\n",
       "      <td>C_fe3d143826f44a8db1072188f5345e8a</td>\n",
       "      <td>{'category': 'phone', 'uuid': 'S_6Bcls3VtniHs9...</td>\n",
       "      <td>S_q0qenRCWLQ6vOMOq</td>\n",
       "      <td>{'1': 'human', '0': 'human'}</td>\n",
       "      <td>{'reward': 1, 'offer': {'price': 7.0, 'sides':...</td>\n",
       "      <td></td>\n",
       "      <td>8</td>\n",
       "    </tr>\n",
       "    <tr>\n",
       "      <th>2</th>\n",
       "      <td>2</td>\n",
       "      <td>message</td>\n",
       "      <td>1.496341e+09</td>\n",
       "      <td>Still, can I buy it for $5? I'm on a tight budge</td>\n",
       "      <td>0</td>\n",
       "      <td>1.496341e+09</td>\n",
       "      <td>C_fe3d143826f44a8db1072188f5345e8a</td>\n",
       "      <td>{'category': 'phone', 'uuid': 'S_6Bcls3VtniHs9...</td>\n",
       "      <td>S_q0qenRCWLQ6vOMOq</td>\n",
       "      <td>{'1': 'human', '0': 'human'}</td>\n",
       "      <td>{'reward': 1, 'offer': {'price': 7.0, 'sides':...</td>\n",
       "      <td></td>\n",
       "      <td>3</td>\n",
       "    </tr>\n",
       "    <tr>\n",
       "      <th>3</th>\n",
       "      <td>3</td>\n",
       "      <td>message</td>\n",
       "      <td>1.496341e+09</td>\n",
       "      <td>I think the lowest I would want to go is 8.</td>\n",
       "      <td>1</td>\n",
       "      <td>1.496341e+09</td>\n",
       "      <td>C_fe3d143826f44a8db1072188f5345e8a</td>\n",
       "      <td>{'category': 'phone', 'uuid': 'S_6Bcls3VtniHs9...</td>\n",
       "      <td>S_q0qenRCWLQ6vOMOq</td>\n",
       "      <td>{'1': 'human', '0': 'human'}</td>\n",
       "      <td>{'reward': 1, 'offer': {'price': 7.0, 'sides':...</td>\n",
       "      <td></td>\n",
       "      <td>3</td>\n",
       "    </tr>\n",
       "    <tr>\n",
       "      <th>4</th>\n",
       "      <td>4</td>\n",
       "      <td>message</td>\n",
       "      <td>1.496341e+09</td>\n",
       "      <td>How about $6 and I pick it up myself? It'll sa...</td>\n",
       "      <td>0</td>\n",
       "      <td>1.496341e+09</td>\n",
       "      <td>C_fe3d143826f44a8db1072188f5345e8a</td>\n",
       "      <td>{'category': 'phone', 'uuid': 'S_6Bcls3VtniHs9...</td>\n",
       "      <td>S_q0qenRCWLQ6vOMOq</td>\n",
       "      <td>{'1': 'human', '0': 'human'}</td>\n",
       "      <td>{'reward': 1, 'offer': {'price': 7.0, 'sides':...</td>\n",
       "      <td></td>\n",
       "      <td>3</td>\n",
       "    </tr>\n",
       "    <tr>\n",
       "      <th>...</th>\n",
       "      <td>...</td>\n",
       "      <td>...</td>\n",
       "      <td>...</td>\n",
       "      <td>...</td>\n",
       "      <td>...</td>\n",
       "      <td>...</td>\n",
       "      <td>...</td>\n",
       "      <td>...</td>\n",
       "      <td>...</td>\n",
       "      <td>...</td>\n",
       "      <td>...</td>\n",
       "      <td>...</td>\n",
       "      <td>...</td>\n",
       "    </tr>\n",
       "    <tr>\n",
       "      <th>58931</th>\n",
       "      <td>58931</td>\n",
       "      <td>message</td>\n",
       "      <td>1.500429e+09</td>\n",
       "      <td>They have been cleaned. They are in good shape...</td>\n",
       "      <td>1</td>\n",
       "      <td>1.500429e+09</td>\n",
       "      <td>C_824ca40ba2424c618a45c64c00f5c296</td>\n",
       "      <td>{'category': 'car', 'uuid': 'S_BOn8EaSWj0U0r3s...</td>\n",
       "      <td>S_MNkMhsUJfaC2gKnI</td>\n",
       "      <td>{'1': 'human', '0': 'human'}</td>\n",
       "      <td>{'reward': 1, 'offer': {'price': 15000.0, 'sid...</td>\n",
       "      <td></td>\n",
       "      <td>3</td>\n",
       "    </tr>\n",
       "    <tr>\n",
       "      <th>58932</th>\n",
       "      <td>58932</td>\n",
       "      <td>message</td>\n",
       "      <td>1.500429e+09</td>\n",
       "      <td>Ok well how about 45 for them and I can pick t...</td>\n",
       "      <td>0</td>\n",
       "      <td>1.500429e+09</td>\n",
       "      <td>C_824ca40ba2424c618a45c64c00f5c296</td>\n",
       "      <td>{'category': 'car', 'uuid': 'S_BOn8EaSWj0U0r3s...</td>\n",
       "      <td>S_MNkMhsUJfaC2gKnI</td>\n",
       "      <td>{'1': 'human', '0': 'human'}</td>\n",
       "      <td>{'reward': 1, 'offer': {'price': 15000.0, 'sid...</td>\n",
       "      <td></td>\n",
       "      <td>3</td>\n",
       "    </tr>\n",
       "    <tr>\n",
       "      <th>58933</th>\n",
       "      <td>58933</td>\n",
       "      <td>message</td>\n",
       "      <td>1.500429e+09</td>\n",
       "      <td>45 seems fair. Could you bring cash? That woul...</td>\n",
       "      <td>1</td>\n",
       "      <td>1.500429e+09</td>\n",
       "      <td>C_824ca40ba2424c618a45c64c00f5c296</td>\n",
       "      <td>{'category': 'car', 'uuid': 'S_BOn8EaSWj0U0r3s...</td>\n",
       "      <td>S_MNkMhsUJfaC2gKnI</td>\n",
       "      <td>{'1': 'human', '0': 'human'}</td>\n",
       "      <td>{'reward': 1, 'offer': {'price': 15000.0, 'sid...</td>\n",
       "      <td></td>\n",
       "      <td>3</td>\n",
       "    </tr>\n",
       "    <tr>\n",
       "      <th>58934</th>\n",
       "      <td>58934</td>\n",
       "      <td>offer</td>\n",
       "      <td>NaN</td>\n",
       "      <td>{'price': 45.0, 'sides': ''}</td>\n",
       "      <td>1</td>\n",
       "      <td>1.500429e+09</td>\n",
       "      <td>C_824ca40ba2424c618a45c64c00f5c296</td>\n",
       "      <td>{'category': 'car', 'uuid': 'S_BOn8EaSWj0U0r3s...</td>\n",
       "      <td>S_MNkMhsUJfaC2gKnI</td>\n",
       "      <td>{'1': 'human', '0': 'human'}</td>\n",
       "      <td>{'reward': 1, 'offer': {'price': 15000.0, 'sid...</td>\n",
       "      <td></td>\n",
       "      <td>3</td>\n",
       "    </tr>\n",
       "    <tr>\n",
       "      <th>58935</th>\n",
       "      <td>58935</td>\n",
       "      <td>accept</td>\n",
       "      <td>NaN</td>\n",
       "      <td>NaN</td>\n",
       "      <td>0</td>\n",
       "      <td>1.500429e+09</td>\n",
       "      <td>C_824ca40ba2424c618a45c64c00f5c296</td>\n",
       "      <td>{'category': 'car', 'uuid': 'S_BOn8EaSWj0U0r3s...</td>\n",
       "      <td>S_MNkMhsUJfaC2gKnI</td>\n",
       "      <td>{'1': 'human', '0': 'human'}</td>\n",
       "      <td>{'reward': 1, 'offer': {'price': 15000.0, 'sid...</td>\n",
       "      <td></td>\n",
       "      <td>3</td>\n",
       "    </tr>\n",
       "  </tbody>\n",
       "</table>\n",
       "<p>58936 rows × 13 columns</p>\n",
       "</div>"
      ],
      "text/plain": [
       "       Unnamed: 0   action    start_time  \\\n",
       "0               0  message  1.496341e+09   \n",
       "1               1  message  1.496341e+09   \n",
       "2               2  message  1.496341e+09   \n",
       "3               3  message  1.496341e+09   \n",
       "4               4  message  1.496341e+09   \n",
       "...           ...      ...           ...   \n",
       "58931       58931  message  1.500429e+09   \n",
       "58932       58932  message  1.500429e+09   \n",
       "58933       58933  message  1.500429e+09   \n",
       "58934       58934    offer           NaN   \n",
       "58935       58935   accept           NaN   \n",
       "\n",
       "                                                    data  agent          time  \\\n",
       "0      Hi, not sure if the charger would work for my ...      0  1.496341e+09   \n",
       "1      It will work, i have never seen a car without ...      1  1.496341e+09   \n",
       "2       Still, can I buy it for $5? I'm on a tight budge      0  1.496341e+09   \n",
       "3           I think the lowest I would want to go is 8.       1  1.496341e+09   \n",
       "4      How about $6 and I pick it up myself? It'll sa...      0  1.496341e+09   \n",
       "...                                                  ...    ...           ...   \n",
       "58931  They have been cleaned. They are in good shape...      1  1.500429e+09   \n",
       "58932  Ok well how about 45 for them and I can pick t...      0  1.500429e+09   \n",
       "58933  45 seems fair. Could you bring cash? That woul...      1  1.500429e+09   \n",
       "58934                       {'price': 45.0, 'sides': ''}      1  1.500429e+09   \n",
       "58935                                                NaN      0  1.500429e+09   \n",
       "\n",
       "                                     uuid  \\\n",
       "0      C_fe3d143826f44a8db1072188f5345e8a   \n",
       "1      C_fe3d143826f44a8db1072188f5345e8a   \n",
       "2      C_fe3d143826f44a8db1072188f5345e8a   \n",
       "3      C_fe3d143826f44a8db1072188f5345e8a   \n",
       "4      C_fe3d143826f44a8db1072188f5345e8a   \n",
       "...                                   ...   \n",
       "58931  C_824ca40ba2424c618a45c64c00f5c296   \n",
       "58932  C_824ca40ba2424c618a45c64c00f5c296   \n",
       "58933  C_824ca40ba2424c618a45c64c00f5c296   \n",
       "58934  C_824ca40ba2424c618a45c64c00f5c296   \n",
       "58935  C_824ca40ba2424c618a45c64c00f5c296   \n",
       "\n",
       "                                                scenario       scenario_uuid  \\\n",
       "0      {'category': 'phone', 'uuid': 'S_6Bcls3VtniHs9...  S_q0qenRCWLQ6vOMOq   \n",
       "1      {'category': 'phone', 'uuid': 'S_6Bcls3VtniHs9...  S_q0qenRCWLQ6vOMOq   \n",
       "2      {'category': 'phone', 'uuid': 'S_6Bcls3VtniHs9...  S_q0qenRCWLQ6vOMOq   \n",
       "3      {'category': 'phone', 'uuid': 'S_6Bcls3VtniHs9...  S_q0qenRCWLQ6vOMOq   \n",
       "4      {'category': 'phone', 'uuid': 'S_6Bcls3VtniHs9...  S_q0qenRCWLQ6vOMOq   \n",
       "...                                                  ...                 ...   \n",
       "58931  {'category': 'car', 'uuid': 'S_BOn8EaSWj0U0r3s...  S_MNkMhsUJfaC2gKnI   \n",
       "58932  {'category': 'car', 'uuid': 'S_BOn8EaSWj0U0r3s...  S_MNkMhsUJfaC2gKnI   \n",
       "58933  {'category': 'car', 'uuid': 'S_BOn8EaSWj0U0r3s...  S_MNkMhsUJfaC2gKnI   \n",
       "58934  {'category': 'car', 'uuid': 'S_BOn8EaSWj0U0r3s...  S_MNkMhsUJfaC2gKnI   \n",
       "58935  {'category': 'car', 'uuid': 'S_BOn8EaSWj0U0r3s...  S_MNkMhsUJfaC2gKnI   \n",
       "\n",
       "                             agents  \\\n",
       "0      {'1': 'human', '0': 'human'}   \n",
       "1      {'1': 'human', '0': 'human'}   \n",
       "2      {'1': 'human', '0': 'human'}   \n",
       "3      {'1': 'human', '0': 'human'}   \n",
       "4      {'1': 'human', '0': 'human'}   \n",
       "...                             ...   \n",
       "58931  {'1': 'human', '0': 'human'}   \n",
       "58932  {'1': 'human', '0': 'human'}   \n",
       "58933  {'1': 'human', '0': 'human'}   \n",
       "58934  {'1': 'human', '0': 'human'}   \n",
       "58935  {'1': 'human', '0': 'human'}   \n",
       "\n",
       "                                                 outcome code_x  code_y  \n",
       "0      {'reward': 1, 'offer': {'price': 7.0, 'sides':...              8  \n",
       "1      {'reward': 1, 'offer': {'price': 7.0, 'sides':...              8  \n",
       "2      {'reward': 1, 'offer': {'price': 7.0, 'sides':...              3  \n",
       "3      {'reward': 1, 'offer': {'price': 7.0, 'sides':...              3  \n",
       "4      {'reward': 1, 'offer': {'price': 7.0, 'sides':...              3  \n",
       "...                                                  ...    ...     ...  \n",
       "58931  {'reward': 1, 'offer': {'price': 15000.0, 'sid...              3  \n",
       "58932  {'reward': 1, 'offer': {'price': 15000.0, 'sid...              3  \n",
       "58933  {'reward': 1, 'offer': {'price': 15000.0, 'sid...              3  \n",
       "58934  {'reward': 1, 'offer': {'price': 15000.0, 'sid...              3  \n",
       "58935  {'reward': 1, 'offer': {'price': 15000.0, 'sid...              3  \n",
       "\n",
       "[58936 rows x 13 columns]"
      ]
     },
     "execution_count": 90,
     "metadata": {},
     "output_type": "execute_result"
    }
   ],
   "source": [
    "df_out"
   ]
  },
  {
   "cell_type": "code",
   "execution_count": 91,
   "id": "82ce2136",
   "metadata": {},
   "outputs": [],
   "source": [
    "predictions_df.to_csv('predictions.csv', index=False)"
   ]
  },
  {
   "cell_type": "markdown",
   "id": "38c2ac06",
   "metadata": {},
   "source": [
    "# Analysis on results \n"
   ]
  },
  {
   "cell_type": "code",
   "execution_count": 92,
   "id": "126fcf90",
   "metadata": {
    "scrolled": true
   },
   "outputs": [
    {
     "name": "stdout",
     "output_type": "stream",
     "text": [
      "       Unnamed: 0   action    start_time  \\\n",
      "0               9  message  1.496341e+09   \n",
      "1              10  message  1.496341e+09   \n",
      "2              11  message  1.496341e+09   \n",
      "3              12  message  1.496341e+09   \n",
      "4              13  message  1.496341e+09   \n",
      "...           ...      ...           ...   \n",
      "47509       58929  message  1.500428e+09   \n",
      "47510       58930  message  1.500429e+09   \n",
      "47511       58931  message  1.500429e+09   \n",
      "47512       58932  message  1.500429e+09   \n",
      "47513       58933  message  1.500429e+09   \n",
      "\n",
      "                                                    data  agent        time  \\\n",
      "0                      Hi,I am interested in your board!      0  1496341310   \n",
      "1                         Hi, do you have any questions?      1  1496341323   \n",
      "2               Do you know what wood it is made out of?      0  1496341350   \n",
      "3      I do not know specifically but the brand is a ...      1  1496341385   \n",
      "4      The wheels seem nice on it, but they could be ...      0  1496341421   \n",
      "...                                                  ...    ...         ...   \n",
      "47509  Hi, I am going to be moving in a couple weeks,...      1  1500428516   \n",
      "47510  How about the cushions? Are they in good shape...      0  1500428552   \n",
      "47511  They have been cleaned. They are in good shape...      1  1500428607   \n",
      "47512  Ok well how about 45 for them and I can pick t...      0  1500428635   \n",
      "47513  45 seems fair. Could you bring cash? That woul...      1  1500428696   \n",
      "\n",
      "                                     uuid  \\\n",
      "0      C_4566b2e6938a4a6a8e714e799d780e71   \n",
      "1      C_4566b2e6938a4a6a8e714e799d780e71   \n",
      "2      C_4566b2e6938a4a6a8e714e799d780e71   \n",
      "3      C_4566b2e6938a4a6a8e714e799d780e71   \n",
      "4      C_4566b2e6938a4a6a8e714e799d780e71   \n",
      "...                                   ...   \n",
      "47509  C_824ca40ba2424c618a45c64c00f5c296   \n",
      "47510  C_824ca40ba2424c618a45c64c00f5c296   \n",
      "47511  C_824ca40ba2424c618a45c64c00f5c296   \n",
      "47512  C_824ca40ba2424c618a45c64c00f5c296   \n",
      "47513  C_824ca40ba2424c618a45c64c00f5c296   \n",
      "\n",
      "                                                scenario       scenario_uuid  \\\n",
      "0      {'category': 'bike', 'uuid': 'S_KBCT5vA6znuh9T...  S_8xNI8WVmYboQ5o0d   \n",
      "1      {'category': 'bike', 'uuid': 'S_KBCT5vA6znuh9T...  S_8xNI8WVmYboQ5o0d   \n",
      "2      {'category': 'bike', 'uuid': 'S_KBCT5vA6znuh9T...  S_8xNI8WVmYboQ5o0d   \n",
      "3      {'category': 'bike', 'uuid': 'S_KBCT5vA6znuh9T...  S_8xNI8WVmYboQ5o0d   \n",
      "4      {'category': 'bike', 'uuid': 'S_KBCT5vA6znuh9T...  S_8xNI8WVmYboQ5o0d   \n",
      "...                                                  ...                 ...   \n",
      "47509  {'category': 'car', 'uuid': 'S_BOn8EaSWj0U0r3s...  S_MNkMhsUJfaC2gKnI   \n",
      "47510  {'category': 'car', 'uuid': 'S_BOn8EaSWj0U0r3s...  S_MNkMhsUJfaC2gKnI   \n",
      "47511  {'category': 'car', 'uuid': 'S_BOn8EaSWj0U0r3s...  S_MNkMhsUJfaC2gKnI   \n",
      "47512  {'category': 'car', 'uuid': 'S_BOn8EaSWj0U0r3s...  S_MNkMhsUJfaC2gKnI   \n",
      "47513  {'category': 'car', 'uuid': 'S_BOn8EaSWj0U0r3s...  S_MNkMhsUJfaC2gKnI   \n",
      "\n",
      "                             agents  \\\n",
      "0      {'1': 'human', '0': 'human'}   \n",
      "1      {'1': 'human', '0': 'human'}   \n",
      "2      {'1': 'human', '0': 'human'}   \n",
      "3      {'1': 'human', '0': 'human'}   \n",
      "4      {'1': 'human', '0': 'human'}   \n",
      "...                             ...   \n",
      "47509  {'1': 'human', '0': 'human'}   \n",
      "47510  {'1': 'human', '0': 'human'}   \n",
      "47511  {'1': 'human', '0': 'human'}   \n",
      "47512  {'1': 'human', '0': 'human'}   \n",
      "47513  {'1': 'human', '0': 'human'}   \n",
      "\n",
      "                                                 outcome  code_x  code_y  \n",
      "0      {'reward': 1, 'offer': {'price': 145.0, 'sides...     NaN       3  \n",
      "1      {'reward': 1, 'offer': {'price': 145.0, 'sides...     NaN       9  \n",
      "2      {'reward': 1, 'offer': {'price': 145.0, 'sides...     NaN       3  \n",
      "3      {'reward': 1, 'offer': {'price': 145.0, 'sides...     NaN       3  \n",
      "4      {'reward': 1, 'offer': {'price': 145.0, 'sides...     NaN       3  \n",
      "...                                                  ...     ...     ...  \n",
      "47509  {'reward': 1, 'offer': {'price': 15000.0, 'sid...     NaN       3  \n",
      "47510  {'reward': 1, 'offer': {'price': 15000.0, 'sid...     NaN       3  \n",
      "47511  {'reward': 1, 'offer': {'price': 15000.0, 'sid...     NaN       3  \n",
      "47512  {'reward': 1, 'offer': {'price': 15000.0, 'sid...     NaN       3  \n",
      "47513  {'reward': 1, 'offer': {'price': 15000.0, 'sid...     NaN       3  \n",
      "\n",
      "[47514 rows x 13 columns]\n"
     ]
    }
   ],
   "source": [
    "predictions_df = pd.read_csv('/Users/caleb/Desktop/Y4S1 /UROP /code /ROAP ML /results.csv')\n",
    "print(predictions_df)"
   ]
  },
  {
   "cell_type": "code",
   "execution_count": 93,
   "id": "e0e9810b",
   "metadata": {},
   "outputs": [
    {
     "data": {
      "text/html": [
       "<div>\n",
       "<style scoped>\n",
       "    .dataframe tbody tr th:only-of-type {\n",
       "        vertical-align: middle;\n",
       "    }\n",
       "\n",
       "    .dataframe tbody tr th {\n",
       "        vertical-align: top;\n",
       "    }\n",
       "\n",
       "    .dataframe thead th {\n",
       "        text-align: right;\n",
       "    }\n",
       "</style>\n",
       "<table border=\"1\" class=\"dataframe\">\n",
       "  <thead>\n",
       "    <tr style=\"text-align: right;\">\n",
       "      <th></th>\n",
       "      <th>Unnamed: 0</th>\n",
       "      <th>action</th>\n",
       "      <th>start_time</th>\n",
       "      <th>data</th>\n",
       "      <th>agent</th>\n",
       "      <th>time</th>\n",
       "      <th>uuid</th>\n",
       "      <th>scenario</th>\n",
       "      <th>scenario_uuid</th>\n",
       "      <th>agents</th>\n",
       "      <th>outcome</th>\n",
       "      <th>code_x</th>\n",
       "      <th>code_y</th>\n",
       "    </tr>\n",
       "  </thead>\n",
       "  <tbody>\n",
       "    <tr>\n",
       "      <th>0</th>\n",
       "      <td>9</td>\n",
       "      <td>message</td>\n",
       "      <td>1.496341e+09</td>\n",
       "      <td>Hi,I am interested in your board!</td>\n",
       "      <td>0</td>\n",
       "      <td>1496341310</td>\n",
       "      <td>C_4566b2e6938a4a6a8e714e799d780e71</td>\n",
       "      <td>{'category': 'bike', 'uuid': 'S_KBCT5vA6znuh9T...</td>\n",
       "      <td>S_8xNI8WVmYboQ5o0d</td>\n",
       "      <td>{'1': 'human', '0': 'human'}</td>\n",
       "      <td>{'reward': 1, 'offer': {'price': 145.0, 'sides...</td>\n",
       "      <td>NaN</td>\n",
       "      <td>3</td>\n",
       "    </tr>\n",
       "    <tr>\n",
       "      <th>1</th>\n",
       "      <td>10</td>\n",
       "      <td>message</td>\n",
       "      <td>1.496341e+09</td>\n",
       "      <td>Hi, do you have any questions?</td>\n",
       "      <td>1</td>\n",
       "      <td>1496341323</td>\n",
       "      <td>C_4566b2e6938a4a6a8e714e799d780e71</td>\n",
       "      <td>{'category': 'bike', 'uuid': 'S_KBCT5vA6znuh9T...</td>\n",
       "      <td>S_8xNI8WVmYboQ5o0d</td>\n",
       "      <td>{'1': 'human', '0': 'human'}</td>\n",
       "      <td>{'reward': 1, 'offer': {'price': 145.0, 'sides...</td>\n",
       "      <td>NaN</td>\n",
       "      <td>9</td>\n",
       "    </tr>\n",
       "    <tr>\n",
       "      <th>2</th>\n",
       "      <td>11</td>\n",
       "      <td>message</td>\n",
       "      <td>1.496341e+09</td>\n",
       "      <td>Do you know what wood it is made out of?</td>\n",
       "      <td>0</td>\n",
       "      <td>1496341350</td>\n",
       "      <td>C_4566b2e6938a4a6a8e714e799d780e71</td>\n",
       "      <td>{'category': 'bike', 'uuid': 'S_KBCT5vA6znuh9T...</td>\n",
       "      <td>S_8xNI8WVmYboQ5o0d</td>\n",
       "      <td>{'1': 'human', '0': 'human'}</td>\n",
       "      <td>{'reward': 1, 'offer': {'price': 145.0, 'sides...</td>\n",
       "      <td>NaN</td>\n",
       "      <td>3</td>\n",
       "    </tr>\n",
       "    <tr>\n",
       "      <th>3</th>\n",
       "      <td>12</td>\n",
       "      <td>message</td>\n",
       "      <td>1.496341e+09</td>\n",
       "      <td>I do not know specifically but the brand is a ...</td>\n",
       "      <td>1</td>\n",
       "      <td>1496341385</td>\n",
       "      <td>C_4566b2e6938a4a6a8e714e799d780e71</td>\n",
       "      <td>{'category': 'bike', 'uuid': 'S_KBCT5vA6znuh9T...</td>\n",
       "      <td>S_8xNI8WVmYboQ5o0d</td>\n",
       "      <td>{'1': 'human', '0': 'human'}</td>\n",
       "      <td>{'reward': 1, 'offer': {'price': 145.0, 'sides...</td>\n",
       "      <td>NaN</td>\n",
       "      <td>3</td>\n",
       "    </tr>\n",
       "    <tr>\n",
       "      <th>4</th>\n",
       "      <td>13</td>\n",
       "      <td>message</td>\n",
       "      <td>1.496341e+09</td>\n",
       "      <td>The wheels seem nice on it, but they could be ...</td>\n",
       "      <td>0</td>\n",
       "      <td>1496341421</td>\n",
       "      <td>C_4566b2e6938a4a6a8e714e799d780e71</td>\n",
       "      <td>{'category': 'bike', 'uuid': 'S_KBCT5vA6znuh9T...</td>\n",
       "      <td>S_8xNI8WVmYboQ5o0d</td>\n",
       "      <td>{'1': 'human', '0': 'human'}</td>\n",
       "      <td>{'reward': 1, 'offer': {'price': 145.0, 'sides...</td>\n",
       "      <td>NaN</td>\n",
       "      <td>3</td>\n",
       "    </tr>\n",
       "  </tbody>\n",
       "</table>\n",
       "</div>"
      ],
      "text/plain": [
       "   Unnamed: 0   action    start_time  \\\n",
       "0           9  message  1.496341e+09   \n",
       "1          10  message  1.496341e+09   \n",
       "2          11  message  1.496341e+09   \n",
       "3          12  message  1.496341e+09   \n",
       "4          13  message  1.496341e+09   \n",
       "\n",
       "                                                data  agent        time  \\\n",
       "0                  Hi,I am interested in your board!      0  1496341310   \n",
       "1                     Hi, do you have any questions?      1  1496341323   \n",
       "2           Do you know what wood it is made out of?      0  1496341350   \n",
       "3  I do not know specifically but the brand is a ...      1  1496341385   \n",
       "4  The wheels seem nice on it, but they could be ...      0  1496341421   \n",
       "\n",
       "                                 uuid  \\\n",
       "0  C_4566b2e6938a4a6a8e714e799d780e71   \n",
       "1  C_4566b2e6938a4a6a8e714e799d780e71   \n",
       "2  C_4566b2e6938a4a6a8e714e799d780e71   \n",
       "3  C_4566b2e6938a4a6a8e714e799d780e71   \n",
       "4  C_4566b2e6938a4a6a8e714e799d780e71   \n",
       "\n",
       "                                            scenario       scenario_uuid  \\\n",
       "0  {'category': 'bike', 'uuid': 'S_KBCT5vA6znuh9T...  S_8xNI8WVmYboQ5o0d   \n",
       "1  {'category': 'bike', 'uuid': 'S_KBCT5vA6znuh9T...  S_8xNI8WVmYboQ5o0d   \n",
       "2  {'category': 'bike', 'uuid': 'S_KBCT5vA6znuh9T...  S_8xNI8WVmYboQ5o0d   \n",
       "3  {'category': 'bike', 'uuid': 'S_KBCT5vA6znuh9T...  S_8xNI8WVmYboQ5o0d   \n",
       "4  {'category': 'bike', 'uuid': 'S_KBCT5vA6znuh9T...  S_8xNI8WVmYboQ5o0d   \n",
       "\n",
       "                         agents  \\\n",
       "0  {'1': 'human', '0': 'human'}   \n",
       "1  {'1': 'human', '0': 'human'}   \n",
       "2  {'1': 'human', '0': 'human'}   \n",
       "3  {'1': 'human', '0': 'human'}   \n",
       "4  {'1': 'human', '0': 'human'}   \n",
       "\n",
       "                                             outcome  code_x  code_y  \n",
       "0  {'reward': 1, 'offer': {'price': 145.0, 'sides...     NaN       3  \n",
       "1  {'reward': 1, 'offer': {'price': 145.0, 'sides...     NaN       9  \n",
       "2  {'reward': 1, 'offer': {'price': 145.0, 'sides...     NaN       3  \n",
       "3  {'reward': 1, 'offer': {'price': 145.0, 'sides...     NaN       3  \n",
       "4  {'reward': 1, 'offer': {'price': 145.0, 'sides...     NaN       3  "
      ]
     },
     "execution_count": 93,
     "metadata": {},
     "output_type": "execute_result"
    }
   ],
   "source": [
    "predictions_df.head()"
   ]
  },
  {
   "cell_type": "code",
   "execution_count": 94,
   "id": "1d518d42",
   "metadata": {
    "scrolled": false
   },
   "outputs": [
    {
     "data": {
      "text/plain": [
       "3    43043\n",
       "1     1228\n",
       "2     1106\n",
       "9     1093\n",
       "8      838\n",
       "0      143\n",
       "7       60\n",
       "5        3\n",
       "Name: code_y, dtype: int64"
      ]
     },
     "execution_count": 94,
     "metadata": {},
     "output_type": "execute_result"
    }
   ],
   "source": [
    "predictions_df['code_y'].value_counts()"
   ]
  },
  {
   "cell_type": "code",
   "execution_count": 95,
   "id": "7daff7f6",
   "metadata": {},
   "outputs": [
    {
     "data": {
      "text/plain": [
       "<AxesSubplot:>"
      ]
     },
     "execution_count": 95,
     "metadata": {},
     "output_type": "execute_result"
    },
    {
     "data": {
      "image/png": "[encoded data removed]",
      "text/plain": [
       "<Figure size 432x288 with 1 Axes>"
      ]
     },
     "metadata": {
      "needs_background": "light"
     },
     "output_type": "display_data"
    }
   ],
   "source": [
    "predictions_df['code_y'].value_counts().plot(kind='bar')"
   ]
  },
  {
   "cell_type": "code",
   "execution_count": 96,
   "id": "85a25a80",
   "metadata": {},
   "outputs": [],
   "source": [
    "#group by the uuid\n",
    "predictions_df1 = predictions_df.groupby(['uuid'], as_index=False)['code_y'].count()\n",
    "\n",
    "#then analyse the perusasive tools that people use "
   ]
  },
  {
   "cell_type": "code",
   "execution_count": 97,
   "id": "47e7fc94",
   "metadata": {},
   "outputs": [
    {
     "name": "stdout",
     "output_type": "stream",
     "text": [
      "                                    uuid  code_y\n",
      "0     C_000684deee244f2db5a9c681d15d7c50       2\n",
      "1     C_000ea2a2fc014f65af5188a98bfb5d04       8\n",
      "2     C_0020dee073a945eb82a128f656cff94b      11\n",
      "3     C_003cddce8479461c915a9a8a1afbbe40       5\n",
      "4     C_004ae9e50f4a4e2d8822823056edaf1e      14\n",
      "...                                  ...     ...\n",
      "5176  C_ffdbd54cb66143189eeb41d2b4947aae      26\n",
      "5177  C_fff1a09cf0a544e089d156648b1370da       1\n",
      "5178  C_fff8c18fa78946afb3149e96e6a9f770      10\n",
      "5179  C_fffebb7b5cc0439b80877047ac5f900d      17\n",
      "5180  C_ffffd50827bf42959ff89f6f43917ed2      10\n",
      "\n",
      "[5181 rows x 2 columns]\n"
     ]
    }
   ],
   "source": [
    "print(predictions_df1)"
   ]
  },
  {
   "cell_type": "code",
   "execution_count": 98,
   "id": "34ffbe4d",
   "metadata": {},
   "outputs": [],
   "source": [
    "predictions_df1 = pd.DataFrame(predictions_df1)"
   ]
  },
  {
   "cell_type": "code",
   "execution_count": 99,
   "id": "54846fa2",
   "metadata": {},
   "outputs": [],
   "source": [
    "predictions_df1.to_csv('predictions1.csv', index=False)"
   ]
  },
  {
   "cell_type": "code",
   "execution_count": null,
   "id": "93403522",
   "metadata": {},
   "outputs": [],
   "source": []
  },
  {
   "cell_type": "code",
   "execution_count": null,
   "id": "16747a9e",
   "metadata": {},
   "outputs": [],
   "source": []
  }
 ],
 "metadata": {
  "kernelspec": {
   "display_name": "Python 3 (ipykernel)",
   "language": "python",
   "name": "python3"
  },
  "language_info": {
   "codemirror_mode": {
    "name": "ipython",
    "version": 3
   },
   "file_extension": ".py",
   "mimetype": "text/x-python",
   "name": "python",
   "nbconvert_exporter": "python",
   "pygments_lexer": "ipython3",
   "version": "3.9.12"
  }
 },
 "nbformat": 4,
 "nbformat_minor": 5
}
